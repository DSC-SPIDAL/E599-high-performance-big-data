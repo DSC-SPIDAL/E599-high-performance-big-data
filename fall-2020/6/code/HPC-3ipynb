{
 "cells": [
  {
   "cell_type": "code",
   "execution_count": 1,
   "metadata": {},
   "outputs": [],
   "source": [
    "import pandas as pd\n",
    "import matplotlib.pyplot as plt\n",
    "import numpy as np\n",
    "import math"
   ]
  },
  {
   "cell_type": "code",
   "execution_count": 2,
   "metadata": {},
   "outputs": [],
   "source": [
    "df = pd.read_csv('tele9.csv')  "
   ]
  },
  {
   "cell_type": "code",
   "execution_count": 3,
   "metadata": {},
   "outputs": [],
   "source": [
    "df.rename(columns={'Time Of Day':'time_of_day_long','Vehicle Speed': 'vehicle_speed', 'Engine Speed':'engine_speed','Throttle':'throttle','Lap Distance':'lap_distance'}, inplace=True)"
   ]
  },
  {
   "cell_type": "code",
   "execution_count": 4,
   "metadata": {},
   "outputs": [
    {
     "data": {
      "text/plain": [
       "Index(['command', 'No', 'time_of_day_long', 'lap_distance', 'vehicle_speed',\n",
       "       'engine_speed', 'Gear', 'Brake', 'throttle'],\n",
       "      dtype='object')"
      ]
     },
     "execution_count": 4,
     "metadata": {},
     "output_type": "execute_result"
    }
   ],
   "source": [
    "df.columns"
   ]
  },
  {
   "cell_type": "code",
   "execution_count": 5,
   "metadata": {},
   "outputs": [
    {
     "data": {
      "text/html": [
       "<div>\n",
       "<style scoped>\n",
       "    .dataframe tbody tr th:only-of-type {\n",
       "        vertical-align: middle;\n",
       "    }\n",
       "\n",
       "    .dataframe tbody tr th {\n",
       "        vertical-align: top;\n",
       "    }\n",
       "\n",
       "    .dataframe thead th {\n",
       "        text-align: right;\n",
       "    }\n",
       "</style>\n",
       "<table border=\"1\" class=\"dataframe\">\n",
       "  <thead>\n",
       "    <tr style=\"text-align: right;\">\n",
       "      <th></th>\n",
       "      <th>command</th>\n",
       "      <th>No</th>\n",
       "      <th>time_of_day_long</th>\n",
       "      <th>lap_distance</th>\n",
       "      <th>vehicle_speed</th>\n",
       "      <th>engine_speed</th>\n",
       "      <th>Gear</th>\n",
       "      <th>Brake</th>\n",
       "      <th>throttle</th>\n",
       "    </tr>\n",
       "  </thead>\n",
       "  <tbody>\n",
       "    <tr>\n",
       "      <th>0</th>\n",
       "      <td>$P</td>\n",
       "      <td>9</td>\n",
       "      <td>58683.411</td>\n",
       "      <td>1.47</td>\n",
       "      <td>45.46</td>\n",
       "      <td>3580</td>\n",
       "      <td>2</td>\n",
       "      <td>0</td>\n",
       "      <td>7.5</td>\n",
       "    </tr>\n",
       "    <tr>\n",
       "      <th>1</th>\n",
       "      <td>$P</td>\n",
       "      <td>9</td>\n",
       "      <td>58683.504</td>\n",
       "      <td>3.54</td>\n",
       "      <td>45.45</td>\n",
       "      <td>3581</td>\n",
       "      <td>2</td>\n",
       "      <td>0</td>\n",
       "      <td>7.5</td>\n",
       "    </tr>\n",
       "    <tr>\n",
       "      <th>2</th>\n",
       "      <td>$P</td>\n",
       "      <td>9</td>\n",
       "      <td>58683.598</td>\n",
       "      <td>5.61</td>\n",
       "      <td>45.63</td>\n",
       "      <td>3635</td>\n",
       "      <td>2</td>\n",
       "      <td>0</td>\n",
       "      <td>7.5</td>\n",
       "    </tr>\n",
       "    <tr>\n",
       "      <th>3</th>\n",
       "      <td>$P</td>\n",
       "      <td>9</td>\n",
       "      <td>58683.691</td>\n",
       "      <td>7.59</td>\n",
       "      <td>46.01</td>\n",
       "      <td>3587</td>\n",
       "      <td>2</td>\n",
       "      <td>0</td>\n",
       "      <td>8.0</td>\n",
       "    </tr>\n",
       "    <tr>\n",
       "      <th>4</th>\n",
       "      <td>$P</td>\n",
       "      <td>9</td>\n",
       "      <td>58683.784</td>\n",
       "      <td>9.66</td>\n",
       "      <td>45.83</td>\n",
       "      <td>3619</td>\n",
       "      <td>2</td>\n",
       "      <td>0</td>\n",
       "      <td>7.5</td>\n",
       "    </tr>\n",
       "    <tr>\n",
       "      <th>5</th>\n",
       "      <td>$P</td>\n",
       "      <td>9</td>\n",
       "      <td>58684.039</td>\n",
       "      <td>13.71</td>\n",
       "      <td>45.30</td>\n",
       "      <td>3588</td>\n",
       "      <td>2</td>\n",
       "      <td>0</td>\n",
       "      <td>7.5</td>\n",
       "    </tr>\n",
       "    <tr>\n",
       "      <th>6</th>\n",
       "      <td>$P</td>\n",
       "      <td>9</td>\n",
       "      <td>58684.123</td>\n",
       "      <td>15.78</td>\n",
       "      <td>45.48</td>\n",
       "      <td>3665</td>\n",
       "      <td>2</td>\n",
       "      <td>0</td>\n",
       "      <td>7.5</td>\n",
       "    </tr>\n",
       "    <tr>\n",
       "      <th>7</th>\n",
       "      <td>$P</td>\n",
       "      <td>9</td>\n",
       "      <td>58684.206</td>\n",
       "      <td>17.77</td>\n",
       "      <td>45.20</td>\n",
       "      <td>3599</td>\n",
       "      <td>2</td>\n",
       "      <td>0</td>\n",
       "      <td>7.5</td>\n",
       "    </tr>\n",
       "    <tr>\n",
       "      <th>8</th>\n",
       "      <td>$P</td>\n",
       "      <td>9</td>\n",
       "      <td>58684.300</td>\n",
       "      <td>19.84</td>\n",
       "      <td>45.14</td>\n",
       "      <td>3559</td>\n",
       "      <td>2</td>\n",
       "      <td>0</td>\n",
       "      <td>14.0</td>\n",
       "    </tr>\n",
       "    <tr>\n",
       "      <th>9</th>\n",
       "      <td>$P</td>\n",
       "      <td>9</td>\n",
       "      <td>58684.393</td>\n",
       "      <td>21.82</td>\n",
       "      <td>45.44</td>\n",
       "      <td>3741</td>\n",
       "      <td>2</td>\n",
       "      <td>0</td>\n",
       "      <td>24.5</td>\n",
       "    </tr>\n",
       "  </tbody>\n",
       "</table>\n",
       "</div>"
      ],
      "text/plain": [
       "  command  No  time_of_day_long  lap_distance  vehicle_speed  engine_speed  \\\n",
       "0      $P   9         58683.411          1.47          45.46          3580   \n",
       "1      $P   9         58683.504          3.54          45.45          3581   \n",
       "2      $P   9         58683.598          5.61          45.63          3635   \n",
       "3      $P   9         58683.691          7.59          46.01          3587   \n",
       "4      $P   9         58683.784          9.66          45.83          3619   \n",
       "5      $P   9         58684.039         13.71          45.30          3588   \n",
       "6      $P   9         58684.123         15.78          45.48          3665   \n",
       "7      $P   9         58684.206         17.77          45.20          3599   \n",
       "8      $P   9         58684.300         19.84          45.14          3559   \n",
       "9      $P   9         58684.393         21.82          45.44          3741   \n",
       "\n",
       "   Gear  Brake  throttle  \n",
       "0     2      0       7.5  \n",
       "1     2      0       7.5  \n",
       "2     2      0       7.5  \n",
       "3     2      0       8.0  \n",
       "4     2      0       7.5  \n",
       "5     2      0       7.5  \n",
       "6     2      0       7.5  \n",
       "7     2      0       7.5  \n",
       "8     2      0      14.0  \n",
       "9     2      0      24.5  "
      ]
     },
     "execution_count": 5,
     "metadata": {},
     "output_type": "execute_result"
    }
   ],
   "source": [
    "df.head(10)"
   ]
  },
  {
   "cell_type": "code",
   "execution_count": 6,
   "metadata": {},
   "outputs": [
    {
     "data": {
      "text/plain": [
       "array([2, 1, 3, 4, 5, 6, 0])"
      ]
     },
     "execution_count": 6,
     "metadata": {},
     "output_type": "execute_result"
    }
   ],
   "source": [
    "df.Gear.unique()"
   ]
  },
  {
   "cell_type": "code",
   "execution_count": 7,
   "metadata": {},
   "outputs": [
    {
     "data": {
      "text/html": [
       "<div>\n",
       "<style scoped>\n",
       "    .dataframe tbody tr th:only-of-type {\n",
       "        vertical-align: middle;\n",
       "    }\n",
       "\n",
       "    .dataframe tbody tr th {\n",
       "        vertical-align: top;\n",
       "    }\n",
       "\n",
       "    .dataframe thead th {\n",
       "        text-align: right;\n",
       "    }\n",
       "</style>\n",
       "<table border=\"1\" class=\"dataframe\">\n",
       "  <thead>\n",
       "    <tr style=\"text-align: right;\">\n",
       "      <th></th>\n",
       "      <th>No</th>\n",
       "      <th>time_of_day_long</th>\n",
       "      <th>lap_distance</th>\n",
       "      <th>vehicle_speed</th>\n",
       "      <th>engine_speed</th>\n",
       "      <th>Gear</th>\n",
       "      <th>Brake</th>\n",
       "      <th>throttle</th>\n",
       "    </tr>\n",
       "  </thead>\n",
       "  <tbody>\n",
       "    <tr>\n",
       "      <th>count</th>\n",
       "      <td>81221.0</td>\n",
       "      <td>81221.000000</td>\n",
       "      <td>81221.000000</td>\n",
       "      <td>81221.000000</td>\n",
       "      <td>81221.000000</td>\n",
       "      <td>81221.000000</td>\n",
       "      <td>81221.000000</td>\n",
       "      <td>81221.000000</td>\n",
       "    </tr>\n",
       "    <tr>\n",
       "      <th>mean</th>\n",
       "      <td>9.0</td>\n",
       "      <td>64473.299180</td>\n",
       "      <td>2012.931366</td>\n",
       "      <td>164.170158</td>\n",
       "      <td>8900.567304</td>\n",
       "      <td>3.550830</td>\n",
       "      <td>1.474520</td>\n",
       "      <td>60.665493</td>\n",
       "    </tr>\n",
       "    <tr>\n",
       "      <th>std</th>\n",
       "      <td>0.0</td>\n",
       "      <td>3299.283799</td>\n",
       "      <td>1220.653000</td>\n",
       "      <td>61.721749</td>\n",
       "      <td>3379.528339</td>\n",
       "      <td>1.342014</td>\n",
       "      <td>7.907893</td>\n",
       "      <td>41.019138</td>\n",
       "    </tr>\n",
       "    <tr>\n",
       "      <th>min</th>\n",
       "      <td>9.0</td>\n",
       "      <td>58683.411000</td>\n",
       "      <td>0.250000</td>\n",
       "      <td>0.200000</td>\n",
       "      <td>0.000000</td>\n",
       "      <td>0.000000</td>\n",
       "      <td>0.000000</td>\n",
       "      <td>6.500000</td>\n",
       "    </tr>\n",
       "    <tr>\n",
       "      <th>25%</th>\n",
       "      <td>9.0</td>\n",
       "      <td>61606.663000</td>\n",
       "      <td>929.220000</td>\n",
       "      <td>97.180000</td>\n",
       "      <td>5896.000000</td>\n",
       "      <td>2.000000</td>\n",
       "      <td>0.000000</td>\n",
       "      <td>8.000000</td>\n",
       "    </tr>\n",
       "    <tr>\n",
       "      <th>50%</th>\n",
       "      <td>9.0</td>\n",
       "      <td>64583.886000</td>\n",
       "      <td>1907.250000</td>\n",
       "      <td>207.000000</td>\n",
       "      <td>11242.000000</td>\n",
       "      <td>4.000000</td>\n",
       "      <td>0.000000</td>\n",
       "      <td>77.500000</td>\n",
       "    </tr>\n",
       "    <tr>\n",
       "      <th>75%</th>\n",
       "      <td>9.0</td>\n",
       "      <td>67407.924000</td>\n",
       "      <td>3147.190000</td>\n",
       "      <td>216.380000</td>\n",
       "      <td>11621.000000</td>\n",
       "      <td>4.000000</td>\n",
       "      <td>0.000000</td>\n",
       "      <td>99.500000</td>\n",
       "    </tr>\n",
       "    <tr>\n",
       "      <th>max</th>\n",
       "      <td>9.0</td>\n",
       "      <td>69859.747000</td>\n",
       "      <td>4100.080000</td>\n",
       "      <td>233.550000</td>\n",
       "      <td>12468.000000</td>\n",
       "      <td>6.000000</td>\n",
       "      <td>100.000000</td>\n",
       "      <td>100.000000</td>\n",
       "    </tr>\n",
       "  </tbody>\n",
       "</table>\n",
       "</div>"
      ],
      "text/plain": [
       "            No  time_of_day_long  lap_distance  vehicle_speed  engine_speed  \\\n",
       "count  81221.0      81221.000000  81221.000000   81221.000000  81221.000000   \n",
       "mean       9.0      64473.299180   2012.931366     164.170158   8900.567304   \n",
       "std        0.0       3299.283799   1220.653000      61.721749   3379.528339   \n",
       "min        9.0      58683.411000      0.250000       0.200000      0.000000   \n",
       "25%        9.0      61606.663000    929.220000      97.180000   5896.000000   \n",
       "50%        9.0      64583.886000   1907.250000     207.000000  11242.000000   \n",
       "75%        9.0      67407.924000   3147.190000     216.380000  11621.000000   \n",
       "max        9.0      69859.747000   4100.080000     233.550000  12468.000000   \n",
       "\n",
       "               Gear         Brake      throttle  \n",
       "count  81221.000000  81221.000000  81221.000000  \n",
       "mean       3.550830      1.474520     60.665493  \n",
       "std        1.342014      7.907893     41.019138  \n",
       "min        0.000000      0.000000      6.500000  \n",
       "25%        2.000000      0.000000      8.000000  \n",
       "50%        4.000000      0.000000     77.500000  \n",
       "75%        4.000000      0.000000     99.500000  \n",
       "max        6.000000    100.000000    100.000000  "
      ]
     },
     "execution_count": 7,
     "metadata": {},
     "output_type": "execute_result"
    }
   ],
   "source": [
    "df.describe()"
   ]
  },
  {
   "cell_type": "code",
   "execution_count": 8,
   "metadata": {},
   "outputs": [],
   "source": [
    "df.rename(columns={'Time Of Day':'time_of_day_long','Vehicle Speed': 'vehicle_speed', 'Engine Speed':'engine_speed','Throttle':'throttle','Lap Distance':'lap_distance'}, inplace=True)"
   ]
  },
  {
   "cell_type": "code",
   "execution_count": 9,
   "metadata": {},
   "outputs": [
    {
     "data": {
      "image/png": "[encoded data removed]",
      "text/plain": [
       "<Figure size 432x288 with 1 Axes>"
      ]
     },
     "metadata": {
      "needs_background": "light"
     },
     "output_type": "display_data"
    }
   ],
   "source": [
    "df.plot(x='time_of_day_long', y='engine_speed')\n",
    "plt.title(\"Engine speed\")\n",
    "plt.show()"
   ]
  },
  {
   "cell_type": "code",
   "execution_count": 10,
   "metadata": {},
   "outputs": [
    {
     "data": {
      "image/png": "[encoded data removed]",
      "text/plain": [
       "<Figure size 432x288 with 1 Axes>"
      ]
     },
     "metadata": {
      "needs_background": "light"
     },
     "output_type": "display_data"
    }
   ],
   "source": [
    "vehicle_speed = df['vehicle_speed'].values\n",
    "plt.plot(vehicle_speed)\n",
    "plt.title('vehicle speed')\n",
    "plt.show()"
   ]
  },
  {
   "cell_type": "code",
   "execution_count": 11,
   "metadata": {},
   "outputs": [
    {
     "data": {
      "image/png": "[encoded data removed]",
      "text/plain": [
       "<Figure size 432x288 with 1 Axes>"
      ]
     },
     "metadata": {
      "needs_background": "light"
     },
     "output_type": "display_data"
    }
   ],
   "source": [
    "engine_speed = df['engine_speed'].values\n",
    "plt.plot(engine_speed)\n",
    "plt.title('Engine speed')\n",
    "plt.show()"
   ]
  },
  {
   "cell_type": "code",
   "execution_count": 12,
   "metadata": {},
   "outputs": [
    {
     "data": {
      "image/png": "[encoded data removed]",
      "text/plain": [
       "<Figure size 432x288 with 1 Axes>"
      ]
     },
     "metadata": {
      "needs_background": "light"
     },
     "output_type": "display_data"
    }
   ],
   "source": [
    "throttle = df['throttle'].values\n",
    "plt.plot(throttle)\n",
    "plt.title('throttle values')\n",
    "plt.show()"
   ]
  },
  {
   "cell_type": "code",
   "execution_count": 13,
   "metadata": {},
   "outputs": [
    {
     "data": {
      "image/png": "[encoded data removed]",
      "text/plain": [
       "<Figure size 432x288 with 1 Axes>"
      ]
     },
     "metadata": {
      "needs_background": "light"
     },
     "output_type": "display_data"
    }
   ],
   "source": [
    "plt.plot(throttle[60000:80000])\n",
    "plt.title('throttle values')\n",
    "plt.show()"
   ]
  },
  {
   "cell_type": "code",
   "execution_count": 14,
   "metadata": {},
   "outputs": [
    {
     "data": {
      "image/png": "[encoded data removed]",
      "text/plain": [
       "<Figure size 432x288 with 1 Axes>"
      ]
     },
     "metadata": {
      "needs_background": "light"
     },
     "output_type": "display_data"
    }
   ],
   "source": [
    "lap_distance = df['lap_distance'].values\n",
    "plt.plot(lap_distance)\n",
    "plt.title('Lap Distance')\n",
    "plt.show()"
   ]
  },
  {
   "cell_type": "code",
   "execution_count": 15,
   "metadata": {},
   "outputs": [
    {
     "data": {
      "image/png": "[encoded data removed]",
      "text/plain": [
       "<Figure size 432x288 with 1 Axes>"
      ]
     },
     "metadata": {
      "needs_background": "light"
     },
     "output_type": "display_data"
    }
   ],
   "source": [
    "plt.plot(lap_distance[12000:19000])\n",
    "plt.show()"
   ]
  },
  {
   "cell_type": "code",
   "execution_count": 16,
   "metadata": {},
   "outputs": [
    {
     "data": {
      "text/plain": [
       "0.691387794726912"
      ]
     },
     "execution_count": 16,
     "metadata": {},
     "output_type": "execute_result"
    }
   ],
   "source": [
    "df['vehicle_speed'].corr(df['throttle'])"
   ]
  },
  {
   "cell_type": "code",
   "execution_count": 17,
   "metadata": {},
   "outputs": [
    {
     "data": {
      "text/plain": [
       "4.216221820186025e-05"
      ]
     },
     "execution_count": 17,
     "metadata": {},
     "output_type": "execute_result"
    }
   ],
   "source": [
    "df['lap_distance'].corr(df['engine_speed'])"
   ]
  },
  {
   "cell_type": "code",
   "execution_count": 18,
   "metadata": {},
   "outputs": [
    {
     "data": {
      "text/plain": [
       "0.9089852635904314"
      ]
     },
     "execution_count": 18,
     "metadata": {},
     "output_type": "execute_result"
    }
   ],
   "source": [
    "df['engine_speed'].corr(df['vehicle_speed'])"
   ]
  },
  {
   "cell_type": "code",
   "execution_count": 19,
   "metadata": {},
   "outputs": [
    {
     "data": {
      "text/plain": [
       "0.08513554816780752"
      ]
     },
     "execution_count": 19,
     "metadata": {},
     "output_type": "execute_result"
    }
   ],
   "source": [
    "df['lap_distance'].corr(df['throttle'])"
   ]
  },
  {
   "cell_type": "code",
   "execution_count": 20,
   "metadata": {},
   "outputs": [
    {
     "data": {
      "text/plain": [
       "0.002834973611787427"
      ]
     },
     "execution_count": 20,
     "metadata": {},
     "output_type": "execute_result"
    }
   ],
   "source": [
    "df['lap_distance'].corr(df['Brake'])"
   ]
  },
  {
   "cell_type": "code",
   "execution_count": 21,
   "metadata": {},
   "outputs": [
    {
     "data": {
      "text/plain": [
       "0          NaN\n",
       "1        0.093\n",
       "2        0.094\n",
       "3        0.093\n",
       "4        0.093\n",
       "         ...  \n",
       "81216    0.093\n",
       "81217    0.093\n",
       "81218    0.094\n",
       "81219    0.279\n",
       "81220    0.093\n",
       "Name: time_diff, Length: 81221, dtype: float64"
      ]
     },
     "execution_count": 21,
     "metadata": {},
     "output_type": "execute_result"
    }
   ],
   "source": [
    "df['time_diff'] = df['time_of_day_long'].diff(1)\n",
    "df['time_diff']"
   ]
  },
  {
   "cell_type": "code",
   "execution_count": 22,
   "metadata": {},
   "outputs": [
    {
     "data": {
      "text/plain": [
       "count    81220.000000\n",
       "mean         0.137606\n",
       "std          0.212094\n",
       "min          0.009000\n",
       "25%          0.093000\n",
       "50%          0.093000\n",
       "75%          0.176000\n",
       "max         46.804000\n",
       "Name: time_diff, dtype: float64"
      ]
     },
     "execution_count": 22,
     "metadata": {},
     "output_type": "execute_result"
    }
   ],
   "source": [
    "dt=df['time_diff']\n",
    "dt.describe()"
   ]
  },
  {
   "cell_type": "code",
   "execution_count": 23,
   "metadata": {},
   "outputs": [
    {
     "data": {
      "text/html": [
       "<div>\n",
       "<style scoped>\n",
       "    .dataframe tbody tr th:only-of-type {\n",
       "        vertical-align: middle;\n",
       "    }\n",
       "\n",
       "    .dataframe tbody tr th {\n",
       "        vertical-align: top;\n",
       "    }\n",
       "\n",
       "    .dataframe thead th {\n",
       "        text-align: right;\n",
       "    }\n",
       "</style>\n",
       "<table border=\"1\" class=\"dataframe\">\n",
       "  <thead>\n",
       "    <tr style=\"text-align: right;\">\n",
       "      <th></th>\n",
       "      <th>command</th>\n",
       "      <th>No</th>\n",
       "      <th>time_of_day_long</th>\n",
       "      <th>lap_distance</th>\n",
       "      <th>vehicle_speed</th>\n",
       "      <th>engine_speed</th>\n",
       "      <th>Gear</th>\n",
       "      <th>Brake</th>\n",
       "      <th>throttle</th>\n",
       "      <th>time_diff</th>\n",
       "    </tr>\n",
       "  </thead>\n",
       "  <tbody>\n",
       "    <tr>\n",
       "      <th>13340</th>\n",
       "      <td>$P</td>\n",
       "      <td>9</td>\n",
       "      <td>60612.301</td>\n",
       "      <td>47.19</td>\n",
       "      <td>229.49</td>\n",
       "      <td>11827</td>\n",
       "      <td>6</td>\n",
       "      <td>0</td>\n",
       "      <td>99.5</td>\n",
       "      <td>46.804</td>\n",
       "    </tr>\n",
       "  </tbody>\n",
       "</table>\n",
       "</div>"
      ],
      "text/plain": [
       "      command  No  time_of_day_long  lap_distance  vehicle_speed  \\\n",
       "13340      $P   9         60612.301         47.19         229.49   \n",
       "\n",
       "       engine_speed  Gear  Brake  throttle  time_diff  \n",
       "13340         11827     6      0      99.5     46.804  "
      ]
     },
     "execution_count": 23,
     "metadata": {},
     "output_type": "execute_result"
    }
   ],
   "source": [
    "df[df['time_diff'] >40]"
   ]
  },
  {
   "cell_type": "code",
   "execution_count": 24,
   "metadata": {},
   "outputs": [],
   "source": [
    "df=df.drop(['command','No','time_diff'], axis = 1)"
   ]
  },
  {
   "cell_type": "code",
   "execution_count": 25,
   "metadata": {},
   "outputs": [],
   "source": [
    "df = df.set_index('time_of_day_long') "
   ]
  },
  {
   "cell_type": "code",
   "execution_count": 26,
   "metadata": {},
   "outputs": [
    {
     "data": {
      "text/html": [
       "<div>\n",
       "<style scoped>\n",
       "    .dataframe tbody tr th:only-of-type {\n",
       "        vertical-align: middle;\n",
       "    }\n",
       "\n",
       "    .dataframe tbody tr th {\n",
       "        vertical-align: top;\n",
       "    }\n",
       "\n",
       "    .dataframe thead th {\n",
       "        text-align: right;\n",
       "    }\n",
       "</style>\n",
       "<table border=\"1\" class=\"dataframe\">\n",
       "  <thead>\n",
       "    <tr style=\"text-align: right;\">\n",
       "      <th></th>\n",
       "      <th>lap_distance</th>\n",
       "      <th>vehicle_speed</th>\n",
       "      <th>engine_speed</th>\n",
       "      <th>Gear</th>\n",
       "      <th>Brake</th>\n",
       "      <th>throttle</th>\n",
       "    </tr>\n",
       "    <tr>\n",
       "      <th>time_of_day_long</th>\n",
       "      <th></th>\n",
       "      <th></th>\n",
       "      <th></th>\n",
       "      <th></th>\n",
       "      <th></th>\n",
       "      <th></th>\n",
       "    </tr>\n",
       "  </thead>\n",
       "  <tbody>\n",
       "    <tr>\n",
       "      <th>58683.411</th>\n",
       "      <td>1.47</td>\n",
       "      <td>45.46</td>\n",
       "      <td>3580</td>\n",
       "      <td>2</td>\n",
       "      <td>0</td>\n",
       "      <td>7.5</td>\n",
       "    </tr>\n",
       "    <tr>\n",
       "      <th>58683.504</th>\n",
       "      <td>3.54</td>\n",
       "      <td>45.45</td>\n",
       "      <td>3581</td>\n",
       "      <td>2</td>\n",
       "      <td>0</td>\n",
       "      <td>7.5</td>\n",
       "    </tr>\n",
       "    <tr>\n",
       "      <th>58683.598</th>\n",
       "      <td>5.61</td>\n",
       "      <td>45.63</td>\n",
       "      <td>3635</td>\n",
       "      <td>2</td>\n",
       "      <td>0</td>\n",
       "      <td>7.5</td>\n",
       "    </tr>\n",
       "    <tr>\n",
       "      <th>58683.691</th>\n",
       "      <td>7.59</td>\n",
       "      <td>46.01</td>\n",
       "      <td>3587</td>\n",
       "      <td>2</td>\n",
       "      <td>0</td>\n",
       "      <td>8.0</td>\n",
       "    </tr>\n",
       "    <tr>\n",
       "      <th>58683.784</th>\n",
       "      <td>9.66</td>\n",
       "      <td>45.83</td>\n",
       "      <td>3619</td>\n",
       "      <td>2</td>\n",
       "      <td>0</td>\n",
       "      <td>7.5</td>\n",
       "    </tr>\n",
       "  </tbody>\n",
       "</table>\n",
       "</div>"
      ],
      "text/plain": [
       "                  lap_distance  vehicle_speed  engine_speed  Gear  Brake  \\\n",
       "time_of_day_long                                                           \n",
       "58683.411                 1.47          45.46          3580     2      0   \n",
       "58683.504                 3.54          45.45          3581     2      0   \n",
       "58683.598                 5.61          45.63          3635     2      0   \n",
       "58683.691                 7.59          46.01          3587     2      0   \n",
       "58683.784                 9.66          45.83          3619     2      0   \n",
       "\n",
       "                  throttle  \n",
       "time_of_day_long            \n",
       "58683.411              7.5  \n",
       "58683.504              7.5  \n",
       "58683.598              7.5  \n",
       "58683.691              8.0  \n",
       "58683.784              7.5  "
      ]
     },
     "execution_count": 26,
     "metadata": {},
     "output_type": "execute_result"
    }
   ],
   "source": [
    "df.head(5)"
   ]
  },
  {
   "cell_type": "code",
   "execution_count": 27,
   "metadata": {},
   "outputs": [],
   "source": [
    "df_gear = pd.get_dummies(df.Gear, prefix='Gear')"
   ]
  },
  {
   "cell_type": "code",
   "execution_count": 28,
   "metadata": {},
   "outputs": [
    {
     "data": {
      "text/html": [
       "<div>\n",
       "<style scoped>\n",
       "    .dataframe tbody tr th:only-of-type {\n",
       "        vertical-align: middle;\n",
       "    }\n",
       "\n",
       "    .dataframe tbody tr th {\n",
       "        vertical-align: top;\n",
       "    }\n",
       "\n",
       "    .dataframe thead th {\n",
       "        text-align: right;\n",
       "    }\n",
       "</style>\n",
       "<table border=\"1\" class=\"dataframe\">\n",
       "  <thead>\n",
       "    <tr style=\"text-align: right;\">\n",
       "      <th></th>\n",
       "      <th>Gear_0</th>\n",
       "      <th>Gear_1</th>\n",
       "      <th>Gear_2</th>\n",
       "      <th>Gear_3</th>\n",
       "      <th>Gear_4</th>\n",
       "      <th>Gear_5</th>\n",
       "      <th>Gear_6</th>\n",
       "    </tr>\n",
       "    <tr>\n",
       "      <th>time_of_day_long</th>\n",
       "      <th></th>\n",
       "      <th></th>\n",
       "      <th></th>\n",
       "      <th></th>\n",
       "      <th></th>\n",
       "      <th></th>\n",
       "      <th></th>\n",
       "    </tr>\n",
       "  </thead>\n",
       "  <tbody>\n",
       "    <tr>\n",
       "      <th>58683.411</th>\n",
       "      <td>0</td>\n",
       "      <td>0</td>\n",
       "      <td>1</td>\n",
       "      <td>0</td>\n",
       "      <td>0</td>\n",
       "      <td>0</td>\n",
       "      <td>0</td>\n",
       "    </tr>\n",
       "    <tr>\n",
       "      <th>58683.504</th>\n",
       "      <td>0</td>\n",
       "      <td>0</td>\n",
       "      <td>1</td>\n",
       "      <td>0</td>\n",
       "      <td>0</td>\n",
       "      <td>0</td>\n",
       "      <td>0</td>\n",
       "    </tr>\n",
       "    <tr>\n",
       "      <th>58683.598</th>\n",
       "      <td>0</td>\n",
       "      <td>0</td>\n",
       "      <td>1</td>\n",
       "      <td>0</td>\n",
       "      <td>0</td>\n",
       "      <td>0</td>\n",
       "      <td>0</td>\n",
       "    </tr>\n",
       "    <tr>\n",
       "      <th>58683.691</th>\n",
       "      <td>0</td>\n",
       "      <td>0</td>\n",
       "      <td>1</td>\n",
       "      <td>0</td>\n",
       "      <td>0</td>\n",
       "      <td>0</td>\n",
       "      <td>0</td>\n",
       "    </tr>\n",
       "    <tr>\n",
       "      <th>58683.784</th>\n",
       "      <td>0</td>\n",
       "      <td>0</td>\n",
       "      <td>1</td>\n",
       "      <td>0</td>\n",
       "      <td>0</td>\n",
       "      <td>0</td>\n",
       "      <td>0</td>\n",
       "    </tr>\n",
       "  </tbody>\n",
       "</table>\n",
       "</div>"
      ],
      "text/plain": [
       "                  Gear_0  Gear_1  Gear_2  Gear_3  Gear_4  Gear_5  Gear_6\n",
       "time_of_day_long                                                        \n",
       "58683.411              0       0       1       0       0       0       0\n",
       "58683.504              0       0       1       0       0       0       0\n",
       "58683.598              0       0       1       0       0       0       0\n",
       "58683.691              0       0       1       0       0       0       0\n",
       "58683.784              0       0       1       0       0       0       0"
      ]
     },
     "execution_count": 28,
     "metadata": {},
     "output_type": "execute_result"
    }
   ],
   "source": [
    "df_gear.head(5)"
   ]
  },
  {
   "cell_type": "code",
   "execution_count": 29,
   "metadata": {},
   "outputs": [
    {
     "data": {
      "text/html": [
       "<div>\n",
       "<style scoped>\n",
       "    .dataframe tbody tr th:only-of-type {\n",
       "        vertical-align: middle;\n",
       "    }\n",
       "\n",
       "    .dataframe tbody tr th {\n",
       "        vertical-align: top;\n",
       "    }\n",
       "\n",
       "    .dataframe thead th {\n",
       "        text-align: right;\n",
       "    }\n",
       "</style>\n",
       "<table border=\"1\" class=\"dataframe\">\n",
       "  <thead>\n",
       "    <tr style=\"text-align: right;\">\n",
       "      <th></th>\n",
       "      <th>lap_distance</th>\n",
       "      <th>vehicle_speed</th>\n",
       "      <th>engine_speed</th>\n",
       "      <th>Gear</th>\n",
       "      <th>Brake</th>\n",
       "      <th>throttle</th>\n",
       "    </tr>\n",
       "    <tr>\n",
       "      <th>time_of_day_long</th>\n",
       "      <th></th>\n",
       "      <th></th>\n",
       "      <th></th>\n",
       "      <th></th>\n",
       "      <th></th>\n",
       "      <th></th>\n",
       "    </tr>\n",
       "  </thead>\n",
       "  <tbody>\n",
       "    <tr>\n",
       "      <th>58683.411</th>\n",
       "      <td>1.47</td>\n",
       "      <td>45.46</td>\n",
       "      <td>3580</td>\n",
       "      <td>2</td>\n",
       "      <td>0</td>\n",
       "      <td>7.5</td>\n",
       "    </tr>\n",
       "    <tr>\n",
       "      <th>58683.504</th>\n",
       "      <td>3.54</td>\n",
       "      <td>45.45</td>\n",
       "      <td>3581</td>\n",
       "      <td>2</td>\n",
       "      <td>0</td>\n",
       "      <td>7.5</td>\n",
       "    </tr>\n",
       "    <tr>\n",
       "      <th>58683.598</th>\n",
       "      <td>5.61</td>\n",
       "      <td>45.63</td>\n",
       "      <td>3635</td>\n",
       "      <td>2</td>\n",
       "      <td>0</td>\n",
       "      <td>7.5</td>\n",
       "    </tr>\n",
       "    <tr>\n",
       "      <th>58683.691</th>\n",
       "      <td>7.59</td>\n",
       "      <td>46.01</td>\n",
       "      <td>3587</td>\n",
       "      <td>2</td>\n",
       "      <td>0</td>\n",
       "      <td>8.0</td>\n",
       "    </tr>\n",
       "    <tr>\n",
       "      <th>58683.784</th>\n",
       "      <td>9.66</td>\n",
       "      <td>45.83</td>\n",
       "      <td>3619</td>\n",
       "      <td>2</td>\n",
       "      <td>0</td>\n",
       "      <td>7.5</td>\n",
       "    </tr>\n",
       "  </tbody>\n",
       "</table>\n",
       "</div>"
      ],
      "text/plain": [
       "                  lap_distance  vehicle_speed  engine_speed  Gear  Brake  \\\n",
       "time_of_day_long                                                           \n",
       "58683.411                 1.47          45.46          3580     2      0   \n",
       "58683.504                 3.54          45.45          3581     2      0   \n",
       "58683.598                 5.61          45.63          3635     2      0   \n",
       "58683.691                 7.59          46.01          3587     2      0   \n",
       "58683.784                 9.66          45.83          3619     2      0   \n",
       "\n",
       "                  throttle  \n",
       "time_of_day_long            \n",
       "58683.411              7.5  \n",
       "58683.504              7.5  \n",
       "58683.598              7.5  \n",
       "58683.691              8.0  \n",
       "58683.784              7.5  "
      ]
     },
     "execution_count": 29,
     "metadata": {},
     "output_type": "execute_result"
    }
   ],
   "source": [
    "df.head(5)"
   ]
  },
  {
   "cell_type": "code",
   "execution_count": 30,
   "metadata": {},
   "outputs": [],
   "source": [
    "df = df.drop('Gear',axis = 1)"
   ]
  },
  {
   "cell_type": "code",
   "execution_count": 31,
   "metadata": {},
   "outputs": [],
   "source": [
    "df = df.drop('Brake',axis = 1)"
   ]
  },
  {
   "cell_type": "code",
   "execution_count": 32,
   "metadata": {},
   "outputs": [],
   "source": [
    "df = df.drop('throttle',axis = 1)"
   ]
  },
  {
   "cell_type": "code",
   "execution_count": 33,
   "metadata": {},
   "outputs": [
    {
     "data": {
      "text/plain": [
       "('Brake', 'throttle')"
      ]
     },
     "execution_count": 33,
     "metadata": {},
     "output_type": "execute_result"
    }
   ],
   "source": [
    "'Brake','throttle'"
   ]
  },
  {
   "cell_type": "code",
   "execution_count": 34,
   "metadata": {},
   "outputs": [],
   "source": [
    "df=df.join(df_gear)"
   ]
  },
  {
   "cell_type": "code",
   "execution_count": 35,
   "metadata": {},
   "outputs": [
    {
     "data": {
      "text/html": [
       "<div>\n",
       "<style scoped>\n",
       "    .dataframe tbody tr th:only-of-type {\n",
       "        vertical-align: middle;\n",
       "    }\n",
       "\n",
       "    .dataframe tbody tr th {\n",
       "        vertical-align: top;\n",
       "    }\n",
       "\n",
       "    .dataframe thead th {\n",
       "        text-align: right;\n",
       "    }\n",
       "</style>\n",
       "<table border=\"1\" class=\"dataframe\">\n",
       "  <thead>\n",
       "    <tr style=\"text-align: right;\">\n",
       "      <th></th>\n",
       "      <th>lap_distance</th>\n",
       "      <th>vehicle_speed</th>\n",
       "      <th>engine_speed</th>\n",
       "      <th>Gear_0</th>\n",
       "      <th>Gear_1</th>\n",
       "      <th>Gear_2</th>\n",
       "      <th>Gear_3</th>\n",
       "      <th>Gear_4</th>\n",
       "      <th>Gear_5</th>\n",
       "      <th>Gear_6</th>\n",
       "    </tr>\n",
       "    <tr>\n",
       "      <th>time_of_day_long</th>\n",
       "      <th></th>\n",
       "      <th></th>\n",
       "      <th></th>\n",
       "      <th></th>\n",
       "      <th></th>\n",
       "      <th></th>\n",
       "      <th></th>\n",
       "      <th></th>\n",
       "      <th></th>\n",
       "      <th></th>\n",
       "    </tr>\n",
       "  </thead>\n",
       "  <tbody>\n",
       "    <tr>\n",
       "      <th>58683.411</th>\n",
       "      <td>1.47</td>\n",
       "      <td>45.46</td>\n",
       "      <td>3580</td>\n",
       "      <td>0</td>\n",
       "      <td>0</td>\n",
       "      <td>1</td>\n",
       "      <td>0</td>\n",
       "      <td>0</td>\n",
       "      <td>0</td>\n",
       "      <td>0</td>\n",
       "    </tr>\n",
       "    <tr>\n",
       "      <th>58683.504</th>\n",
       "      <td>3.54</td>\n",
       "      <td>45.45</td>\n",
       "      <td>3581</td>\n",
       "      <td>0</td>\n",
       "      <td>0</td>\n",
       "      <td>1</td>\n",
       "      <td>0</td>\n",
       "      <td>0</td>\n",
       "      <td>0</td>\n",
       "      <td>0</td>\n",
       "    </tr>\n",
       "    <tr>\n",
       "      <th>58683.598</th>\n",
       "      <td>5.61</td>\n",
       "      <td>45.63</td>\n",
       "      <td>3635</td>\n",
       "      <td>0</td>\n",
       "      <td>0</td>\n",
       "      <td>1</td>\n",
       "      <td>0</td>\n",
       "      <td>0</td>\n",
       "      <td>0</td>\n",
       "      <td>0</td>\n",
       "    </tr>\n",
       "    <tr>\n",
       "      <th>58683.691</th>\n",
       "      <td>7.59</td>\n",
       "      <td>46.01</td>\n",
       "      <td>3587</td>\n",
       "      <td>0</td>\n",
       "      <td>0</td>\n",
       "      <td>1</td>\n",
       "      <td>0</td>\n",
       "      <td>0</td>\n",
       "      <td>0</td>\n",
       "      <td>0</td>\n",
       "    </tr>\n",
       "    <tr>\n",
       "      <th>58683.784</th>\n",
       "      <td>9.66</td>\n",
       "      <td>45.83</td>\n",
       "      <td>3619</td>\n",
       "      <td>0</td>\n",
       "      <td>0</td>\n",
       "      <td>1</td>\n",
       "      <td>0</td>\n",
       "      <td>0</td>\n",
       "      <td>0</td>\n",
       "      <td>0</td>\n",
       "    </tr>\n",
       "  </tbody>\n",
       "</table>\n",
       "</div>"
      ],
      "text/plain": [
       "                  lap_distance  vehicle_speed  engine_speed  Gear_0  Gear_1  \\\n",
       "time_of_day_long                                                              \n",
       "58683.411                 1.47          45.46          3580       0       0   \n",
       "58683.504                 3.54          45.45          3581       0       0   \n",
       "58683.598                 5.61          45.63          3635       0       0   \n",
       "58683.691                 7.59          46.01          3587       0       0   \n",
       "58683.784                 9.66          45.83          3619       0       0   \n",
       "\n",
       "                  Gear_2  Gear_3  Gear_4  Gear_5  Gear_6  \n",
       "time_of_day_long                                          \n",
       "58683.411              1       0       0       0       0  \n",
       "58683.504              1       0       0       0       0  \n",
       "58683.598              1       0       0       0       0  \n",
       "58683.691              1       0       0       0       0  \n",
       "58683.784              1       0       0       0       0  "
      ]
     },
     "execution_count": 35,
     "metadata": {},
     "output_type": "execute_result"
    }
   ],
   "source": [
    "df.head(5)"
   ]
  },
  {
   "cell_type": "code",
   "execution_count": 36,
   "metadata": {},
   "outputs": [
    {
     "data": {
      "text/html": [
       "<div>\n",
       "<style scoped>\n",
       "    .dataframe tbody tr th:only-of-type {\n",
       "        vertical-align: middle;\n",
       "    }\n",
       "\n",
       "    .dataframe tbody tr th {\n",
       "        vertical-align: top;\n",
       "    }\n",
       "\n",
       "    .dataframe thead th {\n",
       "        text-align: right;\n",
       "    }\n",
       "</style>\n",
       "<table border=\"1\" class=\"dataframe\">\n",
       "  <thead>\n",
       "    <tr style=\"text-align: right;\">\n",
       "      <th></th>\n",
       "      <th>lap_distance</th>\n",
       "      <th>vehicle_speed</th>\n",
       "      <th>engine_speed</th>\n",
       "      <th>Gear_0</th>\n",
       "      <th>Gear_1</th>\n",
       "      <th>Gear_2</th>\n",
       "      <th>Gear_3</th>\n",
       "      <th>Gear_4</th>\n",
       "      <th>Gear_5</th>\n",
       "      <th>Gear_6</th>\n",
       "    </tr>\n",
       "    <tr>\n",
       "      <th>time_of_day_long</th>\n",
       "      <th></th>\n",
       "      <th></th>\n",
       "      <th></th>\n",
       "      <th></th>\n",
       "      <th></th>\n",
       "      <th></th>\n",
       "      <th></th>\n",
       "      <th></th>\n",
       "      <th></th>\n",
       "      <th></th>\n",
       "    </tr>\n",
       "  </thead>\n",
       "  <tbody>\n",
       "    <tr>\n",
       "      <th>58683.411</th>\n",
       "      <td>1.47</td>\n",
       "      <td>45.46</td>\n",
       "      <td>3580</td>\n",
       "      <td>0</td>\n",
       "      <td>0</td>\n",
       "      <td>1</td>\n",
       "      <td>0</td>\n",
       "      <td>0</td>\n",
       "      <td>0</td>\n",
       "      <td>0</td>\n",
       "    </tr>\n",
       "    <tr>\n",
       "      <th>58683.504</th>\n",
       "      <td>3.54</td>\n",
       "      <td>45.45</td>\n",
       "      <td>3581</td>\n",
       "      <td>0</td>\n",
       "      <td>0</td>\n",
       "      <td>1</td>\n",
       "      <td>0</td>\n",
       "      <td>0</td>\n",
       "      <td>0</td>\n",
       "      <td>0</td>\n",
       "    </tr>\n",
       "    <tr>\n",
       "      <th>58683.598</th>\n",
       "      <td>5.61</td>\n",
       "      <td>45.63</td>\n",
       "      <td>3635</td>\n",
       "      <td>0</td>\n",
       "      <td>0</td>\n",
       "      <td>1</td>\n",
       "      <td>0</td>\n",
       "      <td>0</td>\n",
       "      <td>0</td>\n",
       "      <td>0</td>\n",
       "    </tr>\n",
       "    <tr>\n",
       "      <th>58683.691</th>\n",
       "      <td>7.59</td>\n",
       "      <td>46.01</td>\n",
       "      <td>3587</td>\n",
       "      <td>0</td>\n",
       "      <td>0</td>\n",
       "      <td>1</td>\n",
       "      <td>0</td>\n",
       "      <td>0</td>\n",
       "      <td>0</td>\n",
       "      <td>0</td>\n",
       "    </tr>\n",
       "    <tr>\n",
       "      <th>58683.784</th>\n",
       "      <td>9.66</td>\n",
       "      <td>45.83</td>\n",
       "      <td>3619</td>\n",
       "      <td>0</td>\n",
       "      <td>0</td>\n",
       "      <td>1</td>\n",
       "      <td>0</td>\n",
       "      <td>0</td>\n",
       "      <td>0</td>\n",
       "      <td>0</td>\n",
       "    </tr>\n",
       "  </tbody>\n",
       "</table>\n",
       "</div>"
      ],
      "text/plain": [
       "                  lap_distance  vehicle_speed  engine_speed  Gear_0  Gear_1  \\\n",
       "time_of_day_long                                                              \n",
       "58683.411                 1.47          45.46          3580       0       0   \n",
       "58683.504                 3.54          45.45          3581       0       0   \n",
       "58683.598                 5.61          45.63          3635       0       0   \n",
       "58683.691                 7.59          46.01          3587       0       0   \n",
       "58683.784                 9.66          45.83          3619       0       0   \n",
       "\n",
       "                  Gear_2  Gear_3  Gear_4  Gear_5  Gear_6  \n",
       "time_of_day_long                                          \n",
       "58683.411              1       0       0       0       0  \n",
       "58683.504              1       0       0       0       0  \n",
       "58683.598              1       0       0       0       0  \n",
       "58683.691              1       0       0       0       0  \n",
       "58683.784              1       0       0       0       0  "
      ]
     },
     "execution_count": 36,
     "metadata": {},
     "output_type": "execute_result"
    }
   ],
   "source": [
    "df.head(5)"
   ]
  },
  {
   "cell_type": "code",
   "execution_count": 37,
   "metadata": {},
   "outputs": [
    {
     "data": {
      "text/html": [
       "<div>\n",
       "<style scoped>\n",
       "    .dataframe tbody tr th:only-of-type {\n",
       "        vertical-align: middle;\n",
       "    }\n",
       "\n",
       "    .dataframe tbody tr th {\n",
       "        vertical-align: top;\n",
       "    }\n",
       "\n",
       "    .dataframe thead th {\n",
       "        text-align: right;\n",
       "    }\n",
       "</style>\n",
       "<table border=\"1\" class=\"dataframe\">\n",
       "  <thead>\n",
       "    <tr style=\"text-align: right;\">\n",
       "      <th></th>\n",
       "      <th>lap_distance</th>\n",
       "      <th>vehicle_speed</th>\n",
       "      <th>engine_speed</th>\n",
       "      <th>Gear_0</th>\n",
       "      <th>Gear_1</th>\n",
       "      <th>Gear_2</th>\n",
       "      <th>Gear_3</th>\n",
       "      <th>Gear_4</th>\n",
       "      <th>Gear_5</th>\n",
       "      <th>Gear_6</th>\n",
       "    </tr>\n",
       "    <tr>\n",
       "      <th>time_of_day_long</th>\n",
       "      <th></th>\n",
       "      <th></th>\n",
       "      <th></th>\n",
       "      <th></th>\n",
       "      <th></th>\n",
       "      <th></th>\n",
       "      <th></th>\n",
       "      <th></th>\n",
       "      <th></th>\n",
       "      <th></th>\n",
       "    </tr>\n",
       "  </thead>\n",
       "  <tbody>\n",
       "    <tr>\n",
       "      <th>58683.411</th>\n",
       "      <td>1.47</td>\n",
       "      <td>45.46</td>\n",
       "      <td>3580</td>\n",
       "      <td>0</td>\n",
       "      <td>0</td>\n",
       "      <td>1</td>\n",
       "      <td>0</td>\n",
       "      <td>0</td>\n",
       "      <td>0</td>\n",
       "      <td>0</td>\n",
       "    </tr>\n",
       "    <tr>\n",
       "      <th>58683.504</th>\n",
       "      <td>3.54</td>\n",
       "      <td>45.45</td>\n",
       "      <td>3581</td>\n",
       "      <td>0</td>\n",
       "      <td>0</td>\n",
       "      <td>1</td>\n",
       "      <td>0</td>\n",
       "      <td>0</td>\n",
       "      <td>0</td>\n",
       "      <td>0</td>\n",
       "    </tr>\n",
       "    <tr>\n",
       "      <th>58683.598</th>\n",
       "      <td>5.61</td>\n",
       "      <td>45.63</td>\n",
       "      <td>3635</td>\n",
       "      <td>0</td>\n",
       "      <td>0</td>\n",
       "      <td>1</td>\n",
       "      <td>0</td>\n",
       "      <td>0</td>\n",
       "      <td>0</td>\n",
       "      <td>0</td>\n",
       "    </tr>\n",
       "    <tr>\n",
       "      <th>58683.691</th>\n",
       "      <td>7.59</td>\n",
       "      <td>46.01</td>\n",
       "      <td>3587</td>\n",
       "      <td>0</td>\n",
       "      <td>0</td>\n",
       "      <td>1</td>\n",
       "      <td>0</td>\n",
       "      <td>0</td>\n",
       "      <td>0</td>\n",
       "      <td>0</td>\n",
       "    </tr>\n",
       "    <tr>\n",
       "      <th>58683.784</th>\n",
       "      <td>9.66</td>\n",
       "      <td>45.83</td>\n",
       "      <td>3619</td>\n",
       "      <td>0</td>\n",
       "      <td>0</td>\n",
       "      <td>1</td>\n",
       "      <td>0</td>\n",
       "      <td>0</td>\n",
       "      <td>0</td>\n",
       "      <td>0</td>\n",
       "    </tr>\n",
       "  </tbody>\n",
       "</table>\n",
       "</div>"
      ],
      "text/plain": [
       "                  lap_distance  vehicle_speed  engine_speed  Gear_0  Gear_1  \\\n",
       "time_of_day_long                                                              \n",
       "58683.411                 1.47          45.46          3580       0       0   \n",
       "58683.504                 3.54          45.45          3581       0       0   \n",
       "58683.598                 5.61          45.63          3635       0       0   \n",
       "58683.691                 7.59          46.01          3587       0       0   \n",
       "58683.784                 9.66          45.83          3619       0       0   \n",
       "\n",
       "                  Gear_2  Gear_3  Gear_4  Gear_5  Gear_6  \n",
       "time_of_day_long                                          \n",
       "58683.411              1       0       0       0       0  \n",
       "58683.504              1       0       0       0       0  \n",
       "58683.598              1       0       0       0       0  \n",
       "58683.691              1       0       0       0       0  \n",
       "58683.784              1       0       0       0       0  "
      ]
     },
     "execution_count": 37,
     "metadata": {},
     "output_type": "execute_result"
    }
   ],
   "source": [
    "df.head(5)"
   ]
  },
  {
   "cell_type": "code",
   "execution_count": 38,
   "metadata": {},
   "outputs": [],
   "source": [
    "df = df.drop('Gear_0',axis = 1)\n",
    "df = df.drop('Gear_1',axis = 1)\n",
    "df = df.drop('Gear_2',axis = 1)\n",
    "df = df.drop('Gear_3',axis = 1)\n",
    "df = df.drop('Gear_4',axis = 1)\n",
    "df = df.drop('Gear_5',axis = 1)\n",
    "df = df.drop('Gear_6',axis = 1)"
   ]
  },
  {
   "cell_type": "code",
   "execution_count": 39,
   "metadata": {},
   "outputs": [
    {
     "data": {
      "text/html": [
       "<div>\n",
       "<style scoped>\n",
       "    .dataframe tbody tr th:only-of-type {\n",
       "        vertical-align: middle;\n",
       "    }\n",
       "\n",
       "    .dataframe tbody tr th {\n",
       "        vertical-align: top;\n",
       "    }\n",
       "\n",
       "    .dataframe thead th {\n",
       "        text-align: right;\n",
       "    }\n",
       "</style>\n",
       "<table border=\"1\" class=\"dataframe\">\n",
       "  <thead>\n",
       "    <tr style=\"text-align: right;\">\n",
       "      <th></th>\n",
       "      <th>lap_distance</th>\n",
       "      <th>vehicle_speed</th>\n",
       "      <th>engine_speed</th>\n",
       "    </tr>\n",
       "    <tr>\n",
       "      <th>time_of_day_long</th>\n",
       "      <th></th>\n",
       "      <th></th>\n",
       "      <th></th>\n",
       "    </tr>\n",
       "  </thead>\n",
       "  <tbody>\n",
       "    <tr>\n",
       "      <th>58683.411</th>\n",
       "      <td>1.47</td>\n",
       "      <td>45.46</td>\n",
       "      <td>3580</td>\n",
       "    </tr>\n",
       "    <tr>\n",
       "      <th>58683.504</th>\n",
       "      <td>3.54</td>\n",
       "      <td>45.45</td>\n",
       "      <td>3581</td>\n",
       "    </tr>\n",
       "    <tr>\n",
       "      <th>58683.598</th>\n",
       "      <td>5.61</td>\n",
       "      <td>45.63</td>\n",
       "      <td>3635</td>\n",
       "    </tr>\n",
       "    <tr>\n",
       "      <th>58683.691</th>\n",
       "      <td>7.59</td>\n",
       "      <td>46.01</td>\n",
       "      <td>3587</td>\n",
       "    </tr>\n",
       "    <tr>\n",
       "      <th>58683.784</th>\n",
       "      <td>9.66</td>\n",
       "      <td>45.83</td>\n",
       "      <td>3619</td>\n",
       "    </tr>\n",
       "  </tbody>\n",
       "</table>\n",
       "</div>"
      ],
      "text/plain": [
       "                  lap_distance  vehicle_speed  engine_speed\n",
       "time_of_day_long                                           \n",
       "58683.411                 1.47          45.46          3580\n",
       "58683.504                 3.54          45.45          3581\n",
       "58683.598                 5.61          45.63          3635\n",
       "58683.691                 7.59          46.01          3587\n",
       "58683.784                 9.66          45.83          3619"
      ]
     },
     "execution_count": 39,
     "metadata": {},
     "output_type": "execute_result"
    }
   ],
   "source": [
    "df.head(5)"
   ]
  },
  {
   "cell_type": "code",
   "execution_count": 40,
   "metadata": {},
   "outputs": [
    {
     "name": "stdout",
     "output_type": "stream",
     "text": [
      "(64976, 3) (16245, 3)\n"
     ]
    }
   ],
   "source": [
    "train_size = int(len(df) * 0.80)\n",
    "test_size = len(df) - train_size\n",
    "X_train,X_test = df.iloc[0:train_size], df.iloc[train_size:len(df)]\n",
    "print(X_train.shape,X_test.shape)"
   ]
  },
  {
   "cell_type": "code",
   "execution_count": 41,
   "metadata": {},
   "outputs": [],
   "source": [
    "X_train_df=X_train\n",
    "X_test_df=X_test"
   ]
  },
  {
   "cell_type": "code",
   "execution_count": 42,
   "metadata": {},
   "outputs": [
    {
     "name": "stdout",
     "output_type": "stream",
     "text": [
      "(64976, 3)\n",
      "(16245, 3)\n"
     ]
    }
   ],
   "source": [
    "print(X_train.shape)\n",
    "print(X_test.shape)"
   ]
  },
  {
   "cell_type": "code",
   "execution_count": 43,
   "metadata": {},
   "outputs": [
    {
     "data": {
      "text/plain": [
       "(64976, 3)"
      ]
     },
     "execution_count": 43,
     "metadata": {},
     "output_type": "execute_result"
    }
   ],
   "source": [
    "X_train.shape"
   ]
  },
  {
   "cell_type": "code",
   "execution_count": 44,
   "metadata": {},
   "outputs": [
    {
     "data": {
      "text/plain": [
       "(16245, 3)"
      ]
     },
     "execution_count": 44,
     "metadata": {},
     "output_type": "execute_result"
    }
   ],
   "source": [
    "X_test.shape"
   ]
  },
  {
   "cell_type": "code",
   "execution_count": 45,
   "metadata": {},
   "outputs": [],
   "source": [
    "def create_dataset(X, y, time_steps=1):\n",
    "    Xs, ys = [], []\n",
    "    for i in range(len(X) - time_steps):\n",
    "        v = X.iloc[i:(i + time_steps)].values\n",
    "        Xs.append(v)        \n",
    "        ys.append(y.iloc[i + time_steps])\n",
    "    return np.array(Xs), np.array(ys)"
   ]
  },
  {
   "cell_type": "code",
   "execution_count": 46,
   "metadata": {},
   "outputs": [],
   "source": [
    "X_train=X_train.apply(lambda x: x / np.max(x), axis=0)\n",
    "X_test=X_test.apply(lambda x: x / np.max(x), axis=0)"
   ]
  },
  {
   "cell_type": "code",
   "execution_count": 47,
   "metadata": {},
   "outputs": [
    {
     "data": {
      "text/html": [
       "<div>\n",
       "<style scoped>\n",
       "    .dataframe tbody tr th:only-of-type {\n",
       "        vertical-align: middle;\n",
       "    }\n",
       "\n",
       "    .dataframe tbody tr th {\n",
       "        vertical-align: top;\n",
       "    }\n",
       "\n",
       "    .dataframe thead th {\n",
       "        text-align: right;\n",
       "    }\n",
       "</style>\n",
       "<table border=\"1\" class=\"dataframe\">\n",
       "  <thead>\n",
       "    <tr style=\"text-align: right;\">\n",
       "      <th></th>\n",
       "      <th>lap_distance</th>\n",
       "      <th>vehicle_speed</th>\n",
       "      <th>engine_speed</th>\n",
       "    </tr>\n",
       "    <tr>\n",
       "      <th>time_of_day_long</th>\n",
       "      <th></th>\n",
       "      <th></th>\n",
       "      <th></th>\n",
       "    </tr>\n",
       "  </thead>\n",
       "  <tbody>\n",
       "    <tr>\n",
       "      <th>58683.411</th>\n",
       "      <td>0.000359</td>\n",
       "      <td>0.194648</td>\n",
       "      <td>0.287851</td>\n",
       "    </tr>\n",
       "    <tr>\n",
       "      <th>58683.504</th>\n",
       "      <td>0.000863</td>\n",
       "      <td>0.194605</td>\n",
       "      <td>0.287931</td>\n",
       "    </tr>\n",
       "    <tr>\n",
       "      <th>58683.598</th>\n",
       "      <td>0.001368</td>\n",
       "      <td>0.195376</td>\n",
       "      <td>0.292273</td>\n",
       "    </tr>\n",
       "    <tr>\n",
       "      <th>58683.691</th>\n",
       "      <td>0.001851</td>\n",
       "      <td>0.197003</td>\n",
       "      <td>0.288414</td>\n",
       "    </tr>\n",
       "    <tr>\n",
       "      <th>58683.784</th>\n",
       "      <td>0.002356</td>\n",
       "      <td>0.196232</td>\n",
       "      <td>0.290987</td>\n",
       "    </tr>\n",
       "  </tbody>\n",
       "</table>\n",
       "</div>"
      ],
      "text/plain": [
       "                  lap_distance  vehicle_speed  engine_speed\n",
       "time_of_day_long                                           \n",
       "58683.411             0.000359       0.194648      0.287851\n",
       "58683.504             0.000863       0.194605      0.287931\n",
       "58683.598             0.001368       0.195376      0.292273\n",
       "58683.691             0.001851       0.197003      0.288414\n",
       "58683.784             0.002356       0.196232      0.290987"
      ]
     },
     "execution_count": 47,
     "metadata": {},
     "output_type": "execute_result"
    }
   ],
   "source": [
    "X_train.head(5)"
   ]
  },
  {
   "cell_type": "code",
   "execution_count": 48,
   "metadata": {},
   "outputs": [
    {
     "name": "stdout",
     "output_type": "stream",
     "text": [
      "(64946, 30, 3)\n"
     ]
    }
   ],
   "source": [
    "TIME_STEPS = 30\n",
    "\n",
    "# reshape to [samples, time_steps, n_features]\n",
    "\n",
    "X_train, y_train = create_dataset(X_train,X_train, TIME_STEPS)\n",
    "X_test, y_test = create_dataset(X_test,X_test, TIME_STEPS)\n",
    "\n",
    "print(X_train.shape)"
   ]
  },
  {
   "cell_type": "code",
   "execution_count": 49,
   "metadata": {},
   "outputs": [
    {
     "name": "stdout",
     "output_type": "stream",
     "text": [
      "(64946, 30, 3)\n",
      "(16215, 30, 3)\n"
     ]
    }
   ],
   "source": [
    "print(X_train.shape)\n",
    "print(X_test.shape)"
   ]
  },
  {
   "cell_type": "code",
   "execution_count": 50,
   "metadata": {},
   "outputs": [],
   "source": [
    "from tensorflow import keras\n",
    "from sklearn.preprocessing import MinMaxScaler\n",
    "from tensorflow.keras.models import Sequential\n",
    "from sklearn.metrics import mean_squared_error\n",
    "from tensorflow.keras.layers import Dense, LSTM, Dropout, RepeatVector, TimeDistributed"
   ]
  },
  {
   "cell_type": "code",
   "execution_count": 51,
   "metadata": {},
   "outputs": [],
   "source": [
    "model = keras.Sequential()\n",
    "model.add(keras.layers.LSTM(units=128,input_shape=(30,3)))\n",
    "model.add(keras.layers.Dropout(rate=0.2))\n",
    "model.add(keras.layers.RepeatVector(n=30))\n",
    "model.add(keras.layers.LSTM(units=128, return_sequences=True))\n",
    "model.add(keras.layers.Dropout(rate=0.2))\n",
    "model.add(keras.layers.TimeDistributed(keras.layers.Dense(units=3)))\n",
    "model.compile(loss='mae', optimizer='adam')"
   ]
  },
  {
   "cell_type": "code",
   "execution_count": 52,
   "metadata": {},
   "outputs": [
    {
     "name": "stdout",
     "output_type": "stream",
     "text": [
      "Model: \"sequential\"\n",
      "_________________________________________________________________\n",
      "Layer (type)                 Output Shape              Param #   \n",
      "=================================================================\n",
      "lstm (LSTM)                  (None, 128)               67584     \n",
      "_________________________________________________________________\n",
      "dropout (Dropout)            (None, 128)               0         \n",
      "_________________________________________________________________\n",
      "repeat_vector (RepeatVector) (None, 30, 128)           0         \n",
      "_________________________________________________________________\n",
      "lstm_1 (LSTM)                (None, 30, 128)           131584    \n",
      "_________________________________________________________________\n",
      "dropout_1 (Dropout)          (None, 30, 128)           0         \n",
      "_________________________________________________________________\n",
      "time_distributed (TimeDistri (None, 30, 3)             387       \n",
      "=================================================================\n",
      "Total params: 199,555\n",
      "Trainable params: 199,555\n",
      "Non-trainable params: 0\n",
      "_________________________________________________________________\n"
     ]
    }
   ],
   "source": [
    "model.summary()"
   ]
  },
  {
   "cell_type": "code",
   "execution_count": 53,
   "metadata": {},
   "outputs": [
    {
     "name": "stdout",
     "output_type": "stream",
     "text": [
      "Epoch 1/1000\n",
      "115/115 [==============================] - 19s 162ms/step - loss: 0.1214 - val_loss: 0.0742\n",
      "Epoch 2/1000\n",
      "115/115 [==============================] - 18s 158ms/step - loss: 0.0860 - val_loss: 0.0757\n",
      "Epoch 3/1000\n",
      "115/115 [==============================] - 18s 158ms/step - loss: 0.0750 - val_loss: 0.0478\n",
      "Epoch 4/1000\n",
      "115/115 [==============================] - 18s 157ms/step - loss: 0.0653 - val_loss: 0.0560\n",
      "Epoch 5/1000\n",
      "115/115 [==============================] - 18s 158ms/step - loss: 0.0675 - val_loss: 0.0520\n",
      "Epoch 6/1000\n",
      "115/115 [==============================] - 18s 157ms/step - loss: 0.0652 - val_loss: 0.0553\n"
     ]
    }
   ],
   "source": [
    "history = model.fit(X_train,X_train, epochs=1000, batch_size=512, validation_split=0.1,callbacks=[keras.callbacks.EarlyStopping(monitor='val_loss', patience=3, mode='min')], shuffle=False)"
   ]
  },
  {
   "cell_type": "code",
   "execution_count": 54,
   "metadata": {},
   "outputs": [
    {
     "data": {
      "image/png": "[encoded data removed]",
      "text/plain": [
       "<Figure size 432x288 with 1 Axes>"
      ]
     },
     "metadata": {
      "needs_background": "light"
     },
     "output_type": "display_data"
    }
   ],
   "source": [
    "plt.plot(history.history['loss'], label='Training loss')\n",
    "plt.plot(history.history['val_loss'], label='Validation loss')\n",
    "plt.legend();"
   ]
  },
  {
   "cell_type": "code",
   "execution_count": 55,
   "metadata": {},
   "outputs": [
    {
     "name": "stdout",
     "output_type": "stream",
     "text": [
      "507/507 [==============================] - 7s 14ms/step - loss: 0.0555\n"
     ]
    },
    {
     "data": {
      "text/plain": [
       "0.055515166372060776"
      ]
     },
     "execution_count": 55,
     "metadata": {},
     "output_type": "execute_result"
    }
   ],
   "source": [
    "model.evaluate(X_test,X_test)"
   ]
  },
  {
   "cell_type": "code",
   "execution_count": 56,
   "metadata": {},
   "outputs": [],
   "source": [
    "X_train_pred = model.predict(X_train, verbose=0)\n",
    "train_mae_loss = np.mean(np.abs(X_train_pred - X_train), axis=1)"
   ]
  },
  {
   "cell_type": "code",
   "execution_count": 57,
   "metadata": {},
   "outputs": [
    {
     "data": {
      "text/plain": [
       "(64946, 3)"
      ]
     },
     "execution_count": 57,
     "metadata": {},
     "output_type": "execute_result"
    }
   ],
   "source": [
    "train_mae_loss.shape"
   ]
  },
  {
   "cell_type": "code",
   "execution_count": 58,
   "metadata": {},
   "outputs": [
    {
     "name": "stdout",
     "output_type": "stream",
     "text": [
      "Reconstruction error threshold: 0.5646694540918262\n"
     ]
    },
    {
     "data": {
      "image/png": "[encoded data removed]",
      "text/plain": [
       "<Figure size 432x288 with 1 Axes>"
      ]
     },
     "metadata": {
      "needs_background": "light"
     },
     "output_type": "display_data"
    }
   ],
   "source": [
    "plt.hist(train_mae_loss, bins=50)\n",
    "plt.xlabel('Train MAE loss')\n",
    "plt.ylabel('Number of Samples');\n",
    "threshold = np.max(train_mae_loss)\n",
    "print(f'Reconstruction error threshold: {threshold}')"
   ]
  },
  {
   "cell_type": "code",
   "execution_count": 59,
   "metadata": {},
   "outputs": [
    {
     "data": {
      "image/png": "[encoded data removed]",
      "text/plain": [
       "<Figure size 432x288 with 1 Axes>"
      ]
     },
     "metadata": {
      "needs_background": "light"
     },
     "output_type": "display_data"
    }
   ],
   "source": [
    "X_test_pred = model.predict(X_test, verbose=0)\n",
    "test_mae_loss = np.mean(np.abs(X_test_pred-X_test), axis=1)\n",
    "\n",
    "plt.hist(test_mae_loss, bins=50)\n",
    "plt.xlabel('Test MAE loss')\n",
    "plt.ylabel('Number of samples');"
   ]
  },
  {
   "cell_type": "code",
   "execution_count": 60,
   "metadata": {},
   "outputs": [
    {
     "name": "stdout",
     "output_type": "stream",
     "text": [
      "Predict shape: (16215, 30, 3)\n",
      "Prediction: (486450, 3)\n",
      "Test data shape: (16215, 30, 3)\n",
      "Test data: (486450, 3)\n",
      "Error: (486450, 3)\n",
      "Test RMSE: 0.092\n"
     ]
    }
   ],
   "source": [
    "y_pred = model.predict(X_test)\n",
    "print('Predict shape:', y_pred.shape); \n",
    "mae = np.mean(np.abs(y_pred - X_test), axis=1)\n",
    "pred = y_pred.reshape((y_pred.shape[0] * y_pred.shape[1]), y_pred.shape[2])\n",
    "print('Prediction:', pred.shape);\n",
    "print('Test data shape:', X_test.shape); \n",
    "X_test = X_test.reshape((X_test.shape[0] * X_test.shape[1]), X_test.shape[2])\n",
    "print('Test data:', X_test.shape);\n",
    "errors = X_test - pred\n",
    "print('Error:', errors.shape); \n",
    "RMSE = math.sqrt(mean_squared_error(X_test,pred))\n",
    "print('Test RMSE: %.3f' % RMSE);"
   ]
  },
  {
   "cell_type": "code",
   "execution_count": 176,
   "metadata": {},
   "outputs": [
    {
     "name": "stdout",
     "output_type": "stream",
     "text": [
      "Score : (486450,)\n",
      "Cut off value : 457263\n",
      "Threshold Value : 0.2122115800268795\n"
     ]
    }
   ],
   "source": [
    "dist = np.linalg.norm(X_test-pred,axis=1)\n",
    "scores = dist.copy()\n",
    "print('Score :',scores.shape);\n",
    "scores.sort();\n",
    "cut_off = int(0.94*len(scores));\n",
    "print('Cut off value :',cut_off);\n",
    "threshold=scores[cut_off];\n",
    "print('Threshold Value :',threshold);"
   ]
  },
  {
   "cell_type": "code",
   "execution_count": 177,
   "metadata": {},
   "outputs": [
    {
     "data": {
      "text/plain": [
       "(486450, 3)"
      ]
     },
     "execution_count": 177,
     "metadata": {},
     "output_type": "execute_result"
    }
   ],
   "source": [
    "X_test.shape"
   ]
  },
  {
   "cell_type": "code",
   "execution_count": 178,
   "metadata": {},
   "outputs": [
    {
     "data": {
      "text/plain": [
       "array([0.67157314, 0.90916488, 0.93254732])"
      ]
     },
     "execution_count": 178,
     "metadata": {},
     "output_type": "execute_result"
    }
   ],
   "source": [
    "X_test[0]"
   ]
  },
  {
   "cell_type": "code",
   "execution_count": 179,
   "metadata": {},
   "outputs": [
    {
     "data": {
      "text/plain": [
       "array([0.646438 , 0.8535591, 0.8404531], dtype=float32)"
      ]
     },
     "execution_count": 179,
     "metadata": {},
     "output_type": "execute_result"
    }
   ],
   "source": [
    "pred[0]"
   ]
  },
  {
   "cell_type": "code",
   "execution_count": 180,
   "metadata": {},
   "outputs": [
    {
     "data": {
      "image/png": "[encoded data removed]",
      "text/plain": [
       "<Figure size 1008x360 with 1 Axes>"
      ]
     },
     "metadata": {
      "needs_background": "light"
     },
     "output_type": "display_data"
    }
   ],
   "source": [
    "plt.figure(figsize=(14,5))\n",
    "plt.plot(X_test[:,1],color='green')\n",
    "plt.plot(pred[:,1],color='red')\n",
    "plt.title('vehicle_speed')\n",
    "plt.show()"
   ]
  },
  {
   "cell_type": "code",
   "execution_count": 181,
   "metadata": {},
   "outputs": [
    {
     "data": {
      "image/png": "[encoded data removed]",
      "text/plain": [
       "<Figure size 1008x360 with 1 Axes>"
      ]
     },
     "metadata": {
      "needs_background": "light"
     },
     "output_type": "display_data"
    }
   ],
   "source": [
    "plt.figure(figsize=(14,5))\n",
    "plt.plot(X_test[:,0],color='green')\n",
    "plt.plot(pred[:,0],color='red')\n",
    "plt.title('lap Distance')\n",
    "plt.show()"
   ]
  },
  {
   "cell_type": "code",
   "execution_count": 182,
   "metadata": {},
   "outputs": [
    {
     "data": {
      "image/png": "[encoded data removed]",
      "text/plain": [
       "<Figure size 1008x360 with 1 Axes>"
      ]
     },
     "metadata": {
      "needs_background": "light"
     },
     "output_type": "display_data"
    }
   ],
   "source": [
    "plt.figure(figsize=(14,5))\n",
    "plt.plot(X_test[:,2],color='green')\n",
    "plt.plot(pred[:,2],color='red')\n",
    "plt.title('Engine Speed')\n",
    "plt.show()"
   ]
  },
  {
   "cell_type": "code",
   "execution_count": 183,
   "metadata": {},
   "outputs": [
    {
     "data": {
      "text/plain": [
       "0.2122115800268795"
      ]
     },
     "execution_count": 183,
     "metadata": {},
     "output_type": "execute_result"
    }
   ],
   "source": [
    "threshold"
   ]
  },
  {
   "cell_type": "code",
   "execution_count": 184,
   "metadata": {},
   "outputs": [],
   "source": [
    "THRESHOLD = threshold"
   ]
  },
  {
   "cell_type": "code",
   "execution_count": 185,
   "metadata": {},
   "outputs": [
    {
     "data": {
      "text/plain": [
       "(16215, 3)"
      ]
     },
     "execution_count": 185,
     "metadata": {},
     "output_type": "execute_result"
    }
   ],
   "source": [
    "test_mae_loss.shape"
   ]
  },
  {
   "cell_type": "code",
   "execution_count": 186,
   "metadata": {},
   "outputs": [],
   "source": [
    "test_mae_loss=test_mae_loss[:, [0,1,2]]"
   ]
  },
  {
   "cell_type": "code",
   "execution_count": 187,
   "metadata": {},
   "outputs": [
    {
     "data": {
      "text/plain": [
       "numpy.ndarray"
      ]
     },
     "execution_count": 187,
     "metadata": {},
     "output_type": "execute_result"
    }
   ],
   "source": [
    "type(test_mae_loss)"
   ]
  },
  {
   "cell_type": "code",
   "execution_count": 188,
   "metadata": {},
   "outputs": [],
   "source": [
    "test_mae_loss_mean=np.mean(test_mae_loss, axis = 1)"
   ]
  },
  {
   "cell_type": "code",
   "execution_count": 189,
   "metadata": {},
   "outputs": [
    {
     "data": {
      "text/plain": [
       "(16215,)"
      ]
     },
     "execution_count": 189,
     "metadata": {},
     "output_type": "execute_result"
    }
   ],
   "source": [
    "test_mae_loss_mean.shape"
   ]
  },
  {
   "cell_type": "code",
   "execution_count": 190,
   "metadata": {},
   "outputs": [],
   "source": [
    "test_mae_loss_mean=test_mae_loss_mean.reshape((-1,1))"
   ]
  },
  {
   "cell_type": "code",
   "execution_count": 191,
   "metadata": {},
   "outputs": [
    {
     "data": {
      "text/plain": [
       "(16215, 1)"
      ]
     },
     "execution_count": 191,
     "metadata": {},
     "output_type": "execute_result"
    }
   ],
   "source": [
    "test_mae_loss_mean.shape"
   ]
  },
  {
   "cell_type": "code",
   "execution_count": 192,
   "metadata": {},
   "outputs": [
    {
     "data": {
      "text/plain": [
       "(16245, 3)"
      ]
     },
     "execution_count": 192,
     "metadata": {},
     "output_type": "execute_result"
    }
   ],
   "source": [
    "X_test_df.shape"
   ]
  },
  {
   "cell_type": "code",
   "execution_count": 193,
   "metadata": {},
   "outputs": [
    {
     "data": {
      "text/plain": [
       "(16215, 3)"
      ]
     },
     "execution_count": 193,
     "metadata": {},
     "output_type": "execute_result"
    }
   ],
   "source": [
    "X_test_df.iloc[30:].shape"
   ]
  },
  {
   "cell_type": "code",
   "execution_count": 194,
   "metadata": {},
   "outputs": [],
   "source": [
    "test_score_df = pd.DataFrame(index=X_test_df.iloc[30:].index)"
   ]
  },
  {
   "cell_type": "code",
   "execution_count": 195,
   "metadata": {},
   "outputs": [],
   "source": [
    "test_score_df['loss'] = test_mae_loss_mean"
   ]
  },
  {
   "cell_type": "code",
   "execution_count": 196,
   "metadata": {},
   "outputs": [],
   "source": [
    "test_score_df['threshold'] = THRESHOLD\n",
    "test_score_df['anomaly'] = test_score_df.loss > test_score_df.threshold"
   ]
  },
  {
   "cell_type": "code",
   "execution_count": 197,
   "metadata": {},
   "outputs": [
    {
     "data": {
      "image/png": "[encoded data removed]",
      "text/plain": [
       "<Figure size 432x288 with 1 Axes>"
      ]
     },
     "metadata": {
      "needs_background": "light"
     },
     "output_type": "display_data"
    }
   ],
   "source": [
    "plt.plot(test_score_df.index, test_score_df.loss, label='loss')\n",
    "plt.plot(test_score_df.index, test_score_df.threshold, label='threshold')\n",
    "plt.xticks(rotation=25)\n",
    "plt.legend();"
   ]
  },
  {
   "cell_type": "code",
   "execution_count": 198,
   "metadata": {},
   "outputs": [
    {
     "data": {
      "text/html": [
       "<div>\n",
       "<style scoped>\n",
       "    .dataframe tbody tr th:only-of-type {\n",
       "        vertical-align: middle;\n",
       "    }\n",
       "\n",
       "    .dataframe tbody tr th {\n",
       "        vertical-align: top;\n",
       "    }\n",
       "\n",
       "    .dataframe thead th {\n",
       "        text-align: right;\n",
       "    }\n",
       "</style>\n",
       "<table border=\"1\" class=\"dataframe\">\n",
       "  <thead>\n",
       "    <tr style=\"text-align: right;\">\n",
       "      <th></th>\n",
       "      <th>loss</th>\n",
       "      <th>threshold</th>\n",
       "      <th>anomaly</th>\n",
       "    </tr>\n",
       "    <tr>\n",
       "      <th>time_of_day_long</th>\n",
       "      <th></th>\n",
       "      <th></th>\n",
       "      <th></th>\n",
       "    </tr>\n",
       "  </thead>\n",
       "  <tbody>\n",
       "    <tr>\n",
       "      <th>69009.864</th>\n",
       "      <td>0.215328</td>\n",
       "      <td>0.212212</td>\n",
       "      <td>True</td>\n",
       "    </tr>\n",
       "    <tr>\n",
       "      <th>69010.026</th>\n",
       "      <td>0.216944</td>\n",
       "      <td>0.212212</td>\n",
       "      <td>True</td>\n",
       "    </tr>\n",
       "    <tr>\n",
       "      <th>69010.109</th>\n",
       "      <td>0.215236</td>\n",
       "      <td>0.212212</td>\n",
       "      <td>True</td>\n",
       "    </tr>\n",
       "    <tr>\n",
       "      <th>69084.792</th>\n",
       "      <td>0.219797</td>\n",
       "      <td>0.212212</td>\n",
       "      <td>True</td>\n",
       "    </tr>\n",
       "    <tr>\n",
       "      <th>69084.885</th>\n",
       "      <td>0.223877</td>\n",
       "      <td>0.212212</td>\n",
       "      <td>True</td>\n",
       "    </tr>\n",
       "  </tbody>\n",
       "</table>\n",
       "</div>"
      ],
      "text/plain": [
       "                      loss  threshold  anomaly\n",
       "time_of_day_long                              \n",
       "69009.864         0.215328   0.212212     True\n",
       "69010.026         0.216944   0.212212     True\n",
       "69010.109         0.215236   0.212212     True\n",
       "69084.792         0.219797   0.212212     True\n",
       "69084.885         0.223877   0.212212     True"
      ]
     },
     "execution_count": 198,
     "metadata": {},
     "output_type": "execute_result"
    }
   ],
   "source": [
    "anomalies = test_score_df[test_score_df.anomaly == True]\n",
    "anomalies.head()"
   ]
  },
  {
   "cell_type": "code",
   "execution_count": 199,
   "metadata": {},
   "outputs": [
    {
     "data": {
      "text/html": [
       "<div>\n",
       "<style scoped>\n",
       "    .dataframe tbody tr th:only-of-type {\n",
       "        vertical-align: middle;\n",
       "    }\n",
       "\n",
       "    .dataframe tbody tr th {\n",
       "        vertical-align: top;\n",
       "    }\n",
       "\n",
       "    .dataframe thead th {\n",
       "        text-align: right;\n",
       "    }\n",
       "</style>\n",
       "<table border=\"1\" class=\"dataframe\">\n",
       "  <thead>\n",
       "    <tr style=\"text-align: right;\">\n",
       "      <th></th>\n",
       "      <th>loss</th>\n",
       "      <th>threshold</th>\n",
       "      <th>anomaly</th>\n",
       "    </tr>\n",
       "    <tr>\n",
       "      <th>time_of_day_long</th>\n",
       "      <th></th>\n",
       "      <th></th>\n",
       "      <th></th>\n",
       "    </tr>\n",
       "  </thead>\n",
       "  <tbody>\n",
       "    <tr>\n",
       "      <th>69849.039</th>\n",
       "      <td>0.233853</td>\n",
       "      <td>0.212212</td>\n",
       "      <td>True</td>\n",
       "    </tr>\n",
       "    <tr>\n",
       "      <th>69849.132</th>\n",
       "      <td>0.231251</td>\n",
       "      <td>0.212212</td>\n",
       "      <td>True</td>\n",
       "    </tr>\n",
       "    <tr>\n",
       "      <th>69849.309</th>\n",
       "      <td>0.228353</td>\n",
       "      <td>0.212212</td>\n",
       "      <td>True</td>\n",
       "    </tr>\n",
       "    <tr>\n",
       "      <th>69849.402</th>\n",
       "      <td>0.222998</td>\n",
       "      <td>0.212212</td>\n",
       "      <td>True</td>\n",
       "    </tr>\n",
       "    <tr>\n",
       "      <th>69849.588</th>\n",
       "      <td>0.215516</td>\n",
       "      <td>0.212212</td>\n",
       "      <td>True</td>\n",
       "    </tr>\n",
       "  </tbody>\n",
       "</table>\n",
       "</div>"
      ],
      "text/plain": [
       "                      loss  threshold  anomaly\n",
       "time_of_day_long                              \n",
       "69849.039         0.233853   0.212212     True\n",
       "69849.132         0.231251   0.212212     True\n",
       "69849.309         0.228353   0.212212     True\n",
       "69849.402         0.222998   0.212212     True\n",
       "69849.588         0.215516   0.212212     True"
      ]
     },
     "execution_count": 199,
     "metadata": {},
     "output_type": "execute_result"
    }
   ],
   "source": [
    "anomalies.tail()"
   ]
  }
 ],
 "metadata": {
  "kernelspec": {
   "display_name": "Python 3",
   "language": "python",
   "name": "python3"
  },
  "language_info": {
   "codemirror_mode": {
    "name": "ipython",
    "version": 3
   },
   "file_extension": ".py",
   "mimetype": "text/x-python",
   "name": "python",
   "nbconvert_exporter": "python",
   "pygments_lexer": "ipython3",
   "version": "3.8.3"
  }
 },
 "nbformat": 4,
 "nbformat_minor": 4
}
