{
 "cells": [
  {
   "cell_type": "code",
   "execution_count": 1,
   "metadata": {},
   "outputs": [],
   "source": [
    "import pandas as pd\n",
    "import matplotlib.pyplot as plt\n",
    "import numpy as np\n",
    "import math"
   ]
  },
  {
   "cell_type": "code",
   "execution_count": 2,
   "metadata": {},
   "outputs": [],
   "source": [
    "df = pd.read_csv('tele12.csv')  "
   ]
  },
  {
   "cell_type": "code",
   "execution_count": 3,
   "metadata": {},
   "outputs": [],
   "source": [
    "df.rename(columns={'Time Of Day':'time_of_day_long','Vehicle Speed': 'vehicle_speed', 'Engine Speed':'engine_speed','Throttle':'throttle','Lap Distance':'lap_distance'}, inplace=True)"
   ]
  },
  {
   "cell_type": "code",
   "execution_count": 4,
   "metadata": {},
   "outputs": [
    {
     "data": {
      "text/plain": [
       "Index(['command', 'No', 'time_of_day_long', 'lap_distance', 'vehicle_speed',\n",
       "       'engine_speed', 'Gear', 'Brake', 'throttle'],\n",
       "      dtype='object')"
      ]
     },
     "execution_count": 4,
     "metadata": {},
     "output_type": "execute_result"
    }
   ],
   "source": [
    "df.columns"
   ]
  },
  {
   "cell_type": "code",
   "execution_count": 5,
   "metadata": {},
   "outputs": [
    {
     "data": {
      "text/html": [
       "<div>\n",
       "<style scoped>\n",
       "    .dataframe tbody tr th:only-of-type {\n",
       "        vertical-align: middle;\n",
       "    }\n",
       "\n",
       "    .dataframe tbody tr th {\n",
       "        vertical-align: top;\n",
       "    }\n",
       "\n",
       "    .dataframe thead th {\n",
       "        text-align: right;\n",
       "    }\n",
       "</style>\n",
       "<table border=\"1\" class=\"dataframe\">\n",
       "  <thead>\n",
       "    <tr style=\"text-align: right;\">\n",
       "      <th></th>\n",
       "      <th>command</th>\n",
       "      <th>No</th>\n",
       "      <th>time_of_day_long</th>\n",
       "      <th>lap_distance</th>\n",
       "      <th>vehicle_speed</th>\n",
       "      <th>engine_speed</th>\n",
       "      <th>Gear</th>\n",
       "      <th>Brake</th>\n",
       "      <th>throttle</th>\n",
       "    </tr>\n",
       "  </thead>\n",
       "  <tbody>\n",
       "    <tr>\n",
       "      <th>0</th>\n",
       "      <td>$P</td>\n",
       "      <td>12</td>\n",
       "      <td>58680.453</td>\n",
       "      <td>0.17</td>\n",
       "      <td>57.36</td>\n",
       "      <td>3888</td>\n",
       "      <td>3</td>\n",
       "      <td>0</td>\n",
       "      <td>0.0</td>\n",
       "    </tr>\n",
       "    <tr>\n",
       "      <th>1</th>\n",
       "      <td>$P</td>\n",
       "      <td>12</td>\n",
       "      <td>58680.546</td>\n",
       "      <td>2.76</td>\n",
       "      <td>56.75</td>\n",
       "      <td>3943</td>\n",
       "      <td>3</td>\n",
       "      <td>0</td>\n",
       "      <td>2.5</td>\n",
       "    </tr>\n",
       "    <tr>\n",
       "      <th>2</th>\n",
       "      <td>$P</td>\n",
       "      <td>12</td>\n",
       "      <td>58680.630</td>\n",
       "      <td>5.35</td>\n",
       "      <td>57.53</td>\n",
       "      <td>3689</td>\n",
       "      <td>3</td>\n",
       "      <td>0</td>\n",
       "      <td>0.0</td>\n",
       "    </tr>\n",
       "    <tr>\n",
       "      <th>3</th>\n",
       "      <td>$P</td>\n",
       "      <td>12</td>\n",
       "      <td>58680.723</td>\n",
       "      <td>7.93</td>\n",
       "      <td>57.04</td>\n",
       "      <td>3976</td>\n",
       "      <td>3</td>\n",
       "      <td>0</td>\n",
       "      <td>0.0</td>\n",
       "    </tr>\n",
       "    <tr>\n",
       "      <th>4</th>\n",
       "      <td>$P</td>\n",
       "      <td>12</td>\n",
       "      <td>58680.816</td>\n",
       "      <td>10.44</td>\n",
       "      <td>58.16</td>\n",
       "      <td>3818</td>\n",
       "      <td>3</td>\n",
       "      <td>0</td>\n",
       "      <td>0.5</td>\n",
       "    </tr>\n",
       "    <tr>\n",
       "      <th>5</th>\n",
       "      <td>$P</td>\n",
       "      <td>12</td>\n",
       "      <td>58680.909</td>\n",
       "      <td>13.02</td>\n",
       "      <td>57.54</td>\n",
       "      <td>4186</td>\n",
       "      <td>3</td>\n",
       "      <td>0</td>\n",
       "      <td>1.5</td>\n",
       "    </tr>\n",
       "    <tr>\n",
       "      <th>6</th>\n",
       "      <td>$P</td>\n",
       "      <td>12</td>\n",
       "      <td>58681.071</td>\n",
       "      <td>15.70</td>\n",
       "      <td>58.47</td>\n",
       "      <td>3697</td>\n",
       "      <td>3</td>\n",
       "      <td>0</td>\n",
       "      <td>2.5</td>\n",
       "    </tr>\n",
       "    <tr>\n",
       "      <th>7</th>\n",
       "      <td>$P</td>\n",
       "      <td>12</td>\n",
       "      <td>58681.164</td>\n",
       "      <td>18.28</td>\n",
       "      <td>58.33</td>\n",
       "      <td>3914</td>\n",
       "      <td>3</td>\n",
       "      <td>0</td>\n",
       "      <td>2.0</td>\n",
       "    </tr>\n",
       "    <tr>\n",
       "      <th>8</th>\n",
       "      <td>$P</td>\n",
       "      <td>12</td>\n",
       "      <td>58681.252</td>\n",
       "      <td>20.87</td>\n",
       "      <td>58.26</td>\n",
       "      <td>4116</td>\n",
       "      <td>3</td>\n",
       "      <td>0</td>\n",
       "      <td>2.0</td>\n",
       "    </tr>\n",
       "    <tr>\n",
       "      <th>9</th>\n",
       "      <td>$P</td>\n",
       "      <td>12</td>\n",
       "      <td>58681.425</td>\n",
       "      <td>23.55</td>\n",
       "      <td>59.63</td>\n",
       "      <td>4241</td>\n",
       "      <td>3</td>\n",
       "      <td>0</td>\n",
       "      <td>2.0</td>\n",
       "    </tr>\n",
       "  </tbody>\n",
       "</table>\n",
       "</div>"
      ],
      "text/plain": [
       "  command  No  time_of_day_long  lap_distance  vehicle_speed  engine_speed  \\\n",
       "0      $P  12         58680.453          0.17          57.36          3888   \n",
       "1      $P  12         58680.546          2.76          56.75          3943   \n",
       "2      $P  12         58680.630          5.35          57.53          3689   \n",
       "3      $P  12         58680.723          7.93          57.04          3976   \n",
       "4      $P  12         58680.816         10.44          58.16          3818   \n",
       "5      $P  12         58680.909         13.02          57.54          4186   \n",
       "6      $P  12         58681.071         15.70          58.47          3697   \n",
       "7      $P  12         58681.164         18.28          58.33          3914   \n",
       "8      $P  12         58681.252         20.87          58.26          4116   \n",
       "9      $P  12         58681.425         23.55          59.63          4241   \n",
       "\n",
       "   Gear  Brake  throttle  \n",
       "0     3      0       0.0  \n",
       "1     3      0       2.5  \n",
       "2     3      0       0.0  \n",
       "3     3      0       0.0  \n",
       "4     3      0       0.5  \n",
       "5     3      0       1.5  \n",
       "6     3      0       2.5  \n",
       "7     3      0       2.0  \n",
       "8     3      0       2.0  \n",
       "9     3      0       2.0  "
      ]
     },
     "execution_count": 5,
     "metadata": {},
     "output_type": "execute_result"
    }
   ],
   "source": [
    "df.head(10)"
   ]
  },
  {
   "cell_type": "code",
   "execution_count": 6,
   "metadata": {},
   "outputs": [
    {
     "data": {
      "text/plain": [
       "array([3, 4, 5, 6, 2, 1, 0])"
      ]
     },
     "execution_count": 6,
     "metadata": {},
     "output_type": "execute_result"
    }
   ],
   "source": [
    "df.Gear.unique()"
   ]
  },
  {
   "cell_type": "code",
   "execution_count": 7,
   "metadata": {},
   "outputs": [
    {
     "data": {
      "text/html": [
       "<div>\n",
       "<style scoped>\n",
       "    .dataframe tbody tr th:only-of-type {\n",
       "        vertical-align: middle;\n",
       "    }\n",
       "\n",
       "    .dataframe tbody tr th {\n",
       "        vertical-align: top;\n",
       "    }\n",
       "\n",
       "    .dataframe thead th {\n",
       "        text-align: right;\n",
       "    }\n",
       "</style>\n",
       "<table border=\"1\" class=\"dataframe\">\n",
       "  <thead>\n",
       "    <tr style=\"text-align: right;\">\n",
       "      <th></th>\n",
       "      <th>No</th>\n",
       "      <th>time_of_day_long</th>\n",
       "      <th>lap_distance</th>\n",
       "      <th>vehicle_speed</th>\n",
       "      <th>engine_speed</th>\n",
       "      <th>Gear</th>\n",
       "      <th>Brake</th>\n",
       "      <th>throttle</th>\n",
       "    </tr>\n",
       "  </thead>\n",
       "  <tbody>\n",
       "    <tr>\n",
       "      <th>count</th>\n",
       "      <td>78883.0</td>\n",
       "      <td>78883.000000</td>\n",
       "      <td>78883.000000</td>\n",
       "      <td>78883.000000</td>\n",
       "      <td>78883.000000</td>\n",
       "      <td>78883.000000</td>\n",
       "      <td>78883.000000</td>\n",
       "      <td>78883.000000</td>\n",
       "    </tr>\n",
       "    <tr>\n",
       "      <th>mean</th>\n",
       "      <td>12.0</td>\n",
       "      <td>64480.748343</td>\n",
       "      <td>2051.093987</td>\n",
       "      <td>163.833161</td>\n",
       "      <td>8868.677827</td>\n",
       "      <td>4.979641</td>\n",
       "      <td>0.917942</td>\n",
       "      <td>59.195486</td>\n",
       "    </tr>\n",
       "    <tr>\n",
       "      <th>std</th>\n",
       "      <td>0.0</td>\n",
       "      <td>3262.566904</td>\n",
       "      <td>1240.536909</td>\n",
       "      <td>64.048194</td>\n",
       "      <td>3121.299107</td>\n",
       "      <td>1.286614</td>\n",
       "      <td>6.023655</td>\n",
       "      <td>50.056167</td>\n",
       "    </tr>\n",
       "    <tr>\n",
       "      <th>min</th>\n",
       "      <td>12.0</td>\n",
       "      <td>58680.453000</td>\n",
       "      <td>0.130000</td>\n",
       "      <td>0.190000</td>\n",
       "      <td>2401.000000</td>\n",
       "      <td>0.000000</td>\n",
       "      <td>0.000000</td>\n",
       "      <td>0.000000</td>\n",
       "    </tr>\n",
       "    <tr>\n",
       "      <th>25%</th>\n",
       "      <td>12.0</td>\n",
       "      <td>61674.687500</td>\n",
       "      <td>944.755000</td>\n",
       "      <td>95.340000</td>\n",
       "      <td>5284.000000</td>\n",
       "      <td>5.000000</td>\n",
       "      <td>0.000000</td>\n",
       "      <td>1.500000</td>\n",
       "    </tr>\n",
       "    <tr>\n",
       "      <th>50%</th>\n",
       "      <td>12.0</td>\n",
       "      <td>64606.147000</td>\n",
       "      <td>1945.190000</td>\n",
       "      <td>209.080000</td>\n",
       "      <td>11104.000000</td>\n",
       "      <td>5.000000</td>\n",
       "      <td>0.000000</td>\n",
       "      <td>66.000000</td>\n",
       "    </tr>\n",
       "    <tr>\n",
       "      <th>75%</th>\n",
       "      <td>12.0</td>\n",
       "      <td>67351.795000</td>\n",
       "      <td>3216.270000</td>\n",
       "      <td>220.315000</td>\n",
       "      <td>11527.000000</td>\n",
       "      <td>6.000000</td>\n",
       "      <td>0.000000</td>\n",
       "      <td>109.000000</td>\n",
       "    </tr>\n",
       "    <tr>\n",
       "      <th>max</th>\n",
       "      <td>12.0</td>\n",
       "      <td>69881.882000</td>\n",
       "      <td>4185.220000</td>\n",
       "      <td>237.700000</td>\n",
       "      <td>12500.000000</td>\n",
       "      <td>6.000000</td>\n",
       "      <td>100.000000</td>\n",
       "      <td>111.000000</td>\n",
       "    </tr>\n",
       "  </tbody>\n",
       "</table>\n",
       "</div>"
      ],
      "text/plain": [
       "            No  time_of_day_long  lap_distance  vehicle_speed  engine_speed  \\\n",
       "count  78883.0      78883.000000  78883.000000   78883.000000  78883.000000   \n",
       "mean      12.0      64480.748343   2051.093987     163.833161   8868.677827   \n",
       "std        0.0       3262.566904   1240.536909      64.048194   3121.299107   \n",
       "min       12.0      58680.453000      0.130000       0.190000   2401.000000   \n",
       "25%       12.0      61674.687500    944.755000      95.340000   5284.000000   \n",
       "50%       12.0      64606.147000   1945.190000     209.080000  11104.000000   \n",
       "75%       12.0      67351.795000   3216.270000     220.315000  11527.000000   \n",
       "max       12.0      69881.882000   4185.220000     237.700000  12500.000000   \n",
       "\n",
       "               Gear         Brake      throttle  \n",
       "count  78883.000000  78883.000000  78883.000000  \n",
       "mean       4.979641      0.917942     59.195486  \n",
       "std        1.286614      6.023655     50.056167  \n",
       "min        0.000000      0.000000      0.000000  \n",
       "25%        5.000000      0.000000      1.500000  \n",
       "50%        5.000000      0.000000     66.000000  \n",
       "75%        6.000000      0.000000    109.000000  \n",
       "max        6.000000    100.000000    111.000000  "
      ]
     },
     "execution_count": 7,
     "metadata": {},
     "output_type": "execute_result"
    }
   ],
   "source": [
    "df.describe()"
   ]
  },
  {
   "cell_type": "code",
   "execution_count": 8,
   "metadata": {},
   "outputs": [],
   "source": [
    "df.rename(columns={'Time Of Day':'time_of_day_long','Vehicle Speed': 'vehicle_speed', 'Engine Speed':'engine_speed','Throttle':'throttle','Lap Distance':'lap_distance'}, inplace=True)"
   ]
  },
  {
   "cell_type": "code",
   "execution_count": 9,
   "metadata": {},
   "outputs": [
    {
     "data": {
      "image/png": "[encoded data removed]",
      "text/plain": [
       "<Figure size 432x288 with 1 Axes>"
      ]
     },
     "metadata": {
      "needs_background": "light"
     },
     "output_type": "display_data"
    }
   ],
   "source": [
    "df.plot(x='time_of_day_long', y='engine_speed')\n",
    "plt.title(\"Engine speed\")\n",
    "plt.show()"
   ]
  },
  {
   "cell_type": "code",
   "execution_count": 10,
   "metadata": {},
   "outputs": [
    {
     "data": {
      "image/png": "[encoded data removed]",
      "text/plain": [
       "<Figure size 432x288 with 1 Axes>"
      ]
     },
     "metadata": {
      "needs_background": "light"
     },
     "output_type": "display_data"
    }
   ],
   "source": [
    "vehicle_speed = df['vehicle_speed'].values\n",
    "plt.plot(vehicle_speed)\n",
    "plt.title('vehicle speed')\n",
    "plt.show()"
   ]
  },
  {
   "cell_type": "code",
   "execution_count": 11,
   "metadata": {},
   "outputs": [
    {
     "data": {
      "image/png": "[encoded data removed]",
      "text/plain": [
       "<Figure size 432x288 with 1 Axes>"
      ]
     },
     "metadata": {
      "needs_background": "light"
     },
     "output_type": "display_data"
    }
   ],
   "source": [
    "B = df['Brake'].values\n",
    "plt.plot(B)\n",
    "plt.title('Brakes')\n",
    "plt.show()"
   ]
  },
  {
   "cell_type": "code",
   "execution_count": 12,
   "metadata": {},
   "outputs": [
    {
     "data": {
      "image/png": "[encoded data removed]",
      "text/plain": [
       "<Figure size 432x288 with 1 Axes>"
      ]
     },
     "metadata": {
      "needs_background": "light"
     },
     "output_type": "display_data"
    }
   ],
   "source": [
    "G = df['Gear'].values\n",
    "plt.plot(G)\n",
    "plt.title('Gear')\n",
    "plt.show()"
   ]
  },
  {
   "cell_type": "code",
   "execution_count": 13,
   "metadata": {},
   "outputs": [
    {
     "data": {
      "image/png": "[encoded data removed]",
      "text/plain": [
       "<Figure size 432x288 with 1 Axes>"
      ]
     },
     "metadata": {
      "needs_background": "light"
     },
     "output_type": "display_data"
    }
   ],
   "source": [
    "engine_speed = df['engine_speed'].values\n",
    "plt.plot(engine_speed)\n",
    "plt.title('Engine speed')\n",
    "plt.show()"
   ]
  },
  {
   "cell_type": "code",
   "execution_count": 14,
   "metadata": {},
   "outputs": [
    {
     "data": {
      "image/png": "[encoded data removed]",
      "text/plain": [
       "<Figure size 432x288 with 1 Axes>"
      ]
     },
     "metadata": {
      "needs_background": "light"
     },
     "output_type": "display_data"
    }
   ],
   "source": [
    "throttle = df['throttle'].values\n",
    "plt.plot(throttle)\n",
    "plt.title('throttle values')\n",
    "plt.show()"
   ]
  },
  {
   "cell_type": "code",
   "execution_count": 15,
   "metadata": {},
   "outputs": [
    {
     "data": {
      "image/png": "[encoded data removed]",
      "text/plain": [
       "<Figure size 432x288 with 1 Axes>"
      ]
     },
     "metadata": {
      "needs_background": "light"
     },
     "output_type": "display_data"
    }
   ],
   "source": [
    "plt.plot(throttle[60000:80000])\n",
    "plt.title('throttle values')\n",
    "plt.show()"
   ]
  },
  {
   "cell_type": "code",
   "execution_count": 16,
   "metadata": {},
   "outputs": [
    {
     "data": {
      "image/png": "[encoded data removed]",
      "text/plain": [
       "<Figure size 432x288 with 1 Axes>"
      ]
     },
     "metadata": {
      "needs_background": "light"
     },
     "output_type": "display_data"
    }
   ],
   "source": [
    "lap_distance = df['lap_distance'].values\n",
    "plt.plot(lap_distance)\n",
    "plt.title('Lap Distance')\n",
    "plt.show()"
   ]
  },
  {
   "cell_type": "code",
   "execution_count": 17,
   "metadata": {},
   "outputs": [
    {
     "data": {
      "image/png": "[encoded data removed]",
      "text/plain": [
       "<Figure size 432x288 with 1 Axes>"
      ]
     },
     "metadata": {
      "needs_background": "light"
     },
     "output_type": "display_data"
    }
   ],
   "source": [
    "plt.plot(lap_distance[12000:19000])\n",
    "plt.show()"
   ]
  },
  {
   "cell_type": "code",
   "execution_count": 18,
   "metadata": {},
   "outputs": [
    {
     "data": {
      "text/plain": [
       "0.8091731489279519"
      ]
     },
     "execution_count": 18,
     "metadata": {},
     "output_type": "execute_result"
    }
   ],
   "source": [
    "df['vehicle_speed'].corr(df['throttle'])"
   ]
  },
  {
   "cell_type": "code",
   "execution_count": 19,
   "metadata": {},
   "outputs": [
    {
     "data": {
      "text/plain": [
       "-0.009297179955362457"
      ]
     },
     "execution_count": 19,
     "metadata": {},
     "output_type": "execute_result"
    }
   ],
   "source": [
    "df['lap_distance'].corr(df['engine_speed'])"
   ]
  },
  {
   "cell_type": "code",
   "execution_count": 20,
   "metadata": {},
   "outputs": [
    {
     "data": {
      "text/plain": [
       "0.9560426533470695"
      ]
     },
     "execution_count": 20,
     "metadata": {},
     "output_type": "execute_result"
    }
   ],
   "source": [
    "df['engine_speed'].corr(df['vehicle_speed'])"
   ]
  },
  {
   "cell_type": "code",
   "execution_count": 21,
   "metadata": {},
   "outputs": [
    {
     "data": {
      "text/plain": [
       "0.058909539502658474"
      ]
     },
     "execution_count": 21,
     "metadata": {},
     "output_type": "execute_result"
    }
   ],
   "source": [
    "df['lap_distance'].corr(df['throttle'])"
   ]
  },
  {
   "cell_type": "code",
   "execution_count": 22,
   "metadata": {},
   "outputs": [
    {
     "data": {
      "text/plain": [
       "0          NaN\n",
       "1        0.093\n",
       "2        0.084\n",
       "3        0.093\n",
       "4        0.093\n",
       "         ...  \n",
       "78878    0.093\n",
       "78879    0.075\n",
       "78880    0.130\n",
       "78881    0.093\n",
       "78882    0.094\n",
       "Name: time_diff, Length: 78883, dtype: float64"
      ]
     },
     "execution_count": 22,
     "metadata": {},
     "output_type": "execute_result"
    }
   ],
   "source": [
    "df['time_diff'] = df['time_of_day_long'].diff(1)\n",
    "df['time_diff']"
   ]
  },
  {
   "cell_type": "code",
   "execution_count": 23,
   "metadata": {},
   "outputs": [
    {
     "data": {
      "text/plain": [
       "count    78882.000000\n",
       "mean         0.142002\n",
       "std          0.219962\n",
       "min          0.029000\n",
       "25%          0.093000\n",
       "50%          0.093000\n",
       "75%          0.177000\n",
       "max         47.371000\n",
       "Name: time_diff, dtype: float64"
      ]
     },
     "execution_count": 23,
     "metadata": {},
     "output_type": "execute_result"
    }
   ],
   "source": [
    "dt=df['time_diff']\n",
    "dt.describe()"
   ]
  },
  {
   "cell_type": "code",
   "execution_count": 24,
   "metadata": {},
   "outputs": [
    {
     "data": {
      "text/html": [
       "<div>\n",
       "<style scoped>\n",
       "    .dataframe tbody tr th:only-of-type {\n",
       "        vertical-align: middle;\n",
       "    }\n",
       "\n",
       "    .dataframe tbody tr th {\n",
       "        vertical-align: top;\n",
       "    }\n",
       "\n",
       "    .dataframe thead th {\n",
       "        text-align: right;\n",
       "    }\n",
       "</style>\n",
       "<table border=\"1\" class=\"dataframe\">\n",
       "  <thead>\n",
       "    <tr style=\"text-align: right;\">\n",
       "      <th></th>\n",
       "      <th>command</th>\n",
       "      <th>No</th>\n",
       "      <th>time_of_day_long</th>\n",
       "      <th>lap_distance</th>\n",
       "      <th>vehicle_speed</th>\n",
       "      <th>engine_speed</th>\n",
       "      <th>Gear</th>\n",
       "      <th>Brake</th>\n",
       "      <th>throttle</th>\n",
       "      <th>time_diff</th>\n",
       "    </tr>\n",
       "  </thead>\n",
       "  <tbody>\n",
       "    <tr>\n",
       "      <th>12712</th>\n",
       "      <td>$P</td>\n",
       "      <td>12</td>\n",
       "      <td>60612.154</td>\n",
       "      <td>918.0</td>\n",
       "      <td>217.19</td>\n",
       "      <td>11402</td>\n",
       "      <td>5</td>\n",
       "      <td>0</td>\n",
       "      <td>109.0</td>\n",
       "      <td>47.371</td>\n",
       "    </tr>\n",
       "  </tbody>\n",
       "</table>\n",
       "</div>"
      ],
      "text/plain": [
       "      command  No  time_of_day_long  lap_distance  vehicle_speed  \\\n",
       "12712      $P  12         60612.154         918.0         217.19   \n",
       "\n",
       "       engine_speed  Gear  Brake  throttle  time_diff  \n",
       "12712         11402     5      0     109.0     47.371  "
      ]
     },
     "execution_count": 24,
     "metadata": {},
     "output_type": "execute_result"
    }
   ],
   "source": [
    "df[df['time_diff'] >40]"
   ]
  },
  {
   "cell_type": "code",
   "execution_count": 25,
   "metadata": {},
   "outputs": [],
   "source": [
    "df=df.drop(['command','No','time_diff'], axis = 1)"
   ]
  },
  {
   "cell_type": "code",
   "execution_count": 26,
   "metadata": {},
   "outputs": [],
   "source": [
    "df = df.set_index('time_of_day_long') "
   ]
  },
  {
   "cell_type": "code",
   "execution_count": 27,
   "metadata": {},
   "outputs": [
    {
     "data": {
      "text/html": [
       "<div>\n",
       "<style scoped>\n",
       "    .dataframe tbody tr th:only-of-type {\n",
       "        vertical-align: middle;\n",
       "    }\n",
       "\n",
       "    .dataframe tbody tr th {\n",
       "        vertical-align: top;\n",
       "    }\n",
       "\n",
       "    .dataframe thead th {\n",
       "        text-align: right;\n",
       "    }\n",
       "</style>\n",
       "<table border=\"1\" class=\"dataframe\">\n",
       "  <thead>\n",
       "    <tr style=\"text-align: right;\">\n",
       "      <th></th>\n",
       "      <th>lap_distance</th>\n",
       "      <th>vehicle_speed</th>\n",
       "      <th>engine_speed</th>\n",
       "      <th>Gear</th>\n",
       "      <th>Brake</th>\n",
       "      <th>throttle</th>\n",
       "    </tr>\n",
       "    <tr>\n",
       "      <th>time_of_day_long</th>\n",
       "      <th></th>\n",
       "      <th></th>\n",
       "      <th></th>\n",
       "      <th></th>\n",
       "      <th></th>\n",
       "      <th></th>\n",
       "    </tr>\n",
       "  </thead>\n",
       "  <tbody>\n",
       "    <tr>\n",
       "      <th>58680.453</th>\n",
       "      <td>0.17</td>\n",
       "      <td>57.36</td>\n",
       "      <td>3888</td>\n",
       "      <td>3</td>\n",
       "      <td>0</td>\n",
       "      <td>0.0</td>\n",
       "    </tr>\n",
       "    <tr>\n",
       "      <th>58680.546</th>\n",
       "      <td>2.76</td>\n",
       "      <td>56.75</td>\n",
       "      <td>3943</td>\n",
       "      <td>3</td>\n",
       "      <td>0</td>\n",
       "      <td>2.5</td>\n",
       "    </tr>\n",
       "    <tr>\n",
       "      <th>58680.630</th>\n",
       "      <td>5.35</td>\n",
       "      <td>57.53</td>\n",
       "      <td>3689</td>\n",
       "      <td>3</td>\n",
       "      <td>0</td>\n",
       "      <td>0.0</td>\n",
       "    </tr>\n",
       "    <tr>\n",
       "      <th>58680.723</th>\n",
       "      <td>7.93</td>\n",
       "      <td>57.04</td>\n",
       "      <td>3976</td>\n",
       "      <td>3</td>\n",
       "      <td>0</td>\n",
       "      <td>0.0</td>\n",
       "    </tr>\n",
       "    <tr>\n",
       "      <th>58680.816</th>\n",
       "      <td>10.44</td>\n",
       "      <td>58.16</td>\n",
       "      <td>3818</td>\n",
       "      <td>3</td>\n",
       "      <td>0</td>\n",
       "      <td>0.5</td>\n",
       "    </tr>\n",
       "  </tbody>\n",
       "</table>\n",
       "</div>"
      ],
      "text/plain": [
       "                  lap_distance  vehicle_speed  engine_speed  Gear  Brake  \\\n",
       "time_of_day_long                                                           \n",
       "58680.453                 0.17          57.36          3888     3      0   \n",
       "58680.546                 2.76          56.75          3943     3      0   \n",
       "58680.630                 5.35          57.53          3689     3      0   \n",
       "58680.723                 7.93          57.04          3976     3      0   \n",
       "58680.816                10.44          58.16          3818     3      0   \n",
       "\n",
       "                  throttle  \n",
       "time_of_day_long            \n",
       "58680.453              0.0  \n",
       "58680.546              2.5  \n",
       "58680.630              0.0  \n",
       "58680.723              0.0  \n",
       "58680.816              0.5  "
      ]
     },
     "execution_count": 27,
     "metadata": {},
     "output_type": "execute_result"
    }
   ],
   "source": [
    "df.head(5)"
   ]
  },
  {
   "cell_type": "code",
   "execution_count": 28,
   "metadata": {},
   "outputs": [],
   "source": [
    "df_gear = pd.get_dummies(df.Gear, prefix='Gear')"
   ]
  },
  {
   "cell_type": "code",
   "execution_count": 29,
   "metadata": {},
   "outputs": [
    {
     "data": {
      "text/html": [
       "<div>\n",
       "<style scoped>\n",
       "    .dataframe tbody tr th:only-of-type {\n",
       "        vertical-align: middle;\n",
       "    }\n",
       "\n",
       "    .dataframe tbody tr th {\n",
       "        vertical-align: top;\n",
       "    }\n",
       "\n",
       "    .dataframe thead th {\n",
       "        text-align: right;\n",
       "    }\n",
       "</style>\n",
       "<table border=\"1\" class=\"dataframe\">\n",
       "  <thead>\n",
       "    <tr style=\"text-align: right;\">\n",
       "      <th></th>\n",
       "      <th>Gear_0</th>\n",
       "      <th>Gear_1</th>\n",
       "      <th>Gear_2</th>\n",
       "      <th>Gear_3</th>\n",
       "      <th>Gear_4</th>\n",
       "      <th>Gear_5</th>\n",
       "      <th>Gear_6</th>\n",
       "    </tr>\n",
       "    <tr>\n",
       "      <th>time_of_day_long</th>\n",
       "      <th></th>\n",
       "      <th></th>\n",
       "      <th></th>\n",
       "      <th></th>\n",
       "      <th></th>\n",
       "      <th></th>\n",
       "      <th></th>\n",
       "    </tr>\n",
       "  </thead>\n",
       "  <tbody>\n",
       "    <tr>\n",
       "      <th>58680.453</th>\n",
       "      <td>0</td>\n",
       "      <td>0</td>\n",
       "      <td>0</td>\n",
       "      <td>1</td>\n",
       "      <td>0</td>\n",
       "      <td>0</td>\n",
       "      <td>0</td>\n",
       "    </tr>\n",
       "    <tr>\n",
       "      <th>58680.546</th>\n",
       "      <td>0</td>\n",
       "      <td>0</td>\n",
       "      <td>0</td>\n",
       "      <td>1</td>\n",
       "      <td>0</td>\n",
       "      <td>0</td>\n",
       "      <td>0</td>\n",
       "    </tr>\n",
       "    <tr>\n",
       "      <th>58680.630</th>\n",
       "      <td>0</td>\n",
       "      <td>0</td>\n",
       "      <td>0</td>\n",
       "      <td>1</td>\n",
       "      <td>0</td>\n",
       "      <td>0</td>\n",
       "      <td>0</td>\n",
       "    </tr>\n",
       "    <tr>\n",
       "      <th>58680.723</th>\n",
       "      <td>0</td>\n",
       "      <td>0</td>\n",
       "      <td>0</td>\n",
       "      <td>1</td>\n",
       "      <td>0</td>\n",
       "      <td>0</td>\n",
       "      <td>0</td>\n",
       "    </tr>\n",
       "    <tr>\n",
       "      <th>58680.816</th>\n",
       "      <td>0</td>\n",
       "      <td>0</td>\n",
       "      <td>0</td>\n",
       "      <td>1</td>\n",
       "      <td>0</td>\n",
       "      <td>0</td>\n",
       "      <td>0</td>\n",
       "    </tr>\n",
       "  </tbody>\n",
       "</table>\n",
       "</div>"
      ],
      "text/plain": [
       "                  Gear_0  Gear_1  Gear_2  Gear_3  Gear_4  Gear_5  Gear_6\n",
       "time_of_day_long                                                        \n",
       "58680.453              0       0       0       1       0       0       0\n",
       "58680.546              0       0       0       1       0       0       0\n",
       "58680.630              0       0       0       1       0       0       0\n",
       "58680.723              0       0       0       1       0       0       0\n",
       "58680.816              0       0       0       1       0       0       0"
      ]
     },
     "execution_count": 29,
     "metadata": {},
     "output_type": "execute_result"
    }
   ],
   "source": [
    "df_gear.head(5)"
   ]
  },
  {
   "cell_type": "code",
   "execution_count": 30,
   "metadata": {},
   "outputs": [
    {
     "data": {
      "text/html": [
       "<div>\n",
       "<style scoped>\n",
       "    .dataframe tbody tr th:only-of-type {\n",
       "        vertical-align: middle;\n",
       "    }\n",
       "\n",
       "    .dataframe tbody tr th {\n",
       "        vertical-align: top;\n",
       "    }\n",
       "\n",
       "    .dataframe thead th {\n",
       "        text-align: right;\n",
       "    }\n",
       "</style>\n",
       "<table border=\"1\" class=\"dataframe\">\n",
       "  <thead>\n",
       "    <tr style=\"text-align: right;\">\n",
       "      <th></th>\n",
       "      <th>lap_distance</th>\n",
       "      <th>vehicle_speed</th>\n",
       "      <th>engine_speed</th>\n",
       "      <th>Gear</th>\n",
       "      <th>Brake</th>\n",
       "      <th>throttle</th>\n",
       "    </tr>\n",
       "    <tr>\n",
       "      <th>time_of_day_long</th>\n",
       "      <th></th>\n",
       "      <th></th>\n",
       "      <th></th>\n",
       "      <th></th>\n",
       "      <th></th>\n",
       "      <th></th>\n",
       "    </tr>\n",
       "  </thead>\n",
       "  <tbody>\n",
       "    <tr>\n",
       "      <th>58680.453</th>\n",
       "      <td>0.17</td>\n",
       "      <td>57.36</td>\n",
       "      <td>3888</td>\n",
       "      <td>3</td>\n",
       "      <td>0</td>\n",
       "      <td>0.0</td>\n",
       "    </tr>\n",
       "    <tr>\n",
       "      <th>58680.546</th>\n",
       "      <td>2.76</td>\n",
       "      <td>56.75</td>\n",
       "      <td>3943</td>\n",
       "      <td>3</td>\n",
       "      <td>0</td>\n",
       "      <td>2.5</td>\n",
       "    </tr>\n",
       "    <tr>\n",
       "      <th>58680.630</th>\n",
       "      <td>5.35</td>\n",
       "      <td>57.53</td>\n",
       "      <td>3689</td>\n",
       "      <td>3</td>\n",
       "      <td>0</td>\n",
       "      <td>0.0</td>\n",
       "    </tr>\n",
       "    <tr>\n",
       "      <th>58680.723</th>\n",
       "      <td>7.93</td>\n",
       "      <td>57.04</td>\n",
       "      <td>3976</td>\n",
       "      <td>3</td>\n",
       "      <td>0</td>\n",
       "      <td>0.0</td>\n",
       "    </tr>\n",
       "    <tr>\n",
       "      <th>58680.816</th>\n",
       "      <td>10.44</td>\n",
       "      <td>58.16</td>\n",
       "      <td>3818</td>\n",
       "      <td>3</td>\n",
       "      <td>0</td>\n",
       "      <td>0.5</td>\n",
       "    </tr>\n",
       "  </tbody>\n",
       "</table>\n",
       "</div>"
      ],
      "text/plain": [
       "                  lap_distance  vehicle_speed  engine_speed  Gear  Brake  \\\n",
       "time_of_day_long                                                           \n",
       "58680.453                 0.17          57.36          3888     3      0   \n",
       "58680.546                 2.76          56.75          3943     3      0   \n",
       "58680.630                 5.35          57.53          3689     3      0   \n",
       "58680.723                 7.93          57.04          3976     3      0   \n",
       "58680.816                10.44          58.16          3818     3      0   \n",
       "\n",
       "                  throttle  \n",
       "time_of_day_long            \n",
       "58680.453              0.0  \n",
       "58680.546              2.5  \n",
       "58680.630              0.0  \n",
       "58680.723              0.0  \n",
       "58680.816              0.5  "
      ]
     },
     "execution_count": 30,
     "metadata": {},
     "output_type": "execute_result"
    }
   ],
   "source": [
    "df.head(5)"
   ]
  },
  {
   "cell_type": "code",
   "execution_count": 31,
   "metadata": {},
   "outputs": [],
   "source": [
    "df = df.drop('Gear',axis = 1)"
   ]
  },
  {
   "cell_type": "code",
   "execution_count": 32,
   "metadata": {},
   "outputs": [],
   "source": [
    "df=df.join(df_gear)"
   ]
  },
  {
   "cell_type": "code",
   "execution_count": 33,
   "metadata": {},
   "outputs": [
    {
     "data": {
      "text/html": [
       "<div>\n",
       "<style scoped>\n",
       "    .dataframe tbody tr th:only-of-type {\n",
       "        vertical-align: middle;\n",
       "    }\n",
       "\n",
       "    .dataframe tbody tr th {\n",
       "        vertical-align: top;\n",
       "    }\n",
       "\n",
       "    .dataframe thead th {\n",
       "        text-align: right;\n",
       "    }\n",
       "</style>\n",
       "<table border=\"1\" class=\"dataframe\">\n",
       "  <thead>\n",
       "    <tr style=\"text-align: right;\">\n",
       "      <th></th>\n",
       "      <th>lap_distance</th>\n",
       "      <th>vehicle_speed</th>\n",
       "      <th>engine_speed</th>\n",
       "      <th>Brake</th>\n",
       "      <th>throttle</th>\n",
       "      <th>Gear_0</th>\n",
       "      <th>Gear_1</th>\n",
       "      <th>Gear_2</th>\n",
       "      <th>Gear_3</th>\n",
       "      <th>Gear_4</th>\n",
       "      <th>Gear_5</th>\n",
       "      <th>Gear_6</th>\n",
       "    </tr>\n",
       "    <tr>\n",
       "      <th>time_of_day_long</th>\n",
       "      <th></th>\n",
       "      <th></th>\n",
       "      <th></th>\n",
       "      <th></th>\n",
       "      <th></th>\n",
       "      <th></th>\n",
       "      <th></th>\n",
       "      <th></th>\n",
       "      <th></th>\n",
       "      <th></th>\n",
       "      <th></th>\n",
       "      <th></th>\n",
       "    </tr>\n",
       "  </thead>\n",
       "  <tbody>\n",
       "    <tr>\n",
       "      <th>58680.453</th>\n",
       "      <td>0.17</td>\n",
       "      <td>57.36</td>\n",
       "      <td>3888</td>\n",
       "      <td>0</td>\n",
       "      <td>0.0</td>\n",
       "      <td>0</td>\n",
       "      <td>0</td>\n",
       "      <td>0</td>\n",
       "      <td>1</td>\n",
       "      <td>0</td>\n",
       "      <td>0</td>\n",
       "      <td>0</td>\n",
       "    </tr>\n",
       "    <tr>\n",
       "      <th>58680.546</th>\n",
       "      <td>2.76</td>\n",
       "      <td>56.75</td>\n",
       "      <td>3943</td>\n",
       "      <td>0</td>\n",
       "      <td>2.5</td>\n",
       "      <td>0</td>\n",
       "      <td>0</td>\n",
       "      <td>0</td>\n",
       "      <td>1</td>\n",
       "      <td>0</td>\n",
       "      <td>0</td>\n",
       "      <td>0</td>\n",
       "    </tr>\n",
       "    <tr>\n",
       "      <th>58680.630</th>\n",
       "      <td>5.35</td>\n",
       "      <td>57.53</td>\n",
       "      <td>3689</td>\n",
       "      <td>0</td>\n",
       "      <td>0.0</td>\n",
       "      <td>0</td>\n",
       "      <td>0</td>\n",
       "      <td>0</td>\n",
       "      <td>1</td>\n",
       "      <td>0</td>\n",
       "      <td>0</td>\n",
       "      <td>0</td>\n",
       "    </tr>\n",
       "    <tr>\n",
       "      <th>58680.723</th>\n",
       "      <td>7.93</td>\n",
       "      <td>57.04</td>\n",
       "      <td>3976</td>\n",
       "      <td>0</td>\n",
       "      <td>0.0</td>\n",
       "      <td>0</td>\n",
       "      <td>0</td>\n",
       "      <td>0</td>\n",
       "      <td>1</td>\n",
       "      <td>0</td>\n",
       "      <td>0</td>\n",
       "      <td>0</td>\n",
       "    </tr>\n",
       "    <tr>\n",
       "      <th>58680.816</th>\n",
       "      <td>10.44</td>\n",
       "      <td>58.16</td>\n",
       "      <td>3818</td>\n",
       "      <td>0</td>\n",
       "      <td>0.5</td>\n",
       "      <td>0</td>\n",
       "      <td>0</td>\n",
       "      <td>0</td>\n",
       "      <td>1</td>\n",
       "      <td>0</td>\n",
       "      <td>0</td>\n",
       "      <td>0</td>\n",
       "    </tr>\n",
       "  </tbody>\n",
       "</table>\n",
       "</div>"
      ],
      "text/plain": [
       "                  lap_distance  vehicle_speed  engine_speed  Brake  throttle  \\\n",
       "time_of_day_long                                                               \n",
       "58680.453                 0.17          57.36          3888      0       0.0   \n",
       "58680.546                 2.76          56.75          3943      0       2.5   \n",
       "58680.630                 5.35          57.53          3689      0       0.0   \n",
       "58680.723                 7.93          57.04          3976      0       0.0   \n",
       "58680.816                10.44          58.16          3818      0       0.5   \n",
       "\n",
       "                  Gear_0  Gear_1  Gear_2  Gear_3  Gear_4  Gear_5  Gear_6  \n",
       "time_of_day_long                                                          \n",
       "58680.453              0       0       0       1       0       0       0  \n",
       "58680.546              0       0       0       1       0       0       0  \n",
       "58680.630              0       0       0       1       0       0       0  \n",
       "58680.723              0       0       0       1       0       0       0  \n",
       "58680.816              0       0       0       1       0       0       0  "
      ]
     },
     "execution_count": 33,
     "metadata": {},
     "output_type": "execute_result"
    }
   ],
   "source": [
    "df.head(5)"
   ]
  },
  {
   "cell_type": "code",
   "execution_count": 34,
   "metadata": {},
   "outputs": [
    {
     "name": "stdout",
     "output_type": "stream",
     "text": [
      "(74938, 12) (3945, 12)\n"
     ]
    }
   ],
   "source": [
    "train_size = int(len(df) * 0.95)\n",
    "test_size = len(df) - train_size\n",
    "X_train,X_test = df.iloc[0:train_size], df.iloc[train_size:len(df)]\n",
    "print(X_train.shape,X_test.shape)"
   ]
  },
  {
   "cell_type": "code",
   "execution_count": 35,
   "metadata": {},
   "outputs": [],
   "source": [
    "X_train_df=X_train\n",
    "X_test_df=X_test"
   ]
  },
  {
   "cell_type": "code",
   "execution_count": 36,
   "metadata": {},
   "outputs": [
    {
     "name": "stdout",
     "output_type": "stream",
     "text": [
      "(74938, 12)\n",
      "(3945, 12)\n"
     ]
    }
   ],
   "source": [
    "print(X_train.shape)\n",
    "print(X_test.shape)"
   ]
  },
  {
   "cell_type": "code",
   "execution_count": 37,
   "metadata": {},
   "outputs": [
    {
     "data": {
      "text/plain": [
       "(74938, 12)"
      ]
     },
     "execution_count": 37,
     "metadata": {},
     "output_type": "execute_result"
    }
   ],
   "source": [
    "X_train.shape"
   ]
  },
  {
   "cell_type": "code",
   "execution_count": 38,
   "metadata": {},
   "outputs": [
    {
     "data": {
      "text/plain": [
       "(3945, 12)"
      ]
     },
     "execution_count": 38,
     "metadata": {},
     "output_type": "execute_result"
    }
   ],
   "source": [
    "X_test.shape"
   ]
  },
  {
   "cell_type": "code",
   "execution_count": 39,
   "metadata": {},
   "outputs": [],
   "source": [
    "def create_dataset(X, y, time_steps=1):\n",
    "    Xs, ys = [], []\n",
    "    for i in range(len(X) - time_steps):\n",
    "        v = X.iloc[i:(i + time_steps)].values\n",
    "        Xs.append(v)        \n",
    "        ys.append(y.iloc[i + time_steps])\n",
    "    return np.array(Xs), np.array(ys)"
   ]
  },
  {
   "cell_type": "code",
   "execution_count": 40,
   "metadata": {},
   "outputs": [],
   "source": [
    "X_train=X_train.apply(lambda x: x / np.max(x), axis=0)\n",
    "X_test=X_test.apply(lambda x: x / np.max(x), axis=0)"
   ]
  },
  {
   "cell_type": "code",
   "execution_count": 41,
   "metadata": {},
   "outputs": [
    {
     "data": {
      "text/html": [
       "<div>\n",
       "<style scoped>\n",
       "    .dataframe tbody tr th:only-of-type {\n",
       "        vertical-align: middle;\n",
       "    }\n",
       "\n",
       "    .dataframe tbody tr th {\n",
       "        vertical-align: top;\n",
       "    }\n",
       "\n",
       "    .dataframe thead th {\n",
       "        text-align: right;\n",
       "    }\n",
       "</style>\n",
       "<table border=\"1\" class=\"dataframe\">\n",
       "  <thead>\n",
       "    <tr style=\"text-align: right;\">\n",
       "      <th></th>\n",
       "      <th>lap_distance</th>\n",
       "      <th>vehicle_speed</th>\n",
       "      <th>engine_speed</th>\n",
       "      <th>Brake</th>\n",
       "      <th>throttle</th>\n",
       "      <th>Gear_0</th>\n",
       "      <th>Gear_1</th>\n",
       "      <th>Gear_2</th>\n",
       "      <th>Gear_3</th>\n",
       "      <th>Gear_4</th>\n",
       "      <th>Gear_5</th>\n",
       "      <th>Gear_6</th>\n",
       "    </tr>\n",
       "    <tr>\n",
       "      <th>time_of_day_long</th>\n",
       "      <th></th>\n",
       "      <th></th>\n",
       "      <th></th>\n",
       "      <th></th>\n",
       "      <th></th>\n",
       "      <th></th>\n",
       "      <th></th>\n",
       "      <th></th>\n",
       "      <th></th>\n",
       "      <th></th>\n",
       "      <th></th>\n",
       "      <th></th>\n",
       "    </tr>\n",
       "  </thead>\n",
       "  <tbody>\n",
       "    <tr>\n",
       "      <th>58680.453</th>\n",
       "      <td>0.000041</td>\n",
       "      <td>0.242240</td>\n",
       "      <td>0.31104</td>\n",
       "      <td>0.0</td>\n",
       "      <td>0.000000</td>\n",
       "      <td>0.0</td>\n",
       "      <td>0.0</td>\n",
       "      <td>0.0</td>\n",
       "      <td>1.0</td>\n",
       "      <td>0.0</td>\n",
       "      <td>0.0</td>\n",
       "      <td>0.0</td>\n",
       "    </tr>\n",
       "    <tr>\n",
       "      <th>58680.546</th>\n",
       "      <td>0.000659</td>\n",
       "      <td>0.239664</td>\n",
       "      <td>0.31544</td>\n",
       "      <td>0.0</td>\n",
       "      <td>0.022523</td>\n",
       "      <td>0.0</td>\n",
       "      <td>0.0</td>\n",
       "      <td>0.0</td>\n",
       "      <td>1.0</td>\n",
       "      <td>0.0</td>\n",
       "      <td>0.0</td>\n",
       "      <td>0.0</td>\n",
       "    </tr>\n",
       "    <tr>\n",
       "      <th>58680.630</th>\n",
       "      <td>0.001278</td>\n",
       "      <td>0.242958</td>\n",
       "      <td>0.29512</td>\n",
       "      <td>0.0</td>\n",
       "      <td>0.000000</td>\n",
       "      <td>0.0</td>\n",
       "      <td>0.0</td>\n",
       "      <td>0.0</td>\n",
       "      <td>1.0</td>\n",
       "      <td>0.0</td>\n",
       "      <td>0.0</td>\n",
       "      <td>0.0</td>\n",
       "    </tr>\n",
       "    <tr>\n",
       "      <th>58680.723</th>\n",
       "      <td>0.001895</td>\n",
       "      <td>0.240889</td>\n",
       "      <td>0.31808</td>\n",
       "      <td>0.0</td>\n",
       "      <td>0.000000</td>\n",
       "      <td>0.0</td>\n",
       "      <td>0.0</td>\n",
       "      <td>0.0</td>\n",
       "      <td>1.0</td>\n",
       "      <td>0.0</td>\n",
       "      <td>0.0</td>\n",
       "      <td>0.0</td>\n",
       "    </tr>\n",
       "    <tr>\n",
       "      <th>58680.816</th>\n",
       "      <td>0.002494</td>\n",
       "      <td>0.245618</td>\n",
       "      <td>0.30544</td>\n",
       "      <td>0.0</td>\n",
       "      <td>0.004505</td>\n",
       "      <td>0.0</td>\n",
       "      <td>0.0</td>\n",
       "      <td>0.0</td>\n",
       "      <td>1.0</td>\n",
       "      <td>0.0</td>\n",
       "      <td>0.0</td>\n",
       "      <td>0.0</td>\n",
       "    </tr>\n",
       "  </tbody>\n",
       "</table>\n",
       "</div>"
      ],
      "text/plain": [
       "                  lap_distance  vehicle_speed  engine_speed  Brake  throttle  \\\n",
       "time_of_day_long                                                               \n",
       "58680.453             0.000041       0.242240       0.31104    0.0  0.000000   \n",
       "58680.546             0.000659       0.239664       0.31544    0.0  0.022523   \n",
       "58680.630             0.001278       0.242958       0.29512    0.0  0.000000   \n",
       "58680.723             0.001895       0.240889       0.31808    0.0  0.000000   \n",
       "58680.816             0.002494       0.245618       0.30544    0.0  0.004505   \n",
       "\n",
       "                  Gear_0  Gear_1  Gear_2  Gear_3  Gear_4  Gear_5  Gear_6  \n",
       "time_of_day_long                                                          \n",
       "58680.453            0.0     0.0     0.0     1.0     0.0     0.0     0.0  \n",
       "58680.546            0.0     0.0     0.0     1.0     0.0     0.0     0.0  \n",
       "58680.630            0.0     0.0     0.0     1.0     0.0     0.0     0.0  \n",
       "58680.723            0.0     0.0     0.0     1.0     0.0     0.0     0.0  \n",
       "58680.816            0.0     0.0     0.0     1.0     0.0     0.0     0.0  "
      ]
     },
     "execution_count": 41,
     "metadata": {},
     "output_type": "execute_result"
    }
   ],
   "source": [
    "X_train.head(5)"
   ]
  },
  {
   "cell_type": "code",
   "execution_count": 42,
   "metadata": {},
   "outputs": [
    {
     "name": "stdout",
     "output_type": "stream",
     "text": [
      "(74908, 30, 12)\n"
     ]
    }
   ],
   "source": [
    "TIME_STEPS = 30\n",
    "\n",
    "# reshape to [samples, time_steps, n_features]\n",
    "\n",
    "X_train, y_train = create_dataset(X_train,X_train, TIME_STEPS)\n",
    "X_test, y_test = create_dataset(X_test,X_test, TIME_STEPS)\n",
    "\n",
    "print(X_train.shape)"
   ]
  },
  {
   "cell_type": "code",
   "execution_count": 43,
   "metadata": {},
   "outputs": [
    {
     "name": "stdout",
     "output_type": "stream",
     "text": [
      "(74908, 30, 12)\n",
      "(3915, 30, 12)\n"
     ]
    }
   ],
   "source": [
    "print(X_train.shape)\n",
    "print(X_test.shape)"
   ]
  },
  {
   "cell_type": "code",
   "execution_count": 44,
   "metadata": {},
   "outputs": [],
   "source": [
    "from tensorflow import keras\n",
    "from sklearn.preprocessing import MinMaxScaler\n",
    "from tensorflow.keras.models import Sequential\n",
    "from sklearn.metrics import mean_squared_error\n",
    "from tensorflow.keras.layers import Dense, LSTM, Dropout, RepeatVector, TimeDistributed"
   ]
  },
  {
   "cell_type": "code",
   "execution_count": 45,
   "metadata": {},
   "outputs": [],
   "source": [
    "model = keras.Sequential()\n",
    "model.add(keras.layers.LSTM(units=128,input_shape=(30,12)))\n",
    "model.add(keras.layers.Dropout(rate=0.2))\n",
    "model.add(keras.layers.RepeatVector(n=30))\n",
    "model.add(keras.layers.LSTM(units=128, return_sequences=True))\n",
    "model.add(keras.layers.Dropout(rate=0.2))\n",
    "model.add(keras.layers.TimeDistributed(keras.layers.Dense(units=12)))\n",
    "model.compile(loss='mae', optimizer='adam')"
   ]
  },
  {
   "cell_type": "code",
   "execution_count": 46,
   "metadata": {},
   "outputs": [
    {
     "name": "stdout",
     "output_type": "stream",
     "text": [
      "Model: \"sequential\"\n",
      "_________________________________________________________________\n",
      "Layer (type)                 Output Shape              Param #   \n",
      "=================================================================\n",
      "lstm (LSTM)                  (None, 128)               72192     \n",
      "_________________________________________________________________\n",
      "dropout (Dropout)            (None, 128)               0         \n",
      "_________________________________________________________________\n",
      "repeat_vector (RepeatVector) (None, 30, 128)           0         \n",
      "_________________________________________________________________\n",
      "lstm_1 (LSTM)                (None, 30, 128)           131584    \n",
      "_________________________________________________________________\n",
      "dropout_1 (Dropout)          (None, 30, 128)           0         \n",
      "_________________________________________________________________\n",
      "time_distributed (TimeDistri (None, 30, 12)            1548      \n",
      "=================================================================\n",
      "Total params: 205,324\n",
      "Trainable params: 205,324\n",
      "Non-trainable params: 0\n",
      "_________________________________________________________________\n"
     ]
    }
   ],
   "source": [
    "model.summary()"
   ]
  },
  {
   "cell_type": "code",
   "execution_count": 47,
   "metadata": {},
   "outputs": [
    {
     "name": "stdout",
     "output_type": "stream",
     "text": [
      "Epoch 1/1000\n",
      "132/132 [==============================] - 23s 172ms/step - loss: 0.1273 - val_loss: 0.0895\n",
      "Epoch 2/1000\n",
      "132/132 [==============================] - 22s 166ms/step - loss: 0.0930 - val_loss: 0.0668\n",
      "Epoch 3/1000\n",
      "132/132 [==============================] - 22s 165ms/step - loss: 0.0820 - val_loss: 0.0700\n",
      "Epoch 4/1000\n",
      "132/132 [==============================] - 22s 165ms/step - loss: 0.0694 - val_loss: 0.0624\n",
      "Epoch 5/1000\n",
      "132/132 [==============================] - 22s 166ms/step - loss: 0.0701 - val_loss: 0.0630\n",
      "Epoch 6/1000\n",
      "132/132 [==============================] - 22s 166ms/step - loss: 0.0626 - val_loss: 0.0481\n",
      "Epoch 7/1000\n",
      "132/132 [==============================] - 22s 165ms/step - loss: 0.0587 - val_loss: 0.0488\n",
      "Epoch 8/1000\n",
      "132/132 [==============================] - 22s 164ms/step - loss: 0.0570 - val_loss: 0.0478\n",
      "Epoch 9/1000\n",
      "132/132 [==============================] - 22s 165ms/step - loss: 0.0541 - val_loss: 0.0454\n",
      "Epoch 10/1000\n",
      "132/132 [==============================] - 22s 166ms/step - loss: 0.0553 - val_loss: 0.0508\n",
      "Epoch 11/1000\n",
      "132/132 [==============================] - 22s 165ms/step - loss: 0.0544 - val_loss: 0.0451\n",
      "Epoch 12/1000\n",
      "132/132 [==============================] - 22s 165ms/step - loss: 0.0513 - val_loss: 0.0412\n",
      "Epoch 13/1000\n",
      "132/132 [==============================] - 22s 165ms/step - loss: 0.0509 - val_loss: 0.0426\n",
      "Epoch 14/1000\n",
      "132/132 [==============================] - 22s 166ms/step - loss: 0.0520 - val_loss: 0.0433\n",
      "Epoch 15/1000\n",
      "132/132 [==============================] - 22s 166ms/step - loss: 0.0494 - val_loss: 0.0417\n"
     ]
    }
   ],
   "source": [
    "history = model.fit(X_train,X_train, epochs=1000, batch_size=512, validation_split=0.1,callbacks=[keras.callbacks.EarlyStopping(monitor='val_loss', patience=3, mode='min')], shuffle=False)"
   ]
  },
  {
   "cell_type": "code",
   "execution_count": 48,
   "metadata": {},
   "outputs": [
    {
     "data": {
      "image/png": "[encoded data removed]",
      "text/plain": [
       "<Figure size 432x288 with 1 Axes>"
      ]
     },
     "metadata": {
      "needs_background": "light"
     },
     "output_type": "display_data"
    }
   ],
   "source": [
    "plt.plot(history.history['loss'], label='Training loss')\n",
    "plt.plot(history.history['val_loss'], label='Validation loss')\n",
    "plt.legend();"
   ]
  },
  {
   "cell_type": "code",
   "execution_count": 49,
   "metadata": {},
   "outputs": [
    {
     "name": "stdout",
     "output_type": "stream",
     "text": [
      "123/123 [==============================] - 2s 14ms/step - loss: 0.0509\n"
     ]
    },
    {
     "data": {
      "text/plain": [
       "0.05089417099952698"
      ]
     },
     "execution_count": 49,
     "metadata": {},
     "output_type": "execute_result"
    }
   ],
   "source": [
    "model.evaluate(X_test,X_test)"
   ]
  },
  {
   "cell_type": "code",
   "execution_count": null,
   "metadata": {},
   "outputs": [],
   "source": [
    "X_train_pred = model.predict(X_train, verbose=0)\n",
    "train_mae_loss = np.mean(np.abs(X_train_pred - X_train), axis=1)"
   ]
  },
  {
   "cell_type": "code",
   "execution_count": null,
   "metadata": {},
   "outputs": [],
   "source": [
    "train_mae_loss.shape"
   ]
  },
  {
   "cell_type": "code",
   "execution_count": null,
   "metadata": {},
   "outputs": [],
   "source": [
    "plt.hist(train_mae_loss, bins=50)\n",
    "plt.xlabel('Train MAE loss')\n",
    "plt.ylabel('Number of Samples');\n",
    "threshold = np.max(train_mae_loss)\n",
    "print(f'Reconstruction error threshold: {threshold}')"
   ]
  },
  {
   "cell_type": "code",
   "execution_count": null,
   "metadata": {},
   "outputs": [],
   "source": [
    "X_test_pred = model.predict(X_test, verbose=0)\n",
    "test_mae_loss = np.mean(np.abs(X_test_pred-X_test), axis=1)\n",
    "\n",
    "plt.hist(test_mae_loss, bins=50)\n",
    "plt.xlabel('Test MAE loss')\n",
    "plt.ylabel('Number of samples');"
   ]
  },
  {
   "cell_type": "code",
   "execution_count": null,
   "metadata": {},
   "outputs": [],
   "source": [
    "y_pred = model.predict(X_test)\n",
    "print('Predict shape:', y_pred.shape); \n",
    "mae = np.mean(np.abs(y_pred - X_test), axis=1)\n",
    "pred = y_pred.reshape((y_pred.shape[0] * y_pred.shape[1]), y_pred.shape[2])\n",
    "print('Prediction:', pred.shape);\n",
    "print('Test data shape:', X_test.shape); \n",
    "X_test = X_test.reshape((X_test.shape[0] * X_test.shape[1]), X_test.shape[2])\n",
    "print('Test data:', X_test.shape);\n",
    "errors = X_test - pred\n",
    "print('Error:', errors.shape); \n",
    "RMSE = math.sqrt(mean_squared_error(X_test,pred))\n",
    "print('Test RMSE: %.3f' % RMSE);"
   ]
  },
  {
   "cell_type": "code",
   "execution_count": null,
   "metadata": {},
   "outputs": [],
   "source": [
    "dist = np.linalg.norm(X_test-pred,axis=1)\n",
    "scores = dist.copy()\n",
    "print('Score :',scores.shape);\n",
    "scores.sort();\n",
    "cut_off = int(0.*len(scores));\n",
    "print('Cut off value :',cut_off);\n",
    "threshold=scores[cut_off];\n",
    "print('Threshold Value :',threshold);"
   ]
  },
  {
   "cell_type": "code",
   "execution_count": null,
   "metadata": {},
   "outputs": [],
   "source": [
    "X_test.shape"
   ]
  },
  {
   "cell_type": "code",
   "execution_count": null,
   "metadata": {},
   "outputs": [],
   "source": [
    "X_test[0]"
   ]
  },
  {
   "cell_type": "code",
   "execution_count": null,
   "metadata": {},
   "outputs": [],
   "source": [
    "pred[0]"
   ]
  },
  {
   "cell_type": "code",
   "execution_count": null,
   "metadata": {},
   "outputs": [],
   "source": [
    "plt.figure(figsize=(14,5))\n",
    "plt.plot(X_test[:,1],color='green')\n",
    "plt.plot(pred[:,1],color='red')\n",
    "plt.show()"
   ]
  },
  {
   "cell_type": "code",
   "execution_count": null,
   "metadata": {},
   "outputs": [],
   "source": [
    "plt.figure(figsize=(14,5))\n",
    "plt.plot(X_test[:,0],color='green')\n",
    "plt.plot(pred[:,0],color='red')\n",
    "plt.show()"
   ]
  },
  {
   "cell_type": "code",
   "execution_count": null,
   "metadata": {},
   "outputs": [],
   "source": [
    "np.corrcoef(X_test[:,0],pred[:,0])"
   ]
  },
  {
   "cell_type": "code",
   "execution_count": null,
   "metadata": {},
   "outputs": [],
   "source": [
    "np.corrcoef(X_test[:,2],pred[:,2])"
   ]
  },
  {
   "cell_type": "code",
   "execution_count": null,
   "metadata": {},
   "outputs": [],
   "source": [
    "plt.figure(figsize=(14,5))\n",
    "plt.plot(X_test[:,4],color='green')\n",
    "plt.plot(pred[:,4],color='red')\n",
    "plt.title('throttle actual vs predicted')\n",
    "plt.show()"
   ]
  },
  {
   "cell_type": "code",
   "execution_count": null,
   "metadata": {},
   "outputs": [],
   "source": [
    "np.corrcoef(X_test[:,3],pred[:,3])"
   ]
  },
  {
   "cell_type": "code",
   "execution_count": null,
   "metadata": {},
   "outputs": [],
   "source": [
    "np.corrcoef(X_test[:,4],pred[:,4])"
   ]
  },
  {
   "cell_type": "code",
   "execution_count": null,
   "metadata": {},
   "outputs": [],
   "source": [
    "plt.figure(figsize=(14,5))\n",
    "plt.plot(X_train[:,4],color='green')\n",
    "plt.plot(X_train_pred[:,4],color='red')\n",
    "plt.show()"
   ]
  },
  {
   "cell_type": "code",
   "execution_count": null,
   "metadata": {},
   "outputs": [],
   "source": [
    "threshold"
   ]
  },
  {
   "cell_type": "code",
   "execution_count": 109,
   "metadata": {},
   "outputs": [],
   "source": [
    "THRESHOLD = threshold"
   ]
  },
  {
   "cell_type": "code",
   "execution_count": 131,
   "metadata": {},
   "outputs": [
    {
     "data": {
      "text/plain": [
       "(3915, 12)"
      ]
     },
     "execution_count": 131,
     "metadata": {},
     "output_type": "execute_result"
    }
   ],
   "source": [
    "test_mae_loss.shape"
   ]
  },
  {
   "cell_type": "code",
   "execution_count": 132,
   "metadata": {},
   "outputs": [],
   "source": [
    "test_mae_loss=test_mae_loss[:, [0,1,2]]"
   ]
  },
  {
   "cell_type": "code",
   "execution_count": 133,
   "metadata": {},
   "outputs": [
    {
     "data": {
      "text/plain": [
       "numpy.ndarray"
      ]
     },
     "execution_count": 133,
     "metadata": {},
     "output_type": "execute_result"
    }
   ],
   "source": [
    "type(test_mae_loss)"
   ]
  },
  {
   "cell_type": "code",
   "execution_count": 134,
   "metadata": {},
   "outputs": [],
   "source": [
    "test_mae_loss_mean=np.mean(test_mae_loss, axis = 1)"
   ]
  },
  {
   "cell_type": "code",
   "execution_count": 135,
   "metadata": {},
   "outputs": [
    {
     "data": {
      "text/plain": [
       "(3915,)"
      ]
     },
     "execution_count": 135,
     "metadata": {},
     "output_type": "execute_result"
    }
   ],
   "source": [
    "test_mae_loss_mean.shape"
   ]
  },
  {
   "cell_type": "code",
   "execution_count": 136,
   "metadata": {},
   "outputs": [],
   "source": [
    "test_mae_loss_mean=test_mae_loss_mean.reshape((-1,1))"
   ]
  },
  {
   "cell_type": "code",
   "execution_count": 137,
   "metadata": {},
   "outputs": [
    {
     "data": {
      "text/plain": [
       "(3915, 1)"
      ]
     },
     "execution_count": 137,
     "metadata": {},
     "output_type": "execute_result"
    }
   ],
   "source": [
    "test_mae_loss_mean.shape"
   ]
  },
  {
   "cell_type": "code",
   "execution_count": 138,
   "metadata": {},
   "outputs": [
    {
     "data": {
      "text/plain": [
       "(3945, 12)"
      ]
     },
     "execution_count": 138,
     "metadata": {},
     "output_type": "execute_result"
    }
   ],
   "source": [
    "X_test_df.shape"
   ]
  },
  {
   "cell_type": "code",
   "execution_count": 139,
   "metadata": {},
   "outputs": [
    {
     "data": {
      "text/plain": [
       "(3915, 12)"
      ]
     },
     "execution_count": 139,
     "metadata": {},
     "output_type": "execute_result"
    }
   ],
   "source": [
    "X_test_df.iloc[30:].shape"
   ]
  },
  {
   "cell_type": "code",
   "execution_count": 140,
   "metadata": {},
   "outputs": [],
   "source": [
    "test_score_df = pd.DataFrame(index=X_test_df.iloc[30:].index)"
   ]
  },
  {
   "cell_type": "code",
   "execution_count": 141,
   "metadata": {},
   "outputs": [],
   "source": [
    "test_score_df['loss'] = test_mae_loss_mean"
   ]
  },
  {
   "cell_type": "code",
   "execution_count": 142,
   "metadata": {},
   "outputs": [],
   "source": [
    "test_score_df['threshold'] = THRESHOLD\n",
    "test_score_df['anomaly'] = test_score_df.loss > test_score_df.threshold"
   ]
  },
  {
   "cell_type": "code",
   "execution_count": 143,
   "metadata": {},
   "outputs": [
    {
     "data": {
      "image/png": "[encoded data removed]",
      "text/plain": [
       "<Figure size 432x288 with 1 Axes>"
      ]
     },
     "metadata": {
      "needs_background": "light"
     },
     "output_type": "display_data"
    }
   ],
   "source": [
    "plt.plot(test_score_df.index, test_score_df.loss, label='loss')\n",
    "plt.plot(test_score_df.index, test_score_df.threshold, label='threshold')\n",
    "plt.xticks(rotation=25)\n",
    "plt.legend();"
   ]
  },
  {
   "cell_type": "code",
   "execution_count": 144,
   "metadata": {},
   "outputs": [
    {
     "data": {
      "text/html": [
       "<div>\n",
       "<style scoped>\n",
       "    .dataframe tbody tr th:only-of-type {\n",
       "        vertical-align: middle;\n",
       "    }\n",
       "\n",
       "    .dataframe tbody tr th {\n",
       "        vertical-align: top;\n",
       "    }\n",
       "\n",
       "    .dataframe thead th {\n",
       "        text-align: right;\n",
       "    }\n",
       "</style>\n",
       "<table border=\"1\" class=\"dataframe\">\n",
       "  <thead>\n",
       "    <tr style=\"text-align: right;\">\n",
       "      <th></th>\n",
       "      <th>loss</th>\n",
       "      <th>threshold</th>\n",
       "      <th>anomaly</th>\n",
       "    </tr>\n",
       "    <tr>\n",
       "      <th>time_of_day_long</th>\n",
       "      <th></th>\n",
       "      <th></th>\n",
       "      <th></th>\n",
       "    </tr>\n",
       "  </thead>\n",
       "  <tbody>\n",
       "  </tbody>\n",
       "</table>\n",
       "</div>"
      ],
      "text/plain": [
       "Empty DataFrame\n",
       "Columns: [loss, threshold, anomaly]\n",
       "Index: []"
      ]
     },
     "execution_count": 144,
     "metadata": {},
     "output_type": "execute_result"
    }
   ],
   "source": [
    "anomalies = test_score_df[test_score_df.anomaly == True]\n",
    "anomalies.head()"
   ]
  }
 ],
 "metadata": {
  "kernelspec": {
   "display_name": "Python 3",
   "language": "python",
   "name": "python3"
  },
  "language_info": {
   "codemirror_mode": {
    "name": "ipython",
    "version": 3
   },
   "file_extension": ".py",
   "mimetype": "text/x-python",
   "name": "python",
   "nbconvert_exporter": "python",
   "pygments_lexer": "ipython3",
   "version": "3.8.3"
  }
 },
 "nbformat": 4,
 "nbformat_minor": 4
}
