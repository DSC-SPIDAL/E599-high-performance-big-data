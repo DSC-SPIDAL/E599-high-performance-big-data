{
 "cells": [
  {
   "cell_type": "markdown",
   "metadata": {
    "papermill": {
     "duration": 0.048735,
     "end_time": "2020-12-08T17:04:49.973809",
     "exception": false,
     "start_time": "2020-12-08T17:04:49.925074",
     "status": "completed"
    },
    "tags": []
   },
   "source": [
    "# **Motion Prediction for Autonomous Vehicles**"
   ]
  },
  {
   "cell_type": "markdown",
   "metadata": {
    "papermill": {
     "duration": 0.047129,
     "end_time": "2020-12-08T17:04:50.068311",
     "exception": false,
     "start_time": "2020-12-08T17:04:50.021182",
     "status": "completed"
    },
    "tags": []
   },
   "source": [
    "## Introduction"
   ]
  },
  {
   "cell_type": "markdown",
   "metadata": {
    "papermill": {
     "duration": 0.046743,
     "end_time": "2020-12-08T17:04:50.161750",
     "exception": false,
     "start_time": "2020-12-08T17:04:50.115007",
     "status": "completed"
    },
    "tags": []
   },
   "source": [
    "In this project, we are trying to build motion prediction for self-driving vehicles. These models can predict the motion of an autonomous vehicle by predicting the movements of traffic agents around the Autonomous Vehicles such as cars, cyclists, and pedestrians etc. These self-driving vehicles combine a variety of sensors, such as radar, lidar, sonar, GPS, odometry and inertial measurement units for perceiving information from their surroundings.Based on these measurements, we are trying to predict the motion trajectory for a next few timeframes."
   ]
  },
  {
   "cell_type": "markdown",
   "metadata": {
    "papermill": {
     "duration": 0.047297,
     "end_time": "2020-12-08T17:04:50.256272",
     "exception": false,
     "start_time": "2020-12-08T17:04:50.208975",
     "status": "completed"
    },
    "tags": []
   },
   "source": [
    "## Data"
   ]
  },
  {
   "cell_type": "markdown",
   "metadata": {
    "papermill": {
     "duration": 0.046454,
     "end_time": "2020-12-08T17:04:50.350471",
     "exception": false,
     "start_time": "2020-12-08T17:04:50.304017",
     "status": "completed"
    },
    "tags": []
   },
   "source": [
    "Data is packed in .zarr files and are loaded using the zarr Python module, and are also loaded natively by l5kit.\n",
    "\n",
    ".zarr filea contain a set of:<br>\n",
    "1.scenes: driving episodes acquired from a given vehicle for capturing aerial and semantic views.<br>\n",
    "2.frames: snapshots in time of the pose of the vehicle in the form of time frames.<br>\n",
    "3.agents: 4 agent label_probabilities captured by the vehicle's sensors.<br>\n"
   ]
  },
  {
   "cell_type": "markdown",
   "metadata": {
    "papermill": {
     "duration": 0.046334,
     "end_time": "2020-12-08T17:04:50.442683",
     "exception": false,
     "start_time": "2020-12-08T17:04:50.396349",
     "status": "completed"
    },
    "tags": []
   },
   "source": [
    "**Files in the dataset:**\n",
    "* aerial_map - an aerial map used when rasterisation is performed \n",
    "* semantic_map - a high definition semantic map used for rasterisation \n",
    "* sample.zarr - a small sample set, designed for exploration\n",
    "* train.zarr - the training set, in .zarr format\n",
    "* validate.zarr - a validation set \n",
    "* test.csv - test set, in .zarr format"
   ]
  },
  {
   "cell_type": "code",
   "execution_count": 1,
   "metadata": {
    "execution": {
     "iopub.execute_input": "2020-12-08T17:04:50.541047Z",
     "iopub.status.busy": "2020-12-08T17:04:50.540022Z",
     "iopub.status.idle": "2020-12-08T17:04:50.547630Z",
     "shell.execute_reply": "2020-12-08T17:04:50.547037Z"
    },
    "papermill": {
     "duration": 0.059487,
     "end_time": "2020-12-08T17:04:50.547749",
     "exception": false,
     "start_time": "2020-12-08T17:04:50.488262",
     "status": "completed"
    },
    "tags": []
   },
   "outputs": [
    {
     "data": {
      "text/plain": [
       "['multi_mode_sample_submission.csv',\n",
       " 'semantic_map',\n",
       " 'aerial_map',\n",
       " 'single_mode_sample_submission.csv',\n",
       " 'meta.json',\n",
       " 'scenes']"
      ]
     },
     "execution_count": 1,
     "metadata": {},
     "output_type": "execute_result"
    }
   ],
   "source": [
    "# List of files available in data files\n",
    "import os\n",
    "list(os.listdir(\"../input/lyft-motion-prediction-autonomous-vehicles\"))"
   ]
  },
  {
   "cell_type": "markdown",
   "metadata": {
    "papermill": {
     "duration": 0.048127,
     "end_time": "2020-12-08T17:04:50.644039",
     "exception": false,
     "start_time": "2020-12-08T17:04:50.595912",
     "status": "completed"
    },
    "tags": []
   },
   "source": [
    "**Installing L5kit**"
   ]
  },
  {
   "cell_type": "markdown",
   "metadata": {
    "papermill": {
     "duration": 0.047654,
     "end_time": "2020-12-08T17:04:50.739326",
     "exception": false,
     "start_time": "2020-12-08T17:04:50.691672",
     "status": "completed"
    },
    "tags": []
   },
   "source": [
    "It helps to load driving scenes from zarr files, read semantic and aerial maps as well as sample datasets (train, test, validation) to train neural networks upon them and visualize the results. The core packages for visualisation are:\n",
    "* Rasterization\n",
    "* visualization"
   ]
  },
  {
   "cell_type": "code",
   "execution_count": 2,
   "metadata": {
    "_cell_guid": "79c7e3d0-c299-4dcb-8224-4455121ee9b0",
    "_uuid": "d629ff2d2480ee46fbb7e2d37f6b5fab8052498a",
    "execution": {
     "iopub.execute_input": "2020-12-08T17:04:50.839485Z",
     "iopub.status.busy": "2020-12-08T17:04:50.838530Z",
     "iopub.status.idle": "2020-12-08T17:04:50.841173Z",
     "shell.execute_reply": "2020-12-08T17:04:50.841730Z"
    },
    "papermill": {
     "duration": 0.055349,
     "end_time": "2020-12-08T17:04:50.841883",
     "exception": false,
     "start_time": "2020-12-08T17:04:50.786534",
     "status": "completed"
    },
    "tags": []
   },
   "outputs": [],
   "source": [
    "#!pip install --no-index --use-feature=2020-resolver -f ../input/kaggle-l5kit-110 l5kit "
   ]
  },
  {
   "cell_type": "code",
   "execution_count": 3,
   "metadata": {
    "execution": {
     "iopub.execute_input": "2020-12-08T17:04:50.953975Z",
     "iopub.status.busy": "2020-12-08T17:04:50.953049Z",
     "iopub.status.idle": "2020-12-08T17:05:22.039362Z",
     "shell.execute_reply": "2020-12-08T17:05:22.038729Z"
    },
    "papermill": {
     "duration": 31.149839,
     "end_time": "2020-12-08T17:05:22.039509",
     "exception": false,
     "start_time": "2020-12-08T17:04:50.889670",
     "status": "completed"
    },
    "tags": []
   },
   "outputs": [
    {
     "name": "stdout",
     "output_type": "stream",
     "text": [
      "Collecting pip\r\n",
      "  Downloading pip-20.3.1-py2.py3-none-any.whl (1.5 MB)\r\n",
      "\u001b[K     |████████████████████████████████| 1.5 MB 2.1 MB/s \r\n",
      "\u001b[?25hInstalling collected packages: pip\r\n",
      "  Attempting uninstall: pip\r\n",
      "    Found existing installation: pip 20.2.3\r\n",
      "    Uninstalling pip-20.2.3:\r\n",
      "      Successfully uninstalled pip-20.2.3\r\n",
      "Successfully installed pip-20.3.1\r\n",
      "Found existing installation: typing 3.7.4.3\r\n",
      "Uninstalling typing-3.7.4.3:\r\n",
      "  Successfully uninstalled typing-3.7.4.3\r\n"
     ]
    }
   ],
   "source": [
    "!pip install --upgrade pip\n",
    "!pip uninstall typing --yes"
   ]
  },
  {
   "cell_type": "code",
   "execution_count": 4,
   "metadata": {
    "execution": {
     "iopub.execute_input": "2020-12-08T17:05:22.159583Z",
     "iopub.status.busy": "2020-12-08T17:05:22.158487Z",
     "iopub.status.idle": "2020-12-08T17:05:54.591601Z",
     "shell.execute_reply": "2020-12-08T17:05:54.592216Z"
    },
    "papermill": {
     "duration": 32.49625,
     "end_time": "2020-12-08T17:05:54.592403",
     "exception": false,
     "start_time": "2020-12-08T17:05:22.096153",
     "status": "completed"
    },
    "tags": []
   },
   "outputs": [
    {
     "name": "stdout",
     "output_type": "stream",
     "text": [
      "Collecting l5kit\r\n",
      "  Downloading l5kit-1.1.0-py3-none-any.whl (82 kB)\r\n",
      "\u001b[K     |████████████████████████████████| 82 kB 506 kB/s \r\n",
      "\u001b[?25hRequirement already satisfied: pyyaml in /opt/conda/lib/python3.7/site-packages (from l5kit) (5.3.1)\r\n",
      "Requirement already satisfied: notebook in /opt/conda/lib/python3.7/site-packages (from l5kit) (5.5.0)\r\n",
      "Requirement already satisfied: torch<2.0.0,>=1.5.0 in /opt/conda/lib/python3.7/site-packages (from l5kit) (1.6.0)\r\n",
      "Requirement already satisfied: imageio in /opt/conda/lib/python3.7/site-packages (from l5kit) (2.8.0)\r\n",
      "Requirement already satisfied: setuptools in /opt/conda/lib/python3.7/site-packages (from l5kit) (46.1.3.post20200325)\r\n",
      "Requirement already satisfied: matplotlib in /opt/conda/lib/python3.7/site-packages (from l5kit) (3.2.1)\r\n",
      "Requirement already satisfied: torchvision<1.0.0,>=0.6.0 in /opt/conda/lib/python3.7/site-packages (from l5kit) (0.7.0)\r\n",
      "Requirement already satisfied: tqdm in /opt/conda/lib/python3.7/site-packages (from l5kit) (4.45.0)\r\n",
      "Requirement already satisfied: ipywidgets in /opt/conda/lib/python3.7/site-packages (from l5kit) (7.5.1)\r\n",
      "Requirement already satisfied: scipy in /opt/conda/lib/python3.7/site-packages (from l5kit) (1.4.1)\r\n",
      "Requirement already satisfied: protobuf>=3.12.2 in /opt/conda/lib/python3.7/site-packages (from l5kit) (3.13.0)\r\n",
      "Requirement already satisfied: numpy in /opt/conda/lib/python3.7/site-packages (from l5kit) (1.18.5)\r\n",
      "Requirement already satisfied: pillow in /opt/conda/lib/python3.7/site-packages (from imageio->l5kit) (7.2.0)\r\n",
      "Requirement already satisfied: numpy in /opt/conda/lib/python3.7/site-packages (from l5kit) (1.18.5)\r\n",
      "Requirement already satisfied: ipython>=4.0.0 in /opt/conda/lib/python3.7/site-packages (from ipywidgets->l5kit) (7.13.0)\r\n",
      "Requirement already satisfied: nbformat>=4.2.0 in /opt/conda/lib/python3.7/site-packages (from ipywidgets->l5kit) (5.0.6)\r\n",
      "Requirement already satisfied: ipykernel>=4.5.1 in /opt/conda/lib/python3.7/site-packages (from ipywidgets->l5kit) (5.1.1)\r\n",
      "Requirement already satisfied: traitlets>=4.3.1 in /opt/conda/lib/python3.7/site-packages (from ipywidgets->l5kit) (4.3.3)\r\n",
      "Requirement already satisfied: widgetsnbextension~=3.5.0 in /opt/conda/lib/python3.7/site-packages (from ipywidgets->l5kit) (3.5.1)\r\n",
      "Requirement already satisfied: ipython>=4.0.0 in /opt/conda/lib/python3.7/site-packages (from ipywidgets->l5kit) (7.13.0)\r\n",
      "Requirement already satisfied: jupyter-client in /opt/conda/lib/python3.7/site-packages (from ipykernel>=4.5.1->ipywidgets->l5kit) (6.1.3)\r\n",
      "Requirement already satisfied: tornado>=4.2 in /opt/conda/lib/python3.7/site-packages (from ipykernel>=4.5.1->ipywidgets->l5kit) (5.0.2)\r\n",
      "Requirement already satisfied: traitlets>=4.3.1 in /opt/conda/lib/python3.7/site-packages (from ipywidgets->l5kit) (4.3.3)\r\n",
      "Requirement already satisfied: pexpect in /opt/conda/lib/python3.7/site-packages (from ipython>=4.0.0->ipywidgets->l5kit) (4.8.0)\r\n",
      "Requirement already satisfied: prompt-toolkit!=3.0.0,!=3.0.1,<3.1.0,>=2.0.0 in /opt/conda/lib/python3.7/site-packages (from ipython>=4.0.0->ipywidgets->l5kit) (3.0.5)\r\n",
      "Requirement already satisfied: backcall in /opt/conda/lib/python3.7/site-packages (from ipython>=4.0.0->ipywidgets->l5kit) (0.1.0)\r\n",
      "Requirement already satisfied: pickleshare in /opt/conda/lib/python3.7/site-packages (from ipython>=4.0.0->ipywidgets->l5kit) (0.7.5)\r\n",
      "Requirement already satisfied: traitlets>=4.3.1 in /opt/conda/lib/python3.7/site-packages (from ipywidgets->l5kit) (4.3.3)\r\n",
      "Requirement already satisfied: setuptools in /opt/conda/lib/python3.7/site-packages (from l5kit) (46.1.3.post20200325)\r\n",
      "Requirement already satisfied: pygments in /opt/conda/lib/python3.7/site-packages (from ipython>=4.0.0->ipywidgets->l5kit) (2.6.1)\r\n",
      "Requirement already satisfied: decorator in /opt/conda/lib/python3.7/site-packages (from ipython>=4.0.0->ipywidgets->l5kit) (4.4.2)\r\n",
      "Requirement already satisfied: jedi>=0.10 in /opt/conda/lib/python3.7/site-packages (from ipython>=4.0.0->ipywidgets->l5kit) (0.15.2)\r\n",
      "Requirement already satisfied: parso>=0.5.2 in /opt/conda/lib/python3.7/site-packages (from jedi>=0.10->ipython>=4.0.0->ipywidgets->l5kit) (0.5.2)\r\n",
      "Requirement already satisfied: python-dateutil>=2.1 in /opt/conda/lib/python3.7/site-packages (from jupyter-client->ipykernel>=4.5.1->ipywidgets->l5kit) (2.8.1)\r\n",
      "Requirement already satisfied: traitlets>=4.3.1 in /opt/conda/lib/python3.7/site-packages (from ipywidgets->l5kit) (4.3.3)\r\n",
      "Requirement already satisfied: tornado>=4.2 in /opt/conda/lib/python3.7/site-packages (from ipykernel>=4.5.1->ipywidgets->l5kit) (5.0.2)\r\n",
      "Requirement already satisfied: pyzmq>=13 in /opt/conda/lib/python3.7/site-packages (from jupyter-client->ipykernel>=4.5.1->ipywidgets->l5kit) (19.0.0)\r\n",
      "Requirement already satisfied: jupyter-core>=4.6.0 in /opt/conda/lib/python3.7/site-packages (from jupyter-client->ipykernel>=4.5.1->ipywidgets->l5kit) (4.6.3)\r\n",
      "Requirement already satisfied: traitlets>=4.3.1 in /opt/conda/lib/python3.7/site-packages (from ipywidgets->l5kit) (4.3.3)\r\n",
      "Requirement already satisfied: python-dateutil>=2.1 in /opt/conda/lib/python3.7/site-packages (from jupyter-client->ipykernel>=4.5.1->ipywidgets->l5kit) (2.8.1)\r\n",
      "Requirement already satisfied: kiwisolver>=1.0.1 in /opt/conda/lib/python3.7/site-packages (from matplotlib->l5kit) (1.2.0)\r\n",
      "Requirement already satisfied: cycler>=0.10 in /opt/conda/lib/python3.7/site-packages (from matplotlib->l5kit) (0.10.0)\r\n",
      "Requirement already satisfied: pyparsing!=2.0.4,!=2.1.2,!=2.1.6,>=2.0.1 in /opt/conda/lib/python3.7/site-packages (from matplotlib->l5kit) (2.4.7)\r\n",
      "Requirement already satisfied: numpy in /opt/conda/lib/python3.7/site-packages (from l5kit) (1.18.5)\r\n",
      "Requirement already satisfied: six in /opt/conda/lib/python3.7/site-packages (from cycler>=0.10->matplotlib->l5kit) (1.14.0)\r\n",
      "Requirement already satisfied: jsonschema!=2.5.0,>=2.4 in /opt/conda/lib/python3.7/site-packages (from nbformat>=4.2.0->ipywidgets->l5kit) (3.2.0)\r\n",
      "Requirement already satisfied: jupyter-core>=4.6.0 in /opt/conda/lib/python3.7/site-packages (from jupyter-client->ipykernel>=4.5.1->ipywidgets->l5kit) (4.6.3)\r\n",
      "Requirement already satisfied: ipython-genutils in /opt/conda/lib/python3.7/site-packages (from nbformat>=4.2.0->ipywidgets->l5kit) (0.2.0)\r\n",
      "Requirement already satisfied: traitlets>=4.3.1 in /opt/conda/lib/python3.7/site-packages (from ipywidgets->l5kit) (4.3.3)\r\n",
      "Requirement already satisfied: setuptools in /opt/conda/lib/python3.7/site-packages (from l5kit) (46.1.3.post20200325)\r\n",
      "Requirement already satisfied: six in /opt/conda/lib/python3.7/site-packages (from cycler>=0.10->matplotlib->l5kit) (1.14.0)\r\n",
      "Requirement already satisfied: importlib-metadata in /opt/conda/lib/python3.7/site-packages (from jsonschema!=2.5.0,>=2.4->nbformat>=4.2.0->ipywidgets->l5kit) (1.6.0)\r\n",
      "Requirement already satisfied: pyrsistent>=0.14.0 in /opt/conda/lib/python3.7/site-packages (from jsonschema!=2.5.0,>=2.4->nbformat>=4.2.0->ipywidgets->l5kit) (0.16.0)\r\n",
      "Requirement already satisfied: attrs>=17.4.0 in /opt/conda/lib/python3.7/site-packages (from jsonschema!=2.5.0,>=2.4->nbformat>=4.2.0->ipywidgets->l5kit) (19.3.0)\r\n",
      "Requirement already satisfied: zipp>=0.5 in /opt/conda/lib/python3.7/site-packages (from importlib-metadata->jsonschema!=2.5.0,>=2.4->nbformat>=4.2.0->ipywidgets->l5kit) (3.1.0)\r\n",
      "Requirement already satisfied: terminado>=0.8.1 in /opt/conda/lib/python3.7/site-packages (from notebook->l5kit) (0.8.3)\r\n",
      "Requirement already satisfied: jupyter-core>=4.6.0 in /opt/conda/lib/python3.7/site-packages (from jupyter-client->ipykernel>=4.5.1->ipywidgets->l5kit) (4.6.3)\r\n",
      "Requirement already satisfied: Send2Trash in /opt/conda/lib/python3.7/site-packages (from notebook->l5kit) (1.5.0)\r\n",
      "Requirement already satisfied: nbconvert in /opt/conda/lib/python3.7/site-packages (from notebook->l5kit) (5.6.1)\r\n",
      "Requirement already satisfied: jupyter-client in /opt/conda/lib/python3.7/site-packages (from ipykernel>=4.5.1->ipywidgets->l5kit) (6.1.3)\r\n",
      "Requirement already satisfied: nbformat>=4.2.0 in /opt/conda/lib/python3.7/site-packages (from ipywidgets->l5kit) (5.0.6)\r\n",
      "Requirement already satisfied: ipython-genutils in /opt/conda/lib/python3.7/site-packages (from nbformat>=4.2.0->ipywidgets->l5kit) (0.2.0)\r\n",
      "Requirement already satisfied: pyzmq>=13 in /opt/conda/lib/python3.7/site-packages (from jupyter-client->ipykernel>=4.5.1->ipywidgets->l5kit) (19.0.0)\r\n",
      "Requirement already satisfied: tornado>=4.2 in /opt/conda/lib/python3.7/site-packages (from ipykernel>=4.5.1->ipywidgets->l5kit) (5.0.2)\r\n",
      "Requirement already satisfied: ipykernel>=4.5.1 in /opt/conda/lib/python3.7/site-packages (from ipywidgets->l5kit) (5.1.1)\r\n",
      "Requirement already satisfied: jinja2 in /opt/conda/lib/python3.7/site-packages (from notebook->l5kit) (2.11.2)\r\n",
      "Requirement already satisfied: traitlets>=4.3.1 in /opt/conda/lib/python3.7/site-packages (from ipywidgets->l5kit) (4.3.3)\r\n",
      "Requirement already satisfied: MarkupSafe>=0.23 in /opt/conda/lib/python3.7/site-packages (from jinja2->notebook->l5kit) (1.1.1)\r\n",
      "Requirement already satisfied: entrypoints>=0.2.2 in /opt/conda/lib/python3.7/site-packages (from nbconvert->notebook->l5kit) (0.3)\r\n",
      "Requirement already satisfied: mistune<2,>=0.8.1 in /opt/conda/lib/python3.7/site-packages (from nbconvert->notebook->l5kit) (0.8.4)\r\n",
      "Requirement already satisfied: bleach in /opt/conda/lib/python3.7/site-packages (from nbconvert->notebook->l5kit) (3.1.4)\r\n",
      "Requirement already satisfied: pandocfilters>=1.4.1 in /opt/conda/lib/python3.7/site-packages (from nbconvert->notebook->l5kit) (1.4.2)\r\n",
      "Requirement already satisfied: defusedxml in /opt/conda/lib/python3.7/site-packages (from nbconvert->notebook->l5kit) (0.6.0)\r\n",
      "Requirement already satisfied: traitlets>=4.3.1 in /opt/conda/lib/python3.7/site-packages (from ipywidgets->l5kit) (4.3.3)\r\n",
      "Requirement already satisfied: jupyter-core>=4.6.0 in /opt/conda/lib/python3.7/site-packages (from jupyter-client->ipykernel>=4.5.1->ipywidgets->l5kit) (4.6.3)\r\n",
      "Requirement already satisfied: nbformat>=4.2.0 in /opt/conda/lib/python3.7/site-packages (from ipywidgets->l5kit) (5.0.6)\r\n",
      "Requirement already satisfied: pygments in /opt/conda/lib/python3.7/site-packages (from ipython>=4.0.0->ipywidgets->l5kit) (2.6.1)\r\n",
      "Requirement already satisfied: testpath in /opt/conda/lib/python3.7/site-packages (from nbconvert->notebook->l5kit) (0.4.4)\r\n",
      "Requirement already satisfied: jinja2 in /opt/conda/lib/python3.7/site-packages (from notebook->l5kit) (2.11.2)\r\n",
      "Requirement already satisfied: webencodings in /opt/conda/lib/python3.7/site-packages (from bleach->nbconvert->notebook->l5kit) (0.5.1)\r\n",
      "Requirement already satisfied: six in /opt/conda/lib/python3.7/site-packages (from cycler>=0.10->matplotlib->l5kit) (1.14.0)\r\n",
      "Collecting opencv-contrib-python-headless\r\n",
      "  Downloading opencv_contrib_python_headless-4.4.0.46-cp37-cp37m-manylinux2014_x86_64.whl (42.9 MB)\r\n",
      "\u001b[K     |████████████████████████████████| 42.9 MB 42.7 MB/s \r\n",
      "\u001b[?25hRequirement already satisfied: numpy in /opt/conda/lib/python3.7/site-packages (from l5kit) (1.18.5)\r\n",
      "Requirement already satisfied: ptyprocess>=0.5 in /opt/conda/lib/python3.7/site-packages (from pexpect->ipython>=4.0.0->ipywidgets->l5kit) (0.6.0)\r\n",
      "Requirement already satisfied: wcwidth in /opt/conda/lib/python3.7/site-packages (from prompt-toolkit!=3.0.0,!=3.0.1,<3.1.0,>=2.0.0->ipython>=4.0.0->ipywidgets->l5kit) (0.1.9)\r\n",
      "Requirement already satisfied: setuptools in /opt/conda/lib/python3.7/site-packages (from l5kit) (46.1.3.post20200325)\r\n",
      "Requirement already satisfied: six in /opt/conda/lib/python3.7/site-packages (from cycler>=0.10->matplotlib->l5kit) (1.14.0)\r\n",
      "Collecting ptable\r\n",
      "  Downloading PTable-0.9.2.tar.gz (31 kB)\r\n",
      "Collecting pymap3d\r\n",
      "  Downloading pymap3d-2.4.3.tar.gz (28 kB)\r\n",
      "  Installing build dependencies ... \u001b[?25l-\b \b\\\b \b|\b \b/\b \b-\b \bdone\r\n",
      "\u001b[?25h  Getting requirements to build wheel ... \u001b[?25l-\b \bdone\r\n",
      "\u001b[?25h    Preparing wheel metadata ... \u001b[?25l-\b \bdone\r\n",
      "\u001b[?25hRequirement already satisfied: six in /opt/conda/lib/python3.7/site-packages (from cycler>=0.10->matplotlib->l5kit) (1.14.0)\r\n",
      "Requirement already satisfied: six in /opt/conda/lib/python3.7/site-packages (from cycler>=0.10->matplotlib->l5kit) (1.14.0)\r\n",
      "Requirement already satisfied: numpy in /opt/conda/lib/python3.7/site-packages (from l5kit) (1.18.5)\r\n",
      "Requirement already satisfied: future in /opt/conda/lib/python3.7/site-packages (from torch<2.0.0,>=1.5.0->l5kit) (0.18.2)\r\n",
      "Requirement already satisfied: numpy in /opt/conda/lib/python3.7/site-packages (from l5kit) (1.18.5)\r\n",
      "Requirement already satisfied: numpy in /opt/conda/lib/python3.7/site-packages (from l5kit) (1.18.5)\r\n",
      "Requirement already satisfied: torch<2.0.0,>=1.5.0 in /opt/conda/lib/python3.7/site-packages (from l5kit) (1.6.0)\r\n",
      "Requirement already satisfied: pillow in /opt/conda/lib/python3.7/site-packages (from imageio->l5kit) (7.2.0)\r\n",
      "Requirement already satisfied: decorator in /opt/conda/lib/python3.7/site-packages (from ipython>=4.0.0->ipywidgets->l5kit) (4.4.2)\r\n",
      "Requirement already satisfied: six in /opt/conda/lib/python3.7/site-packages (from cycler>=0.10->matplotlib->l5kit) (1.14.0)\r\n",
      "Requirement already satisfied: ipython-genutils in /opt/conda/lib/python3.7/site-packages (from nbformat>=4.2.0->ipywidgets->l5kit) (0.2.0)\r\n",
      "Collecting transforms3d\r\n",
      "  Downloading transforms3d-0.3.1.tar.gz (62 kB)\r\n",
      "\u001b[K     |████████████████████████████████| 62 kB 727 kB/s \r\n",
      "\u001b[?25hRequirement already satisfied: notebook in /opt/conda/lib/python3.7/site-packages (from l5kit) (5.5.0)\r\n",
      "Collecting zarr\r\n",
      "  Downloading zarr-2.6.1-py3-none-any.whl (132 kB)\r\n",
      "\u001b[K     |████████████████████████████████| 132 kB 37.6 MB/s \r\n",
      "\u001b[?25hRequirement already satisfied: numpy in /opt/conda/lib/python3.7/site-packages (from l5kit) (1.18.5)\r\n",
      "Collecting asciitree\r\n",
      "  Downloading asciitree-0.3.3.tar.gz (4.0 kB)\r\n",
      "Collecting fasteners\r\n",
      "  Downloading fasteners-0.15-py2.py3-none-any.whl (23 kB)\r\n",
      "Requirement already satisfied: six in /opt/conda/lib/python3.7/site-packages (from cycler>=0.10->matplotlib->l5kit) (1.14.0)\r\n",
      "Collecting monotonic>=0.1\r\n",
      "  Downloading monotonic-1.5-py2.py3-none-any.whl (5.3 kB)\r\n",
      "Collecting numcodecs>=0.6.4\r\n",
      "  Downloading numcodecs-0.7.2-cp37-cp37m-manylinux2010_x86_64.whl (5.8 MB)\r\n",
      "\u001b[K     |████████████████████████████████| 5.8 MB 16.4 MB/s \r\n",
      "\u001b[?25hRequirement already satisfied: numpy in /opt/conda/lib/python3.7/site-packages (from l5kit) (1.18.5)\r\n",
      "Building wheels for collected packages: ptable, pymap3d, transforms3d, asciitree\r\n",
      "  Building wheel for ptable (setup.py) ... \u001b[?25l-\b \b\\\b \bdone\r\n",
      "\u001b[?25h  Created wheel for ptable: filename=PTable-0.9.2-py3-none-any.whl size=22907 sha256=009c38b64f405f85901cf091e8d351b9d08a8702bd62d58811ec4b6ecbffbebb\r\n",
      "  Stored in directory: /root/.cache/pip/wheels/33/df/2f/674985b3f8a2de3f96357d1eadef5110f74fa91b3785e52a54\r\n",
      "  Building wheel for pymap3d (PEP 517) ... \u001b[?25l-\b \bdone\r\n",
      "\u001b[?25h  Created wheel for pymap3d: filename=pymap3d-2.4.3-py3-none-any.whl size=33553 sha256=574dafbd7a99c97b5a45267e4304f601f628b59111fb38d886dcc92707f13683\r\n",
      "  Stored in directory: /root/.cache/pip/wheels/37/91/b3/d6ee3420f7f4e02349355ed58e6d3feaf14b7aad35013a3799\r\n",
      "  Building wheel for transforms3d (setup.py) ... \u001b[?25l-\b \b\\\b \bdone\r\n",
      "\u001b[?25h  Created wheel for transforms3d: filename=transforms3d-0.3.1-py3-none-any.whl size=59372 sha256=6e3d7c3d91de7bfa06599a60d9fff4be1c062978f693f73962bd325c360a277e\r\n",
      "  Stored in directory: /root/.cache/pip/wheels/b5/b7/93/8985551f83720ce37548a5b543c75380bb707955a9c2c5d28c\r\n",
      "  Building wheel for asciitree (setup.py) ... \u001b[?25l-\b \b\\\b \bdone\r\n",
      "\u001b[?25h  Created wheel for asciitree: filename=asciitree-0.3.3-py3-none-any.whl size=5035 sha256=c0af52b1b0b653ae092dae6c9417d7c652274f8d257f21f7039d540024ca2cab\r\n",
      "  Stored in directory: /root/.cache/pip/wheels/12/1c/38/0def51e15add93bff3f4bf9c248b94db0839b980b8535e72a0\r\n",
      "Successfully built ptable pymap3d transforms3d asciitree\r\n",
      "Installing collected packages: monotonic, numcodecs, fasteners, asciitree, zarr, transforms3d, pymap3d, ptable, opencv-contrib-python-headless, l5kit\r\n",
      "Successfully installed asciitree-0.3.3 fasteners-0.15 l5kit-1.1.0 monotonic-1.5 numcodecs-0.7.2 opencv-contrib-python-headless-4.4.0.46 ptable-0.9.2 pymap3d-2.4.3 transforms3d-0.3.1 zarr-2.6.1\r\n"
     ]
    }
   ],
   "source": [
    "#!pip install --upgrade pip\n",
    "!pip install l5kit"
   ]
  },
  {
   "cell_type": "markdown",
   "metadata": {
    "papermill": {
     "duration": 0.111687,
     "end_time": "2020-12-08T17:05:54.806129",
     "exception": false,
     "start_time": "2020-12-08T17:05:54.694442",
     "status": "completed"
    },
    "tags": []
   },
   "source": [
    "Importing data:"
   ]
  },
  {
   "cell_type": "markdown",
   "metadata": {
    "papermill": {
     "duration": 0.106031,
     "end_time": "2020-12-08T17:05:55.048449",
     "exception": false,
     "start_time": "2020-12-08T17:05:54.942418",
     "status": "completed"
    },
    "tags": []
   },
   "source": [
    "Importing the required libraries and packages"
   ]
  },
  {
   "cell_type": "code",
   "execution_count": 5,
   "metadata": {
    "execution": {
     "iopub.execute_input": "2020-12-08T17:05:55.262440Z",
     "iopub.status.busy": "2020-12-08T17:05:55.261307Z",
     "iopub.status.idle": "2020-12-08T17:05:55.264238Z",
     "shell.execute_reply": "2020-12-08T17:05:55.264851Z"
    },
    "papermill": {
     "duration": 0.118152,
     "end_time": "2020-12-08T17:05:55.264991",
     "exception": false,
     "start_time": "2020-12-08T17:05:55.146839",
     "status": "completed"
    },
    "tags": []
   },
   "outputs": [],
   "source": [
    "#!pip uninstall torchvision --yes\n",
    "#!pip install torchvision==0.7.0 -f https://download.pytorch.org/whl/torch_stable.html "
   ]
  },
  {
   "cell_type": "code",
   "execution_count": 6,
   "metadata": {
    "execution": {
     "iopub.execute_input": "2020-12-08T17:05:55.479085Z",
     "iopub.status.busy": "2020-12-08T17:05:55.478159Z",
     "iopub.status.idle": "2020-12-08T17:06:00.188876Z",
     "shell.execute_reply": "2020-12-08T17:06:00.189721Z"
    },
    "papermill": {
     "duration": 4.81977,
     "end_time": "2020-12-08T17:06:00.189945",
     "exception": false,
     "start_time": "2020-12-08T17:05:55.370175",
     "status": "completed"
    },
    "tags": []
   },
   "outputs": [
    {
     "name": "stdout",
     "output_type": "stream",
     "text": [
      "cuda\n"
     ]
    }
   ],
   "source": [
    "import numpy as np\n",
    "import pandas as pd\n",
    "import matplotlib.pyplot as plt\n",
    "import seaborn as sns\n",
    "\n",
    "#PyTorch libraries\n",
    "import torch\n",
    "from torch import nn, optim\n",
    "from torch.utils.data import DataLoader\n",
    "from torchvision.models.resnet import resnet18, resnet50\n",
    "from tqdm import tqdm\n",
    "from typing import Dict\n",
    "\n",
    "#L5kit libraries\n",
    "from l5kit.data import LocalDataManager, ChunkedDataset\n",
    "from l5kit.dataset import AgentDataset\n",
    "from l5kit.evaluation import write_pred_csv\n",
    "from l5kit.rasterization import build_rasterizer\n",
    "\n",
    "import warnings\n",
    "warnings.filterwarnings(\"ignore\")\n",
    "\n",
    "device = torch.device(\"cuda\" if torch.cuda.is_available() else \"cpu\")\n",
    "\n",
    "print(device)"
   ]
  },
  {
   "cell_type": "code",
   "execution_count": 7,
   "metadata": {
    "_cell_guid": "b1076dfc-b9ad-4769-8c92-a6c4dae69d19",
    "_uuid": "8f2839f25d086af736a60e9eeb907d3b93b6e0e5",
    "execution": {
     "iopub.execute_input": "2020-12-08T17:06:00.522005Z",
     "iopub.status.busy": "2020-12-08T17:06:00.520808Z",
     "iopub.status.idle": "2020-12-08T17:06:00.523952Z",
     "shell.execute_reply": "2020-12-08T17:06:00.522933Z"
    },
    "papermill": {
     "duration": 0.17115,
     "end_time": "2020-12-08T17:06:00.524099",
     "exception": false,
     "start_time": "2020-12-08T17:06:00.352949",
     "status": "completed"
    },
    "tags": []
   },
   "outputs": [],
   "source": [
    "# set env variable for data\n",
    "\n",
    "data_path = \"../input/lyft-motion-prediction-autonomous-vehicles\"\n",
    "os.environ[\"L5KIT_DATA_FOLDER\"] = data_path\n",
    "dm = LocalDataManager(None)"
   ]
  },
  {
   "cell_type": "markdown",
   "metadata": {
    "papermill": {
     "duration": 0.149494,
     "end_time": "2020-12-08T17:06:00.860197",
     "exception": false,
     "start_time": "2020-12-08T17:06:00.710703",
     "status": "completed"
    },
    "tags": []
   },
   "source": [
    "Configuring parameters for Baseline model"
   ]
  },
  {
   "cell_type": "code",
   "execution_count": 8,
   "metadata": {
    "execution": {
     "iopub.execute_input": "2020-12-08T17:06:01.186278Z",
     "iopub.status.busy": "2020-12-08T17:06:01.179743Z",
     "iopub.status.idle": "2020-12-08T17:06:01.193050Z",
     "shell.execute_reply": "2020-12-08T17:06:01.193750Z"
    },
    "papermill": {
     "duration": 0.195346,
     "end_time": "2020-12-08T17:06:01.193929",
     "exception": false,
     "start_time": "2020-12-08T17:06:00.998583",
     "status": "completed"
    },
    "tags": []
   },
   "outputs": [],
   "source": [
    "cfg_data = {\n",
    "    'format_version': 4,\n",
    "    'model_params': {\n",
    "        'model_architecture': 'resnet18',#Baseline model\n",
    "        'history_num_frames': 10,#Historic Frames for prediction\n",
    "        'history_step_size': 1,\n",
    "        'history_delta_time': 0.1,\n",
    "        'future_num_frames': 50,#Future frames to predict\n",
    "        'future_step_size': 1,\n",
    "        'future_delta_time': 0.1,\n",
    "        'lr': 1e-4,#learning rate\n",
    "        'weight_path': \"/kaggle/input/lyftpretrained-resnet101/lyft_resnet101_model.pth\",\n",
    "        'train': True,\n",
    "        'predict': True\n",
    "    },\n",
    "    \n",
    "    'raster_params': {\n",
    "        'raster_size': [224, 224],# image size\n",
    "        'pixel_size': [0.5, 0.5],# meters corresponding to a pixel\n",
    "        'ego_center': [0.25, 0.5], #usually centered around the agent, can help move agent in image plane\n",
    "        'map_type': 'py_semantic', #mode\n",
    "        'satellite_map_key': 'aerial_map/aerial_map.png', #satellite-based map\n",
    "        'semantic_map_key': 'semantic_map/semantic_map.pb', #semantic-based map\n",
    "        'dataset_meta_key': 'meta.json',\n",
    "        'filter_agents_threshold': 0.5 #shows agents with prob >0.5 by belonging to one of the classes(car, bike, etc)\n",
    "    },\n",
    "    'train_data_loader': {\n",
    "        'key': 'scenes/train.zarr',\n",
    "        'batch_size': 10,\n",
    "        'shuffle': True,\n",
    "        'num_workers': 2\n",
    "    },\n",
    "    'test_data_loader': {\n",
    "        'key': 'scenes/test.zarr',\n",
    "        'batch_size': 8,\n",
    "        'shuffle': False,\n",
    "        'num_workers': 1\n",
    "    },\n",
    "    'valid_data_loader': {\n",
    "        'key': 'scenes/validate.zarr',\n",
    "        'batch_size': 10,\n",
    "        'shuffle': False,\n",
    "        'num_workers': 2\n",
    "\n",
    "    },\n",
    "    \n",
    "    'train_params': {\n",
    "        \"epochs\": 10, \n",
    "        'max_num_steps':100,#5000\n",
    "        'checkpoint_every_n_steps': 100,\n",
    "        'eval_every_n_steps': 100\n",
    "    },\n",
    "    \n",
    "    'valid_params': {\n",
    "        'max_num_steps':100#1000\n",
    "    },\n",
    "    \n",
    "    'test_params': {\n",
    "        'max_num_steps':100#1000\n",
    "    }\n",
    "}"
   ]
  },
  {
   "cell_type": "markdown",
   "metadata": {
    "papermill": {
     "duration": 0.100984,
     "end_time": "2020-12-08T17:06:01.395862",
     "exception": false,
     "start_time": "2020-12-08T17:06:01.294878",
     "status": "completed"
    },
    "tags": []
   },
   "source": [
    "Rasterization: getting visual data as input in the form of multi-channel tensors and turning them into interpretable RGB images."
   ]
  },
  {
   "cell_type": "markdown",
   "metadata": {
    "papermill": {
     "duration": 0.099099,
     "end_time": "2020-12-08T17:06:01.596731",
     "exception": false,
     "start_time": "2020-12-08T17:06:01.497632",
     "status": "completed"
    },
    "tags": []
   },
   "source": [
    "**Looking inside the dataset**"
   ]
  },
  {
   "cell_type": "markdown",
   "metadata": {
    "papermill": {
     "duration": 0.10087,
     "end_time": "2020-12-08T17:06:01.797658",
     "exception": false,
     "start_time": "2020-12-08T17:06:01.696788",
     "status": "completed"
    },
    "tags": []
   },
   "source": [
    "By using the l5kit local data manager, loading datasets in zarr data format; here the arrays are divided into chunks and compressed."
   ]
  },
  {
   "cell_type": "code",
   "execution_count": 9,
   "metadata": {
    "execution": {
     "iopub.execute_input": "2020-12-08T17:06:02.009425Z",
     "iopub.status.busy": "2020-12-08T17:06:02.008695Z",
     "iopub.status.idle": "2020-12-08T17:08:51.954644Z",
     "shell.execute_reply": "2020-12-08T17:08:51.955880Z"
    },
    "papermill": {
     "duration": 170.055856,
     "end_time": "2020-12-08T17:08:51.956215",
     "exception": false,
     "start_time": "2020-12-08T17:06:01.900359",
     "status": "completed"
    },
    "tags": []
   },
   "outputs": [
    {
     "data": {
      "text/plain": [
       "<l5kit.data.zarr_dataset.ChunkedDataset at 0x7f2879313f90>"
      ]
     },
     "execution_count": 9,
     "metadata": {},
     "output_type": "execute_result"
    }
   ],
   "source": [
    "base_path = '../input/lyft-motion-prediction-autonomous-vehicles/scenes'\n",
    "\n",
    "train_set = ChunkedDataset(base_path + '/train.zarr')\n",
    "train_set.open()\n",
    "\n",
    "test_set = ChunkedDataset(base_path + '/test.zarr')\n",
    "test_set.open()\n",
    "\n",
    "valid_set = ChunkedDataset(base_path + '/validate.zarr')\n",
    "valid_set.open()\n",
    "\n",
    "#ChunkedDataset: dataset that lives on disk in compressed chunks, it has easy to use data loading and writing interfaces that involves making numpy-like slices."
   ]
  },
  {
   "cell_type": "code",
   "execution_count": 10,
   "metadata": {
    "execution": {
     "iopub.execute_input": "2020-12-08T17:08:52.309392Z",
     "iopub.status.busy": "2020-12-08T17:08:52.308361Z",
     "iopub.status.idle": "2020-12-08T17:08:52.354612Z",
     "shell.execute_reply": "2020-12-08T17:08:52.356149Z"
    },
    "papermill": {
     "duration": 0.229476,
     "end_time": "2020-12-08T17:08:52.356364",
     "exception": false,
     "start_time": "2020-12-08T17:08:52.126888",
     "status": "completed"
    },
    "tags": []
   },
   "outputs": [
    {
     "data": {
      "text/html": [
       "<div>\n",
       "<style scoped>\n",
       "    .dataframe tbody tr th:only-of-type {\n",
       "        vertical-align: middle;\n",
       "    }\n",
       "\n",
       "    .dataframe tbody tr th {\n",
       "        vertical-align: top;\n",
       "    }\n",
       "\n",
       "    .dataframe thead th {\n",
       "        text-align: right;\n",
       "    }\n",
       "</style>\n",
       "<table border=\"1\" class=\"dataframe\">\n",
       "  <thead>\n",
       "    <tr style=\"text-align: right;\">\n",
       "      <th></th>\n",
       "      <th>Dataset</th>\n",
       "      <th>Frames</th>\n",
       "      <th>Agents</th>\n",
       "      <th>Scenes</th>\n",
       "    </tr>\n",
       "  </thead>\n",
       "  <tbody>\n",
       "    <tr>\n",
       "      <th>0</th>\n",
       "      <td>train</td>\n",
       "      <td>4039527</td>\n",
       "      <td>320124624</td>\n",
       "      <td>16265</td>\n",
       "    </tr>\n",
       "    <tr>\n",
       "      <th>1</th>\n",
       "      <td>valid</td>\n",
       "      <td>4030296</td>\n",
       "      <td>312617887</td>\n",
       "      <td>16220</td>\n",
       "    </tr>\n",
       "    <tr>\n",
       "      <th>2</th>\n",
       "      <td>test</td>\n",
       "      <td>1131400</td>\n",
       "      <td>88594921</td>\n",
       "      <td>11314</td>\n",
       "    </tr>\n",
       "  </tbody>\n",
       "</table>\n",
       "</div>"
      ],
      "text/plain": [
       "  Dataset   Frames     Agents  Scenes\n",
       "0   train  4039527  320124624   16265\n",
       "1   valid  4030296  312617887   16220\n",
       "2    test  1131400   88594921   11314"
      ]
     },
     "execution_count": 10,
     "metadata": {},
     "output_type": "execute_result"
    }
   ],
   "source": [
    "pd.DataFrame([\n",
    "    ['train', len(train_set.frames), len(train_set.agents), len(train_set.scenes)],\n",
    "    ['valid', len(valid_set.frames), len(valid_set.agents), len(valid_set.scenes)],\n",
    "    ['test', len(test_set.frames), len(test_set.agents), len(test_set.scenes)],\n",
    "], columns=['Dataset', 'Frames', 'Agents', 'Scenes'])"
   ]
  },
  {
   "cell_type": "raw",
   "metadata": {
    "papermill": {
     "duration": 0.106898,
     "end_time": "2020-12-08T17:08:52.624261",
     "exception": false,
     "start_time": "2020-12-08T17:08:52.517363",
     "status": "completed"
    },
    "tags": []
   },
   "source": [
    "Attributes of all the datasets"
   ]
  },
  {
   "cell_type": "code",
   "execution_count": 11,
   "metadata": {
    "execution": {
     "iopub.execute_input": "2020-12-08T17:08:52.868864Z",
     "iopub.status.busy": "2020-12-08T17:08:52.866986Z",
     "iopub.status.idle": "2020-12-08T17:08:52.974199Z",
     "shell.execute_reply": "2020-12-08T17:08:52.973529Z"
    },
    "papermill": {
     "duration": 0.242328,
     "end_time": "2020-12-08T17:08:52.974326",
     "exception": false,
     "start_time": "2020-12-08T17:08:52.731998",
     "status": "completed"
    },
    "tags": []
   },
   "outputs": [
    {
     "name": "stdout",
     "output_type": "stream",
     "text": [
      "==================================TRAIN DATA======================================\n",
      "+------------+------------+------------+---------------+-----------------+----------------------+----------------------+----------------------+---------------------+\n",
      "| Num Scenes | Num Frames | Num Agents | Num TR lights | Total Time (hr) | Avg Frames per Scene | Avg Agents per Frame | Avg Scene Time (sec) | Avg Frame frequency |\n",
      "+------------+------------+------------+---------------+-----------------+----------------------+----------------------+----------------------+---------------------+\n",
      "|   16265    |  4039527   | 320124624  |    38735988   |      112.19     |        248.36        |        79.25         |        24.83         |        10.00        |\n",
      "+------------+------------+------------+---------------+-----------------+----------------------+----------------------+----------------------+---------------------+\n",
      "==================================VALIDATE DATA======================================\n",
      "+------------+------------+------------+---------------+-----------------+----------------------+----------------------+----------------------+---------------------+\n",
      "| Num Scenes | Num Frames | Num Agents | Num TR lights | Total Time (hr) | Avg Frames per Scene | Avg Agents per Frame | Avg Scene Time (sec) | Avg Frame frequency |\n",
      "+------------+------------+------------+---------------+-----------------+----------------------+----------------------+----------------------+---------------------+\n",
      "|   16220    |  4030296   | 312617887  |    29277930   |      111.97     |        248.48        |        77.57         |        24.85         |        10.00        |\n",
      "+------------+------------+------------+---------------+-----------------+----------------------+----------------------+----------------------+---------------------+\n",
      "==================================TEST DATA======================================\n",
      "+------------+------------+------------+---------------+-----------------+----------------------+----------------------+----------------------+---------------------+\n",
      "| Num Scenes | Num Frames | Num Agents | Num TR lights | Total Time (hr) | Avg Frames per Scene | Avg Agents per Frame | Avg Scene Time (sec) | Avg Frame frequency |\n",
      "+------------+------------+------------+---------------+-----------------+----------------------+----------------------+----------------------+---------------------+\n",
      "|   11314    |  1131400   |  88594921  |    7854144    |      31.43      |        100.00        |        78.31         |        10.00         |        10.00        |\n",
      "+------------+------------+------------+---------------+-----------------+----------------------+----------------------+----------------------+---------------------+\n"
     ]
    }
   ],
   "source": [
    "print(\"==================================TRAIN DATA======================================\")\n",
    "print(train_set)\n",
    "print(\"==================================VALIDATE DATA======================================\")\n",
    "print(valid_set)\n",
    "print(\"==================================TEST DATA======================================\")\n",
    "print(test_set)"
   ]
  },
  {
   "cell_type": "code",
   "execution_count": 12,
   "metadata": {
    "execution": {
     "iopub.execute_input": "2020-12-08T17:08:53.193236Z",
     "iopub.status.busy": "2020-12-08T17:08:53.192188Z",
     "iopub.status.idle": "2020-12-08T17:08:53.210113Z",
     "shell.execute_reply": "2020-12-08T17:08:53.210691Z"
    },
    "papermill": {
     "duration": 0.129351,
     "end_time": "2020-12-08T17:08:53.210886",
     "exception": false,
     "start_time": "2020-12-08T17:08:53.081535",
     "status": "completed"
    },
    "tags": []
   },
   "outputs": [
    {
     "data": {
      "text/html": [
       "<table class=\"zarr-info\"><tbody><tr><th style=\"text-align: left\">Name</th><td style=\"text-align: left\">/</td></tr><tr><th style=\"text-align: left\">Type</th><td style=\"text-align: left\">zarr.hierarchy.Group</td></tr><tr><th style=\"text-align: left\">Read-only</th><td style=\"text-align: left\">False</td></tr><tr><th style=\"text-align: left\">Store type</th><td style=\"text-align: left\">zarr.storage.DirectoryStore</td></tr><tr><th style=\"text-align: left\">No. members</th><td style=\"text-align: left\">5</td></tr><tr><th style=\"text-align: left\">No. arrays</th><td style=\"text-align: left\">4</td></tr><tr><th style=\"text-align: left\">No. groups</th><td style=\"text-align: left\">1</td></tr><tr><th style=\"text-align: left\">Arrays</th><td style=\"text-align: left\">agents, frames, scenes, traffic_light_faces</td></tr><tr><th style=\"text-align: left\">Groups</th><td style=\"text-align: left\">agents_mask</td></tr></tbody></table>"
      ],
      "text/plain": [
       "Name        : /\n",
       "Type        : zarr.hierarchy.Group\n",
       "Read-only   : False\n",
       "Store type  : zarr.storage.DirectoryStore\n",
       "No. members : 5\n",
       "No. arrays  : 4\n",
       "No. groups  : 1\n",
       "Arrays      : agents, frames, scenes, traffic_light_faces\n",
       "Groups      : agents_mask"
      ]
     },
     "execution_count": 12,
     "metadata": {},
     "output_type": "execute_result"
    }
   ],
   "source": [
    "import zarr\n",
    "train_zarr = zarr.open(base_path+\"/train.zarr\")\n",
    "train_zarr.info"
   ]
  },
  {
   "cell_type": "markdown",
   "metadata": {
    "papermill": {
     "duration": 0.107629,
     "end_time": "2020-12-08T17:08:53.424217",
     "exception": false,
     "start_time": "2020-12-08T17:08:53.316588",
     "status": "completed"
    },
    "tags": []
   },
   "source": [
    "* Arrays: scenes, frames, agents, traffic_light_faces\n",
    "* Groups: agents_mask"
   ]
  },
  {
   "cell_type": "markdown",
   "metadata": {
    "papermill": {
     "duration": 0.105886,
     "end_time": "2020-12-08T17:08:53.636401",
     "exception": false,
     "start_time": "2020-12-08T17:08:53.530515",
     "status": "completed"
    },
    "tags": []
   },
   "source": [
    "## **Metadata Exploration**- **Understanding the data**"
   ]
  },
  {
   "cell_type": "markdown",
   "metadata": {
    "papermill": {
     "duration": 0.109963,
     "end_time": "2020-12-08T17:08:53.854669",
     "exception": false,
     "start_time": "2020-12-08T17:08:53.744706",
     "status": "completed"
    },
    "tags": []
   },
   "source": [
    "## **Agents**"
   ]
  },
  {
   "cell_type": "markdown",
   "metadata": {
    "papermill": {
     "duration": 0.124264,
     "end_time": "2020-12-08T17:08:54.096676",
     "exception": false,
     "start_time": "2020-12-08T17:08:53.972412",
     "status": "completed"
    },
    "tags": []
   },
   "source": [
    "An agent is an observation by the AV of other detected object within its scope. Each entry describes the object in terms of its attributes such as position and velocity, gives the agent a tracking number to track it over multiple frames (only within the same scene) and its most probable label. The label is described as an array of probabilities over each defined class associated with them.\n",
    "\n",
    "* centroid - the agent position (2D)\n",
    "* extent - agent dimmensions (3D-length, width, height)\n",
    "* yaw - the agent oscilation/twist about the vertical plane\n",
    "* velocity - speed of the agent(in euclidian space)\n",
    "* track_id - index of track belonging to the agent\n",
    "* label_probabilities - gives the probability for the agent to belong to one of the different agent type"
   ]
  },
  {
   "cell_type": "code",
   "execution_count": 13,
   "metadata": {
    "execution": {
     "iopub.execute_input": "2020-12-08T17:08:54.320799Z",
     "iopub.status.busy": "2020-12-08T17:08:54.319862Z",
     "iopub.status.idle": "2020-12-08T17:08:54.445368Z",
     "shell.execute_reply": "2020-12-08T17:08:54.444805Z"
    },
    "papermill": {
     "duration": 0.239458,
     "end_time": "2020-12-08T17:08:54.445502",
     "exception": false,
     "start_time": "2020-12-08T17:08:54.206044",
     "status": "completed"
    },
    "tags": []
   },
   "outputs": [
    {
     "name": "stdout",
     "output_type": "stream",
     "text": [
      "+------------+------------+------------+---------------+-----------------+----------------------+----------------------+----------------------+---------------------+\n",
      "| Num Scenes | Num Frames | Num Agents | Num TR lights | Total Time (hr) | Avg Frames per Scene | Avg Agents per Frame | Avg Scene Time (sec) | Avg Frame frequency |\n",
      "+------------+------------+------------+---------------+-----------------+----------------------+----------------------+----------------------+---------------------+\n",
      "|   16220    |  4030296   | 312617887  |    29277930   |      111.97     |        248.48        |        77.57         |        24.85         |        10.00        |\n",
      "+------------+------------+------------+---------------+-----------------+----------------------+----------------------+----------------------+---------------------+\n"
     ]
    }
   ],
   "source": [
    "#Sample dataset\n",
    "\n",
    "dataset_path = dm.require(cfg_data[\"valid_data_loader\"][\"key\"])\n",
    "zarr_dataset = ChunkedDataset(dataset_path)\n",
    "zarr_dataset.open()\n",
    "print(zarr_dataset)"
   ]
  },
  {
   "cell_type": "code",
   "execution_count": 14,
   "metadata": {
    "execution": {
     "iopub.execute_input": "2020-12-08T17:08:54.670815Z",
     "iopub.status.busy": "2020-12-08T17:08:54.670084Z",
     "iopub.status.idle": "2020-12-08T17:08:54.676222Z",
     "shell.execute_reply": "2020-12-08T17:08:54.677058Z"
    },
    "papermill": {
     "duration": 0.122824,
     "end_time": "2020-12-08T17:08:54.677247",
     "exception": false,
     "start_time": "2020-12-08T17:08:54.554423",
     "status": "completed"
    },
    "tags": []
   },
   "outputs": [
    {
     "data": {
      "text/plain": [
       "'agents = zarr_dataset.agents\\nagents_df = pd.DataFrame(agents)\\n#agents_df = agents_df[10000]\\nagents_df.columns = [\"data\"]; features = [\\'centroid\\', \\'extent\\', \\'yaw\\', \\'velocity\\', \\'track_id\\', \\'label_probabilities\\']\\n\\nfor i, feature in enumerate(features):\\n    agents_df[feature] = agents_df[\\'data\\'].apply(lambda x: x[i])\\nagents_df.drop(columns=[\"data\"],inplace=True)\\n\\nprint(f\"agents dataset: {agents_df.shape}\")\\nagents_df.head()'"
      ]
     },
     "execution_count": 14,
     "metadata": {},
     "output_type": "execute_result"
    }
   ],
   "source": [
    "\"\"\"agents = zarr_dataset.agents\n",
    "agents_df = pd.DataFrame(agents)\n",
    "#agents_df = agents_df[10000]\n",
    "agents_df.columns = [\"data\"]; features = ['centroid', 'extent', 'yaw', 'velocity', 'track_id', 'label_probabilities']\n",
    "\n",
    "for i, feature in enumerate(features):\n",
    "    agents_df[feature] = agents_df['data'].apply(lambda x: x[i])\n",
    "agents_df.drop(columns=[\"data\"],inplace=True)\n",
    "\n",
    "print(f\"agents dataset: {agents_df.shape}\")\n",
    "agents_df.head()\"\"\""
   ]
  },
  {
   "cell_type": "code",
   "execution_count": 15,
   "metadata": {
    "execution": {
     "iopub.execute_input": "2020-12-08T17:08:54.927473Z",
     "iopub.status.busy": "2020-12-08T17:08:54.926563Z",
     "iopub.status.idle": "2020-12-08T17:08:54.931161Z",
     "shell.execute_reply": "2020-12-08T17:08:54.930547Z"
    },
    "papermill": {
     "duration": 0.145347,
     "end_time": "2020-12-08T17:08:54.931288",
     "exception": false,
     "start_time": "2020-12-08T17:08:54.785941",
     "status": "completed"
    },
    "tags": []
   },
   "outputs": [],
   "source": [
    "# del agents_df"
   ]
  },
  {
   "cell_type": "markdown",
   "metadata": {
    "papermill": {
     "duration": 0.176383,
     "end_time": "2020-12-08T17:08:55.223750",
     "exception": false,
     "start_time": "2020-12-08T17:08:55.047367",
     "status": "completed"
    },
    "tags": []
   },
   "source": [
    "## **Scenes**"
   ]
  },
  {
   "cell_type": "markdown",
   "metadata": {
    "papermill": {
     "duration": 0.109312,
     "end_time": "2020-12-08T17:08:55.442547",
     "exception": false,
     "start_time": "2020-12-08T17:08:55.333235",
     "status": "completed"
    },
    "tags": []
   },
   "source": [
    "Every scene is identified by a host (i.e. which car was used to collect it) and a start and end time. It consists of multiple frames (=snapshots at discretized time intervals). Scene datatype stores references to its corresponding frames in terms of the start and end index within the frames array. The frames in between these indices correspond to the scene (including start index, excluding end index)."
   ]
  },
  {
   "cell_type": "code",
   "execution_count": 16,
   "metadata": {
    "execution": {
     "iopub.execute_input": "2020-12-08T17:08:55.677741Z",
     "iopub.status.busy": "2020-12-08T17:08:55.676842Z",
     "iopub.status.idle": "2020-12-08T17:08:55.871942Z",
     "shell.execute_reply": "2020-12-08T17:08:55.872522Z"
    },
    "papermill": {
     "duration": 0.318199,
     "end_time": "2020-12-08T17:08:55.872680",
     "exception": false,
     "start_time": "2020-12-08T17:08:55.554481",
     "status": "completed"
    },
    "tags": []
   },
   "outputs": [
    {
     "name": "stdout",
     "output_type": "stream",
     "text": [
      "scenes dataset: (16265, 4)\n"
     ]
    },
    {
     "data": {
      "text/html": [
       "<div>\n",
       "<style scoped>\n",
       "    .dataframe tbody tr th:only-of-type {\n",
       "        vertical-align: middle;\n",
       "    }\n",
       "\n",
       "    .dataframe tbody tr th {\n",
       "        vertical-align: top;\n",
       "    }\n",
       "\n",
       "    .dataframe thead th {\n",
       "        text-align: right;\n",
       "    }\n",
       "</style>\n",
       "<table border=\"1\" class=\"dataframe\">\n",
       "  <thead>\n",
       "    <tr style=\"text-align: right;\">\n",
       "      <th></th>\n",
       "      <th>Frame_index_interval</th>\n",
       "      <th>Host</th>\n",
       "      <th>start_time</th>\n",
       "      <th>end_time</th>\n",
       "    </tr>\n",
       "  </thead>\n",
       "  <tbody>\n",
       "    <tr>\n",
       "      <th>0</th>\n",
       "      <td>[0, 248]</td>\n",
       "      <td>host-a013</td>\n",
       "      <td>1572643684617362176</td>\n",
       "      <td>1572643709617362176</td>\n",
       "    </tr>\n",
       "    <tr>\n",
       "      <th>1</th>\n",
       "      <td>[248, 497]</td>\n",
       "      <td>host-a013</td>\n",
       "      <td>1572643749559148288</td>\n",
       "      <td>1572643774559148288</td>\n",
       "    </tr>\n",
       "    <tr>\n",
       "      <th>2</th>\n",
       "      <td>[497, 746]</td>\n",
       "      <td>host-a013</td>\n",
       "      <td>1572643774559148288</td>\n",
       "      <td>1572643799559148288</td>\n",
       "    </tr>\n",
       "    <tr>\n",
       "      <th>3</th>\n",
       "      <td>[746, 995]</td>\n",
       "      <td>host-a013</td>\n",
       "      <td>1572643799559148288</td>\n",
       "      <td>1572643824559148288</td>\n",
       "    </tr>\n",
       "    <tr>\n",
       "      <th>4</th>\n",
       "      <td>[995, 1244]</td>\n",
       "      <td>host-a013</td>\n",
       "      <td>1572643824559148288</td>\n",
       "      <td>1572643849559148288</td>\n",
       "    </tr>\n",
       "  </tbody>\n",
       "</table>\n",
       "</div>"
      ],
      "text/plain": [
       "  Frame_index_interval       Host           start_time             end_time\n",
       "0             [0, 248]  host-a013  1572643684617362176  1572643709617362176\n",
       "1           [248, 497]  host-a013  1572643749559148288  1572643774559148288\n",
       "2           [497, 746]  host-a013  1572643774559148288  1572643799559148288\n",
       "3           [746, 995]  host-a013  1572643799559148288  1572643824559148288\n",
       "4          [995, 1244]  host-a013  1572643824559148288  1572643849559148288"
      ]
     },
     "execution_count": 16,
     "metadata": {},
     "output_type": "execute_result"
    }
   ],
   "source": [
    "scenes = train_set.scenes\n",
    "scenes_df = pd.DataFrame(scenes)\n",
    "scenes_df.columns = [\"data\"]; features = ['Frame_index_interval', 'Host', 'start_time', 'end_time']\n",
    "for i, feature in enumerate(features):\n",
    "    scenes_df[feature] = scenes_df['data'].apply(lambda x: x[i])\n",
    "scenes_df.drop(columns=[\"data\"],inplace=True)\n",
    "print(f\"scenes dataset: {scenes_df.shape}\")\n",
    "scenes_df.head()"
   ]
  },
  {
   "cell_type": "markdown",
   "metadata": {
    "papermill": {
     "duration": 0.166233,
     "end_time": "2020-12-08T17:08:56.218241",
     "exception": false,
     "start_time": "2020-12-08T17:08:56.052008",
     "status": "completed"
    },
    "tags": []
   },
   "source": [
    "Let's try to see the countplot of the scenes captured by different hosts. "
   ]
  },
  {
   "cell_type": "code",
   "execution_count": 17,
   "metadata": {
    "execution": {
     "iopub.execute_input": "2020-12-08T17:08:56.579334Z",
     "iopub.status.busy": "2020-12-08T17:08:56.578240Z",
     "iopub.status.idle": "2020-12-08T17:08:57.036016Z",
     "shell.execute_reply": "2020-12-08T17:08:57.035024Z"
    },
    "papermill": {
     "duration": 0.642651,
     "end_time": "2020-12-08T17:08:57.036233",
     "exception": false,
     "start_time": "2020-12-08T17:08:56.393582",
     "status": "completed"
    },
    "tags": []
   },
   "outputs": [
    {
     "data": {
      "image/png": "[encoded data removed]",
      "text/plain": [
       "<Figure size 432x288 with 1 Axes>"
      ]
     },
     "metadata": {
      "needs_background": "light"
     },
     "output_type": "display_data"
    }
   ],
   "source": [
    "f, ax = plt.subplots(1,1, figsize=(6,4))\n",
    "sns.countplot(scenes_df.Host)\n",
    "plt.xlabel('Host')\n",
    "plt.ylabel(f'Count')\n",
    "plt.title(\"Scenes host count distribution\")\n",
    "plt.show()"
   ]
  },
  {
   "cell_type": "markdown",
   "metadata": {
    "papermill": {
     "duration": 0.184931,
     "end_time": "2020-12-08T17:08:57.412113",
     "exception": false,
     "start_time": "2020-12-08T17:08:57.227182",
     "status": "completed"
    },
    "tags": []
   },
   "source": [
    "Trying to see distribution of frame times for train, test and validate sets"
   ]
  },
  {
   "cell_type": "code",
   "execution_count": 18,
   "metadata": {
    "execution": {
     "iopub.execute_input": "2020-12-08T17:08:57.739762Z",
     "iopub.status.busy": "2020-12-08T17:08:57.738509Z",
     "iopub.status.idle": "2020-12-08T17:08:58.100337Z",
     "shell.execute_reply": "2020-12-08T17:08:58.099166Z"
    },
    "papermill": {
     "duration": 0.516925,
     "end_time": "2020-12-08T17:08:58.100460",
     "exception": false,
     "start_time": "2020-12-08T17:08:57.583535",
     "status": "completed"
    },
    "tags": []
   },
   "outputs": [
    {
     "data": {
      "text/html": [
       "<div>\n",
       "<style scoped>\n",
       "    .dataframe tbody tr th:only-of-type {\n",
       "        vertical-align: middle;\n",
       "    }\n",
       "\n",
       "    .dataframe tbody tr th {\n",
       "        vertical-align: top;\n",
       "    }\n",
       "\n",
       "    .dataframe thead th {\n",
       "        text-align: right;\n",
       "    }\n",
       "</style>\n",
       "<table border=\"1\" class=\"dataframe\">\n",
       "  <thead>\n",
       "    <tr style=\"text-align: right;\">\n",
       "      <th></th>\n",
       "      <th>host</th>\n",
       "      <th>start</th>\n",
       "      <th>end</th>\n",
       "      <th>dataset</th>\n",
       "    </tr>\n",
       "  </thead>\n",
       "  <tbody>\n",
       "    <tr>\n",
       "      <th>0</th>\n",
       "      <td>host-a013</td>\n",
       "      <td>1572643684617362176</td>\n",
       "      <td>1572643709617362176</td>\n",
       "      <td>train</td>\n",
       "    </tr>\n",
       "    <tr>\n",
       "      <th>1</th>\n",
       "      <td>host-a013</td>\n",
       "      <td>1572643749559148288</td>\n",
       "      <td>1572643774559148288</td>\n",
       "      <td>train</td>\n",
       "    </tr>\n",
       "    <tr>\n",
       "      <th>2</th>\n",
       "      <td>host-a013</td>\n",
       "      <td>1572643774559148288</td>\n",
       "      <td>1572643799559148288</td>\n",
       "      <td>train</td>\n",
       "    </tr>\n",
       "    <tr>\n",
       "      <th>3</th>\n",
       "      <td>host-a013</td>\n",
       "      <td>1572643799559148288</td>\n",
       "      <td>1572643824559148288</td>\n",
       "      <td>train</td>\n",
       "    </tr>\n",
       "    <tr>\n",
       "      <th>4</th>\n",
       "      <td>host-a013</td>\n",
       "      <td>1572643824559148288</td>\n",
       "      <td>1572643849559148288</td>\n",
       "      <td>train</td>\n",
       "    </tr>\n",
       "    <tr>\n",
       "      <th>...</th>\n",
       "      <td>...</td>\n",
       "      <td>...</td>\n",
       "      <td>...</td>\n",
       "      <td>...</td>\n",
       "    </tr>\n",
       "    <tr>\n",
       "      <th>16215</th>\n",
       "      <td>host-a118</td>\n",
       "      <td>1578604802779991040</td>\n",
       "      <td>1578604827779991040</td>\n",
       "      <td>valid</td>\n",
       "    </tr>\n",
       "    <tr>\n",
       "      <th>16216</th>\n",
       "      <td>host-a118</td>\n",
       "      <td>1578604827779991040</td>\n",
       "      <td>1578604852779991040</td>\n",
       "      <td>valid</td>\n",
       "    </tr>\n",
       "    <tr>\n",
       "      <th>16217</th>\n",
       "      <td>host-a118</td>\n",
       "      <td>1578604852779991040</td>\n",
       "      <td>1578604877779991040</td>\n",
       "      <td>valid</td>\n",
       "    </tr>\n",
       "    <tr>\n",
       "      <th>16218</th>\n",
       "      <td>host-a118</td>\n",
       "      <td>1578604877779991040</td>\n",
       "      <td>1578604902779991040</td>\n",
       "      <td>valid</td>\n",
       "    </tr>\n",
       "    <tr>\n",
       "      <th>16219</th>\n",
       "      <td>host-a118</td>\n",
       "      <td>1578604902779991040</td>\n",
       "      <td>1578604927779991040</td>\n",
       "      <td>valid</td>\n",
       "    </tr>\n",
       "  </tbody>\n",
       "</table>\n",
       "<p>43799 rows × 4 columns</p>\n",
       "</div>"
      ],
      "text/plain": [
       "            host                start                  end dataset\n",
       "0      host-a013  1572643684617362176  1572643709617362176   train\n",
       "1      host-a013  1572643749559148288  1572643774559148288   train\n",
       "2      host-a013  1572643774559148288  1572643799559148288   train\n",
       "3      host-a013  1572643799559148288  1572643824559148288   train\n",
       "4      host-a013  1572643824559148288  1572643849559148288   train\n",
       "...          ...                  ...                  ...     ...\n",
       "16215  host-a118  1578604802779991040  1578604827779991040   valid\n",
       "16216  host-a118  1578604827779991040  1578604852779991040   valid\n",
       "16217  host-a118  1578604852779991040  1578604877779991040   valid\n",
       "16218  host-a118  1578604877779991040  1578604902779991040   valid\n",
       "16219  host-a118  1578604902779991040  1578604927779991040   valid\n",
       "\n",
       "[43799 rows x 4 columns]"
      ]
     },
     "execution_count": 18,
     "metadata": {},
     "output_type": "execute_result"
    }
   ],
   "source": [
    "train_scenes = pd.DataFrame(\n",
    "    [[f['host'], f['start_time'], f['end_time']] for f in train_set.scenes],columns=['host', 'start', 'end'])\n",
    "valid_scenes = pd.DataFrame(\n",
    "    [[f['host'], f['start_time'], f['end_time']] for f in valid_set.scenes],columns=['host', 'start', 'end'])\n",
    "test_scenes = pd.DataFrame(\n",
    "    [[f['host'], f['start_time'], f['end_time']] for f in test_set.scenes],columns=['host', 'start', 'end']\n",
    ")\n",
    "train_scenes['dataset'] = 'train'\n",
    "test_scenes['dataset'] = 'test'\n",
    "valid_scenes['dataset'] = 'valid'\n",
    "scenes = pd.concat([train_scenes, test_scenes, valid_scenes])\n",
    "scenes"
   ]
  },
  {
   "cell_type": "code",
   "execution_count": 19,
   "metadata": {
    "execution": {
     "iopub.execute_input": "2020-12-08T17:08:58.330069Z",
     "iopub.status.busy": "2020-12-08T17:08:58.327932Z",
     "iopub.status.idle": "2020-12-08T17:08:58.330827Z",
     "shell.execute_reply": "2020-12-08T17:08:58.331398Z"
    },
    "papermill": {
     "duration": 0.120453,
     "end_time": "2020-12-08T17:08:58.331544",
     "exception": false,
     "start_time": "2020-12-08T17:08:58.211091",
     "status": "completed"
    },
    "tags": []
   },
   "outputs": [],
   "source": [
    "del scenes_df, train_scenes, valid_scenes, test_scenes"
   ]
  },
  {
   "cell_type": "markdown",
   "metadata": {
    "papermill": {
     "duration": 0.122818,
     "end_time": "2020-12-08T17:08:58.579115",
     "exception": false,
     "start_time": "2020-12-08T17:08:58.456297",
     "status": "completed"
    },
    "tags": []
   },
   "source": [
    "## **Frames**"
   ]
  },
  {
   "cell_type": "markdown",
   "metadata": {
    "papermill": {
     "duration": 0.120575,
     "end_time": "2020-12-08T17:08:58.824054",
     "exception": false,
     "start_time": "2020-12-08T17:08:58.703479",
     "status": "completed"
    },
    "tags": []
   },
   "source": [
    "Frame captures all information that was observed at a time. This includes\n",
    "\n",
    "* timestamp, which the frame describes\n",
    "* data about the ego vehicle itself such as rotation and position\n",
    "* reference to other agents (vehicles, cyclists and pedestrians) captured by vehicle's sensors\n",
    "* reference to all traffic light faces (see below) for all visible lanes."
   ]
  },
  {
   "cell_type": "code",
   "execution_count": 20,
   "metadata": {
    "execution": {
     "iopub.execute_input": "2020-12-08T17:08:59.100192Z",
     "iopub.status.busy": "2020-12-08T17:08:59.099172Z",
     "iopub.status.idle": "2020-12-08T17:10:06.147049Z",
     "shell.execute_reply": "2020-12-08T17:10:06.147711Z"
    },
    "papermill": {
     "duration": 67.171585,
     "end_time": "2020-12-08T17:10:06.147916",
     "exception": false,
     "start_time": "2020-12-08T17:08:58.976331",
     "status": "completed"
    },
    "tags": []
   },
   "outputs": [
    {
     "data": {
      "text/html": [
       "<div>\n",
       "<style scoped>\n",
       "    .dataframe tbody tr th:only-of-type {\n",
       "        vertical-align: middle;\n",
       "    }\n",
       "\n",
       "    .dataframe tbody tr th {\n",
       "        vertical-align: top;\n",
       "    }\n",
       "\n",
       "    .dataframe thead th {\n",
       "        text-align: right;\n",
       "    }\n",
       "</style>\n",
       "<table border=\"1\" class=\"dataframe\">\n",
       "  <thead>\n",
       "    <tr style=\"text-align: right;\">\n",
       "      <th></th>\n",
       "      <th>dataset</th>\n",
       "      <th>day</th>\n",
       "      <th>count</th>\n",
       "    </tr>\n",
       "  </thead>\n",
       "  <tbody>\n",
       "    <tr>\n",
       "      <th>0</th>\n",
       "      <td>test</td>\n",
       "      <td>2020-01-10</td>\n",
       "      <td>52900</td>\n",
       "    </tr>\n",
       "    <tr>\n",
       "      <th>1</th>\n",
       "      <td>test</td>\n",
       "      <td>2020-01-11</td>\n",
       "      <td>96200</td>\n",
       "    </tr>\n",
       "    <tr>\n",
       "      <th>2</th>\n",
       "      <td>test</td>\n",
       "      <td>2020-01-14</td>\n",
       "      <td>52000</td>\n",
       "    </tr>\n",
       "    <tr>\n",
       "      <th>3</th>\n",
       "      <td>test</td>\n",
       "      <td>2020-01-15</td>\n",
       "      <td>68300</td>\n",
       "    </tr>\n",
       "    <tr>\n",
       "      <th>4</th>\n",
       "      <td>test</td>\n",
       "      <td>2020-01-16</td>\n",
       "      <td>46600</td>\n",
       "    </tr>\n",
       "    <tr>\n",
       "      <th>...</th>\n",
       "      <td>...</td>\n",
       "      <td>...</td>\n",
       "      <td>...</td>\n",
       "    </tr>\n",
       "    <tr>\n",
       "      <th>127</th>\n",
       "      <td>valid</td>\n",
       "      <td>2020-02-25</td>\n",
       "      <td>126441</td>\n",
       "    </tr>\n",
       "    <tr>\n",
       "      <th>128</th>\n",
       "      <td>valid</td>\n",
       "      <td>2020-02-29</td>\n",
       "      <td>12930</td>\n",
       "    </tr>\n",
       "    <tr>\n",
       "      <th>129</th>\n",
       "      <td>valid</td>\n",
       "      <td>2020-03-05</td>\n",
       "      <td>199206</td>\n",
       "    </tr>\n",
       "    <tr>\n",
       "      <th>130</th>\n",
       "      <td>valid</td>\n",
       "      <td>2020-03-06</td>\n",
       "      <td>133718</td>\n",
       "    </tr>\n",
       "    <tr>\n",
       "      <th>131</th>\n",
       "      <td>valid</td>\n",
       "      <td>2020-03-14</td>\n",
       "      <td>46680</td>\n",
       "    </tr>\n",
       "  </tbody>\n",
       "</table>\n",
       "<p>132 rows × 3 columns</p>\n",
       "</div>"
      ],
      "text/plain": [
       "    dataset        day   count\n",
       "0      test 2020-01-10   52900\n",
       "1      test 2020-01-11   96200\n",
       "2      test 2020-01-14   52000\n",
       "3      test 2020-01-15   68300\n",
       "4      test 2020-01-16   46600\n",
       "..      ...        ...     ...\n",
       "127   valid 2020-02-25  126441\n",
       "128   valid 2020-02-29   12930\n",
       "129   valid 2020-03-05  199206\n",
       "130   valid 2020-03-06  133718\n",
       "131   valid 2020-03-14   46680\n",
       "\n",
       "[132 rows x 3 columns]"
      ]
     },
     "execution_count": 20,
     "metadata": {},
     "output_type": "execute_result"
    }
   ],
   "source": [
    "import datetime\n",
    "train_times = pd.DataFrame({'timestamp': [datetime.datetime.fromtimestamp(f['timestamp']// 10**9) for f in train_set.frames]})\n",
    "test_times = pd.DataFrame({'timestamp': [datetime.datetime.fromtimestamp(f['timestamp']// 10**9) for f in test_set.frames]})\n",
    "valid_times = pd.DataFrame({'timestamp': [datetime.datetime.fromtimestamp(f['timestamp']// 10**9) for f in valid_set.frames]})\n",
    "\n",
    "train_times['dataset'], test_times['dataset'], valid_times['dataset'] = 'train', 'test', 'valid'\n",
    "frame_times = pd.concat([train_times, test_times, valid_times])\n",
    "\n",
    "frame_times['count'] = 1\n",
    "frame_times['H'] = frame_times.timestamp.dt.round(\"H\")\n",
    "frame_times['day'] = frame_times.timestamp.dt.round(\"D\")\n",
    "\n",
    "time_df = frame_times.groupby(['dataset', 'day']).sum().reset_index()\n",
    "time_df"
   ]
  },
  {
   "cell_type": "markdown",
   "metadata": {
    "papermill": {
     "duration": 0.111533,
     "end_time": "2020-12-08T17:10:06.372149",
     "exception": false,
     "start_time": "2020-12-08T17:10:06.260616",
     "status": "completed"
    },
    "tags": []
   },
   "source": [
    "Analyzing train, test, valid time frame data split"
   ]
  },
  {
   "cell_type": "code",
   "execution_count": 21,
   "metadata": {
    "execution": {
     "iopub.execute_input": "2020-12-08T17:10:06.617263Z",
     "iopub.status.busy": "2020-12-08T17:10:06.609735Z",
     "iopub.status.idle": "2020-12-08T17:10:07.096161Z",
     "shell.execute_reply": "2020-12-08T17:10:07.096727Z"
    },
    "papermill": {
     "duration": 0.612929,
     "end_time": "2020-12-08T17:10:07.096898",
     "exception": false,
     "start_time": "2020-12-08T17:10:06.483969",
     "status": "completed"
    },
    "tags": []
   },
   "outputs": [
    {
     "data": {
      "text/plain": [
       "Text(0.5, 1.0, 'Distribution of Frame counts for Train-Valid-Test datasets')"
      ]
     },
     "execution_count": 21,
     "metadata": {},
     "output_type": "execute_result"
    },
    {
     "data": {
      "image/png": "[encoded data removed]",
      "text/plain": [
       "<Figure size 1008x576 with 1 Axes>"
      ]
     },
     "metadata": {},
     "output_type": "display_data"
    }
   ],
   "source": [
    "import seaborn as sns\n",
    "sns.set(rc={'figure.figsize':(14,8)})\n",
    "ax = sns.lineplot(data=time_df, x='day', y='count', hue='dataset')\n",
    "ax.set(xlabel='Dates', ylabel='Frame Count')\n",
    "plt.title('Distribution of Frame counts for Train-Valid-Test datasets')"
   ]
  },
  {
   "cell_type": "markdown",
   "metadata": {
    "papermill": {
     "duration": 0.115933,
     "end_time": "2020-12-08T17:10:07.332192",
     "exception": false,
     "start_time": "2020-12-08T17:10:07.216259",
     "status": "completed"
    },
    "tags": []
   },
   "source": [
    "Model libraries"
   ]
  },
  {
   "cell_type": "code",
   "execution_count": 22,
   "metadata": {
    "execution": {
     "iopub.execute_input": "2020-12-08T17:10:07.569942Z",
     "iopub.status.busy": "2020-12-08T17:10:07.569177Z",
     "iopub.status.idle": "2020-12-08T17:10:13.038927Z",
     "shell.execute_reply": "2020-12-08T17:10:13.037185Z"
    },
    "papermill": {
     "duration": 5.590884,
     "end_time": "2020-12-08T17:10:13.039115",
     "exception": false,
     "start_time": "2020-12-08T17:10:07.448231",
     "status": "completed"
    },
    "tags": []
   },
   "outputs": [],
   "source": [
    "from keras.utils.conv_utils import convert_kernel\n",
    "from keras.layers import (Input, Conv2D, Flatten,Dense,AveragePooling2D,Dropout,MaxPooling2D,BatchNormalization)\n",
    "from keras.models import Model, Sequential\n",
    "from keras import optimizers"
   ]
  },
  {
   "cell_type": "markdown",
   "metadata": {
    "papermill": {
     "duration": 0.118619,
     "end_time": "2020-12-08T17:10:13.322028",
     "exception": false,
     "start_time": "2020-12-08T17:10:13.203409",
     "status": "completed"
    },
    "tags": []
   },
   "source": [
    "## **Baseline Model-ResNet18**"
   ]
  },
  {
   "cell_type": "code",
   "execution_count": 23,
   "metadata": {
    "execution": {
     "iopub.execute_input": "2020-12-08T17:10:13.584785Z",
     "iopub.status.busy": "2020-12-08T17:10:13.583764Z",
     "iopub.status.idle": "2020-12-08T17:10:13.588545Z",
     "shell.execute_reply": "2020-12-08T17:10:13.587922Z"
    },
    "papermill": {
     "duration": 0.148718,
     "end_time": "2020-12-08T17:10:13.588682",
     "exception": false,
     "start_time": "2020-12-08T17:10:13.439964",
     "status": "completed"
    },
    "tags": []
   },
   "outputs": [],
   "source": [
    "class ResNetModel(nn.Module):\n",
    "    \n",
    "    def __init__(self, cfg):\n",
    "        super().__init__()\n",
    "        \n",
    "        # set pretrained=True while training\n",
    "        self.backbone = resnet18(pretrained=False) \n",
    "        past_frames = cfg_data[\"model_params\"][\"history_num_frames\"]\n",
    "        modes = 3\n",
    "        n_history_channels = (past_frames + 1) * 2\n",
    "        in_channels = modes + n_history_channels ##25\n",
    "\n",
    "        self.backbone.conv1 = nn.Conv2d(\n",
    "            in_channels,\n",
    "            self.backbone.conv1.out_channels,\n",
    "            kernel_size=self.backbone.conv1.kernel_size,\n",
    "            stride=self.backbone.conv1.stride,\n",
    "            padding=self.backbone.conv1.padding,\n",
    "            bias=False,\n",
    "        )\n",
    "        \n",
    "        # X, Y coords for the future positions (output shape: Bx50x2)\n",
    "        future_frames = cfg_data[\"model_params\"][\"future_num_frames\"]\n",
    "        n_targets = 2 * future_frames\n",
    "        \n",
    "        # This is 512 for resnet18 ; And it is 2048 for the resnet50 and above\n",
    "        model_out_features = 512\n",
    "        self.head = nn.Sequential(nn.Linear(in_features=model_out_features, out_features=4096),)\n",
    "\n",
    "        self.out_layer = nn.Linear(4096, out_features=n_targets)\n",
    "        \n",
    "    def forward(self, x):\n",
    "        x = self.backbone.conv1(x)\n",
    "        x = self.backbone.bn1(x)\n",
    "        x = self.backbone.relu(x)\n",
    "        x = self.backbone.maxpool(x)\n",
    "\n",
    "        out = self.backbone.layer1(x)\n",
    "        out = self.backbone.layer2(out)\n",
    "        out = self.backbone.layer3(out)\n",
    "        out = self.backbone.layer4(out)\n",
    "\n",
    "        out = self.backbone.avgpool(out)\n",
    "        out = torch.flatten(out, 1) \n",
    "        out = self.out_layer(self.head(out))\n",
    "        \n",
    "        return out"
   ]
  },
  {
   "cell_type": "markdown",
   "metadata": {
    "papermill": {
     "duration": 0.121906,
     "end_time": "2020-12-08T17:10:13.844587",
     "exception": false,
     "start_time": "2020-12-08T17:10:13.722681",
     "status": "completed"
    },
    "tags": []
   },
   "source": [
    "Loading train, test and valid datasets"
   ]
  },
  {
   "cell_type": "code",
   "execution_count": 24,
   "metadata": {
    "execution": {
     "iopub.execute_input": "2020-12-08T17:10:14.087445Z",
     "iopub.status.busy": "2020-12-08T17:10:14.086603Z",
     "iopub.status.idle": "2020-12-08T17:15:51.983161Z",
     "shell.execute_reply": "2020-12-08T17:15:51.984114Z"
    },
    "papermill": {
     "duration": 338.025112,
     "end_time": "2020-12-08T17:15:51.984379",
     "exception": false,
     "start_time": "2020-12-08T17:10:13.959267",
     "status": "completed"
    },
    "tags": []
   },
   "outputs": [
    {
     "name": "stdout",
     "output_type": "stream",
     "text": [
      "+------------+------------+------------+---------------+-----------------+----------------------+----------------------+----------------------+---------------------+\n",
      "| Num Scenes | Num Frames | Num Agents | Num TR lights | Total Time (hr) | Avg Frames per Scene | Avg Agents per Frame | Avg Scene Time (sec) | Avg Frame frequency |\n",
      "+------------+------------+------------+---------------+-----------------+----------------------+----------------------+----------------------+---------------------+\n",
      "|   16265    |  4039527   | 320124624  |    38735988   |      112.19     |        248.36        |        79.25         |        24.83         |        10.00        |\n",
      "+------------+------------+------------+---------------+-----------------+----------------------+----------------------+----------------------+---------------------+ +------------+------------+------------+---------------+-----------------+----------------------+----------------------+----------------------+---------------------+\n",
      "| Num Scenes | Num Frames | Num Agents | Num TR lights | Total Time (hr) | Avg Frames per Scene | Avg Agents per Frame | Avg Scene Time (sec) | Avg Frame frequency |\n",
      "+------------+------------+------------+---------------+-----------------+----------------------+----------------------+----------------------+---------------------+\n",
      "|   16220    |  4030296   | 312617887  |    29277930   |      111.97     |        248.48        |        77.57         |        24.85         |        10.00        |\n",
      "+------------+------------+------------+---------------+-----------------+----------------------+----------------------+----------------------+---------------------+ +------------+------------+------------+---------------+-----------------+----------------------+----------------------+----------------------+---------------------+\n",
      "| Num Scenes | Num Frames | Num Agents | Num TR lights | Total Time (hr) | Avg Frames per Scene | Avg Agents per Frame | Avg Scene Time (sec) | Avg Frame frequency |\n",
      "+------------+------------+------------+---------------+-----------------+----------------------+----------------------+----------------------+---------------------+\n",
      "|   11314    |  1131400   |  88594921  |    7854144    |      31.43      |        100.00        |        78.31         |        10.00         |        10.00        |\n",
      "+------------+------------+------------+---------------+-----------------+----------------------+----------------------+----------------------+---------------------+\n"
     ]
    }
   ],
   "source": [
    "rasterizer = build_rasterizer(cfg_data, dm)\n",
    "\n",
    "train_cfg = cfg_data[\"train_data_loader\"]\n",
    "train_zarr = ChunkedDataset(dm.require(train_cfg[\"key\"])).open()\n",
    "train_dataset = AgentDataset(cfg_data, train_zarr, rasterizer)\n",
    "train_dataloader = DataLoader(train_dataset, shuffle=train_cfg[\"shuffle\"], \n",
    "                              batch_size=train_cfg[\"batch_size\"], \n",
    "                              num_workers=train_cfg[\"num_workers\"])\n",
    "\n",
    "\n",
    "valid_cfg = cfg_data[\"valid_data_loader\"]\n",
    "validate_zarr = ChunkedDataset(dm.require(valid_cfg[\"key\"])).open()\n",
    "valid_dataset = AgentDataset(cfg_data, validate_zarr, rasterizer)\n",
    "valid_dataloader = DataLoader(valid_dataset, \n",
    "                              shuffle=valid_cfg[\"shuffle\"], \n",
    "                              batch_size=valid_cfg[\"batch_size\"], \n",
    "                              num_workers=valid_cfg[\"num_workers\"])\n",
    "\n",
    "test_cfg = cfg_data[\"test_data_loader\"]\n",
    "test_zarr = ChunkedDataset(dm.require(test_cfg[\"key\"])).open()\n",
    "test_mask = np.load(base_path + \"/mask.npz\")[\"arr_0\"]\n",
    "test_dataset = AgentDataset(cfg_data, test_zarr, rasterizer, agents_mask=test_mask)\n",
    "test_dataloader = DataLoader(test_dataset, \n",
    "                              shuffle=test_cfg[\"shuffle\"], \n",
    "                              batch_size=test_cfg[\"batch_size\"], \n",
    "                              num_workers=test_cfg[\"num_workers\"])\n",
    "print(train_dataset, valid_dataset, test_dataset)"
   ]
  },
  {
   "cell_type": "code",
   "execution_count": 25,
   "metadata": {
    "execution": {
     "iopub.execute_input": "2020-12-08T17:15:52.341316Z",
     "iopub.status.busy": "2020-12-08T17:15:52.340023Z",
     "iopub.status.idle": "2020-12-08T17:15:59.285416Z",
     "shell.execute_reply": "2020-12-08T17:15:59.285933Z"
    },
    "papermill": {
     "duration": 7.125961,
     "end_time": "2020-12-08T17:15:59.286077",
     "exception": false,
     "start_time": "2020-12-08T17:15:52.160116",
     "status": "completed"
    },
    "tags": []
   },
   "outputs": [
    {
     "data": {
      "text/plain": [
       "ResNetModel(\n",
       "  (backbone): ResNet(\n",
       "    (conv1): Conv2d(25, 64, kernel_size=(7, 7), stride=(2, 2), padding=(3, 3), bias=False)\n",
       "    (bn1): BatchNorm2d(64, eps=1e-05, momentum=0.1, affine=True, track_running_stats=True)\n",
       "    (relu): ReLU(inplace=True)\n",
       "    (maxpool): MaxPool2d(kernel_size=3, stride=2, padding=1, dilation=1, ceil_mode=False)\n",
       "    (layer1): Sequential(\n",
       "      (0): BasicBlock(\n",
       "        (conv1): Conv2d(64, 64, kernel_size=(3, 3), stride=(1, 1), padding=(1, 1), bias=False)\n",
       "        (bn1): BatchNorm2d(64, eps=1e-05, momentum=0.1, affine=True, track_running_stats=True)\n",
       "        (relu): ReLU(inplace=True)\n",
       "        (conv2): Conv2d(64, 64, kernel_size=(3, 3), stride=(1, 1), padding=(1, 1), bias=False)\n",
       "        (bn2): BatchNorm2d(64, eps=1e-05, momentum=0.1, affine=True, track_running_stats=True)\n",
       "      )\n",
       "      (1): BasicBlock(\n",
       "        (conv1): Conv2d(64, 64, kernel_size=(3, 3), stride=(1, 1), padding=(1, 1), bias=False)\n",
       "        (bn1): BatchNorm2d(64, eps=1e-05, momentum=0.1, affine=True, track_running_stats=True)\n",
       "        (relu): ReLU(inplace=True)\n",
       "        (conv2): Conv2d(64, 64, kernel_size=(3, 3), stride=(1, 1), padding=(1, 1), bias=False)\n",
       "        (bn2): BatchNorm2d(64, eps=1e-05, momentum=0.1, affine=True, track_running_stats=True)\n",
       "      )\n",
       "    )\n",
       "    (layer2): Sequential(\n",
       "      (0): BasicBlock(\n",
       "        (conv1): Conv2d(64, 128, kernel_size=(3, 3), stride=(2, 2), padding=(1, 1), bias=False)\n",
       "        (bn1): BatchNorm2d(128, eps=1e-05, momentum=0.1, affine=True, track_running_stats=True)\n",
       "        (relu): ReLU(inplace=True)\n",
       "        (conv2): Conv2d(128, 128, kernel_size=(3, 3), stride=(1, 1), padding=(1, 1), bias=False)\n",
       "        (bn2): BatchNorm2d(128, eps=1e-05, momentum=0.1, affine=True, track_running_stats=True)\n",
       "        (downsample): Sequential(\n",
       "          (0): Conv2d(64, 128, kernel_size=(1, 1), stride=(2, 2), bias=False)\n",
       "          (1): BatchNorm2d(128, eps=1e-05, momentum=0.1, affine=True, track_running_stats=True)\n",
       "        )\n",
       "      )\n",
       "      (1): BasicBlock(\n",
       "        (conv1): Conv2d(128, 128, kernel_size=(3, 3), stride=(1, 1), padding=(1, 1), bias=False)\n",
       "        (bn1): BatchNorm2d(128, eps=1e-05, momentum=0.1, affine=True, track_running_stats=True)\n",
       "        (relu): ReLU(inplace=True)\n",
       "        (conv2): Conv2d(128, 128, kernel_size=(3, 3), stride=(1, 1), padding=(1, 1), bias=False)\n",
       "        (bn2): BatchNorm2d(128, eps=1e-05, momentum=0.1, affine=True, track_running_stats=True)\n",
       "      )\n",
       "    )\n",
       "    (layer3): Sequential(\n",
       "      (0): BasicBlock(\n",
       "        (conv1): Conv2d(128, 256, kernel_size=(3, 3), stride=(2, 2), padding=(1, 1), bias=False)\n",
       "        (bn1): BatchNorm2d(256, eps=1e-05, momentum=0.1, affine=True, track_running_stats=True)\n",
       "        (relu): ReLU(inplace=True)\n",
       "        (conv2): Conv2d(256, 256, kernel_size=(3, 3), stride=(1, 1), padding=(1, 1), bias=False)\n",
       "        (bn2): BatchNorm2d(256, eps=1e-05, momentum=0.1, affine=True, track_running_stats=True)\n",
       "        (downsample): Sequential(\n",
       "          (0): Conv2d(128, 256, kernel_size=(1, 1), stride=(2, 2), bias=False)\n",
       "          (1): BatchNorm2d(256, eps=1e-05, momentum=0.1, affine=True, track_running_stats=True)\n",
       "        )\n",
       "      )\n",
       "      (1): BasicBlock(\n",
       "        (conv1): Conv2d(256, 256, kernel_size=(3, 3), stride=(1, 1), padding=(1, 1), bias=False)\n",
       "        (bn1): BatchNorm2d(256, eps=1e-05, momentum=0.1, affine=True, track_running_stats=True)\n",
       "        (relu): ReLU(inplace=True)\n",
       "        (conv2): Conv2d(256, 256, kernel_size=(3, 3), stride=(1, 1), padding=(1, 1), bias=False)\n",
       "        (bn2): BatchNorm2d(256, eps=1e-05, momentum=0.1, affine=True, track_running_stats=True)\n",
       "      )\n",
       "    )\n",
       "    (layer4): Sequential(\n",
       "      (0): BasicBlock(\n",
       "        (conv1): Conv2d(256, 512, kernel_size=(3, 3), stride=(2, 2), padding=(1, 1), bias=False)\n",
       "        (bn1): BatchNorm2d(512, eps=1e-05, momentum=0.1, affine=True, track_running_stats=True)\n",
       "        (relu): ReLU(inplace=True)\n",
       "        (conv2): Conv2d(512, 512, kernel_size=(3, 3), stride=(1, 1), padding=(1, 1), bias=False)\n",
       "        (bn2): BatchNorm2d(512, eps=1e-05, momentum=0.1, affine=True, track_running_stats=True)\n",
       "        (downsample): Sequential(\n",
       "          (0): Conv2d(256, 512, kernel_size=(1, 1), stride=(2, 2), bias=False)\n",
       "          (1): BatchNorm2d(512, eps=1e-05, momentum=0.1, affine=True, track_running_stats=True)\n",
       "        )\n",
       "      )\n",
       "      (1): BasicBlock(\n",
       "        (conv1): Conv2d(512, 512, kernel_size=(3, 3), stride=(1, 1), padding=(1, 1), bias=False)\n",
       "        (bn1): BatchNorm2d(512, eps=1e-05, momentum=0.1, affine=True, track_running_stats=True)\n",
       "        (relu): ReLU(inplace=True)\n",
       "        (conv2): Conv2d(512, 512, kernel_size=(3, 3), stride=(1, 1), padding=(1, 1), bias=False)\n",
       "        (bn2): BatchNorm2d(512, eps=1e-05, momentum=0.1, affine=True, track_running_stats=True)\n",
       "      )\n",
       "    )\n",
       "    (avgpool): AdaptiveAvgPool2d(output_size=(1, 1))\n",
       "    (fc): Linear(in_features=512, out_features=1000, bias=True)\n",
       "  )\n",
       "  (head): Sequential(\n",
       "    (0): Linear(in_features=512, out_features=4096, bias=True)\n",
       "  )\n",
       "  (out_layer): Linear(in_features=4096, out_features=100, bias=True)\n",
       ")"
      ]
     },
     "execution_count": 25,
     "metadata": {},
     "output_type": "execute_result"
    }
   ],
   "source": [
    "device = torch.device(\"cuda:0\" if torch.cuda.is_available() else \"cpu\")\n",
    "network_model = ResNetModel(cfg_data).to(device)\n",
    "network_model"
   ]
  },
  {
   "cell_type": "code",
   "execution_count": 26,
   "metadata": {
    "execution": {
     "iopub.execute_input": "2020-12-08T17:15:59.521824Z",
     "iopub.status.busy": "2020-12-08T17:15:59.521043Z",
     "iopub.status.idle": "2020-12-08T17:15:59.525816Z",
     "shell.execute_reply": "2020-12-08T17:15:59.526351Z"
    },
    "papermill": {
     "duration": 0.125692,
     "end_time": "2020-12-08T17:15:59.526515",
     "exception": false,
     "start_time": "2020-12-08T17:15:59.400823",
     "status": "completed"
    },
    "tags": []
   },
   "outputs": [
    {
     "name": "stdout",
     "output_type": "stream",
     "text": [
      "cuda:0\n"
     ]
    }
   ],
   "source": [
    "print(device)"
   ]
  },
  {
   "cell_type": "code",
   "execution_count": 27,
   "metadata": {
    "execution": {
     "iopub.execute_input": "2020-12-08T17:15:59.785176Z",
     "iopub.status.busy": "2020-12-08T17:15:59.784157Z",
     "iopub.status.idle": "2020-12-08T17:15:59.787639Z",
     "shell.execute_reply": "2020-12-08T17:15:59.787098Z"
    },
    "papermill": {
     "duration": 0.145139,
     "end_time": "2020-12-08T17:15:59.787784",
     "exception": false,
     "start_time": "2020-12-08T17:15:59.642645",
     "status": "completed"
    },
    "tags": []
   },
   "outputs": [],
   "source": [
    "optimizer = optim.Adam(network_model.parameters(), lr=0.001)\n",
    "loss_func = nn.MSELoss(reduction=\"none\")#nn.L1Loss()"
   ]
  },
  {
   "cell_type": "markdown",
   "metadata": {
    "papermill": {
     "duration": 0.117641,
     "end_time": "2020-12-08T17:16:00.020627",
     "exception": false,
     "start_time": "2020-12-08T17:15:59.902986",
     "status": "completed"
    },
    "tags": []
   },
   "source": [
    "### **Training the network**"
   ]
  },
  {
   "cell_type": "code",
   "execution_count": 28,
   "metadata": {
    "execution": {
     "iopub.execute_input": "2020-12-08T17:16:00.261855Z",
     "iopub.status.busy": "2020-12-08T17:16:00.260737Z",
     "iopub.status.idle": "2020-12-08T17:16:03.933831Z",
     "shell.execute_reply": "2020-12-08T17:16:03.935312Z"
    },
    "papermill": {
     "duration": 3.797957,
     "end_time": "2020-12-08T17:16:03.935537",
     "exception": false,
     "start_time": "2020-12-08T17:16:00.137580",
     "status": "completed"
    },
    "tags": []
   },
   "outputs": [
    {
     "name": "stderr",
     "output_type": "stream",
     "text": [
      "  0%|          | 0/100 [00:00<?, ?it/s]"
     ]
    }
   ],
   "source": [
    "train_itr = iter(train_dataloader)\n",
    "progress_bar = tqdm(range(cfg_data[\"train_params\"][\"max_num_steps\"]))"
   ]
  },
  {
   "cell_type": "code",
   "execution_count": 29,
   "metadata": {
    "execution": {
     "iopub.execute_input": "2020-12-08T17:16:04.937783Z",
     "iopub.status.busy": "2020-12-08T17:16:04.932252Z",
     "iopub.status.idle": "2020-12-08T17:16:04.950446Z",
     "shell.execute_reply": "2020-12-08T17:16:04.953672Z"
    },
    "papermill": {
     "duration": 0.47871,
     "end_time": "2020-12-08T17:16:04.953987",
     "exception": false,
     "start_time": "2020-12-08T17:16:04.475277",
     "status": "completed"
    },
    "tags": []
   },
   "outputs": [
    {
     "name": "stdout",
     "output_type": "stream",
     "text": [
      "range(0, 100)\n"
     ]
    }
   ],
   "source": [
    "print(range(cfg_data[\"train_params\"][\"max_num_steps\"]))"
   ]
  },
  {
   "cell_type": "code",
   "execution_count": 30,
   "metadata": {
    "execution": {
     "iopub.execute_input": "2020-12-08T17:16:05.564452Z",
     "iopub.status.busy": "2020-12-08T17:16:05.563353Z",
     "iopub.status.idle": "2020-12-08T17:16:06.150711Z",
     "shell.execute_reply": "2020-12-08T17:16:06.151615Z"
    },
    "papermill": {
     "duration": 0.798552,
     "end_time": "2020-12-08T17:16:06.151866",
     "exception": false,
     "start_time": "2020-12-08T17:16:05.353314",
     "status": "completed"
    },
    "tags": []
   },
   "outputs": [
    {
     "name": "stdout",
     "output_type": "stream",
     "text": [
      "dict_keys(['image', 'target_positions', 'target_yaws', 'target_availabilities', 'history_positions', 'history_yaws', 'history_availabilities', 'world_to_image', 'raster_from_world', 'raster_from_agent', 'agent_from_world', 'world_from_agent', 'track_id', 'timestamp', 'centroid', 'yaw', 'extent'])\n"
     ]
    }
   ],
   "source": [
    "train_data = next(train_itr)\n",
    "#print(data.items()), \n",
    "print(train_data.keys())"
   ]
  },
  {
   "cell_type": "code",
   "execution_count": 31,
   "metadata": {
    "execution": {
     "iopub.execute_input": "2020-12-08T17:16:06.660697Z",
     "iopub.status.busy": "2020-12-08T17:16:06.659624Z",
     "iopub.status.idle": "2020-12-08T17:16:06.806577Z",
     "shell.execute_reply": "2020-12-08T17:16:06.807632Z"
    },
    "papermill": {
     "duration": 0.363357,
     "end_time": "2020-12-08T17:16:06.807933",
     "exception": false,
     "start_time": "2020-12-08T17:16:06.444576",
     "status": "completed"
    },
    "tags": []
   },
   "outputs": [
    {
     "name": "stdout",
     "output_type": "stream",
     "text": [
      "{'image': tensor([[[[0.0000, 0.0000, 0.0000,  ..., 0.0000, 0.0000, 0.0000],\n",
      "          [0.0000, 0.0000, 0.0000,  ..., 0.0000, 0.0000, 0.0000],\n",
      "          [0.0000, 0.0000, 0.0000,  ..., 0.0000, 0.0000, 0.0000],\n",
      "          ...,\n",
      "          [0.0000, 0.0000, 0.0000,  ..., 0.0000, 0.0000, 0.0000],\n",
      "          [0.0000, 0.0000, 0.0000,  ..., 0.0000, 0.0000, 0.0000],\n",
      "          [0.0000, 0.0000, 0.0000,  ..., 0.0000, 0.0000, 0.0000]],\n",
      "\n",
      "         [[0.0000, 0.0000, 0.0000,  ..., 0.0000, 0.0000, 0.0000],\n",
      "          [0.0000, 0.0000, 0.0000,  ..., 0.0000, 0.0000, 0.0000],\n",
      "          [0.0000, 0.0000, 0.0000,  ..., 0.0000, 0.0000, 0.0000],\n",
      "          ...,\n",
      "          [0.0000, 0.0000, 0.0000,  ..., 0.0000, 0.0000, 0.0000],\n",
      "          [0.0000, 0.0000, 0.0000,  ..., 0.0000, 0.0000, 0.0000],\n",
      "          [0.0000, 0.0000, 0.0000,  ..., 0.0000, 0.0000, 0.0000]],\n",
      "\n",
      "         [[0.0000, 0.0000, 0.0000,  ..., 0.0000, 0.0000, 0.0000],\n",
      "          [0.0000, 0.0000, 0.0000,  ..., 0.0000, 0.0000, 0.0000],\n",
      "          [0.0000, 0.0000, 0.0000,  ..., 0.0000, 0.0000, 0.0000],\n",
      "          ...,\n",
      "          [0.0000, 0.0000, 0.0000,  ..., 0.0000, 0.0000, 0.0000],\n",
      "          [0.0000, 0.0000, 0.0000,  ..., 0.0000, 0.0000, 0.0000],\n",
      "          [0.0000, 0.0000, 0.0000,  ..., 0.0000, 0.0000, 0.0000]],\n",
      "\n",
      "         ...,\n",
      "\n",
      "         [[1.0000, 1.0000, 1.0000,  ..., 1.0000, 1.0000, 1.0000],\n",
      "          [1.0000, 1.0000, 1.0000,  ..., 1.0000, 1.0000, 1.0000],\n",
      "          [1.0000, 1.0000, 1.0000,  ..., 1.0000, 1.0000, 1.0000],\n",
      "          ...,\n",
      "          [1.0000, 1.0000, 1.0000,  ..., 0.0667, 0.0667, 0.0667],\n",
      "          [1.0000, 1.0000, 1.0000,  ..., 0.0667, 0.0667, 0.0667],\n",
      "          [1.0000, 1.0000, 1.0000,  ..., 0.0667, 0.0667, 0.0667]],\n",
      "\n",
      "         [[1.0000, 1.0000, 1.0000,  ..., 1.0000, 1.0000, 1.0000],\n",
      "          [1.0000, 1.0000, 1.0000,  ..., 1.0000, 1.0000, 1.0000],\n",
      "          [1.0000, 1.0000, 1.0000,  ..., 1.0000, 1.0000, 1.0000],\n",
      "          ...,\n",
      "          [1.0000, 1.0000, 1.0000,  ..., 0.0667, 0.0667, 0.0667],\n",
      "          [1.0000, 1.0000, 1.0000,  ..., 0.0667, 0.0667, 0.0667],\n",
      "          [1.0000, 1.0000, 1.0000,  ..., 0.0667, 0.0667, 0.0667]],\n",
      "\n",
      "         [[1.0000, 1.0000, 1.0000,  ..., 1.0000, 1.0000, 1.0000],\n",
      "          [1.0000, 1.0000, 1.0000,  ..., 1.0000, 1.0000, 1.0000],\n",
      "          [1.0000, 1.0000, 1.0000,  ..., 1.0000, 1.0000, 1.0000],\n",
      "          ...,\n",
      "          [1.0000, 1.0000, 1.0000,  ..., 0.1216, 0.1216, 0.1216],\n",
      "          [1.0000, 1.0000, 1.0000,  ..., 0.1216, 0.1216, 0.1216],\n",
      "          [1.0000, 1.0000, 1.0000,  ..., 0.1216, 0.1216, 0.1216]]],\n",
      "\n",
      "\n",
      "        [[[0.0000, 0.0000, 0.0000,  ..., 0.0000, 0.0000, 0.0000],\n",
      "          [0.0000, 0.0000, 0.0000,  ..., 0.0000, 0.0000, 0.0000],\n",
      "          [0.0000, 0.0000, 0.0000,  ..., 0.0000, 0.0000, 0.0000],\n",
      "          ...,\n",
      "          [0.0000, 0.0000, 0.0000,  ..., 0.0000, 0.0000, 0.0000],\n",
      "          [0.0000, 0.0000, 0.0000,  ..., 0.0000, 0.0000, 0.0000],\n",
      "          [0.0000, 0.0000, 0.0000,  ..., 0.0000, 0.0000, 0.0000]],\n",
      "\n",
      "         [[0.0000, 0.0000, 0.0000,  ..., 0.0000, 0.0000, 0.0000],\n",
      "          [0.0000, 0.0000, 0.0000,  ..., 0.0000, 0.0000, 0.0000],\n",
      "          [0.0000, 0.0000, 0.0000,  ..., 0.0000, 0.0000, 0.0000],\n",
      "          ...,\n",
      "          [0.0000, 0.0000, 0.0000,  ..., 0.0000, 0.0000, 0.0000],\n",
      "          [0.0000, 0.0000, 0.0000,  ..., 0.0000, 0.0000, 0.0000],\n",
      "          [0.0000, 0.0000, 0.0000,  ..., 0.0000, 0.0000, 0.0000]],\n",
      "\n",
      "         [[0.0000, 0.0000, 0.0000,  ..., 0.0000, 0.0000, 0.0000],\n",
      "          [0.0000, 0.0000, 0.0000,  ..., 0.0000, 0.0000, 0.0000],\n",
      "          [0.0000, 0.0000, 0.0000,  ..., 0.0000, 0.0000, 0.0000],\n",
      "          ...,\n",
      "          [0.0000, 0.0000, 0.0000,  ..., 0.0000, 0.0000, 0.0000],\n",
      "          [0.0000, 0.0000, 0.0000,  ..., 0.0000, 0.0000, 0.0000],\n",
      "          [0.0000, 0.0000, 0.0000,  ..., 0.0000, 0.0000, 0.0000]],\n",
      "\n",
      "         ...,\n",
      "\n",
      "         [[1.0000, 1.0000, 1.0000,  ..., 1.0000, 1.0000, 1.0000],\n",
      "          [1.0000, 1.0000, 1.0000,  ..., 1.0000, 1.0000, 1.0000],\n",
      "          [1.0000, 1.0000, 1.0000,  ..., 1.0000, 1.0000, 1.0000],\n",
      "          ...,\n",
      "          [1.0000, 1.0000, 1.0000,  ..., 1.0000, 1.0000, 1.0000],\n",
      "          [1.0000, 1.0000, 1.0000,  ..., 1.0000, 1.0000, 1.0000],\n",
      "          [1.0000, 1.0000, 1.0000,  ..., 1.0000, 1.0000, 1.0000]],\n",
      "\n",
      "         [[1.0000, 1.0000, 1.0000,  ..., 1.0000, 1.0000, 1.0000],\n",
      "          [1.0000, 1.0000, 1.0000,  ..., 1.0000, 1.0000, 1.0000],\n",
      "          [1.0000, 1.0000, 1.0000,  ..., 1.0000, 1.0000, 1.0000],\n",
      "          ...,\n",
      "          [1.0000, 1.0000, 1.0000,  ..., 1.0000, 1.0000, 1.0000],\n",
      "          [1.0000, 1.0000, 1.0000,  ..., 1.0000, 1.0000, 1.0000],\n",
      "          [1.0000, 1.0000, 1.0000,  ..., 1.0000, 1.0000, 1.0000]],\n",
      "\n",
      "         [[1.0000, 1.0000, 1.0000,  ..., 1.0000, 1.0000, 1.0000],\n",
      "          [1.0000, 1.0000, 1.0000,  ..., 1.0000, 1.0000, 1.0000],\n",
      "          [1.0000, 1.0000, 1.0000,  ..., 1.0000, 1.0000, 1.0000],\n",
      "          ...,\n",
      "          [1.0000, 1.0000, 1.0000,  ..., 1.0000, 1.0000, 1.0000],\n",
      "          [1.0000, 1.0000, 1.0000,  ..., 1.0000, 1.0000, 1.0000],\n",
      "          [1.0000, 1.0000, 1.0000,  ..., 1.0000, 1.0000, 1.0000]]],\n",
      "\n",
      "\n",
      "        [[[0.0000, 0.0000, 0.0000,  ..., 0.0000, 0.0000, 0.0000],\n",
      "          [0.0000, 0.0000, 0.0000,  ..., 0.0000, 0.0000, 0.0000],\n",
      "          [0.0000, 0.0000, 0.0000,  ..., 0.0000, 0.0000, 0.0000],\n",
      "          ...,\n",
      "          [0.0000, 0.0000, 0.0000,  ..., 0.0000, 0.0000, 0.0000],\n",
      "          [0.0000, 0.0000, 0.0000,  ..., 0.0000, 0.0000, 0.0000],\n",
      "          [0.0000, 0.0000, 0.0000,  ..., 0.0000, 0.0000, 0.0000]],\n",
      "\n",
      "         [[0.0000, 0.0000, 0.0000,  ..., 0.0000, 0.0000, 0.0000],\n",
      "          [0.0000, 0.0000, 0.0000,  ..., 0.0000, 0.0000, 0.0000],\n",
      "          [0.0000, 0.0000, 0.0000,  ..., 0.0000, 0.0000, 0.0000],\n",
      "          ...,\n",
      "          [0.0000, 0.0000, 0.0000,  ..., 0.0000, 0.0000, 0.0000],\n",
      "          [0.0000, 0.0000, 0.0000,  ..., 0.0000, 0.0000, 0.0000],\n",
      "          [0.0000, 0.0000, 0.0000,  ..., 0.0000, 0.0000, 0.0000]],\n",
      "\n",
      "         [[0.0000, 0.0000, 0.0000,  ..., 0.0000, 0.0000, 0.0000],\n",
      "          [0.0000, 0.0000, 0.0000,  ..., 0.0000, 0.0000, 0.0000],\n",
      "          [0.0000, 0.0000, 0.0000,  ..., 0.0000, 0.0000, 0.0000],\n",
      "          ...,\n",
      "          [0.0000, 0.0000, 0.0000,  ..., 0.0000, 0.0000, 0.0000],\n",
      "          [0.0000, 0.0000, 0.0000,  ..., 0.0000, 0.0000, 0.0000],\n",
      "          [0.0000, 0.0000, 0.0000,  ..., 0.0000, 0.0000, 0.0000]],\n",
      "\n",
      "         ...,\n",
      "\n",
      "         [[1.0000, 1.0000, 1.0000,  ..., 1.0000, 1.0000, 1.0000],\n",
      "          [1.0000, 1.0000, 1.0000,  ..., 1.0000, 1.0000, 1.0000],\n",
      "          [1.0000, 1.0000, 1.0000,  ..., 1.0000, 1.0000, 1.0000],\n",
      "          ...,\n",
      "          [1.0000, 1.0000, 1.0000,  ..., 0.7569, 0.7059, 0.7922],\n",
      "          [1.0000, 1.0000, 1.0000,  ..., 0.0902, 0.0980, 0.1059],\n",
      "          [1.0000, 1.0000, 1.0000,  ..., 0.0667, 0.0667, 0.0667]],\n",
      "\n",
      "         [[1.0000, 1.0000, 1.0000,  ..., 1.0000, 1.0000, 1.0000],\n",
      "          [1.0000, 1.0000, 1.0000,  ..., 1.0000, 1.0000, 1.0000],\n",
      "          [1.0000, 1.0000, 1.0000,  ..., 1.0000, 1.0000, 1.0000],\n",
      "          ...,\n",
      "          [1.0000, 1.0000, 1.0000,  ..., 0.6471, 0.6039, 0.6745],\n",
      "          [1.0000, 1.0000, 1.0000,  ..., 0.0824, 0.0980, 0.0980],\n",
      "          [1.0000, 1.0000, 1.0000,  ..., 0.0667, 0.0667, 0.0667]],\n",
      "\n",
      "         [[1.0000, 1.0000, 1.0000,  ..., 1.0000, 1.0000, 1.0000],\n",
      "          [1.0000, 1.0000, 1.0000,  ..., 1.0000, 1.0000, 1.0000],\n",
      "          [1.0000, 1.0000, 1.0000,  ..., 1.0000, 1.0000, 1.0000],\n",
      "          ...,\n",
      "          [1.0000, 1.0000, 1.0000,  ..., 0.2706, 0.2588, 0.2784],\n",
      "          [1.0000, 1.0000, 1.0000,  ..., 0.1294, 0.1216, 0.1294],\n",
      "          [1.0000, 1.0000, 1.0000,  ..., 0.1216, 0.1216, 0.1216]]],\n",
      "\n",
      "\n",
      "        ...,\n",
      "\n",
      "\n",
      "        [[[0.0000, 0.0000, 0.0000,  ..., 0.0000, 0.0000, 0.0000],\n",
      "          [0.0000, 0.0000, 0.0000,  ..., 0.0000, 0.0000, 0.0000],\n",
      "          [0.0000, 0.0000, 0.0000,  ..., 0.0000, 0.0000, 0.0000],\n",
      "          ...,\n",
      "          [0.0000, 0.0000, 0.0000,  ..., 0.0000, 0.0000, 0.0000],\n",
      "          [0.0000, 0.0000, 0.0000,  ..., 0.0000, 0.0000, 0.0000],\n",
      "          [0.0000, 0.0000, 0.0000,  ..., 0.0000, 0.0000, 0.0000]],\n",
      "\n",
      "         [[0.0000, 0.0000, 0.0000,  ..., 0.0000, 0.0000, 0.0000],\n",
      "          [0.0000, 0.0000, 0.0000,  ..., 0.0000, 0.0000, 0.0000],\n",
      "          [0.0000, 0.0000, 0.0000,  ..., 0.0000, 0.0000, 0.0000],\n",
      "          ...,\n",
      "          [0.0000, 0.0000, 0.0000,  ..., 0.0000, 0.0000, 0.0000],\n",
      "          [0.0000, 0.0000, 0.0000,  ..., 0.0000, 0.0000, 0.0000],\n",
      "          [0.0000, 0.0000, 0.0000,  ..., 0.0000, 0.0000, 0.0000]],\n",
      "\n",
      "         [[0.0000, 0.0000, 0.0000,  ..., 0.0000, 0.0000, 0.0000],\n",
      "          [0.0000, 0.0000, 0.0000,  ..., 0.0000, 0.0000, 0.0000],\n",
      "          [0.0000, 0.0000, 0.0000,  ..., 0.0000, 0.0000, 0.0000],\n",
      "          ...,\n",
      "          [0.0000, 0.0000, 0.0000,  ..., 0.0000, 0.0000, 0.0000],\n",
      "          [0.0000, 0.0000, 0.0000,  ..., 0.0000, 0.0000, 0.0000],\n",
      "          [0.0000, 0.0000, 0.0000,  ..., 0.0000, 0.0000, 0.0000]],\n",
      "\n",
      "         ...,\n",
      "\n",
      "         [[1.0000, 1.0000, 1.0000,  ..., 1.0000, 1.0000, 1.0000],\n",
      "          [1.0000, 1.0000, 1.0000,  ..., 1.0000, 1.0000, 1.0000],\n",
      "          [1.0000, 1.0000, 1.0000,  ..., 1.0000, 1.0000, 1.0000],\n",
      "          ...,\n",
      "          [0.3176, 0.9569, 0.9922,  ..., 1.0000, 1.0000, 1.0000],\n",
      "          [0.0667, 0.2078, 0.8824,  ..., 1.0000, 1.0000, 1.0000],\n",
      "          [0.0667, 0.0667, 0.0980,  ..., 1.0000, 1.0000, 1.0000]],\n",
      "\n",
      "         [[1.0000, 1.0000, 1.0000,  ..., 1.0000, 1.0000, 1.0000],\n",
      "          [1.0000, 1.0000, 1.0000,  ..., 1.0000, 1.0000, 1.0000],\n",
      "          [1.0000, 1.0000, 1.0000,  ..., 1.0000, 1.0000, 1.0000],\n",
      "          ...,\n",
      "          [0.2706, 0.8157, 0.8431,  ..., 1.0000, 1.0000, 1.0000],\n",
      "          [0.0667, 0.1804, 0.7529,  ..., 1.0000, 1.0000, 1.0000],\n",
      "          [0.0667, 0.0667, 0.0902,  ..., 1.0000, 1.0000, 1.0000]],\n",
      "\n",
      "         [[1.0000, 1.0000, 1.0000,  ..., 1.0000, 1.0000, 1.0000],\n",
      "          [1.0000, 1.0000, 1.0000,  ..., 1.0000, 1.0000, 1.0000],\n",
      "          [1.0000, 1.0000, 1.0000,  ..., 1.0000, 1.0000, 1.0000],\n",
      "          ...,\n",
      "          [0.1725, 0.3137, 0.3176,  ..., 1.0000, 1.0000, 1.0000],\n",
      "          [0.1216, 0.1451, 0.2941,  ..., 1.0000, 1.0000, 1.0000],\n",
      "          [0.1216, 0.1216, 0.1294,  ..., 1.0000, 1.0000, 1.0000]]],\n",
      "\n",
      "\n",
      "        [[[0.0000, 0.0000, 0.0000,  ..., 0.0000, 0.0000, 0.0000],\n",
      "          [0.0000, 0.0000, 0.0000,  ..., 0.0000, 0.0000, 0.0000],\n",
      "          [0.0000, 0.0000, 0.0000,  ..., 0.0000, 0.0000, 0.0000],\n",
      "          ...,\n",
      "          [0.0000, 0.0000, 0.0000,  ..., 0.0000, 0.0000, 0.0000],\n",
      "          [0.0000, 0.0000, 0.0000,  ..., 0.0000, 0.0000, 0.0000],\n",
      "          [0.0000, 0.0000, 0.0000,  ..., 0.0000, 0.0000, 0.0000]],\n",
      "\n",
      "         [[0.0000, 0.0000, 0.0000,  ..., 0.0000, 0.0000, 0.0000],\n",
      "          [0.0000, 0.0000, 0.0000,  ..., 0.0000, 0.0000, 0.0000],\n",
      "          [0.0000, 0.0000, 0.0000,  ..., 0.0000, 0.0000, 0.0000],\n",
      "          ...,\n",
      "          [0.0000, 0.0000, 0.0000,  ..., 0.0000, 0.0000, 0.0000],\n",
      "          [0.0000, 0.0000, 0.0000,  ..., 0.0000, 0.0000, 0.0000],\n",
      "          [0.0000, 0.0000, 0.0000,  ..., 0.0000, 0.0000, 0.0000]],\n",
      "\n",
      "         [[0.0000, 0.0000, 0.0000,  ..., 0.0000, 0.0000, 0.0000],\n",
      "          [0.0000, 0.0000, 0.0000,  ..., 0.0000, 0.0000, 0.0000],\n",
      "          [0.0000, 0.0000, 0.0000,  ..., 0.0000, 0.0000, 0.0000],\n",
      "          ...,\n",
      "          [0.0000, 0.0000, 0.0000,  ..., 0.0000, 0.0000, 0.0000],\n",
      "          [0.0000, 0.0000, 0.0000,  ..., 0.0000, 0.0000, 0.0000],\n",
      "          [0.0000, 0.0000, 0.0000,  ..., 0.0000, 0.0000, 0.0000]],\n",
      "\n",
      "         ...,\n",
      "\n",
      "         [[0.0667, 0.0667, 0.0667,  ..., 0.0667, 0.0667, 0.0667],\n",
      "          [0.0667, 0.0667, 0.0667,  ..., 0.0667, 0.0667, 0.0667],\n",
      "          [0.0667, 0.0667, 0.0667,  ..., 0.0667, 0.0667, 0.0667],\n",
      "          ...,\n",
      "          [0.0667, 0.0667, 0.0667,  ..., 1.0000, 1.0000, 1.0000],\n",
      "          [0.0667, 0.0667, 0.0667,  ..., 1.0000, 1.0000, 1.0000],\n",
      "          [0.0667, 0.0667, 0.0667,  ..., 1.0000, 1.0000, 1.0000]],\n",
      "\n",
      "         [[0.0667, 0.0667, 0.0667,  ..., 0.0667, 0.0667, 0.0667],\n",
      "          [0.0667, 0.0667, 0.0667,  ..., 0.0667, 0.0667, 0.0667],\n",
      "          [0.0667, 0.0667, 0.0667,  ..., 0.0667, 0.0667, 0.0667],\n",
      "          ...,\n",
      "          [0.0667, 0.0667, 0.0667,  ..., 1.0000, 1.0000, 1.0000],\n",
      "          [0.0667, 0.0667, 0.0667,  ..., 1.0000, 1.0000, 1.0000],\n",
      "          [0.0667, 0.0667, 0.0667,  ..., 1.0000, 1.0000, 1.0000]],\n",
      "\n",
      "         [[0.1216, 0.1216, 0.1216,  ..., 0.1216, 0.1216, 0.1216],\n",
      "          [0.1216, 0.1216, 0.1216,  ..., 0.1216, 0.1216, 0.1216],\n",
      "          [0.1216, 0.1216, 0.1216,  ..., 0.1216, 0.1216, 0.1216],\n",
      "          ...,\n",
      "          [0.1216, 0.1216, 0.1216,  ..., 1.0000, 1.0000, 1.0000],\n",
      "          [0.1216, 0.1216, 0.1216,  ..., 1.0000, 1.0000, 1.0000],\n",
      "          [0.1216, 0.1216, 0.1216,  ..., 1.0000, 1.0000, 1.0000]]],\n",
      "\n",
      "\n",
      "        [[[0.0000, 0.0000, 0.0000,  ..., 0.0000, 0.0000, 0.0000],\n",
      "          [0.0000, 0.0000, 0.0000,  ..., 0.0000, 0.0000, 0.0000],\n",
      "          [0.0000, 0.0000, 0.0000,  ..., 0.0000, 0.0000, 0.0000],\n",
      "          ...,\n",
      "          [0.0000, 0.0000, 0.0000,  ..., 0.0000, 0.0000, 0.0000],\n",
      "          [0.0000, 0.0000, 0.0000,  ..., 0.0000, 0.0000, 0.0000],\n",
      "          [0.0000, 0.0000, 0.0000,  ..., 0.0000, 0.0000, 0.0000]],\n",
      "\n",
      "         [[0.0000, 0.0000, 0.0000,  ..., 0.0000, 0.0000, 0.0000],\n",
      "          [0.0000, 0.0000, 0.0000,  ..., 0.0000, 0.0000, 0.0000],\n",
      "          [0.0000, 0.0000, 0.0000,  ..., 0.0000, 0.0000, 0.0000],\n",
      "          ...,\n",
      "          [0.0000, 0.0000, 0.0000,  ..., 0.0000, 0.0000, 0.0000],\n",
      "          [0.0000, 0.0000, 0.0000,  ..., 0.0000, 0.0000, 0.0000],\n",
      "          [0.0000, 0.0000, 0.0000,  ..., 0.0000, 0.0000, 0.0000]],\n",
      "\n",
      "         [[0.0000, 0.0000, 0.0000,  ..., 0.0000, 0.0000, 0.0000],\n",
      "          [0.0000, 0.0000, 0.0000,  ..., 0.0000, 0.0000, 0.0000],\n",
      "          [0.0000, 0.0000, 0.0000,  ..., 0.0000, 0.0000, 0.0000],\n",
      "          ...,\n",
      "          [0.0000, 0.0000, 0.0000,  ..., 0.0000, 0.0000, 0.0000],\n",
      "          [0.0000, 0.0000, 0.0000,  ..., 0.0000, 0.0000, 0.0000],\n",
      "          [0.0000, 0.0000, 0.0000,  ..., 0.0000, 0.0000, 0.0000]],\n",
      "\n",
      "         ...,\n",
      "\n",
      "         [[1.0000, 1.0000, 1.0000,  ..., 1.0000, 1.0000, 1.0000],\n",
      "          [1.0000, 1.0000, 1.0000,  ..., 1.0000, 1.0000, 1.0000],\n",
      "          [1.0000, 1.0000, 1.0000,  ..., 1.0000, 1.0000, 1.0000],\n",
      "          ...,\n",
      "          [1.0000, 1.0000, 1.0000,  ..., 0.0667, 0.0667, 0.5412],\n",
      "          [1.0000, 1.0000, 1.0000,  ..., 0.0980, 0.0667, 0.6510],\n",
      "          [1.0000, 1.0000, 1.0000,  ..., 0.3922, 0.0824, 0.6627]],\n",
      "\n",
      "         [[1.0000, 1.0000, 1.0000,  ..., 1.0000, 1.0000, 1.0000],\n",
      "          [1.0000, 1.0000, 1.0000,  ..., 1.0000, 1.0000, 1.0000],\n",
      "          [1.0000, 1.0000, 1.0000,  ..., 1.0000, 1.0000, 1.0000],\n",
      "          ...,\n",
      "          [1.0000, 1.0000, 1.0000,  ..., 0.0667, 0.0667, 0.4667],\n",
      "          [1.0000, 1.0000, 1.0000,  ..., 0.0980, 0.0667, 0.5569],\n",
      "          [1.0000, 1.0000, 1.0000,  ..., 0.3412, 0.0824, 0.5686]],\n",
      "\n",
      "         [[1.0000, 1.0000, 1.0000,  ..., 1.0000, 1.0000, 1.0000],\n",
      "          [1.0000, 1.0000, 1.0000,  ..., 1.0000, 1.0000, 1.0000],\n",
      "          [1.0000, 1.0000, 1.0000,  ..., 1.0000, 1.0000, 1.0000],\n",
      "          ...,\n",
      "          [1.0000, 1.0000, 1.0000,  ..., 0.1216, 0.1216, 0.2235],\n",
      "          [1.0000, 1.0000, 1.0000,  ..., 0.1216, 0.1216, 0.2471],\n",
      "          [1.0000, 1.0000, 1.0000,  ..., 0.1922, 0.1216, 0.2510]]]]), 'target_positions': tensor([[[ 3.1966e-01,  1.5801e-02],\n",
      "         [ 6.2368e-01,  4.3078e-02],\n",
      "         [ 9.4305e-01,  6.0694e-02],\n",
      "         [ 1.2600e+00,  7.5454e-02],\n",
      "         [ 1.5729e+00,  8.2391e-02],\n",
      "         [ 1.8755e+00,  8.4211e-02],\n",
      "         [ 2.2084e+00,  8.0489e-02],\n",
      "         [ 2.5135e+00,  1.0811e-01],\n",
      "         [ 2.7933e+00,  1.4326e-01],\n",
      "         [ 3.0838e+00,  1.7062e-01],\n",
      "         [ 3.3670e+00,  1.9285e-01],\n",
      "         [ 3.5997e+00,  2.1714e-01],\n",
      "         [ 3.8531e+00,  2.4769e-01],\n",
      "         [ 4.1299e+00,  2.8322e-01],\n",
      "         [ 4.3446e+00,  3.0499e-01],\n",
      "         [ 4.5870e+00,  3.3748e-01],\n",
      "         [ 4.8251e+00,  3.7615e-01],\n",
      "         [ 5.0799e+00,  4.0555e-01],\n",
      "         [ 5.3234e+00,  4.4177e-01],\n",
      "         [ 5.5672e+00,  4.9371e-01],\n",
      "         [ 5.8038e+00,  5.4752e-01],\n",
      "         [ 6.0336e+00,  6.0039e-01],\n",
      "         [ 6.1756e+00,  6.4495e-01],\n",
      "         [ 6.4308e+00,  7.4978e-01],\n",
      "         [ 6.6471e+00,  8.0929e-01],\n",
      "         [ 6.8556e+00,  8.4429e-01],\n",
      "         [ 7.0608e+00,  8.7784e-01],\n",
      "         [ 7.2582e+00,  9.1601e-01],\n",
      "         [ 7.4644e+00,  9.5798e-01],\n",
      "         [ 7.6441e+00,  1.0011e+00],\n",
      "         [ 7.8429e+00,  1.0490e+00],\n",
      "         [ 7.9965e+00,  1.1182e+00],\n",
      "         [ 8.1386e+00,  1.1552e+00],\n",
      "         [ 8.2970e+00,  1.2197e+00],\n",
      "         [ 8.4031e+00,  1.2222e+00],\n",
      "         [ 8.5882e+00,  1.2638e+00],\n",
      "         [ 8.7839e+00,  1.3075e+00],\n",
      "         [ 8.8570e+00,  1.3298e+00],\n",
      "         [ 8.9650e+00,  1.3668e+00],\n",
      "         [ 9.1375e+00,  1.4295e+00],\n",
      "         [ 9.3124e+00,  1.5087e+00],\n",
      "         [ 9.4660e+00,  1.5728e+00],\n",
      "         [ 9.5129e+00,  1.5980e+00],\n",
      "         [ 9.6529e+00,  1.6686e+00],\n",
      "         [ 9.7391e+00,  1.7099e+00],\n",
      "         [ 9.8196e+00,  1.7571e+00],\n",
      "         [ 9.9883e+00,  1.8077e+00],\n",
      "         [ 1.0159e+01,  1.8774e+00],\n",
      "         [ 1.0242e+01,  1.9118e+00],\n",
      "         [ 1.0396e+01,  1.9655e+00]],\n",
      "\n",
      "        [[ 1.7214e-02, -9.7061e-03],\n",
      "         [ 3.2195e-02, -1.1559e-02],\n",
      "         [ 4.5472e-02, -2.0029e-02],\n",
      "         [ 1.1603e-01, -6.3749e-02],\n",
      "         [ 1.3125e-01, -7.0086e-02],\n",
      "         [ 1.6143e-01, -5.5643e-02],\n",
      "         [ 1.9090e-01, -2.1687e-02],\n",
      "         [ 1.9917e-01, -7.0372e-02],\n",
      "         [ 1.3833e-01, -9.7670e-02],\n",
      "         [ 1.5543e-01, -1.1026e-01],\n",
      "         [ 1.9111e-01, -1.2912e-01],\n",
      "         [ 1.9199e-01, -1.6887e-01],\n",
      "         [ 2.2039e-01, -1.5312e-01],\n",
      "         [ 1.2294e-01, -1.2826e-01],\n",
      "         [ 4.7852e-02, -1.8847e-01],\n",
      "         [ 1.1542e-01, -3.2600e-01],\n",
      "         [ 2.3089e-02, -3.1823e-01],\n",
      "         [-1.4858e-02, -3.1515e-01],\n",
      "         [-4.2179e-02, -3.5119e-01],\n",
      "         [ 1.3648e-02, -4.5427e-01],\n",
      "         [ 5.1571e-01, -1.9820e-01],\n",
      "         [ 3.9292e-01, -1.9164e-01],\n",
      "         [ 2.7908e-01, -1.9805e-01],\n",
      "         [ 2.1216e-01, -1.2013e-01],\n",
      "         [ 2.0241e-01,  2.2645e-02],\n",
      "         [ 1.6580e-01,  1.9152e-01],\n",
      "         [ 1.8508e-01,  1.3770e-01],\n",
      "         [ 2.4421e-01,  1.0016e-01],\n",
      "         [ 7.3575e-01,  6.0988e-02],\n",
      "         [ 1.0694e+00, -2.5389e-02],\n",
      "         [ 9.8157e-01, -2.9420e-02],\n",
      "         [ 6.6614e-01, -1.0727e-01],\n",
      "         [ 7.4896e-01, -6.8218e-02],\n",
      "         [ 5.4384e-01, -9.8606e-02],\n",
      "         [ 4.2213e-01,  1.0846e-01],\n",
      "         [ 8.3762e-01,  9.1720e-03],\n",
      "         [ 8.4717e-01,  6.1394e-02],\n",
      "         [ 4.5853e-01, -9.5523e-02],\n",
      "         [ 1.2644e-01, -2.3315e-01],\n",
      "         [ 5.6427e-02, -2.6911e-01],\n",
      "         [ 2.8370e-03, -3.0970e-01],\n",
      "         [-6.0491e-02, -3.5573e-01],\n",
      "         [-9.2312e-02, -3.8818e-01],\n",
      "         [ 0.0000e+00,  0.0000e+00],\n",
      "         [ 0.0000e+00,  0.0000e+00],\n",
      "         [ 0.0000e+00,  0.0000e+00],\n",
      "         [ 0.0000e+00,  0.0000e+00],\n",
      "         [ 0.0000e+00,  0.0000e+00],\n",
      "         [ 0.0000e+00,  0.0000e+00],\n",
      "         [ 0.0000e+00,  0.0000e+00]],\n",
      "\n",
      "        [[-1.1645e-02, -3.9010e-02],\n",
      "         [-4.2687e-03, -4.0420e-02],\n",
      "         [-4.5647e-02, -3.6750e-02],\n",
      "         [-6.9642e-02, -6.1977e-02],\n",
      "         [-8.4547e-02, -6.4564e-02],\n",
      "         [-1.0480e-01, -6.7474e-02],\n",
      "         [-1.0784e-01, -6.5866e-02],\n",
      "         [-1.1276e-01, -7.3807e-02],\n",
      "         [-1.1667e-01, -7.3431e-02],\n",
      "         [-1.1377e-01, -8.4325e-02],\n",
      "         [-1.2199e-01, -8.4859e-02],\n",
      "         [-1.3473e-01, -9.3809e-02],\n",
      "         [-1.3703e-01, -5.6281e-02],\n",
      "         [-1.3524e-01, -3.5550e-02],\n",
      "         [-1.3508e-01, -2.4860e-02],\n",
      "         [-1.3372e-01,  5.4713e-03],\n",
      "         [-1.2205e-01, -1.1365e-02],\n",
      "         [-1.1324e-01,  1.5333e-03],\n",
      "         [-1.2395e-01,  1.7359e-02],\n",
      "         [-1.3844e-01,  1.2485e-02],\n",
      "         [-1.3122e-01, -3.7112e-03],\n",
      "         [-1.5121e-01, -2.4050e-02],\n",
      "         [-1.7447e-01, -1.9325e-02],\n",
      "         [-1.8936e-01,  6.4678e-03],\n",
      "         [-1.9452e-01, -1.1046e-02],\n",
      "         [-1.9293e-01, -1.8194e-02],\n",
      "         [-1.9195e-01, -4.0898e-02],\n",
      "         [-1.7891e-01, -5.6164e-02],\n",
      "         [-1.8450e-01, -6.8945e-02],\n",
      "         [-1.9165e-01, -7.4078e-02],\n",
      "         [-1.9049e-01, -7.3938e-02],\n",
      "         [-1.8929e-01, -4.0271e-02],\n",
      "         [-1.8936e-01, -5.0013e-02],\n",
      "         [-1.8758e-01, -7.1932e-02],\n",
      "         [-1.8024e-01, -8.2009e-02],\n",
      "         [-1.7671e-01, -7.2862e-02],\n",
      "         [-1.7277e-01, -7.4169e-02],\n",
      "         [-1.7240e-01, -8.1026e-02],\n",
      "         [-1.6870e-01, -8.6733e-02],\n",
      "         [-1.6587e-01, -8.2264e-02],\n",
      "         [-1.6770e-01, -7.7730e-02],\n",
      "         [-1.6789e-01, -8.7624e-02],\n",
      "         [-1.6489e-01, -9.4244e-02],\n",
      "         [-1.6400e-01, -9.4932e-02],\n",
      "         [-1.6044e-01, -8.7266e-02],\n",
      "         [-1.5820e-01, -7.5279e-02],\n",
      "         [-1.5410e-01, -8.4018e-02],\n",
      "         [-1.5798e-01, -8.8094e-02],\n",
      "         [-1.6809e-01, -9.4496e-02],\n",
      "         [-1.7150e-01, -1.0272e-01]],\n",
      "\n",
      "        [[ 8.6287e-01, -3.0469e-03],\n",
      "         [ 1.7224e+00,  8.1503e-03],\n",
      "         [ 2.5683e+00,  1.2675e-02],\n",
      "         [ 3.3930e+00,  8.6305e-03],\n",
      "         [ 4.1777e+00,  1.9235e-02],\n",
      "         [ 4.9647e+00,  3.9043e-02],\n",
      "         [ 5.7818e+00,  4.6171e-02],\n",
      "         [ 6.5799e+00,  6.1553e-02],\n",
      "         [ 7.3508e+00,  4.7981e-02],\n",
      "         [ 8.0943e+00,  5.5479e-02],\n",
      "         [ 8.8512e+00,  6.6823e-02],\n",
      "         [ 9.6032e+00,  6.2959e-02],\n",
      "         [ 1.0200e+01,  6.0902e-02],\n",
      "         [ 1.0831e+01,  6.6588e-02],\n",
      "         [ 1.1643e+01,  7.0478e-02],\n",
      "         [ 1.2443e+01,  7.0502e-02],\n",
      "         [ 1.3193e+01,  5.1188e-02],\n",
      "         [ 1.3880e+01,  2.4382e-02],\n",
      "         [ 1.4489e+01,  3.4586e-02],\n",
      "         [ 1.5259e+01,  2.2185e-02],\n",
      "         [ 1.5975e+01,  9.8693e-03],\n",
      "         [ 1.6691e+01, -1.4607e-03],\n",
      "         [ 1.7425e+01,  2.8591e-03],\n",
      "         [ 1.8005e+01,  1.3213e-02],\n",
      "         [ 1.8598e+01,  1.5328e-02],\n",
      "         [ 1.9394e+01,  8.3696e-03],\n",
      "         [ 2.0027e+01, -9.0550e-03],\n",
      "         [ 2.0774e+01,  1.2737e-04],\n",
      "         [ 2.1514e+01, -1.1243e-02],\n",
      "         [ 2.2235e+01, -1.0397e-02],\n",
      "         [ 2.2971e+01, -2.5074e-02],\n",
      "         [ 2.3553e+01, -4.3520e-02],\n",
      "         [ 2.4301e+01, -5.9578e-02],\n",
      "         [ 2.5020e+01, -6.7363e-02],\n",
      "         [ 2.5768e+01, -6.1499e-02],\n",
      "         [ 2.6338e+01, -6.5190e-02],\n",
      "         [ 2.6929e+01, -6.2529e-02],\n",
      "         [ 2.7603e+01, -8.8968e-02],\n",
      "         [ 2.8370e+01, -1.0226e-01],\n",
      "         [ 2.9067e+01, -1.0278e-01],\n",
      "         [ 2.9710e+01, -1.0588e-01],\n",
      "         [ 3.0334e+01, -1.1744e-01],\n",
      "         [ 3.0835e+01, -1.2294e-01],\n",
      "         [ 3.1380e+01, -1.3217e-01],\n",
      "         [ 3.2048e+01, -1.3735e-01],\n",
      "         [ 3.2721e+01, -1.4943e-01],\n",
      "         [ 3.3319e+01, -1.5483e-01],\n",
      "         [ 3.3861e+01, -1.5666e-01],\n",
      "         [ 3.4508e+01, -1.5145e-01],\n",
      "         [ 3.5025e+01, -1.3640e-01]],\n",
      "\n",
      "        [[ 9.6848e-04, -2.5616e-03],\n",
      "         [ 2.5215e-03,  8.6604e-04],\n",
      "         [ 3.6367e-03,  2.5743e-03],\n",
      "         [-1.1769e-03,  2.0069e-03],\n",
      "         [-3.4818e-03,  2.1106e-03],\n",
      "         [-1.3035e-04,  1.3603e-03],\n",
      "         [ 1.7578e-03,  1.4722e-04],\n",
      "         [ 9.1418e-03,  2.4706e-03],\n",
      "         [ 7.0697e-03,  4.3740e-03],\n",
      "         [ 7.6076e-03,  6.1632e-03],\n",
      "         [ 3.7113e-03,  3.8543e-03],\n",
      "         [ 6.9800e-03,  1.4090e-03],\n",
      "         [ 7.5841e-03, -7.3705e-04],\n",
      "         [ 8.4619e-03,  2.5917e-03],\n",
      "         [ 6.3793e-03, -6.1013e-04],\n",
      "         [ 2.5756e-02,  1.4843e-03],\n",
      "         [ 1.8201e-02,  1.6462e-03],\n",
      "         [ 1.3971e-02,  6.3231e-03],\n",
      "         [ 7.1326e-03,  4.6039e-03],\n",
      "         [ 6.2828e-03,  6.3553e-03],\n",
      "         [-3.0954e-04,  5.0307e-03],\n",
      "         [-1.2359e-02,  1.1955e-02],\n",
      "         [-2.6659e-02,  1.0798e-02],\n",
      "         [-2.4071e-02,  1.2529e-02],\n",
      "         [-1.7658e-02,  2.2324e-02],\n",
      "         [-1.3775e-02,  2.6893e-02],\n",
      "         [-2.1904e-02,  2.9371e-02],\n",
      "         [-1.1831e-02,  3.1040e-02],\n",
      "         [-5.1935e-03,  3.2620e-02],\n",
      "         [-6.5080e-03,  2.5116e-02],\n",
      "         [-2.9198e-04,  9.8059e-03],\n",
      "         [-3.2875e-03, -4.6750e-03],\n",
      "         [-1.3683e-02, -1.5909e-02],\n",
      "         [-1.2605e-02, -1.5641e-02],\n",
      "         [-4.7544e-03, -7.3728e-03],\n",
      "         [-1.3432e-02, -5.3889e-03],\n",
      "         [-1.0455e-03, -5.0085e-03],\n",
      "         [ 7.8830e-03,  3.7984e-02],\n",
      "         [ 2.3856e-02,  1.7648e-02],\n",
      "         [ 4.0955e-02,  4.9803e-03],\n",
      "         [ 6.0804e-02, -1.2912e-02],\n",
      "         [ 8.4940e-02, -2.9266e-02],\n",
      "         [ 1.4331e-01, -4.0824e-02],\n",
      "         [ 2.1013e-01, -3.3874e-02],\n",
      "         [ 3.1469e-01, -3.0030e-02],\n",
      "         [ 4.5189e-01, -3.0422e-02],\n",
      "         [ 5.9395e-01, -2.8587e-02],\n",
      "         [ 7.8990e-01, -1.7172e-02],\n",
      "         [ 1.0323e+00, -2.2951e-02],\n",
      "         [ 1.3073e+00, -2.0837e-02]],\n",
      "\n",
      "        [[-4.1605e-03, -6.9127e-03],\n",
      "         [-7.9714e-03, -1.2270e-03],\n",
      "         [-8.9774e-03, -7.2473e-03],\n",
      "         [ 8.0908e-03, -1.1456e-02],\n",
      "         [ 1.9128e-03, -1.3967e-02],\n",
      "         [-4.7523e-03, -1.5612e-02],\n",
      "         [ 1.7957e-03, -1.8008e-02],\n",
      "         [-3.0321e-03, -1.3294e-02],\n",
      "         [-6.3958e-03, -1.2132e-02],\n",
      "         [-8.0923e-03, -1.5903e-02],\n",
      "         [-9.8232e-03, -1.1939e-02],\n",
      "         [-1.0543e-02, -1.1745e-02],\n",
      "         [ 1.5088e-02, -2.0563e-02],\n",
      "         [ 5.2245e-03, -1.8678e-02],\n",
      "         [ 1.9990e-02, -2.0994e-02],\n",
      "         [ 1.0476e-02, -2.5227e-02],\n",
      "         [ 2.8922e-02, -2.5094e-02],\n",
      "         [ 4.0561e-02, -2.0832e-02],\n",
      "         [ 2.4452e-02, -1.9762e-02],\n",
      "         [ 2.2031e-02, -2.0199e-02],\n",
      "         [ 1.0266e-02, -1.7756e-02],\n",
      "         [ 1.3141e-02, -1.2160e-02],\n",
      "         [ 1.3723e-02, -2.0075e-02],\n",
      "         [ 4.7655e-03, -2.0695e-02],\n",
      "         [ 1.3944e-02, -1.6823e-02],\n",
      "         [ 3.9727e-03, -3.5987e-03],\n",
      "         [-2.2703e-03, -6.6024e-03],\n",
      "         [-6.2148e-03, -1.9188e-02],\n",
      "         [ 1.4273e-02, -1.8260e-02],\n",
      "         [ 5.3637e-03, -1.6849e-02],\n",
      "         [-2.4781e-03, -1.1675e-02],\n",
      "         [ 2.0659e-02, -1.7327e-02],\n",
      "         [ 2.0708e-02,  4.7518e-04],\n",
      "         [ 9.6609e-03, -5.9186e-03],\n",
      "         [ 6.2793e-04,  1.7211e-03],\n",
      "         [ 2.2353e-02,  1.6469e-02],\n",
      "         [ 1.1347e-02,  1.2021e-02],\n",
      "         [ 3.5010e-03,  5.3244e-03],\n",
      "         [ 2.6036e-02,  1.4261e-02],\n",
      "         [ 3.6616e-02,  4.0152e-03],\n",
      "         [ 1.8162e-02, -1.0739e-02],\n",
      "         [ 7.1172e-03, -1.3905e-02],\n",
      "         [-1.1333e-03, -2.2494e-02],\n",
      "         [-4.3206e-03, -2.8193e-02],\n",
      "         [-6.8861e-03, -2.6083e-02],\n",
      "         [-7.8903e-03, -2.3460e-02],\n",
      "         [ 1.6066e-02, -2.2014e-02],\n",
      "         [ 6.1108e-03, -2.9045e-02],\n",
      "         [ 1.0273e-02, -2.8025e-02],\n",
      "         [ 3.8273e-03, -3.3827e-02]],\n",
      "\n",
      "        [[ 1.0755e+00,  3.6048e-02],\n",
      "         [ 2.2006e+00,  7.2395e-02],\n",
      "         [ 3.3157e+00,  1.1199e-01],\n",
      "         [ 4.4495e+00,  1.3726e-01],\n",
      "         [ 5.6253e+00,  1.6392e-01],\n",
      "         [ 6.8098e+00,  2.8500e-02],\n",
      "         [ 8.0093e+00, -3.5419e-02],\n",
      "         [ 9.2254e+00, -1.3672e-01],\n",
      "         [ 1.0441e+01, -1.1809e-01],\n",
      "         [ 1.1680e+01, -7.7590e-02],\n",
      "         [ 1.2955e+01, -5.9756e-02],\n",
      "         [ 1.4236e+01, -4.1053e-02],\n",
      "         [ 1.5519e+01,  3.6488e-03],\n",
      "         [ 1.6776e+01,  4.1008e-02],\n",
      "         [ 1.8078e+01,  6.3923e-02],\n",
      "         [ 1.9368e+01,  9.8493e-02],\n",
      "         [ 2.0685e+01,  1.5340e-01],\n",
      "         [ 2.2011e+01,  1.6322e-01],\n",
      "         [ 2.3373e+01,  8.9551e-02],\n",
      "         [ 2.4717e+01,  1.4567e-01],\n",
      "         [ 2.6073e+01,  2.2741e-01],\n",
      "         [ 2.7415e+01,  2.9828e-01],\n",
      "         [ 2.8770e+01,  3.5442e-01],\n",
      "         [ 3.0116e+01,  4.3116e-01],\n",
      "         [ 3.1415e+01,  5.3652e-01],\n",
      "         [ 3.2812e+01,  6.1280e-01],\n",
      "         [ 3.4184e+01,  6.7709e-01],\n",
      "         [ 3.5708e+01,  5.1663e-01],\n",
      "         [ 3.6955e+01,  4.4061e-01],\n",
      "         [ 3.8028e+01,  5.0638e-01],\n",
      "         [ 3.9410e+01,  6.2755e-01],\n",
      "         [ 4.0923e+01,  7.0106e-01],\n",
      "         [ 4.2379e+01,  7.4817e-01],\n",
      "         [ 4.3713e+01,  8.2785e-01],\n",
      "         [ 4.5052e+01,  8.7438e-01],\n",
      "         [ 4.6508e+01,  9.9220e-01],\n",
      "         [ 4.7967e+01,  1.0294e+00],\n",
      "         [ 4.9484e+01,  1.1038e+00],\n",
      "         [ 5.0990e+01,  1.0918e+00],\n",
      "         [ 5.2452e+01,  1.0256e+00],\n",
      "         [ 5.3842e+01,  1.0650e+00],\n",
      "         [ 5.5124e+01,  1.1416e+00],\n",
      "         [ 5.6559e+01,  1.2408e+00],\n",
      "         [ 5.7721e+01,  1.2824e+00],\n",
      "         [ 5.8776e+01,  1.3024e+00],\n",
      "         [ 5.9997e+01,  1.4097e+00],\n",
      "         [ 6.1246e+01,  1.5563e+00],\n",
      "         [ 6.2502e+01,  1.5802e+00],\n",
      "         [ 6.3852e+01,  1.6945e+00],\n",
      "         [ 6.5307e+01,  1.7432e+00]],\n",
      "\n",
      "        [[ 3.0286e-03,  2.2983e-03],\n",
      "         [ 3.0179e-03,  4.8733e-03],\n",
      "         [-5.7356e-03,  1.6256e-03],\n",
      "         [ 4.6566e-03,  2.2865e-02],\n",
      "         [ 1.5117e-03,  1.8616e-02],\n",
      "         [ 1.0409e-02,  2.4793e-02],\n",
      "         [ 2.1792e-02,  2.3266e-02],\n",
      "         [ 2.5914e-02,  5.1696e-02],\n",
      "         [ 3.3798e-02,  4.4726e-02],\n",
      "         [ 4.0291e-02,  4.4012e-02],\n",
      "         [ 3.6681e-02,  3.7354e-02],\n",
      "         [ 0.0000e+00,  0.0000e+00],\n",
      "         [ 0.0000e+00,  0.0000e+00],\n",
      "         [ 0.0000e+00,  0.0000e+00],\n",
      "         [ 0.0000e+00,  0.0000e+00],\n",
      "         [ 0.0000e+00,  0.0000e+00],\n",
      "         [ 0.0000e+00,  0.0000e+00],\n",
      "         [ 0.0000e+00,  0.0000e+00],\n",
      "         [ 0.0000e+00,  0.0000e+00],\n",
      "         [ 0.0000e+00,  0.0000e+00],\n",
      "         [ 0.0000e+00,  0.0000e+00],\n",
      "         [ 0.0000e+00,  0.0000e+00],\n",
      "         [ 0.0000e+00,  0.0000e+00],\n",
      "         [ 0.0000e+00,  0.0000e+00],\n",
      "         [ 0.0000e+00,  0.0000e+00],\n",
      "         [ 0.0000e+00,  0.0000e+00],\n",
      "         [ 0.0000e+00,  0.0000e+00],\n",
      "         [ 0.0000e+00,  0.0000e+00],\n",
      "         [ 0.0000e+00,  0.0000e+00],\n",
      "         [ 0.0000e+00,  0.0000e+00],\n",
      "         [ 0.0000e+00,  0.0000e+00],\n",
      "         [ 0.0000e+00,  0.0000e+00],\n",
      "         [ 0.0000e+00,  0.0000e+00],\n",
      "         [ 0.0000e+00,  0.0000e+00],\n",
      "         [ 0.0000e+00,  0.0000e+00],\n",
      "         [ 0.0000e+00,  0.0000e+00],\n",
      "         [ 0.0000e+00,  0.0000e+00],\n",
      "         [ 0.0000e+00,  0.0000e+00],\n",
      "         [ 0.0000e+00,  0.0000e+00],\n",
      "         [ 0.0000e+00,  0.0000e+00],\n",
      "         [ 0.0000e+00,  0.0000e+00],\n",
      "         [ 0.0000e+00,  0.0000e+00],\n",
      "         [ 0.0000e+00,  0.0000e+00],\n",
      "         [ 0.0000e+00,  0.0000e+00],\n",
      "         [ 0.0000e+00,  0.0000e+00],\n",
      "         [ 0.0000e+00,  0.0000e+00],\n",
      "         [ 0.0000e+00,  0.0000e+00],\n",
      "         [ 0.0000e+00,  0.0000e+00],\n",
      "         [ 0.0000e+00,  0.0000e+00],\n",
      "         [ 0.0000e+00,  0.0000e+00]],\n",
      "\n",
      "        [[ 1.1213e+00, -2.1684e-02],\n",
      "         [ 2.2793e+00, -5.8112e-02],\n",
      "         [ 3.4422e+00, -1.1609e-01],\n",
      "         [ 4.6111e+00, -1.5281e-01],\n",
      "         [ 5.7875e+00, -2.0386e-01],\n",
      "         [ 6.9640e+00, -2.4019e-01],\n",
      "         [ 8.1633e+00, -2.7984e-01],\n",
      "         [ 9.3777e+00, -3.3555e-01],\n",
      "         [ 1.0626e+01, -3.9164e-01],\n",
      "         [ 1.1789e+01, -4.5594e-01],\n",
      "         [ 1.2977e+01, -5.2562e-01],\n",
      "         [ 1.4141e+01, -5.7269e-01],\n",
      "         [ 1.5503e+01, -6.2705e-01],\n",
      "         [ 1.6749e+01, -6.8610e-01],\n",
      "         [ 1.8135e+01, -7.4190e-01],\n",
      "         [ 1.9397e+01, -8.0261e-01],\n",
      "         [ 2.0662e+01, -8.5928e-01],\n",
      "         [ 2.1939e+01, -9.1419e-01],\n",
      "         [ 2.3279e+01, -9.7467e-01],\n",
      "         [ 2.4631e+01, -1.0317e+00],\n",
      "         [ 2.5698e+01, -1.0468e+00],\n",
      "         [ 2.6809e+01, -1.0648e+00],\n",
      "         [ 2.8421e+01, -1.0891e+00],\n",
      "         [ 2.9988e+01, -1.1600e+00],\n",
      "         [ 3.1408e+01, -1.2146e+00],\n",
      "         [ 3.2781e+01, -1.2903e+00],\n",
      "         [ 3.4334e+01, -1.3883e+00],\n",
      "         [ 3.5725e+01, -1.4487e+00],\n",
      "         [ 3.7353e+01, -1.3938e+00],\n",
      "         [ 3.8451e+01, -1.4073e+00],\n",
      "         [ 3.9679e+01, -1.3750e+00],\n",
      "         [ 4.1447e+01, -1.3546e+00],\n",
      "         [ 4.2667e+01, -1.4107e+00],\n",
      "         [ 4.4078e+01, -1.4063e+00],\n",
      "         [ 4.5506e+01, -1.4254e+00],\n",
      "         [ 4.6993e+01, -1.4423e+00],\n",
      "         [ 4.8481e+01, -1.4603e+00],\n",
      "         [ 4.9970e+01, -1.4773e+00],\n",
      "         [ 0.0000e+00,  0.0000e+00],\n",
      "         [ 0.0000e+00,  0.0000e+00],\n",
      "         [ 0.0000e+00,  0.0000e+00],\n",
      "         [ 0.0000e+00,  0.0000e+00],\n",
      "         [ 0.0000e+00,  0.0000e+00],\n",
      "         [ 0.0000e+00,  0.0000e+00],\n",
      "         [ 0.0000e+00,  0.0000e+00],\n",
      "         [ 0.0000e+00,  0.0000e+00],\n",
      "         [ 0.0000e+00,  0.0000e+00],\n",
      "         [ 0.0000e+00,  0.0000e+00],\n",
      "         [ 0.0000e+00,  0.0000e+00],\n",
      "         [ 0.0000e+00,  0.0000e+00]],\n",
      "\n",
      "        [[-2.7993e-03,  1.7053e-02],\n",
      "         [-8.6471e-03,  1.8950e-02],\n",
      "         [ 1.1250e-03,  1.3111e-02],\n",
      "         [ 1.0253e-02,  9.6587e-03],\n",
      "         [ 2.2593e-03,  3.0578e-03],\n",
      "         [-8.5292e-04,  3.0668e-03],\n",
      "         [-8.0527e-03,  1.0121e-02],\n",
      "         [-1.2971e-02,  1.9803e-02],\n",
      "         [-1.4540e-02,  1.2675e-02],\n",
      "         [-1.5080e-02,  7.3312e-03],\n",
      "         [-1.4844e-02,  1.2067e-03],\n",
      "         [-1.3274e-02,  1.7647e-03],\n",
      "         [-1.0013e-02,  7.1226e-03],\n",
      "         [-9.2504e-03,  7.4220e-03],\n",
      "         [-1.1029e-02,  2.2325e-02],\n",
      "         [-1.2299e-02,  3.2501e-02],\n",
      "         [-1.3574e-02,  3.1267e-02],\n",
      "         [-1.6323e-02,  2.0274e-02],\n",
      "         [-1.5085e-02,  1.8913e-02],\n",
      "         [-1.3379e-02,  7.8529e-03],\n",
      "         [-1.4577e-02,  1.3365e-02],\n",
      "         [-1.3560e-02,  1.8691e-02],\n",
      "         [-1.6173e-02,  8.3973e-03],\n",
      "         [-1.0017e-02, -5.9295e-03],\n",
      "         [-8.5154e-03, -6.5420e-03],\n",
      "         [-1.1079e-02,  4.3869e-03],\n",
      "         [-1.3810e-02,  1.2611e-03],\n",
      "         [-2.7538e-03, -3.5160e-03],\n",
      "         [-5.3217e-03,  1.5711e-02],\n",
      "         [-9.5861e-03,  2.3046e-03],\n",
      "         [-8.0074e-03,  8.4382e-03],\n",
      "         [-7.0139e-03,  2.2407e-02],\n",
      "         [-5.8433e-03,  8.3793e-03],\n",
      "         [-7.7352e-03,  1.7226e-02],\n",
      "         [-1.0212e-02,  2.1590e-02],\n",
      "         [-1.5071e-02,  1.7013e-02],\n",
      "         [-1.4264e-02,  1.8092e-02],\n",
      "         [-1.4803e-02,  7.8212e-03],\n",
      "         [-1.3311e-02,  1.3950e-02],\n",
      "         [-1.2576e-02,  3.4474e-02],\n",
      "         [-9.0645e-03,  2.1132e-02],\n",
      "         [-1.1269e-02,  2.0324e-02],\n",
      "         [-1.2376e-02,  3.0682e-02],\n",
      "         [-9.4955e-03,  2.6857e-02],\n",
      "         [-1.1478e-02,  1.5257e-02],\n",
      "         [-1.0489e-02,  9.6041e-03],\n",
      "         [-1.3656e-02,  1.2290e-02],\n",
      "         [-1.3574e-02,  6.6326e-03],\n",
      "         [-4.7273e-03,  2.7764e-03],\n",
      "         [-6.5147e-03, -5.1401e-03]]])}\n"
     ]
    }
   ],
   "source": [
    "print(dict(list(train_data.items())[0: 2]))"
   ]
  },
  {
   "cell_type": "code",
   "execution_count": 32,
   "metadata": {
    "execution": {
     "iopub.execute_input": "2020-12-08T17:16:07.527459Z",
     "iopub.status.busy": "2020-12-08T17:16:07.526333Z",
     "iopub.status.idle": "2020-12-08T17:16:07.567336Z",
     "shell.execute_reply": "2020-12-08T17:16:07.568283Z"
    },
    "papermill": {
     "duration": 0.350791,
     "end_time": "2020-12-08T17:16:07.568533",
     "exception": false,
     "start_time": "2020-12-08T17:16:07.217742",
     "status": "completed"
    },
    "tags": []
   },
   "outputs": [
    {
     "name": "stdout",
     "output_type": "stream",
     "text": [
      "tensor([[[[0.0000, 0.0000, 0.0000,  ..., 0.0000, 0.0000, 0.0000],\n",
      "          [0.0000, 0.0000, 0.0000,  ..., 0.0000, 0.0000, 0.0000],\n",
      "          [0.0000, 0.0000, 0.0000,  ..., 0.0000, 0.0000, 0.0000],\n",
      "          ...,\n",
      "          [0.0000, 0.0000, 0.0000,  ..., 0.0000, 0.0000, 0.0000],\n",
      "          [0.0000, 0.0000, 0.0000,  ..., 0.0000, 0.0000, 0.0000],\n",
      "          [0.0000, 0.0000, 0.0000,  ..., 0.0000, 0.0000, 0.0000]],\n",
      "\n",
      "         [[0.0000, 0.0000, 0.0000,  ..., 0.0000, 0.0000, 0.0000],\n",
      "          [0.0000, 0.0000, 0.0000,  ..., 0.0000, 0.0000, 0.0000],\n",
      "          [0.0000, 0.0000, 0.0000,  ..., 0.0000, 0.0000, 0.0000],\n",
      "          ...,\n",
      "          [0.0000, 0.0000, 0.0000,  ..., 0.0000, 0.0000, 0.0000],\n",
      "          [0.0000, 0.0000, 0.0000,  ..., 0.0000, 0.0000, 0.0000],\n",
      "          [0.0000, 0.0000, 0.0000,  ..., 0.0000, 0.0000, 0.0000]],\n",
      "\n",
      "         [[0.0000, 0.0000, 0.0000,  ..., 0.0000, 0.0000, 0.0000],\n",
      "          [0.0000, 0.0000, 0.0000,  ..., 0.0000, 0.0000, 0.0000],\n",
      "          [0.0000, 0.0000, 0.0000,  ..., 0.0000, 0.0000, 0.0000],\n",
      "          ...,\n",
      "          [0.0000, 0.0000, 0.0000,  ..., 0.0000, 0.0000, 0.0000],\n",
      "          [0.0000, 0.0000, 0.0000,  ..., 0.0000, 0.0000, 0.0000],\n",
      "          [0.0000, 0.0000, 0.0000,  ..., 0.0000, 0.0000, 0.0000]],\n",
      "\n",
      "         ...,\n",
      "\n",
      "         [[1.0000, 1.0000, 1.0000,  ..., 1.0000, 1.0000, 1.0000],\n",
      "          [1.0000, 1.0000, 1.0000,  ..., 1.0000, 1.0000, 1.0000],\n",
      "          [1.0000, 1.0000, 1.0000,  ..., 1.0000, 1.0000, 1.0000],\n",
      "          ...,\n",
      "          [1.0000, 1.0000, 1.0000,  ..., 0.0667, 0.0667, 0.0667],\n",
      "          [1.0000, 1.0000, 1.0000,  ..., 0.0667, 0.0667, 0.0667],\n",
      "          [1.0000, 1.0000, 1.0000,  ..., 0.0667, 0.0667, 0.0667]],\n",
      "\n",
      "         [[1.0000, 1.0000, 1.0000,  ..., 1.0000, 1.0000, 1.0000],\n",
      "          [1.0000, 1.0000, 1.0000,  ..., 1.0000, 1.0000, 1.0000],\n",
      "          [1.0000, 1.0000, 1.0000,  ..., 1.0000, 1.0000, 1.0000],\n",
      "          ...,\n",
      "          [1.0000, 1.0000, 1.0000,  ..., 0.0667, 0.0667, 0.0667],\n",
      "          [1.0000, 1.0000, 1.0000,  ..., 0.0667, 0.0667, 0.0667],\n",
      "          [1.0000, 1.0000, 1.0000,  ..., 0.0667, 0.0667, 0.0667]],\n",
      "\n",
      "         [[1.0000, 1.0000, 1.0000,  ..., 1.0000, 1.0000, 1.0000],\n",
      "          [1.0000, 1.0000, 1.0000,  ..., 1.0000, 1.0000, 1.0000],\n",
      "          [1.0000, 1.0000, 1.0000,  ..., 1.0000, 1.0000, 1.0000],\n",
      "          ...,\n",
      "          [1.0000, 1.0000, 1.0000,  ..., 0.1216, 0.1216, 0.1216],\n",
      "          [1.0000, 1.0000, 1.0000,  ..., 0.1216, 0.1216, 0.1216],\n",
      "          [1.0000, 1.0000, 1.0000,  ..., 0.1216, 0.1216, 0.1216]]],\n",
      "\n",
      "\n",
      "        [[[0.0000, 0.0000, 0.0000,  ..., 0.0000, 0.0000, 0.0000],\n",
      "          [0.0000, 0.0000, 0.0000,  ..., 0.0000, 0.0000, 0.0000],\n",
      "          [0.0000, 0.0000, 0.0000,  ..., 0.0000, 0.0000, 0.0000],\n",
      "          ...,\n",
      "          [0.0000, 0.0000, 0.0000,  ..., 0.0000, 0.0000, 0.0000],\n",
      "          [0.0000, 0.0000, 0.0000,  ..., 0.0000, 0.0000, 0.0000],\n",
      "          [0.0000, 0.0000, 0.0000,  ..., 0.0000, 0.0000, 0.0000]],\n",
      "\n",
      "         [[0.0000, 0.0000, 0.0000,  ..., 0.0000, 0.0000, 0.0000],\n",
      "          [0.0000, 0.0000, 0.0000,  ..., 0.0000, 0.0000, 0.0000],\n",
      "          [0.0000, 0.0000, 0.0000,  ..., 0.0000, 0.0000, 0.0000],\n",
      "          ...,\n",
      "          [0.0000, 0.0000, 0.0000,  ..., 0.0000, 0.0000, 0.0000],\n",
      "          [0.0000, 0.0000, 0.0000,  ..., 0.0000, 0.0000, 0.0000],\n",
      "          [0.0000, 0.0000, 0.0000,  ..., 0.0000, 0.0000, 0.0000]],\n",
      "\n",
      "         [[0.0000, 0.0000, 0.0000,  ..., 0.0000, 0.0000, 0.0000],\n",
      "          [0.0000, 0.0000, 0.0000,  ..., 0.0000, 0.0000, 0.0000],\n",
      "          [0.0000, 0.0000, 0.0000,  ..., 0.0000, 0.0000, 0.0000],\n",
      "          ...,\n",
      "          [0.0000, 0.0000, 0.0000,  ..., 0.0000, 0.0000, 0.0000],\n",
      "          [0.0000, 0.0000, 0.0000,  ..., 0.0000, 0.0000, 0.0000],\n",
      "          [0.0000, 0.0000, 0.0000,  ..., 0.0000, 0.0000, 0.0000]],\n",
      "\n",
      "         ...,\n",
      "\n",
      "         [[1.0000, 1.0000, 1.0000,  ..., 1.0000, 1.0000, 1.0000],\n",
      "          [1.0000, 1.0000, 1.0000,  ..., 1.0000, 1.0000, 1.0000],\n",
      "          [1.0000, 1.0000, 1.0000,  ..., 1.0000, 1.0000, 1.0000],\n",
      "          ...,\n",
      "          [1.0000, 1.0000, 1.0000,  ..., 1.0000, 1.0000, 1.0000],\n",
      "          [1.0000, 1.0000, 1.0000,  ..., 1.0000, 1.0000, 1.0000],\n",
      "          [1.0000, 1.0000, 1.0000,  ..., 1.0000, 1.0000, 1.0000]],\n",
      "\n",
      "         [[1.0000, 1.0000, 1.0000,  ..., 1.0000, 1.0000, 1.0000],\n",
      "          [1.0000, 1.0000, 1.0000,  ..., 1.0000, 1.0000, 1.0000],\n",
      "          [1.0000, 1.0000, 1.0000,  ..., 1.0000, 1.0000, 1.0000],\n",
      "          ...,\n",
      "          [1.0000, 1.0000, 1.0000,  ..., 1.0000, 1.0000, 1.0000],\n",
      "          [1.0000, 1.0000, 1.0000,  ..., 1.0000, 1.0000, 1.0000],\n",
      "          [1.0000, 1.0000, 1.0000,  ..., 1.0000, 1.0000, 1.0000]],\n",
      "\n",
      "         [[1.0000, 1.0000, 1.0000,  ..., 1.0000, 1.0000, 1.0000],\n",
      "          [1.0000, 1.0000, 1.0000,  ..., 1.0000, 1.0000, 1.0000],\n",
      "          [1.0000, 1.0000, 1.0000,  ..., 1.0000, 1.0000, 1.0000],\n",
      "          ...,\n",
      "          [1.0000, 1.0000, 1.0000,  ..., 1.0000, 1.0000, 1.0000],\n",
      "          [1.0000, 1.0000, 1.0000,  ..., 1.0000, 1.0000, 1.0000],\n",
      "          [1.0000, 1.0000, 1.0000,  ..., 1.0000, 1.0000, 1.0000]]]]) tensor([[1., 1., 1., 1., 1., 1., 1., 1., 1., 1., 1., 1., 1., 1., 1., 1., 1., 1.,\n",
      "         1., 1., 1., 1., 1., 1., 1., 1., 1., 1., 1., 1., 1., 1., 1., 1., 1., 1.,\n",
      "         1., 1., 1., 1., 1., 1., 1., 1., 1., 1., 1., 1., 1., 1.],\n",
      "        [1., 1., 1., 1., 1., 1., 1., 1., 1., 1., 1., 1., 1., 1., 1., 1., 1., 1.,\n",
      "         1., 1., 1., 1., 1., 1., 1., 1., 1., 1., 1., 1., 1., 1., 1., 1., 1., 1.,\n",
      "         1., 1., 1., 1., 1., 1., 1., 0., 0., 0., 0., 0., 0., 0.]]) tensor([[[ 3.1966e-01,  1.5801e-02],\n",
      "         [ 6.2368e-01,  4.3078e-02],\n",
      "         [ 9.4305e-01,  6.0694e-02],\n",
      "         [ 1.2600e+00,  7.5454e-02],\n",
      "         [ 1.5729e+00,  8.2391e-02],\n",
      "         [ 1.8755e+00,  8.4211e-02],\n",
      "         [ 2.2084e+00,  8.0489e-02],\n",
      "         [ 2.5135e+00,  1.0811e-01],\n",
      "         [ 2.7933e+00,  1.4326e-01],\n",
      "         [ 3.0838e+00,  1.7062e-01],\n",
      "         [ 3.3670e+00,  1.9285e-01],\n",
      "         [ 3.5997e+00,  2.1714e-01],\n",
      "         [ 3.8531e+00,  2.4769e-01],\n",
      "         [ 4.1299e+00,  2.8322e-01],\n",
      "         [ 4.3446e+00,  3.0499e-01],\n",
      "         [ 4.5870e+00,  3.3748e-01],\n",
      "         [ 4.8251e+00,  3.7615e-01],\n",
      "         [ 5.0799e+00,  4.0555e-01],\n",
      "         [ 5.3234e+00,  4.4177e-01],\n",
      "         [ 5.5672e+00,  4.9371e-01],\n",
      "         [ 5.8038e+00,  5.4752e-01],\n",
      "         [ 6.0336e+00,  6.0039e-01],\n",
      "         [ 6.1756e+00,  6.4495e-01],\n",
      "         [ 6.4308e+00,  7.4978e-01],\n",
      "         [ 6.6471e+00,  8.0929e-01],\n",
      "         [ 6.8556e+00,  8.4429e-01],\n",
      "         [ 7.0608e+00,  8.7784e-01],\n",
      "         [ 7.2582e+00,  9.1601e-01],\n",
      "         [ 7.4644e+00,  9.5798e-01],\n",
      "         [ 7.6441e+00,  1.0011e+00],\n",
      "         [ 7.8429e+00,  1.0490e+00],\n",
      "         [ 7.9965e+00,  1.1182e+00],\n",
      "         [ 8.1386e+00,  1.1552e+00],\n",
      "         [ 8.2970e+00,  1.2197e+00],\n",
      "         [ 8.4031e+00,  1.2222e+00],\n",
      "         [ 8.5882e+00,  1.2638e+00],\n",
      "         [ 8.7839e+00,  1.3075e+00],\n",
      "         [ 8.8570e+00,  1.3298e+00],\n",
      "         [ 8.9650e+00,  1.3668e+00],\n",
      "         [ 9.1375e+00,  1.4295e+00],\n",
      "         [ 9.3124e+00,  1.5087e+00],\n",
      "         [ 9.4660e+00,  1.5728e+00],\n",
      "         [ 9.5129e+00,  1.5980e+00],\n",
      "         [ 9.6529e+00,  1.6686e+00],\n",
      "         [ 9.7391e+00,  1.7099e+00],\n",
      "         [ 9.8196e+00,  1.7571e+00],\n",
      "         [ 9.9883e+00,  1.8077e+00],\n",
      "         [ 1.0159e+01,  1.8774e+00],\n",
      "         [ 1.0242e+01,  1.9118e+00],\n",
      "         [ 1.0396e+01,  1.9655e+00]],\n",
      "\n",
      "        [[ 1.7214e-02, -9.7061e-03],\n",
      "         [ 3.2195e-02, -1.1559e-02],\n",
      "         [ 4.5472e-02, -2.0029e-02],\n",
      "         [ 1.1603e-01, -6.3749e-02],\n",
      "         [ 1.3125e-01, -7.0086e-02],\n",
      "         [ 1.6143e-01, -5.5643e-02],\n",
      "         [ 1.9090e-01, -2.1687e-02],\n",
      "         [ 1.9917e-01, -7.0372e-02],\n",
      "         [ 1.3833e-01, -9.7670e-02],\n",
      "         [ 1.5543e-01, -1.1026e-01],\n",
      "         [ 1.9111e-01, -1.2912e-01],\n",
      "         [ 1.9199e-01, -1.6887e-01],\n",
      "         [ 2.2039e-01, -1.5312e-01],\n",
      "         [ 1.2294e-01, -1.2826e-01],\n",
      "         [ 4.7852e-02, -1.8847e-01],\n",
      "         [ 1.1542e-01, -3.2600e-01],\n",
      "         [ 2.3089e-02, -3.1823e-01],\n",
      "         [-1.4858e-02, -3.1515e-01],\n",
      "         [-4.2179e-02, -3.5119e-01],\n",
      "         [ 1.3648e-02, -4.5427e-01],\n",
      "         [ 5.1571e-01, -1.9820e-01],\n",
      "         [ 3.9292e-01, -1.9164e-01],\n",
      "         [ 2.7908e-01, -1.9805e-01],\n",
      "         [ 2.1216e-01, -1.2013e-01],\n",
      "         [ 2.0241e-01,  2.2645e-02],\n",
      "         [ 1.6580e-01,  1.9152e-01],\n",
      "         [ 1.8508e-01,  1.3770e-01],\n",
      "         [ 2.4421e-01,  1.0016e-01],\n",
      "         [ 7.3575e-01,  6.0988e-02],\n",
      "         [ 1.0694e+00, -2.5389e-02],\n",
      "         [ 9.8157e-01, -2.9420e-02],\n",
      "         [ 6.6614e-01, -1.0727e-01],\n",
      "         [ 7.4896e-01, -6.8218e-02],\n",
      "         [ 5.4384e-01, -9.8606e-02],\n",
      "         [ 4.2213e-01,  1.0846e-01],\n",
      "         [ 8.3762e-01,  9.1720e-03],\n",
      "         [ 8.4717e-01,  6.1394e-02],\n",
      "         [ 4.5853e-01, -9.5523e-02],\n",
      "         [ 1.2644e-01, -2.3315e-01],\n",
      "         [ 5.6427e-02, -2.6911e-01],\n",
      "         [ 2.8370e-03, -3.0970e-01],\n",
      "         [-6.0491e-02, -3.5573e-01],\n",
      "         [-9.2312e-02, -3.8818e-01],\n",
      "         [ 0.0000e+00,  0.0000e+00],\n",
      "         [ 0.0000e+00,  0.0000e+00],\n",
      "         [ 0.0000e+00,  0.0000e+00],\n",
      "         [ 0.0000e+00,  0.0000e+00],\n",
      "         [ 0.0000e+00,  0.0000e+00],\n",
      "         [ 0.0000e+00,  0.0000e+00],\n",
      "         [ 0.0000e+00,  0.0000e+00]]])\n"
     ]
    }
   ],
   "source": [
    "print(train_data[\"image\"][:2], train_data[\"target_availabilities\"][:2], train_data[\"target_positions\"][:2])"
   ]
  },
  {
   "cell_type": "code",
   "execution_count": 33,
   "metadata": {
    "execution": {
     "iopub.execute_input": "2020-12-08T17:16:08.106835Z",
     "iopub.status.busy": "2020-12-08T17:16:08.105714Z",
     "iopub.status.idle": "2020-12-08T17:17:12.148453Z",
     "shell.execute_reply": "2020-12-08T17:17:12.147802Z"
    },
    "papermill": {
     "duration": 64.227399,
     "end_time": "2020-12-08T17:17:12.148581",
     "exception": false,
     "start_time": "2020-12-08T17:16:07.921182",
     "status": "completed"
    },
    "tags": []
   },
   "outputs": [
    {
     "name": "stderr",
     "output_type": "stream",
     "text": [
      "Train_loss: 93.55573 Train_loss(avg): 50.9261: 100%|██████████| 100/100 [01:08<00:00,  1.47it/s]\n"
     ]
    }
   ],
   "source": [
    "losses_train = []\n",
    "#posshape = 0\n",
    "for progress in progress_bar:\n",
    "    \n",
    "    train_data = next(train_itr)\n",
    "    \n",
    "    network_model.train()\n",
    "    torch.set_grad_enabled(True) #will enable grads based on its argument mode\n",
    "    \n",
    "    # forward pass\n",
    "    images = train_data[\"image\"]\n",
    "    #print(images.shape)\n",
    "    target_probs = train_data[\"target_availabilities\"]\n",
    "    pos = train_data[\"target_positions\"]\n",
    "    #posshape += (pos.shape[0]*pos.shape[1])\n",
    "    #print(pos.shape)\n",
    "    inputs = images.to(device)\n",
    "    target_probs = target_probs.unsqueeze(-1).to(device)\n",
    "    target_pos = pos.to(device)\n",
    "    \n",
    "    outputs = network_model(inputs).reshape(target_pos.shape)\n",
    "    #print(outputs.shape, target_pos.shape)\n",
    "    loss = loss_func(outputs, target_pos)\n",
    "\n",
    "    # not all the output steps are valid, but we can filter them out from the loss using availabilities\n",
    "    loss = (loss * target_probs).mean()\n",
    "    \n",
    "    # Backward pass\n",
    "    optimizer.zero_grad()\n",
    "    loss.backward()\n",
    "    optimizer.step()\n",
    "\n",
    "    losses_train.append(loss.item()) \n",
    "    #print(\"loss:\", (loss.item()), \"loss(avg): \", (np.mean(losses_train)))\n",
    "    progress_bar.set_description(f\"Train_loss: {round(loss.item(),5)} Train_loss(avg): {round(np.mean(losses_train),5)}\")\n",
    "#print(pos.shape) "
   ]
  },
  {
   "cell_type": "code",
   "execution_count": 34,
   "metadata": {
    "execution": {
     "iopub.execute_input": "2020-12-08T17:17:12.983706Z",
     "iopub.status.busy": "2020-12-08T17:17:12.982532Z",
     "iopub.status.idle": "2020-12-08T17:17:13.669292Z",
     "shell.execute_reply": "2020-12-08T17:17:13.671742Z"
    },
    "papermill": {
     "duration": 1.07219,
     "end_time": "2020-12-08T17:17:13.672020",
     "exception": false,
     "start_time": "2020-12-08T17:17:12.599830",
     "status": "completed"
    },
    "tags": []
   },
   "outputs": [],
   "source": [
    "import pickle\n",
    "filename = 'baseline_model.pkl'\n",
    "# pickle.dump(network_model, open(filename, 'wb'))\n",
    "\n",
    "with open(filename, 'wb') as f:\n",
    "    pickle.dump(network_model,f)"
   ]
  },
  {
   "cell_type": "markdown",
   "metadata": {
    "papermill": {
     "duration": 0.476104,
     "end_time": "2020-12-08T17:17:14.602917",
     "exception": false,
     "start_time": "2020-12-08T17:17:14.126813",
     "status": "completed"
    },
    "tags": []
   },
   "source": [
    "### **Evaluating Validate dataset**"
   ]
  },
  {
   "cell_type": "code",
   "execution_count": 35,
   "metadata": {
    "execution": {
     "iopub.execute_input": "2020-12-08T17:17:15.380428Z",
     "iopub.status.busy": "2020-12-08T17:17:15.379350Z",
     "iopub.status.idle": "2020-12-08T17:17:15.476538Z",
     "shell.execute_reply": "2020-12-08T17:17:15.475947Z"
    },
    "papermill": {
     "duration": 0.515695,
     "end_time": "2020-12-08T17:17:15.476651",
     "exception": false,
     "start_time": "2020-12-08T17:17:14.960956",
     "status": "completed"
    },
    "tags": []
   },
   "outputs": [],
   "source": [
    "with open(filename, 'rb') as read_file:\n",
    "    network_model = pickle.load(read_file,  encoding='utf-8')"
   ]
  },
  {
   "cell_type": "code",
   "execution_count": 36,
   "metadata": {
    "execution": {
     "iopub.execute_input": "2020-12-08T17:17:15.906267Z",
     "iopub.status.busy": "2020-12-08T17:17:15.904297Z",
     "iopub.status.idle": "2020-12-08T17:17:59.255226Z",
     "shell.execute_reply": "2020-12-08T17:17:59.256203Z"
    },
    "papermill": {
     "duration": 43.574235,
     "end_time": "2020-12-08T17:17:59.256466",
     "exception": false,
     "start_time": "2020-12-08T17:17:15.682231",
     "status": "completed"
    },
    "tags": []
   },
   "outputs": [
    {
     "name": "stderr",
     "output_type": "stream",
     "text": [
      "Evaluation_loss: 211.23936 Evaluation_loss(avg): 125.96484: 100%|██████████| 100/100 [00:43<00:00,  2.31it/s]\n"
     ]
    }
   ],
   "source": [
    "network_model.eval()\n",
    "torch.set_grad_enabled(False)\n",
    "\n",
    "losses_valid = []\n",
    "valid_itr = iter(valid_dataloader)\n",
    "\n",
    "progress_bar = tqdm(range(cfg_data[\"valid_params\"][\"max_num_steps\"]))\n",
    "for data in progress_bar:\n",
    "    with torch.no_grad():\n",
    "        valid_data = next(valid_itr)\n",
    "        network_model.eval()\n",
    "        #torch.set_grad_enabled(False) #will enable grads based on its argument mode\n",
    "\n",
    "        # forward pass\n",
    "        images = valid_data[\"image\"]\n",
    "        target_probs = valid_data[\"target_availabilities\"]\n",
    "        pos = valid_data[\"target_positions\"]\n",
    "        inputs = images.to(device)\n",
    "        target_probs = target_probs.unsqueeze(-1).to(device)\n",
    "        target_pos = pos.to(device)\n",
    "\n",
    "        outputs = network_model(inputs).reshape(target_pos.shape)\n",
    "        loss = loss_func(outputs, target_pos)\n",
    "\n",
    "        # not all the output steps are valid, but we can filter them out from the loss using availabilities\n",
    "        loss = (loss * target_probs).mean()\n",
    "    \n",
    "\n",
    "        losses_valid.append(loss.item())\n",
    "    #print(\"loss:\", (loss.item()), \"loss(avg): \", (np.mean(losses_valid)))\n",
    "    progress_bar.set_description(f\"Evaluation_loss: {round(loss.item(),5)} Evaluation_loss(avg): {round(np.mean(losses_valid),5)}\")"
   ]
  },
  {
   "cell_type": "code",
   "execution_count": 37,
   "metadata": {
    "execution": {
     "iopub.execute_input": "2020-12-08T17:18:00.563387Z",
     "iopub.status.busy": "2020-12-08T17:18:00.562364Z",
     "iopub.status.idle": "2020-12-08T17:18:00.594655Z",
     "shell.execute_reply": "2020-12-08T17:18:00.596555Z"
    },
    "papermill": {
     "duration": 0.644943,
     "end_time": "2020-12-08T17:18:00.596861",
     "exception": false,
     "start_time": "2020-12-08T17:17:59.951918",
     "status": "completed"
    },
    "tags": []
   },
   "outputs": [
    {
     "name": "stdout",
     "output_type": "stream",
     "text": [
      "2162462 17\n"
     ]
    }
   ],
   "source": [
    "print(len(valid_dataloader), len(next(valid_itr)))"
   ]
  },
  {
   "cell_type": "markdown",
   "metadata": {
    "papermill": {
     "duration": 0.438659,
     "end_time": "2020-12-08T17:18:01.568468",
     "exception": false,
     "start_time": "2020-12-08T17:18:01.129809",
     "status": "completed"
    },
    "tags": []
   },
   "source": [
    "### **Test loss Evaluation**"
   ]
  },
  {
   "cell_type": "code",
   "execution_count": 38,
   "metadata": {
    "execution": {
     "iopub.execute_input": "2020-12-08T17:18:02.160561Z",
     "iopub.status.busy": "2020-12-08T17:18:02.159599Z",
     "iopub.status.idle": "2020-12-08T17:18:59.163969Z",
     "shell.execute_reply": "2020-12-08T17:18:59.165639Z"
    },
    "papermill": {
     "duration": 57.288783,
     "end_time": "2020-12-08T17:18:59.165900",
     "exception": false,
     "start_time": "2020-12-08T17:18:01.877117",
     "status": "completed"
    },
    "tags": []
   },
   "outputs": [
    {
     "name": "stderr",
     "output_type": "stream",
     "text": [
      "100%|██████████| 100/100 [00:56<00:00,  1.75it/s]\n"
     ]
    }
   ],
   "source": [
    "network_model.eval()\n",
    "\n",
    "future_coords_offsets_pd = []\n",
    "timestamps = []\n",
    "agent_ids = []\n",
    "\n",
    "with torch.no_grad():\n",
    "    dataiter = tqdm(range(cfg_data[\"test_params\"][\"max_num_steps\"]))\n",
    "    test_itr = iter(test_dataloader)\n",
    "    for data in dataiter:\n",
    "        data = next(test_itr)\n",
    "        inputs = data[\"image\"].to(device)\n",
    "        target_availabilities = data[\"target_availabilities\"].unsqueeze(-1).to(device)\n",
    "        targets = data[\"target_positions\"].to(device)\n",
    "        outputs = network_model(inputs).reshape(targets.shape)\n",
    "        \n",
    "        future_coords_offsets_pd.append(outputs.cpu().numpy().copy())\n",
    "        timestamps.append(data[\"timestamp\"].numpy().copy())\n",
    "        #timestamps.append(datetime.datetime.fromtimestamp(data[\"timestamp\"]// 10**9).numpy().copy())\n",
    "        agent_ids.append(data[\"track_id\"].numpy().copy())"
   ]
  },
  {
   "cell_type": "markdown",
   "metadata": {
    "papermill": {
     "duration": 0.549106,
     "end_time": "2020-12-08T17:19:00.391943",
     "exception": false,
     "start_time": "2020-12-08T17:18:59.842837",
     "status": "completed"
    },
    "tags": []
   },
   "source": [
    "Writing outputs to CSV"
   ]
  },
  {
   "cell_type": "code",
   "execution_count": 39,
   "metadata": {
    "execution": {
     "iopub.execute_input": "2020-12-08T17:19:01.419445Z",
     "iopub.status.busy": "2020-12-08T17:19:01.418316Z",
     "iopub.status.idle": "2020-12-08T17:19:02.017227Z",
     "shell.execute_reply": "2020-12-08T17:19:02.015605Z"
    },
    "papermill": {
     "duration": 1.111651,
     "end_time": "2020-12-08T17:19:02.017360",
     "exception": false,
     "start_time": "2020-12-08T17:19:00.905709",
     "status": "completed"
    },
    "tags": []
   },
   "outputs": [],
   "source": [
    "#save predictions as a csv file\n",
    "write_pred_csv('submission_resnet18.csv',\n",
    "               timestamps=np.concatenate(timestamps),\n",
    "               track_ids=np.concatenate(agent_ids),\n",
    "               coords=np.concatenate(future_coords_offsets_pd))"
   ]
  },
  {
   "cell_type": "markdown",
   "metadata": {
    "papermill": {
     "duration": 0.304466,
     "end_time": "2020-12-08T17:19:02.627516",
     "exception": false,
     "start_time": "2020-12-08T17:19:02.323050",
     "status": "completed"
    },
    "tags": []
   },
   "source": [
    "Predicted dataframe"
   ]
  },
  {
   "cell_type": "code",
   "execution_count": 40,
   "metadata": {
    "execution": {
     "iopub.execute_input": "2020-12-08T17:19:03.251658Z",
     "iopub.status.busy": "2020-12-08T17:19:03.250525Z",
     "iopub.status.idle": "2020-12-08T17:19:03.370434Z",
     "shell.execute_reply": "2020-12-08T17:19:03.371132Z"
    },
    "papermill": {
     "duration": 0.439825,
     "end_time": "2020-12-08T17:19:03.371318",
     "exception": false,
     "start_time": "2020-12-08T17:19:02.931493",
     "status": "completed"
    },
    "tags": []
   },
   "outputs": [
    {
     "data": {
      "text/html": [
       "<div>\n",
       "<style scoped>\n",
       "    .dataframe tbody tr th:only-of-type {\n",
       "        vertical-align: middle;\n",
       "    }\n",
       "\n",
       "    .dataframe tbody tr th {\n",
       "        vertical-align: top;\n",
       "    }\n",
       "\n",
       "    .dataframe thead th {\n",
       "        text-align: right;\n",
       "    }\n",
       "</style>\n",
       "<table border=\"1\" class=\"dataframe\">\n",
       "  <thead>\n",
       "    <tr style=\"text-align: right;\">\n",
       "      <th></th>\n",
       "      <th>timestamp</th>\n",
       "      <th>track_id</th>\n",
       "      <th>conf_0</th>\n",
       "      <th>conf_1</th>\n",
       "      <th>conf_2</th>\n",
       "      <th>coord_x00</th>\n",
       "      <th>coord_y00</th>\n",
       "      <th>coord_x01</th>\n",
       "      <th>coord_y01</th>\n",
       "      <th>coord_x02</th>\n",
       "      <th>...</th>\n",
       "      <th>coord_x245</th>\n",
       "      <th>coord_y245</th>\n",
       "      <th>coord_x246</th>\n",
       "      <th>coord_y246</th>\n",
       "      <th>coord_x247</th>\n",
       "      <th>coord_y247</th>\n",
       "      <th>coord_x248</th>\n",
       "      <th>coord_y248</th>\n",
       "      <th>coord_x249</th>\n",
       "      <th>coord_y249</th>\n",
       "    </tr>\n",
       "  </thead>\n",
       "  <tbody>\n",
       "    <tr>\n",
       "      <th>0</th>\n",
       "      <td>2020-01-09 21:40:07.801600134</td>\n",
       "      <td>2</td>\n",
       "      <td>1.0</td>\n",
       "      <td>0.0</td>\n",
       "      <td>0.0</td>\n",
       "      <td>1.02010</td>\n",
       "      <td>-0.17954</td>\n",
       "      <td>1.54924</td>\n",
       "      <td>-0.16587</td>\n",
       "      <td>1.96230</td>\n",
       "      <td>...</td>\n",
       "      <td>0.0</td>\n",
       "      <td>0.0</td>\n",
       "      <td>0.0</td>\n",
       "      <td>0.0</td>\n",
       "      <td>0.0</td>\n",
       "      <td>0.0</td>\n",
       "      <td>0.0</td>\n",
       "      <td>0.0</td>\n",
       "      <td>0.0</td>\n",
       "      <td>0.0</td>\n",
       "    </tr>\n",
       "    <tr>\n",
       "      <th>1</th>\n",
       "      <td>2020-01-09 21:40:32.802467516</td>\n",
       "      <td>4</td>\n",
       "      <td>1.0</td>\n",
       "      <td>0.0</td>\n",
       "      <td>0.0</td>\n",
       "      <td>1.72011</td>\n",
       "      <td>-0.14255</td>\n",
       "      <td>2.46814</td>\n",
       "      <td>-0.23448</td>\n",
       "      <td>3.14054</td>\n",
       "      <td>...</td>\n",
       "      <td>0.0</td>\n",
       "      <td>0.0</td>\n",
       "      <td>0.0</td>\n",
       "      <td>0.0</td>\n",
       "      <td>0.0</td>\n",
       "      <td>0.0</td>\n",
       "      <td>0.0</td>\n",
       "      <td>0.0</td>\n",
       "      <td>0.0</td>\n",
       "      <td>0.0</td>\n",
       "    </tr>\n",
       "    <tr>\n",
       "      <th>2</th>\n",
       "      <td>2020-01-09 21:40:32.802467516</td>\n",
       "      <td>5</td>\n",
       "      <td>1.0</td>\n",
       "      <td>0.0</td>\n",
       "      <td>0.0</td>\n",
       "      <td>0.89965</td>\n",
       "      <td>-0.19602</td>\n",
       "      <td>1.42426</td>\n",
       "      <td>-0.09998</td>\n",
       "      <td>1.77360</td>\n",
       "      <td>...</td>\n",
       "      <td>0.0</td>\n",
       "      <td>0.0</td>\n",
       "      <td>0.0</td>\n",
       "      <td>0.0</td>\n",
       "      <td>0.0</td>\n",
       "      <td>0.0</td>\n",
       "      <td>0.0</td>\n",
       "      <td>0.0</td>\n",
       "      <td>0.0</td>\n",
       "      <td>0.0</td>\n",
       "    </tr>\n",
       "    <tr>\n",
       "      <th>3</th>\n",
       "      <td>2020-01-09 21:40:32.802467516</td>\n",
       "      <td>81</td>\n",
       "      <td>1.0</td>\n",
       "      <td>0.0</td>\n",
       "      <td>0.0</td>\n",
       "      <td>1.38356</td>\n",
       "      <td>-0.16892</td>\n",
       "      <td>2.09478</td>\n",
       "      <td>-0.17495</td>\n",
       "      <td>2.57192</td>\n",
       "      <td>...</td>\n",
       "      <td>0.0</td>\n",
       "      <td>0.0</td>\n",
       "      <td>0.0</td>\n",
       "      <td>0.0</td>\n",
       "      <td>0.0</td>\n",
       "      <td>0.0</td>\n",
       "      <td>0.0</td>\n",
       "      <td>0.0</td>\n",
       "      <td>0.0</td>\n",
       "      <td>0.0</td>\n",
       "    </tr>\n",
       "    <tr>\n",
       "      <th>4</th>\n",
       "      <td>2020-01-09 21:40:32.802467516</td>\n",
       "      <td>130</td>\n",
       "      <td>1.0</td>\n",
       "      <td>0.0</td>\n",
       "      <td>0.0</td>\n",
       "      <td>0.32379</td>\n",
       "      <td>-0.26478</td>\n",
       "      <td>0.68315</td>\n",
       "      <td>0.02715</td>\n",
       "      <td>0.78972</td>\n",
       "      <td>...</td>\n",
       "      <td>0.0</td>\n",
       "      <td>0.0</td>\n",
       "      <td>0.0</td>\n",
       "      <td>0.0</td>\n",
       "      <td>0.0</td>\n",
       "      <td>0.0</td>\n",
       "      <td>0.0</td>\n",
       "      <td>0.0</td>\n",
       "      <td>0.0</td>\n",
       "      <td>0.0</td>\n",
       "    </tr>\n",
       "    <tr>\n",
       "      <th>...</th>\n",
       "      <td>...</td>\n",
       "      <td>...</td>\n",
       "      <td>...</td>\n",
       "      <td>...</td>\n",
       "      <td>...</td>\n",
       "      <td>...</td>\n",
       "      <td>...</td>\n",
       "      <td>...</td>\n",
       "      <td>...</td>\n",
       "      <td>...</td>\n",
       "      <td>...</td>\n",
       "      <td>...</td>\n",
       "      <td>...</td>\n",
       "      <td>...</td>\n",
       "      <td>...</td>\n",
       "      <td>...</td>\n",
       "      <td>...</td>\n",
       "      <td>...</td>\n",
       "      <td>...</td>\n",
       "      <td>...</td>\n",
       "      <td>...</td>\n",
       "    </tr>\n",
       "    <tr>\n",
       "      <th>795</th>\n",
       "      <td>2020-01-09 22:59:10.002425134</td>\n",
       "      <td>19</td>\n",
       "      <td>1.0</td>\n",
       "      <td>0.0</td>\n",
       "      <td>0.0</td>\n",
       "      <td>2.11989</td>\n",
       "      <td>-0.04734</td>\n",
       "      <td>2.95557</td>\n",
       "      <td>-0.31178</td>\n",
       "      <td>3.79909</td>\n",
       "      <td>...</td>\n",
       "      <td>0.0</td>\n",
       "      <td>0.0</td>\n",
       "      <td>0.0</td>\n",
       "      <td>0.0</td>\n",
       "      <td>0.0</td>\n",
       "      <td>0.0</td>\n",
       "      <td>0.0</td>\n",
       "      <td>0.0</td>\n",
       "      <td>0.0</td>\n",
       "      <td>0.0</td>\n",
       "    </tr>\n",
       "    <tr>\n",
       "      <th>796</th>\n",
       "      <td>2020-01-09 22:59:10.002425134</td>\n",
       "      <td>534</td>\n",
       "      <td>1.0</td>\n",
       "      <td>0.0</td>\n",
       "      <td>0.0</td>\n",
       "      <td>2.06427</td>\n",
       "      <td>-0.02186</td>\n",
       "      <td>2.87231</td>\n",
       "      <td>-0.32768</td>\n",
       "      <td>3.66625</td>\n",
       "      <td>...</td>\n",
       "      <td>0.0</td>\n",
       "      <td>0.0</td>\n",
       "      <td>0.0</td>\n",
       "      <td>0.0</td>\n",
       "      <td>0.0</td>\n",
       "      <td>0.0</td>\n",
       "      <td>0.0</td>\n",
       "      <td>0.0</td>\n",
       "      <td>0.0</td>\n",
       "      <td>0.0</td>\n",
       "    </tr>\n",
       "    <tr>\n",
       "      <th>797</th>\n",
       "      <td>2020-01-09 22:59:35.002753186</td>\n",
       "      <td>2</td>\n",
       "      <td>1.0</td>\n",
       "      <td>0.0</td>\n",
       "      <td>0.0</td>\n",
       "      <td>2.12861</td>\n",
       "      <td>-0.13827</td>\n",
       "      <td>3.04292</td>\n",
       "      <td>-0.18891</td>\n",
       "      <td>3.70803</td>\n",
       "      <td>...</td>\n",
       "      <td>0.0</td>\n",
       "      <td>0.0</td>\n",
       "      <td>0.0</td>\n",
       "      <td>0.0</td>\n",
       "      <td>0.0</td>\n",
       "      <td>0.0</td>\n",
       "      <td>0.0</td>\n",
       "      <td>0.0</td>\n",
       "      <td>0.0</td>\n",
       "      <td>0.0</td>\n",
       "    </tr>\n",
       "    <tr>\n",
       "      <th>798</th>\n",
       "      <td>2020-01-09 22:59:35.002753186</td>\n",
       "      <td>3</td>\n",
       "      <td>1.0</td>\n",
       "      <td>0.0</td>\n",
       "      <td>0.0</td>\n",
       "      <td>2.08232</td>\n",
       "      <td>-0.19377</td>\n",
       "      <td>3.02010</td>\n",
       "      <td>-0.15697</td>\n",
       "      <td>3.63829</td>\n",
       "      <td>...</td>\n",
       "      <td>0.0</td>\n",
       "      <td>0.0</td>\n",
       "      <td>0.0</td>\n",
       "      <td>0.0</td>\n",
       "      <td>0.0</td>\n",
       "      <td>0.0</td>\n",
       "      <td>0.0</td>\n",
       "      <td>0.0</td>\n",
       "      <td>0.0</td>\n",
       "      <td>0.0</td>\n",
       "    </tr>\n",
       "    <tr>\n",
       "      <th>799</th>\n",
       "      <td>2020-01-09 22:59:35.002753186</td>\n",
       "      <td>5</td>\n",
       "      <td>1.0</td>\n",
       "      <td>0.0</td>\n",
       "      <td>0.0</td>\n",
       "      <td>2.62638</td>\n",
       "      <td>0.07319</td>\n",
       "      <td>3.57090</td>\n",
       "      <td>-0.43404</td>\n",
       "      <td>4.56527</td>\n",
       "      <td>...</td>\n",
       "      <td>0.0</td>\n",
       "      <td>0.0</td>\n",
       "      <td>0.0</td>\n",
       "      <td>0.0</td>\n",
       "      <td>0.0</td>\n",
       "      <td>0.0</td>\n",
       "      <td>0.0</td>\n",
       "      <td>0.0</td>\n",
       "      <td>0.0</td>\n",
       "      <td>0.0</td>\n",
       "    </tr>\n",
       "  </tbody>\n",
       "</table>\n",
       "<p>800 rows × 305 columns</p>\n",
       "</div>"
      ],
      "text/plain": [
       "                        timestamp  track_id  conf_0  conf_1  conf_2  \\\n",
       "0   2020-01-09 21:40:07.801600134         2     1.0     0.0     0.0   \n",
       "1   2020-01-09 21:40:32.802467516         4     1.0     0.0     0.0   \n",
       "2   2020-01-09 21:40:32.802467516         5     1.0     0.0     0.0   \n",
       "3   2020-01-09 21:40:32.802467516        81     1.0     0.0     0.0   \n",
       "4   2020-01-09 21:40:32.802467516       130     1.0     0.0     0.0   \n",
       "..                            ...       ...     ...     ...     ...   \n",
       "795 2020-01-09 22:59:10.002425134        19     1.0     0.0     0.0   \n",
       "796 2020-01-09 22:59:10.002425134       534     1.0     0.0     0.0   \n",
       "797 2020-01-09 22:59:35.002753186         2     1.0     0.0     0.0   \n",
       "798 2020-01-09 22:59:35.002753186         3     1.0     0.0     0.0   \n",
       "799 2020-01-09 22:59:35.002753186         5     1.0     0.0     0.0   \n",
       "\n",
       "     coord_x00  coord_y00  coord_x01  coord_y01  coord_x02  ...  coord_x245  \\\n",
       "0      1.02010   -0.17954    1.54924   -0.16587    1.96230  ...         0.0   \n",
       "1      1.72011   -0.14255    2.46814   -0.23448    3.14054  ...         0.0   \n",
       "2      0.89965   -0.19602    1.42426   -0.09998    1.77360  ...         0.0   \n",
       "3      1.38356   -0.16892    2.09478   -0.17495    2.57192  ...         0.0   \n",
       "4      0.32379   -0.26478    0.68315    0.02715    0.78972  ...         0.0   \n",
       "..         ...        ...        ...        ...        ...  ...         ...   \n",
       "795    2.11989   -0.04734    2.95557   -0.31178    3.79909  ...         0.0   \n",
       "796    2.06427   -0.02186    2.87231   -0.32768    3.66625  ...         0.0   \n",
       "797    2.12861   -0.13827    3.04292   -0.18891    3.70803  ...         0.0   \n",
       "798    2.08232   -0.19377    3.02010   -0.15697    3.63829  ...         0.0   \n",
       "799    2.62638    0.07319    3.57090   -0.43404    4.56527  ...         0.0   \n",
       "\n",
       "     coord_y245  coord_x246  coord_y246  coord_x247  coord_y247  coord_x248  \\\n",
       "0           0.0         0.0         0.0         0.0         0.0         0.0   \n",
       "1           0.0         0.0         0.0         0.0         0.0         0.0   \n",
       "2           0.0         0.0         0.0         0.0         0.0         0.0   \n",
       "3           0.0         0.0         0.0         0.0         0.0         0.0   \n",
       "4           0.0         0.0         0.0         0.0         0.0         0.0   \n",
       "..          ...         ...         ...         ...         ...         ...   \n",
       "795         0.0         0.0         0.0         0.0         0.0         0.0   \n",
       "796         0.0         0.0         0.0         0.0         0.0         0.0   \n",
       "797         0.0         0.0         0.0         0.0         0.0         0.0   \n",
       "798         0.0         0.0         0.0         0.0         0.0         0.0   \n",
       "799         0.0         0.0         0.0         0.0         0.0         0.0   \n",
       "\n",
       "     coord_y248  coord_x249  coord_y249  \n",
       "0           0.0         0.0         0.0  \n",
       "1           0.0         0.0         0.0  \n",
       "2           0.0         0.0         0.0  \n",
       "3           0.0         0.0         0.0  \n",
       "4           0.0         0.0         0.0  \n",
       "..          ...         ...         ...  \n",
       "795         0.0         0.0         0.0  \n",
       "796         0.0         0.0         0.0  \n",
       "797         0.0         0.0         0.0  \n",
       "798         0.0         0.0         0.0  \n",
       "799         0.0         0.0         0.0  \n",
       "\n",
       "[800 rows x 305 columns]"
      ]
     },
     "execution_count": 40,
     "metadata": {},
     "output_type": "execute_result"
    }
   ],
   "source": [
    "df_resnet18 = pd.read_csv(\"submission_resnet18.csv\")\n",
    "df_resnet18['timestamp'] = pd.to_datetime(df_resnet18['timestamp'])\n",
    "df_resnet18"
   ]
  },
  {
   "cell_type": "code",
   "execution_count": null,
   "metadata": {
    "papermill": {
     "duration": 0.330409,
     "end_time": "2020-12-08T17:19:04.047417",
     "exception": false,
     "start_time": "2020-12-08T17:19:03.717008",
     "status": "completed"
    },
    "tags": []
   },
   "outputs": [],
   "source": []
  }
 ],
 "metadata": {
  "kernelspec": {
   "display_name": "Python 3",
   "language": "python",
   "name": "python3"
  },
  "language_info": {
   "codemirror_mode": {
    "name": "ipython",
    "version": 3
   },
   "file_extension": ".py",
   "mimetype": "text/x-python",
   "name": "python",
   "nbconvert_exporter": "python",
   "pygments_lexer": "ipython3",
   "version": "3.7.6"
  },
  "papermill": {
   "duration": 860.418457,
   "end_time": "2020-12-08T17:19:05.456313",
   "environment_variables": {},
   "exception": null,
   "input_path": "__notebook__.ipynb",
   "output_path": "__notebook__.ipynb",
   "parameters": {},
   "start_time": "2020-12-08T17:04:45.037856",
   "version": "2.1.0"
  }
 },
 "nbformat": 4,
 "nbformat_minor": 4
}
