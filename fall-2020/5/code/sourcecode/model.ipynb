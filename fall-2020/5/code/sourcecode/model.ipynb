{
  "nbformat": 4,
  "nbformat_minor": 0,
  "metadata": {
    "colab": {
      "name": "Project.ipynb",
      "provenance": [],
      "collapsed_sections": [],
      "machine_shape": "hm"
    },
    "kernelspec": {
      "display_name": "Python 3",
      "name": "python3"
    },
    "accelerator": "GPU"
  },
  "cells": [
    {
      "cell_type": "markdown",
      "metadata": {
        "id": "cuwN21u5ltfG"
      },
      "source": [
        "# E-599 HIGH PERFORMANCE BIG DATA COMPUTING\r\n"
      ]
    },
    {
      "cell_type": "markdown",
      "metadata": {
        "id": "4vZAxXoVl6pU"
      },
      "source": [
        "## Final Project: INDYCAR VIDEO CRASH DETECTION USING SPATIO-TEMPORAL AUTOENCODER\r\n"
      ]
    },
    {
      "cell_type": "code",
      "metadata": {
        "colab": {
          "base_uri": "https://localhost:8080/"
        },
        "id": "U6PZB5achj2l",
        "outputId": "e56e0d84-7dc9-452e-a9a5-9964acc503bd"
      },
      "source": [
        "from google.colab import drive\n",
        "drive.mount('/content/GDrive')\n",
        "\n"
      ],
      "execution_count": null,
      "outputs": [
        {
          "output_type": "stream",
          "text": [
            "Drive already mounted at /content/GDrive; to attempt to forcibly remount, call drive.mount(\"/content/GDrive\", force_remount=True).\n"
          ],
          "name": "stdout"
        }
      ]
    },
    {
      "cell_type": "markdown",
      "metadata": {
        "id": "yVJOl_pasSUB"
      },
      "source": [
        "## Preprocessing"
      ]
    },
    {
      "cell_type": "markdown",
      "metadata": {
        "id": "igQZpCRssAeL"
      },
      "source": [
        "### Train and test data loading"
      ]
    },
    {
      "cell_type": "code",
      "metadata": {
        "colab": {
          "base_uri": "https://localhost:8080/"
        },
        "id": "bQ5dO6iavSpN",
        "outputId": "5b014c80-e71b-4923-d825-2e843bdf969e"
      },
      "source": [
        "ls"
      ],
      "execution_count": null,
      "outputs": [
        {
          "output_type": "stream",
          "text": [
            "\u001b[0m\u001b[01;34mGDrive\u001b[0m/  \u001b[01;34msample_data\u001b[0m/\n"
          ],
          "name": "stdout"
        }
      ]
    },
    {
      "cell_type": "code",
      "metadata": {
        "colab": {
          "base_uri": "https://localhost:8080/"
        },
        "id": "03-m6nNJiKXU",
        "outputId": "c5648e78-a176-4757-f66d-eeea7a65ec46"
      },
      "source": [
        "cd /content/GDrive/'My Drive'/Project/Training/"
      ],
      "execution_count": null,
      "outputs": [
        {
          "output_type": "stream",
          "text": [
            "/content/GDrive/My Drive/Project/Training\n"
          ],
          "name": "stdout"
        }
      ]
    },
    {
      "cell_type": "code",
      "metadata": {
        "colab": {
          "base_uri": "https://localhost:8080/"
        },
        "id": "2gQpHpFZiYp4",
        "outputId": "2828d43c-5fb6-4d61-ca32-3782459c2d05"
      },
      "source": [
        "!unzip /content/GDrive/'My Drive'/Project/Training.zip"
      ],
      "execution_count": null,
      "outputs": [
        {
          "output_type": "stream",
          "text": [
            "Archive:  /content/GDrive/My Drive/Project/Training.zip\n",
            "  inflating: V1.mp4                  \n",
            "  inflating: V10.mp4                 \n",
            "  inflating: V11.mp4                 \n",
            "  inflating: V12.mp4                 \n",
            "  inflating: V13.mp4                 \n",
            "  inflating: V14.mp4                 \n",
            "  inflating: V15.mp4                 \n",
            "  inflating: V16.mp4                 \n",
            "  inflating: V17.mp4                 \n",
            "  inflating: V18.mp4                 \n",
            "  inflating: V19.mp4                 \n",
            "  inflating: V2.mp4                  \n",
            "  inflating: V20.mp4                 \n",
            "  inflating: V21.mp4                 \n",
            "  inflating: V22.mp4                 \n",
            "  inflating: V23.mp4                 \n",
            "  inflating: V24.mp4                 \n",
            "  inflating: V25.mp4                 \n",
            "  inflating: V26.mp4                 \n",
            "  inflating: V27.mp4                 \n",
            "  inflating: V28.mp4                 \n",
            "  inflating: V29.mp4                 \n",
            "  inflating: V3.mp4                  \n",
            "  inflating: V30.mp4                 \n",
            "  inflating: V31.mp4                 \n",
            "  inflating: V32.mp4                 \n",
            "  inflating: V33.mp4                 \n",
            " extracting: V34.mp4                 \n",
            " extracting: V35.mp4                 \n",
            "  inflating: V36.mp4                 \n",
            "  inflating: V37.mp4                 \n",
            "  inflating: V38.mp4                 \n",
            "  inflating: V39.mp4                 \n",
            "  inflating: V4.mp4                  \n",
            " extracting: V40.mp4                 \n",
            " extracting: V41.mp4                 \n",
            "  inflating: V42.mp4                 \n",
            "  inflating: V43.mp4                 \n",
            "  inflating: V44.mp4                 \n",
            "  inflating: V45.mp4                 \n",
            "  inflating: V46.mp4                 \n",
            "  inflating: V47.mp4                 \n",
            "  inflating: V48.mp4                 \n",
            "  inflating: V49.mp4                 \n",
            "  inflating: V5.mp4                  \n",
            "  inflating: V50.mp4                 \n",
            "  inflating: V6.mp4                  \n",
            "  inflating: V7.mp4                  \n",
            "  inflating: V8.mp4                  \n",
            "  inflating: V9.mp4                  \n"
          ],
          "name": "stdout"
        }
      ]
    },
    {
      "cell_type": "markdown",
      "metadata": {
        "id": "B-xnWbdQsL4t"
      },
      "source": [
        "### Packages Required"
      ]
    },
    {
      "cell_type": "code",
      "metadata": {
        "id": "FtwhDEhFjZNP"
      },
      "source": [
        "from keras.preprocessing.image import img_to_array,load_img\n",
        "import numpy as np\n",
        "import glob\n",
        "import os \n",
        "from skimage.transform import resize\n",
        "import matplotlib.pyplot as plt\n",
        "from keras.callbacks import ModelCheckpoint, EarlyStopping\n",
        "# from model import load_model\n",
        "import numpy as np \n",
        "from keras.layers import Conv3D,ConvLSTM2D,Conv3DTranspose\n",
        "from keras.models import Sequential\n",
        "from keras.callbacks import ModelCheckpoint, EarlyStopping\n",
        "import tensorflow as tf"
      ],
      "execution_count": null,
      "outputs": []
    },
    {
      "cell_type": "markdown",
      "metadata": {
        "id": "kKFXTDoUsYq7"
      },
      "source": [
        "#### FFmpeg Installation"
      ]
    },
    {
      "cell_type": "code",
      "metadata": {
        "colab": {
          "base_uri": "https://localhost:8080/",
          "height": 73
        },
        "id": "_MDiWfF1jjyy",
        "outputId": "66da68e0-8e53-4ba5-ccb8-caa7359d86eb"
      },
      "source": [
        "#@title <font size=\"5\">← ឵឵<i>Upgrade FFmpeg to v4.2.2</font> { vertical-output: true, display-mode: \"code\" }\n",
        "from IPython.display import clear_output\n",
        "import os, urllib.request\n",
        "HOME = os.path.expanduser(\"~\")\n",
        "pathDoneCMD = f'{HOME}/doneCMD.sh'\n",
        "if not os.path.exists(f\"{HOME}/.ipython/ttmg.py\"):\n",
        "    hCode = \"https://raw.githubusercontent.com/yunooooo/gcct/master/res/ttmg.py\"\n",
        "    urllib.request.urlretrieve(hCode, f\"{HOME}/.ipython/ttmg.py\")\n",
        "\n",
        "from ttmg import (\n",
        "    loadingAn,\n",
        "    textAn,\n",
        ")\n",
        "\n",
        "loadingAn(name=\"lds\")\n",
        "textAn(\"Installing Dependencies...\", ty='twg')\n",
        "os.system('pip install git+git://github.com/AWConant/jikanpy.git')\n",
        "os.system('add-apt-repository -y ppa:jonathonf/ffmpeg-4')\n",
        "os.system('apt-get update')\n",
        "os.system('apt install mediainfo')\n",
        "os.system('apt-get install ffmpeg')\n",
        "clear_output()\n",
        "print('Installation finished.')"
      ],
      "execution_count": null,
      "outputs": [
        {
          "output_type": "stream",
          "text": [
            "Installation finished.\n"
          ],
          "name": "stdout"
        }
      ]
    },
    {
      "cell_type": "markdown",
      "metadata": {
        "id": "kvWGWxGJskiq"
      },
      "source": [
        "### Training Data: frames extraction and grayscale conversion"
      ]
    },
    {
      "cell_type": "code",
      "metadata": {
        "colab": {
          "base_uri": "https://localhost:8080/"
        },
        "id": "gEizInmQlo9s",
        "outputId": "8efa7ab4-b5ac-4181-9a03-bc5f9ae90300"
      },
      "source": [
        "ls"
      ],
      "execution_count": null,
      "outputs": [
        {
          "output_type": "stream",
          "text": [
            "V10.mp4  V15.mp4  V20.mp4  V25.mp4  V2.mp4   V34.mp4  V39.mp4  V6.mp4\n",
            "V11.mp4  V16.mp4  V21.mp4  V26.mp4  V30.mp4  V35.mp4  V3.mp4   V7.mp4\n",
            "V12.mp4  V17.mp4  V22.mp4  V27.mp4  V31.mp4  V36.mp4  V40.mp4  V8.mp4\n",
            "V13.mp4  V18.mp4  V23.mp4  V28.mp4  V32.mp4  V37.mp4  V4.mp4   V9.mp4\n",
            "V14.mp4  V19.mp4  V24.mp4  V29.mp4  V33.mp4  V38.mp4  V5.mp4\n"
          ],
          "name": "stdout"
        }
      ]
    },
    {
      "cell_type": "code",
      "metadata": {
        "colab": {
          "base_uri": "https://localhost:8080/"
        },
        "id": "l7D6Sopvlo0Q",
        "outputId": "7b25fe06-f1d4-406a-a0d6-04e892090f2d"
      },
      "source": [
        "cd .."
      ],
      "execution_count": null,
      "outputs": [
        {
          "output_type": "stream",
          "text": [
            "/content/GDrive/My Drive/Project\n"
          ],
          "name": "stdout"
        }
      ]
    },
    {
      "cell_type": "code",
      "metadata": {
        "id": "bxbQUkMvk5Ma"
      },
      "source": [
        "def pre_process(fps,source,destination):\n",
        "\timagestore=[]\n",
        "\n",
        "\tvideo_source_path= './'+str(source)#args.source_vid_path\n",
        "\tfps=1/fps\n",
        "\n",
        "\tdef create_dir(path):\n",
        "\t\tif not os.path.exists(path):\n",
        "\t\t\tos.makedirs(path)\n",
        "\n",
        "\tdef remove_old_images(path):\n",
        "\t\tfilelist = glob.glob(os.path.join(path, \"*.png\"))\n",
        "\t\tfor f in filelist:\n",
        "\t\t\tos.remove(f)\n",
        "\n",
        "\tdef store(image_path):\n",
        "\t\t\n",
        "\t\timg=load_img(image_path)\n",
        "\t\timg=img_to_array(img)\n",
        "\t\timg=resize(img,(227,227,3))\n",
        "\t\tgray=0.2989*img[:,:,0]+0.5870*img[:,:,1]+0.1140*img[:,:,2]\n",
        "\t\timagestore.append(gray)\n",
        "\n",
        "\n",
        "\n",
        "\t#List of all Videos in the Source Directory.\n",
        "\tvideos=os.listdir(video_source_path)\n",
        "\tprint(len(videos),source,\"videos found.\")\n",
        "\n",
        "\n",
        "\t#Make a temp dir to store all the frames\n",
        "\tcreate_dir(video_source_path+'/frames')\n",
        "\n",
        "\t#Remove old images\n",
        "\tremove_old_images(video_source_path+'/frames')\n",
        "\n",
        "\tframepath=video_source_path+'/frames'\n",
        "\n",
        "\tfor i,video in enumerate(videos):\n",
        "\t\t\tos.system( 'ffmpeg -i {}/{} -r 1/{}  {}/frames/%03d.jpg'.format(video_source_path,video,fps,video_source_path))\n",
        "\t\t\timages=os.listdir(framepath)\n",
        "\t\t\tf = len(images) - len(images)%10\n",
        "\t\t\tprint('Video:',i+1,'  Frames:',f)\n",
        "\t\t\tfor image in images[:f]:\n",
        "\t\t\t\t\timage_path=framepath+ '/'+ image\n",
        "\t\t\t\t\tstore(image_path)\n",
        "\n",
        "\n",
        "\timagestore=np.array(imagestore)\n",
        "\ta,b,c=imagestore.shape\n",
        "\t#Reshape to (227,227,batch_size)\n",
        "\timagestore.resize(b,c,a)\n",
        "\t#Normalize\n",
        "\timagestore=(imagestore-imagestore.mean())/(imagestore.std())\n",
        "\t#Clip negative Values\n",
        "\timagestore=np.clip(imagestore,0,1)\n",
        "\tnp.save(str(destination)+'.npy',imagestore)\n",
        "\t#Remove Buffer Directory\n",
        "\tos.system('rm -r {}'.format(framepath))\n"
      ],
      "execution_count": null,
      "outputs": []
    },
    {
      "cell_type": "code",
      "metadata": {
        "colab": {
          "base_uri": "https://localhost:8080/"
        },
        "id": "h1RzVy1outrC",
        "outputId": "571c8653-776f-4d5c-960e-4009afadefcd"
      },
      "source": [
        "pre_process(10, 'Training', 'Train')"
      ],
      "execution_count": null,
      "outputs": [
        {
          "output_type": "stream",
          "text": [
            "40 Training videos found.\n",
            "Video: 1   Frames: 600\n",
            "Video: 2   Frames: 600\n",
            "Video: 3   Frames: 600\n",
            "Video: 4   Frames: 600\n",
            "Video: 5   Frames: 600\n",
            "Video: 6   Frames: 600\n",
            "Video: 7   Frames: 600\n",
            "Video: 8   Frames: 600\n",
            "Video: 9   Frames: 600\n",
            "Video: 10   Frames: 600\n",
            "Video: 11   Frames: 600\n",
            "Video: 12   Frames: 620\n",
            "Video: 13   Frames: 620\n",
            "Video: 14   Frames: 620\n",
            "Video: 15   Frames: 620\n",
            "Video: 16   Frames: 620\n",
            "Video: 17   Frames: 620\n",
            "Video: 18   Frames: 620\n",
            "Video: 19   Frames: 620\n",
            "Video: 20   Frames: 620\n",
            "Video: 21   Frames: 620\n",
            "Video: 22   Frames: 620\n",
            "Video: 23   Frames: 620\n",
            "Video: 24   Frames: 620\n",
            "Video: 25   Frames: 620\n",
            "Video: 26   Frames: 620\n",
            "Video: 27   Frames: 620\n",
            "Video: 28   Frames: 620\n",
            "Video: 29   Frames: 620\n",
            "Video: 30   Frames: 620\n",
            "Video: 31   Frames: 620\n",
            "Video: 32   Frames: 620\n",
            "Video: 33   Frames: 620\n",
            "Video: 34   Frames: 620\n",
            "Video: 35   Frames: 620\n",
            "Video: 36   Frames: 620\n",
            "Video: 37   Frames: 620\n",
            "Video: 38   Frames: 620\n",
            "Video: 39   Frames: 620\n",
            "Video: 40   Frames: 620\n"
          ],
          "name": "stdout"
        }
      ]
    },
    {
      "cell_type": "code",
      "metadata": {
        "colab": {
          "base_uri": "https://localhost:8080/"
        },
        "id": "8sbqiI8i5u9B",
        "outputId": "ced2a3a1-850f-41b0-f07c-9d83b32ff735"
      },
      "source": [
        "pre_process(10, 'Validation', 'Val')"
      ],
      "execution_count": null,
      "outputs": [
        {
          "output_type": "stream",
          "text": [
            "10 Validation videos found.\n",
            "Video: 1   Frames: 600\n",
            "Video: 2   Frames: 600\n",
            "Video: 3   Frames: 600\n",
            "Video: 4   Frames: 600\n",
            "Video: 5   Frames: 620\n",
            "Video: 6   Frames: 620\n",
            "Video: 7   Frames: 620\n",
            "Video: 8   Frames: 620\n",
            "Video: 9   Frames: 620\n",
            "Video: 10   Frames: 620\n"
          ],
          "name": "stdout"
        }
      ]
    },
    {
      "cell_type": "markdown",
      "metadata": {
        "id": "Saxu8oX-RT-o"
      },
      "source": [
        "## Training"
      ]
    },
    {
      "cell_type": "code",
      "metadata": {
        "id": "wp910VfWNeQJ"
      },
      "source": [
        "X_train=np.load('Train.npy')\n",
        "X_val = np.load('Val.npy')"
      ],
      "execution_count": null,
      "outputs": []
    },
    {
      "cell_type": "code",
      "metadata": {
        "id": "uwQIgx36ohdp",
        "colab": {
          "base_uri": "https://localhost:8080/"
        },
        "outputId": "4271bc80-1eb7-4fac-a904-101ad2a209fc"
      },
      "source": [
        "frames=X_train.shape[2]\n",
        "frames=frames-frames%10\n",
        "X_train=X_train[:,:,:frames]\n",
        "print(X_train.shape)\n",
        "X_train=X_train.reshape(-1,227,227,10)\n",
        "print(X_train.shape)\n",
        "X_train=np.expand_dims(X_train,axis=4)\n",
        "print(X_train.shape)"
      ],
      "execution_count": null,
      "outputs": [
        {
          "output_type": "stream",
          "text": [
            "(227, 227, 24580)\n",
            "(2458, 227, 227, 10)\n",
            "(2458, 227, 227, 10, 1)\n"
          ],
          "name": "stdout"
        }
      ]
    },
    {
      "cell_type": "code",
      "metadata": {
        "id": "QJYPUO5jNniS"
      },
      "source": [
        "frames=X_val.shape[2]\n",
        "frames=frames-frames%10\n",
        "X_val=X_val[:,:,:frames]\n",
        "X_val=X_val.reshape(-1,227,227,10)\n",
        "X_val=np.expand_dims(X_val,axis=4)"
      ],
      "execution_count": null,
      "outputs": []
    },
    {
      "cell_type": "code",
      "metadata": {
        "id": "-lpkCTnmo5jT"
      },
      "source": [
        "model=Sequential()\n",
        "model.add(Conv3D(filters=128,kernel_size=(11,11,1),strides=(4,4,1),padding='valid',input_shape=(227,227,10,1),activation='tanh'))\n",
        "model.add(Conv3D(filters=64,kernel_size=(5,5,1),strides=(2,2,1),padding='valid',activation='tanh'))\n",
        "\n",
        "model.add(ConvLSTM2D(filters=64,kernel_size=(3,3),strides=1,padding='same',dropout=0.2,recurrent_dropout=0.1,return_sequences=True))\n",
        "model.add(ConvLSTM2D(filters=32,kernel_size=(3,3),strides=1,padding='same',dropout=0.2,return_sequences=True))\n",
        "model.add(ConvLSTM2D(filters=64,kernel_size=(3,3),strides=1,return_sequences=True, padding='same',dropout=0.2))\n",
        "\n",
        "model.add(Conv3DTranspose(filters=128,kernel_size=(5,5,1),strides=(2,2,1),padding='valid',activation='tanh'))\n",
        "model.add(Conv3DTranspose(filters=1,kernel_size=(11,11,1),strides=(4,4,1),padding='valid',activation='tanh'))\n",
        "\n",
        "model.compile(optimizer=tf.keras.optimizers.Adam(\n",
        "    learning_rate=0.001\n",
        "),loss='mse',metrics=['accuracy'])\n",
        "\n",
        "callback_save = ModelCheckpoint(\"Model_1.h5\",\n",
        "\t\t\t\t\t\t\t\t\tmonitor='val_loss', save_best_only=True)\n",
        "callback_early_stopping = EarlyStopping(monitor='val_loss', patience=3)\n",
        "\n",
        "#Y_train=X_train.copy()\n",
        "epochs = 100\n",
        "batch_size = 1"
      ],
      "execution_count": null,
      "outputs": []
    },
    {
      "cell_type": "code",
      "metadata": {
        "colab": {
          "base_uri": "https://localhost:8080/"
        },
        "id": "WzTX63mvc1eR",
        "outputId": "4eb9068b-7bdb-4c71-caa6-b1d1ffddfb20"
      },
      "source": [
        "model.summary()"
      ],
      "execution_count": null,
      "outputs": [
        {
          "output_type": "stream",
          "text": [
            "Model: \"sequential_1\"\n",
            "_________________________________________________________________\n",
            "Layer (type)                 Output Shape              Param #   \n",
            "=================================================================\n",
            "conv3d_2 (Conv3D)            (None, 55, 55, 10, 128)   15616     \n",
            "_________________________________________________________________\n",
            "conv3d_3 (Conv3D)            (None, 26, 26, 10, 64)    204864    \n",
            "_________________________________________________________________\n",
            "conv_lst_m2d_3 (ConvLSTM2D)  (None, 26, 26, 10, 64)    295168    \n",
            "_________________________________________________________________\n",
            "conv_lst_m2d_4 (ConvLSTM2D)  (None, 26, 26, 10, 32)    110720    \n",
            "_________________________________________________________________\n",
            "conv_lst_m2d_5 (ConvLSTM2D)  (None, 26, 26, 10, 64)    221440    \n",
            "_________________________________________________________________\n",
            "conv3d_transpose_2 (Conv3DTr (None, 55, 55, 10, 128)   204928    \n",
            "_________________________________________________________________\n",
            "conv3d_transpose_3 (Conv3DTr (None, 227, 227, 10, 1)   15489     \n",
            "=================================================================\n",
            "Total params: 1,068,225\n",
            "Trainable params: 1,068,225\n",
            "Non-trainable params: 0\n",
            "_________________________________________________________________\n"
          ],
          "name": "stdout"
        }
      ]
    },
    {
      "cell_type": "code",
      "metadata": {
        "colab": {
          "base_uri": "https://localhost:8080/"
        },
        "id": "CiMkF0WapTJM",
        "outputId": "5db419c9-4edd-46fe-f505-d77132e43eb7"
      },
      "source": [
        "history = model.fit(X_train,X_train, validation_data=(X_val,X_val),\n",
        "\t\t\t  batch_size=batch_size,\n",
        "\t\t\t  epochs=epochs,\n",
        "\t\t\t  callbacks = (callback_save,callback_early_stopping)\n",
        "\t\t\t  )"
      ],
      "execution_count": null,
      "outputs": [
        {
          "output_type": "stream",
          "text": [
            "Epoch 1/100\n",
            "2458/2458 [==============================] - 1639s 667ms/step - loss: 0.0762 - accuracy: 0.6377 - val_loss: 0.0484 - val_accuracy: 0.6662\n",
            "Epoch 2/100\n",
            "2458/2458 [==============================] - 1649s 671ms/step - loss: 0.0420 - accuracy: 0.6753 - val_loss: 0.0373 - val_accuracy: 0.6780\n",
            "Epoch 3/100\n",
            "2458/2458 [==============================] - 1644s 669ms/step - loss: 0.0313 - accuracy: 0.6859 - val_loss: 0.0281 - val_accuracy: 0.6879\n",
            "Epoch 4/100\n",
            "2458/2458 [==============================] - 1622s 660ms/step - loss: 0.0264 - accuracy: 0.6911 - val_loss: 0.0255 - val_accuracy: 0.6910\n",
            "Epoch 5/100\n",
            "2458/2458 [==============================] - 1646s 670ms/step - loss: 0.0224 - accuracy: 0.6945 - val_loss: 0.0210 - val_accuracy: 0.6946\n",
            "Epoch 6/100\n",
            "2458/2458 [==============================] - 1654s 673ms/step - loss: 0.0182 - accuracy: 0.6966 - val_loss: 0.0160 - val_accuracy: 0.6967\n",
            "Epoch 7/100\n",
            "2458/2458 [==============================] - 1628s 662ms/step - loss: 0.0158 - accuracy: 0.6973 - val_loss: 0.0148 - val_accuracy: 0.6969\n",
            "Epoch 8/100\n",
            "2458/2458 [==============================] - 1632s 664ms/step - loss: 0.0134 - accuracy: 0.6981 - val_loss: 0.0127 - val_accuracy: 0.6977\n",
            "Epoch 9/100\n",
            "2458/2458 [==============================] - 1621s 660ms/step - loss: 0.0119 - accuracy: 0.6984 - val_loss: 0.0110 - val_accuracy: 0.6981\n",
            "Epoch 10/100\n",
            "2458/2458 [==============================] - 1625s 661ms/step - loss: 0.0117 - accuracy: 0.6983 - val_loss: 0.0453 - val_accuracy: 0.6802\n",
            "Epoch 11/100\n",
            "2458/2458 [==============================] - 1623s 660ms/step - loss: 0.0112 - accuracy: 0.6984 - val_loss: 0.0116 - val_accuracy: 0.6982\n",
            "Epoch 12/100\n",
            "2458/2458 [==============================] - 1620s 659ms/step - loss: 0.0109 - accuracy: 0.6986 - val_loss: 0.0104 - val_accuracy: 0.6980\n",
            "Epoch 13/100\n",
            "2458/2458 [==============================] - 1621s 659ms/step - loss: 0.0102 - accuracy: 0.6988 - val_loss: 0.0102 - val_accuracy: 0.6984\n",
            "Epoch 14/100\n",
            "2458/2458 [==============================] - 1616s 657ms/step - loss: 0.0104 - accuracy: 0.6988 - val_loss: 0.0098 - val_accuracy: 0.6985\n",
            "Epoch 15/100\n",
            "2458/2458 [==============================] - 1615s 657ms/step - loss: 0.0100 - accuracy: 0.6989 - val_loss: 0.0096 - val_accuracy: 0.6984\n",
            "Epoch 16/100\n",
            "2458/2458 [==============================] - 1601s 651ms/step - loss: 0.0099 - accuracy: 0.6989 - val_loss: 0.0102 - val_accuracy: 0.6986\n",
            "Epoch 17/100\n",
            "2458/2458 [==============================] - 1592s 647ms/step - loss: 0.0101 - accuracy: 0.6989 - val_loss: 0.0095 - val_accuracy: 0.6985\n",
            "Epoch 18/100\n",
            "2458/2458 [==============================] - 1590s 647ms/step - loss: 0.0094 - accuracy: 0.6990 - val_loss: 0.0095 - val_accuracy: 0.6985\n",
            "Epoch 19/100\n",
            "2458/2458 [==============================] - 1588s 646ms/step - loss: 0.0107 - accuracy: 0.6984 - val_loss: 0.0092 - val_accuracy: 0.6988\n",
            "Epoch 20/100\n",
            "2458/2458 [==============================] - 1606s 653ms/step - loss: 0.0093 - accuracy: 0.6991 - val_loss: 0.0096 - val_accuracy: 0.6988\n",
            "Epoch 21/100\n",
            "2458/2458 [==============================] - 1621s 659ms/step - loss: 0.0094 - accuracy: 0.6991 - val_loss: 0.0090 - val_accuracy: 0.6988\n",
            "Epoch 22/100\n",
            "2458/2458 [==============================] - 1628s 662ms/step - loss: 0.0092 - accuracy: 0.6992 - val_loss: 0.0092 - val_accuracy: 0.6989\n",
            "Epoch 23/100\n",
            "2458/2458 [==============================] - 1613s 656ms/step - loss: 0.0094 - accuracy: 0.6991 - val_loss: 0.0098 - val_accuracy: 0.6987\n",
            "Epoch 24/100\n",
            "2458/2458 [==============================] - 1610s 655ms/step - loss: 0.0092 - accuracy: 0.6992 - val_loss: 0.0098 - val_accuracy: 0.6989\n"
          ],
          "name": "stdout"
        }
      ]
    },
    {
      "cell_type": "code",
      "metadata": {
        "colab": {
          "base_uri": "https://localhost:8080/",
          "height": 295
        },
        "id": "l01Ou1himvaT",
        "outputId": "f5d44bca-bb8f-416a-f725-7b10117c902e"
      },
      "source": [
        "import matplotlib.pyplot as plt\n",
        "plt.plot(history.history[\"accuracy\"])\n",
        "plt.plot(history.history['loss'])\n",
        "plt.plot(history.history['val_accuracy'])\n",
        "plt.plot(history.history['val_loss'])\n",
        "\n",
        "plt.title(\"Model Version 3 Performance\")\n",
        "plt.ylabel(\"Accuracy/Loss\")\n",
        "plt.xlabel(\"Epoch\")\n",
        "plt.legend([\"Accuracy\",\"loss\",\"val_accuracy\",\"val_loss\"])\n",
        "plt.show()"
      ],
      "execution_count": null,
      "outputs": [
        {
          "output_type": "display_data",
          "data": {
            "image/png": "[encoded data removed]",
            "text/plain": [
              "<Figure size 432x288 with 1 Axes>"
            ]
          },
          "metadata": {
            "tags": [],
            "needs_background": "light"
          }
        }
      ]
    },
    {
      "cell_type": "code",
      "metadata": {
        "colab": {
          "base_uri": "https://localhost:8080/",
          "height": 295
        },
        "id": "KnOXmZU1o0YY",
        "outputId": "60a68b22-9871-455f-85d2-b882f51fbb89"
      },
      "source": [
        "import matplotlib.pyplot as plt\n",
        "plt.plot(history.history['loss'])\n",
        "plt.plot(history.history['val_loss'])\n",
        "\n",
        "plt.title(\"Model Version 3 Performance\")\n",
        "plt.ylabel(\"Loss\")\n",
        "plt.xlabel(\"Epoch\")\n",
        "plt.legend([\"loss\",\"val_loss\"])\n",
        "plt.show()"
      ],
      "execution_count": null,
      "outputs": [
        {
          "output_type": "display_data",
          "data": {
            "image/png": "[encoded data removed]",
            "text/plain": [
              "<Figure size 432x288 with 1 Axes>"
            ]
          },
          "metadata": {
            "tags": [],
            "needs_background": "light"
          }
        }
      ]
    },
    {
      "cell_type": "code",
      "metadata": {
        "colab": {
          "base_uri": "https://localhost:8080/",
          "height": 295
        },
        "id": "SOdVoiRLoXK9",
        "outputId": "5db2cea4-3fe8-4375-e829-e57e8e2a0ed3"
      },
      "source": [
        "import matplotlib.pyplot as plt\n",
        "plt.plot(history.history['accuracy'])\n",
        "plt.plot(history.history['val_accuracy'])\n",
        "plt.title(\"Model Version 3 Performance\")\n",
        "plt.ylabel(\"Accuracy\")\n",
        "plt.xlabel(\"Epoch\")\n",
        "plt.legend([\"accuracy\",\"val_accuracy\"])\n",
        "plt.show()"
      ],
      "execution_count": null,
      "outputs": [
        {
          "output_type": "display_data",
          "data": {
            "image/png": "[encoded data removed]",
            "text/plain": [
              "<Figure size 432x288 with 1 Axes>"
            ]
          },
          "metadata": {
            "tags": [],
            "needs_background": "light"
          }
        }
      ]
    },
    {
      "cell_type": "code",
      "metadata": {
        "id": "iRgGVAdzH6Vb",
        "colab": {
          "base_uri": "https://localhost:8080/"
        },
        "outputId": "66068c40-b009-4b35-ed5b-cef4857123d3"
      },
      "source": [
        "cd .."
      ],
      "execution_count": null,
      "outputs": [
        {
          "output_type": "stream",
          "text": [
            "/content/GDrive/My Drive/Project\n"
          ],
          "name": "stdout"
        }
      ]
    },
    {
      "cell_type": "code",
      "metadata": {
        "colab": {
          "base_uri": "https://localhost:8080/"
        },
        "id": "I0rTFocbY9AJ",
        "outputId": "0837309d-68b5-4450-9818-89e2d4c8d606"
      },
      "source": [
        "os.system('rm -r {}'.format(framepath)) # Clearing the temporary folder"
      ],
      "execution_count": null,
      "outputs": [
        {
          "output_type": "execute_result",
          "data": {
            "text/plain": [
              "0"
            ]
          },
          "metadata": {
            "tags": []
          },
          "execution_count": 42
        }
      ]
    },
    {
      "cell_type": "markdown",
      "metadata": {
        "id": "mZOP8wI1VgRU"
      },
      "source": [
        "## *Test*"
      ]
    },
    {
      "cell_type": "code",
      "metadata": {
        "colab": {
          "base_uri": "https://localhost:8080/"
        },
        "id": "sPRiCbByyz_H",
        "outputId": "8a337600-bfcf-4e82-afa7-dc5fe6af83f1"
      },
      "source": [
        "cd .."
      ],
      "execution_count": null,
      "outputs": [
        {
          "output_type": "stream",
          "text": [
            "/content/GDrive/My Drive/Project\n"
          ],
          "name": "stdout"
        }
      ]
    },
    {
      "cell_type": "code",
      "metadata": {
        "colab": {
          "base_uri": "https://localhost:8080/"
        },
        "id": "cQ8aIAhgy9Vm",
        "outputId": "9e2a1442-b4b5-41ac-81d7-06995b8cad62"
      },
      "source": [
        "os.system('rm -r {}'.format(framepath))"
      ],
      "execution_count": null,
      "outputs": [
        {
          "output_type": "execute_result",
          "data": {
            "text/plain": [
              "0"
            ]
          },
          "metadata": {
            "tags": []
          },
          "execution_count": 18
        }
      ]
    },
    {
      "cell_type": "code",
      "metadata": {
        "id": "omW9B9jyxyFO"
      },
      "source": [
        "import matplotlib.image as mpimg\n",
        "imagestore=[]\n",
        "count=0\n",
        "video_source_path= './Test1' \n",
        "fps=1/10\n",
        "\n",
        "def create_dir(path):\n",
        "\tif not os.path.exists(path):\n",
        "\t\tos.makedirs(path)\n",
        "\n",
        "def remove_old_images(path):\n",
        "\tfilelist = glob.glob(os.path.join(path, \"*.png\"))\n",
        "\tfor f in filelist:\n",
        "\t\tos.remove(f)\n",
        "\n",
        "def store(image_path):\n",
        "\timg=load_img(image_path)\n",
        "\timg=img_to_array(img)\n",
        "\n",
        "\n",
        "\t#Resize the Image to (227,227,3) for the network to be able to process it. \n",
        "\n",
        "\n",
        "\timg=resize(img,(227,227,3))\n",
        "\n",
        "\t#Convert the Image to Grayscale\n",
        "\n",
        "\n",
        "\tgray=0.2989*img[:,:,0]+0.5870*img[:,:,1]+0.1140*img[:,:,2]\n",
        "\n",
        "\timagestore.append(gray)\n",
        "\n",
        "\n",
        "\n",
        "#List of all Videos in the Source Directory.\n",
        "videos=os.listdir(video_source_path)\n",
        "print(\"Found \",len(videos),\" Testing videos\")\n",
        "\n",
        "\n",
        "#Make a temp dir to store all the frames\n",
        "create_dir(video_source_path+'/frames')\n",
        "\n",
        "#Remove old images\n",
        "remove_old_images(video_source_path+'/frames')\n",
        "\n",
        "framepath=video_source_path+'/frames'\n",
        "\n",
        "for video in videos:\n",
        "    os.system( 'ffmpeg -i {}/{} -r 1/{}  {}/frames/%03d.jpg'.format(video_source_path,video,fps,video_source_path))\n",
        "    images=os.listdir(framepath)\n",
        "    f = len(images) - len(images)%10\n",
        "    print(f)\n",
        "    for image in images[:f]:        \n",
        "        image_path=framepath+ '/'+ image\n",
        "        store(image_path)\n",
        "        image1 = mpimg.imread(image_path)\n",
        "        count+=1\n",
        "        if count%10 ==0 :\n",
        "          print(count,'-----------------------------------------------------------------------------------------')\n",
        "        plt.imshow(image1)\n",
        "        plt.show()\n",
        "/\n",
        "\n",
        "imagestore=np.array(imagestore)\n",
        "print(imagestore.shape)\n",
        "a,b,c=imagestore.shape\n",
        "#Reshape to (227,227,batch_size)\n",
        "imagestore.resize(b,c,a)\n",
        "#Normalize\n",
        "imagestore=(imagestore-imagestore.mean())/(imagestore.std())\n",
        "#Clip negative Values\n",
        "imagestore=np.clip(imagestore,0,1)\n",
        "np.save('temp.npy',imagestore)\n",
        "#Remove Buffer Directory\n",
        "#os.system('rm -r {}'.format(framepath))\n"
      ],
      "execution_count": null,
      "outputs": []
    },
    {
      "cell_type": "markdown",
      "metadata": {
        "id": "9lZvKQyEVqr7"
      },
      "source": [
        "### Threshold Calculation"
      ]
    },
    {
      "cell_type": "code",
      "metadata": {
        "id": "SMaqUF6K8W5x"
      },
      "source": [
        "def threshold_calc(train_loss,sensitivity):\n",
        "  \n",
        "  mean_loss = np.mean(train_loss)\n",
        "  std_dev  = np.std(train_loss)\n",
        "  thres = mean_loss + sensitivity*(std_dev)\n",
        "  return thres\n"
      ],
      "execution_count": null,
      "outputs": []
    },
    {
      "cell_type": "code",
      "metadata": {
        "id": "NFNbBBg09nl2"
      },
      "source": [
        "def mean_squared_loss(x1,x2):\n",
        "\n",
        "\tdiff=x1-x2\n",
        "\ta,b,c,d,e=diff.shape\n",
        "\tn_samples=a*b*c*d*e\n",
        "\tsq_diff=diff**2\n",
        "\tSum=sq_diff.sum()\n",
        "\tdist=np.sqrt(Sum)\n",
        "\tmean_dist=dist/n_samples\n",
        "\n",
        "\treturn mean_dist\n",
        "\n",
        "def train_threshold(sensitivity):\n",
        "\n",
        "  loss_val=[]\n",
        "  model = tf.keras.models.load_model('Model_1.h5')\n",
        "\n",
        "  X_test=np.load('Train_temp.npy')\n",
        "  frames=X_test.shape[2]\n",
        "\n",
        "  flag=0 #Overall video flagq\n",
        "\n",
        "  frames=frames-frames%10\n",
        "\n",
        "  X_test=X_test[:,:,:frames]\n",
        "  X_test=X_test.reshape(-1,227,227,10)\n",
        "  X_test=np.expand_dims(X_test,axis=4)\n",
        "\n",
        "  for number,bunch in enumerate(X_test):\n",
        "    n_bunch=np.expand_dims(bunch,axis=0)\n",
        "    reconstructed_bunch=model.predict(n_bunch)\n",
        "\n",
        "\n",
        "    loss=mean_squared_loss(n_bunch,reconstructed_bunch)\n",
        "    \n",
        "    loss_val.append(loss)\n",
        "  \n",
        "  threshold = threshold_calc(loss_val,sensitivity)\n",
        "\n",
        "  return threshold\n"
      ],
      "execution_count": null,
      "outputs": []
    },
    {
      "cell_type": "markdown",
      "metadata": {
        "id": "vu388HbgVvY1"
      },
      "source": [
        "### Predicting using the trained model"
      ]
    },
    {
      "cell_type": "code",
      "metadata": {
        "colab": {
          "base_uri": "https://localhost:8080/"
        },
        "id": "RpzPROfUNjmx",
        "outputId": "c6221bc0-5420-4306-d208-205eb6be0011"
      },
      "source": [
        "from keras.models import load_model\n",
        "import numpy as np \n",
        "\n",
        "losses=[]\n",
        "loss_val=[]\n",
        "threshold= train_threshold(2)\n",
        "print(\"Calculated Thresold:\",threshold)\n",
        "\n",
        "\n",
        "model = tf.keras.models.load_model('Model_1.h5')\n",
        "\n",
        "X_test=np.load('temp.npy')\n",
        "print('Data Transformations:')\n",
        "print(X_test.shape)\n",
        "frames=X_test.shape[2]\n",
        "#Need to make number of frames divisible by 10\n",
        "\n",
        "\n",
        "flag=0 #Overall video flagq\n",
        "\n",
        "frames=frames-frames%10\n",
        "\n",
        "X_test=X_test[:,:,:frames]\n",
        "X_test=X_test.reshape(-1,227,227,10)\n",
        "print(X_test.shape)\n",
        "X_test=np.expand_dims(X_test,axis=4)\n",
        "print(X_test.shape)\n",
        "\n",
        "for number,bunch in enumerate(X_test):\n",
        "\tn_bunch=np.expand_dims(bunch,axis=0)\n",
        "\tif number==0:\n",
        "\t\tprint(n_bunch.shape)\n",
        "\t\t\n",
        "\treconstructed_bunch=model.predict(n_bunch)\n",
        "\n",
        "\n",
        "\tloss=mean_squared_loss(n_bunch,reconstructed_bunch)\n",
        "\t\n",
        "\tloss_val.append(loss)\n",
        "\n",
        "\tif loss>threshold:\n",
        "\t\tprint(\"Anomaly Detected at bunch\",number+1, \"-------Loss:\",loss_val[-1])\n",
        "\t\tflag=1\n",
        "\t\tlosses.append(1)\n",
        "\n",
        "\n",
        "\telse:\n",
        "\t\tprint(\"Bunch Normal-------Loss:\",loss_val[-1])\n",
        "\t\tlosses.append(0)\n"
      ],
      "execution_count": null,
      "outputs": [
        {
          "output_type": "stream",
          "text": [
            "Calculated Thresold: 0.00031161561389853097\n",
            "Data Transformations:\n",
            "(227, 227, 200)\n",
            "(20, 227, 227, 10)\n",
            "(20, 227, 227, 10, 1)\n",
            "(1, 227, 227, 10, 1)\n",
            "Bunch Normal-------Loss: 0.00026396031997758543\n",
            "Bunch Normal-------Loss: 0.00026289511560692765\n",
            "Bunch Normal-------Loss: 0.00027578600735220097\n",
            "Bunch Normal-------Loss: 0.0002775749892505919\n",
            "Bunch Normal-------Loss: 0.00026907677741046\n",
            "Bunch Normal-------Loss: 0.0002836733819923459\n",
            "Bunch Normal-------Loss: 0.0003086241627514967\n",
            "Anomaly Detected at bunch 8 -------Loss: 0.00031741135850837633\n",
            "Anomaly Detected at bunch 9 -------Loss: 0.00031243123491633655\n",
            "Anomaly Detected at bunch 10 -------Loss: 0.0003266157879354041\n",
            "Bunch Normal-------Loss: 0.0003005872176877947\n",
            "Bunch Normal-------Loss: 0.00029808769484439285\n",
            "Anomaly Detected at bunch 13 -------Loss: 0.0003283436505793461\n",
            "Anomaly Detected at bunch 14 -------Loss: 0.00032199719776272826\n",
            "Anomaly Detected at bunch 15 -------Loss: 0.00033488412149438907\n",
            "Anomaly Detected at bunch 16 -------Loss: 0.0003343866984148186\n",
            "Anomaly Detected at bunch 17 -------Loss: 0.00034730281961977723\n",
            "Anomaly Detected at bunch 18 -------Loss: 0.00035768077426667506\n",
            "Anomaly Detected at bunch 19 -------Loss: 0.00036234517426814573\n",
            "Anomaly Detected at bunch 20 -------Loss: 0.00036284123519378955\n"
          ],
          "name": "stdout"
        }
      ]
    },
    {
      "cell_type": "code",
      "metadata": {
        "colab": {
          "base_uri": "https://localhost:8080/",
          "height": 401
        },
        "id": "8cBpuKHzKOYG",
        "outputId": "6ed5f085-7afc-4912-d675-476c6979e112"
      },
      "source": [
        "fig = plt.figure(figsize=(30,10))\n",
        "ax = fig.add_subplot(111)\n",
        "x = np.array([str(i+1) for i in range(len(loss_val))])\n",
        "ax.plot(x,loss_val)\n",
        "ax.plot([threshold]*len(loss_val))\n",
        "plt.xlabel('Bunches')\n",
        "plt.ylabel('Reconstruction Loss')\n",
        "plt.title('Predictions per bunch')\n",
        "plt.legend(['Loss','Threshold'])\n",
        "plt.show()"
      ],
      "execution_count": null,
      "outputs": [
        {
          "output_type": "display_data",
          "data": {
            "image/png": "[encoded data removed]",
            "text/plain": [
              "<Figure size 2160x720 with 1 Axes>"
            ]
          },
          "metadata": {
            "tags": [],
            "needs_background": "light"
          }
        }
      ]
    },
    {
      "cell_type": "code",
      "metadata": {
        "colab": {
          "base_uri": "https://localhost:8080/"
        },
        "id": "9p-EoiHse042",
        "outputId": "8fbb6200-b9df-40f8-f53d-6b22be7b587a"
      },
      "source": [
        "from sklearn.metrics import roc_auc_score\n",
        "labels = np.load('labels.npy')\n",
        "print('AUC score of the selected video:')\n",
        "print(roc_auc_score(labels,losses))"
      ],
      "execution_count": null,
      "outputs": [
        {
          "output_type": "stream",
          "text": [
            "AUC score of the selected video:\n",
            "0.9583333333333333\n"
          ],
          "name": "stdout"
        }
      ]
    }
  ]
}