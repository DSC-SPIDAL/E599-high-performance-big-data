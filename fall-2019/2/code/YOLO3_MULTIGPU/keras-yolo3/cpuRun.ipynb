{
 "cells": [
  {
   "cell_type": "code",
   "execution_count": 7,
   "metadata": {},
   "outputs": [
    {
     "name": "stderr",
     "output_type": "stream",
     "text": [
      "Using TensorFlow backend.\n",
      "usage: ipykernel_launcher.py [-h] [-c CONF] [-i INPUT] [-o OUTPUT]\n",
      "ipykernel_launcher.py: error: unrecognized arguments: -f /run/user/13002/jupyter/kernel-ab18f1d8-d56c-4af1-8697-5622126e7120.json\n"
     ]
    },
    {
     "ename": "SystemExit",
     "evalue": "2",
     "output_type": "error",
     "traceback": [
      "An exception has occurred, use %tb to see the full traceback.\n",
      "\u001b[0;31mSystemExit\u001b[0m\u001b[0;31m:\u001b[0m 2\n"
     ]
    },
    {
     "name": "stderr",
     "output_type": "stream",
     "text": [
      "/N/u/imtiazahmad/anaconda3/lib/python3.7/site-packages/IPython/core/interactiveshell.py:3304: UserWarning: To exit: use 'exit', 'quit', or Ctrl-D.\n",
      "  warn(\"To exit: use 'exit', 'quit', or Ctrl-D.\", stacklevel=1)\n"
     ]
    }
   ],
   "source": [
    "#! /usr/bin/env python\n",
    "\n",
    "import os\n",
    "import argparse\n",
    "import json\n",
    "import cv2\n",
    "from utils.utils import get_yolo_boxes, makedirs\n",
    "from utils.bbox import draw_boxes\n",
    "from keras.models import load_model\n",
    "from tqdm import tqdm\n",
    "import numpy as np\n",
    "\n",
    "def _main_(args):\n",
    "    config_path  = args.conf\n",
    "    input_path   = args.input\n",
    "    output_path  = args.output\n",
    "\n",
    "    with open(config_path) as config_buffer:    \n",
    "        config = json.load(config_buffer)\n",
    "\n",
    "    makedirs(output_path)\n",
    "\n",
    "    ###############################\n",
    "    #   Set some parameter\n",
    "    ###############################       \n",
    "    net_h, net_w = 416, 416 # a multiple of 32, the smaller the faster\n",
    "    obj_thresh, nms_thresh = 0.5, 0.45\n",
    "\n",
    "    ###############################\n",
    "    #   Load the model\n",
    "    ###############################\n",
    "    os.environ['CUDA_VISIBLE_DEVICES'] = config['train']['gpus']\n",
    "    infer_model = load_model(config['train']['saved_weights_name'])\n",
    "\n",
    "    ###############################\n",
    "    #   Predict bounding boxes \n",
    "    ###############################\n",
    "    if 'webcam' in input_path: # do detection on the first webcam\n",
    "        video_reader = cv2.VideoCapture(0)\n",
    "\n",
    "        # the main loop\n",
    "        batch_size  = 1\n",
    "        images      = []\n",
    "        while True:\n",
    "            ret_val, image = video_reader.read()\n",
    "            if ret_val == True: images += [image]\n",
    "\n",
    "            if (len(images)==batch_size) or (ret_val==False and len(images)>0):\n",
    "                batch_boxes = get_yolo_boxes(infer_model, images, net_h, net_w, config['model']['anchors'], obj_thresh, nms_thresh)\n",
    "\n",
    "                for i in range(len(images)):\n",
    "                    draw_boxes(images[i], batch_boxes[i], config['model']['labels'], obj_thresh) \n",
    "                    cv2.imshow('video with bboxes', images[i])\n",
    "                images = []\n",
    "            if cv2.waitKey(1) == 27: \n",
    "                break  # esc to quit\n",
    "        cv2.destroyAllWindows()        \n",
    "    elif input_path[-4:] == '.mp4': # do detection on a video  \n",
    "        video_out = output_path + input_path.split('/')[-1]\n",
    "        video_reader = cv2.VideoCapture(input_path)\n",
    "\n",
    "        nb_frames = int(video_reader.get(cv2.CAP_PROP_FRAME_COUNT))\n",
    "        frame_h = int(video_reader.get(cv2.CAP_PROP_FRAME_HEIGHT))\n",
    "        frame_w = int(video_reader.get(cv2.CAP_PROP_FRAME_WIDTH))\n",
    "\n",
    "        video_writer = cv2.VideoWriter(video_out,\n",
    "                               cv2.VideoWriter_fourcc(*'MPEG'), \n",
    "                               50.0, \n",
    "                               (frame_w, frame_h))\n",
    "        # the main loop\n",
    "        batch_size  = 1\n",
    "        images      = []\n",
    "        start_point = 0 #%\n",
    "        show_window = False\n",
    "        for i in tqdm(range(nb_frames)):\n",
    "            _, image = video_reader.read()\n",
    "\n",
    "            if (float(i+1)/nb_frames) > start_point/100.:\n",
    "                images += [image]\n",
    "\n",
    "                if (i%batch_size == 0) or (i == (nb_frames-1) and len(images) > 0):\n",
    "                    # predict the bounding boxes\n",
    "                    batch_boxes = get_yolo_boxes(infer_model, images, net_h, net_w, config['model']['anchors'], obj_thresh, nms_thresh)\n",
    "\n",
    "                    for i in range(len(images)):\n",
    "                        # draw bounding boxes on the image using labels\n",
    "                        draw_boxes(images[i], batch_boxes[i], config['model']['labels'], obj_thresh)   \n",
    "\n",
    "                        # show the video with detection bounding boxes          \n",
    "                        if show_window: cv2.imshow('video with bboxes', images[i])  \n",
    "\n",
    "                        # write result to the output video\n",
    "                        video_writer.write(images[i]) \n",
    "                    images = []\n",
    "                if show_window and cv2.waitKey(1) == 27: break  # esc to quit\n",
    "\n",
    "        if show_window: cv2.destroyAllWindows()\n",
    "        video_reader.release()\n",
    "        video_writer.release()       \n",
    "    else: # do detection on an image or a set of images\n",
    "        image_paths = []\n",
    "\n",
    "        if os.path.isdir(input_path): \n",
    "            for inp_file in os.listdir(input_path):\n",
    "                image_paths += [input_path + inp_file]\n",
    "        else:\n",
    "            image_paths += [input_path]\n",
    "\n",
    "        image_paths = [inp_file for inp_file in image_paths if (inp_file[-4:] in ['.jpg', '.png', 'JPEG'])]\n",
    "\n",
    "        # the main loop\n",
    "        for image_path in image_paths:\n",
    "            image = cv2.imread(image_path)\n",
    "            print(image_path)\n",
    "\n",
    "            # predict the bounding boxes\n",
    "            boxes = get_yolo_boxes(infer_model, [image], net_h, net_w, config['model']['anchors'], obj_thresh, nms_thresh)[0]\n",
    "\n",
    "            # draw bounding boxes on the image using labels\n",
    "            draw_boxes(image, boxes, config['model']['labels'], obj_thresh) \n",
    "     \n",
    "            # write the image with bounding boxes to file\n",
    "            cv2.imwrite(output_path + image_path.split('/')[-1], np.uint8(image))         \n",
    "\n",
    "if __name__ == '__main__':\n",
    "    argparser = argparse.ArgumentParser(description='Predict with a trained yolo model')\n",
    "    argparser.add_argument('-c', '--conf', help='path to configuration file')\n",
    "    argparser.add_argument('-i', '--input', help='path to an image, a directory of images, a video, or webcam')    \n",
    "    argparser.add_argument('-o', '--output', default='output/', help='path to output directory')   \n",
    "    \n",
    "    args = argparser.parse_args()\n",
    "    _main_(args)\n"
   ]
  },
  {
   "cell_type": "code",
   "execution_count": 8,
   "metadata": {},
   "outputs": [
    {
     "ename": "SyntaxError",
     "evalue": "invalid syntax (<ipython-input-8-b7c165282a51>, line 1)",
     "output_type": "error",
     "traceback": [
      "\u001b[0;36m  File \u001b[0;32m\"<ipython-input-8-b7c165282a51>\"\u001b[0;36m, line \u001b[0;32m1\u001b[0m\n\u001b[0;31m    python predict.py -c config.json -i \"~/YOLO3_MULTIGPU/keras-yolo3/102nd_1090.jpg\"\u001b[0m\n\u001b[0m                 ^\u001b[0m\n\u001b[0;31mSyntaxError\u001b[0m\u001b[0;31m:\u001b[0m invalid syntax\n"
     ]
    }
   ],
   "source": [
    "python predict.py -c config.json -i \"~/YOLO3_MULTIGPU/keras-yolo3/102nd_1090.jpg\""
   ]
  },
  {
   "cell_type": "code",
   "execution_count": 9,
   "metadata": {},
   "outputs": [
    {
     "name": "stdout",
     "output_type": "stream",
     "text": [
      "/home/imtiazahmad/YOLO3_MULTIGPU/keras-yolo3/output\n"
     ]
    }
   ],
   "source": [
    "cd output"
   ]
  },
  {
   "cell_type": "code",
   "execution_count": 15,
   "metadata": {},
   "outputs": [
    {
     "data": {
      "image/png": "[encoded data removed]",
      "text/plain": [
       "<Figure size 432x288 with 1 Axes>"
      ]
     },
     "metadata": {
      "needs_background": "light"
     },
     "output_type": "display_data"
    }
   ],
   "source": [
    "import matplotlib.pyplot as plt\n",
    "import matplotlib.image as mpimg\n",
    "img=mpimg.imread('102nd_1090.jpg')\n",
    "imgplot = plt.imshow(img)\n",
    "plt.show()"
   ]
  },
  {
   "cell_type": "code",
   "execution_count": 17,
   "metadata": {},
   "outputs": [
    {
     "name": "stderr",
     "output_type": "stream",
     "text": [
      "usage: ipykernel_launcher.py [-h] [-c CONF]\n",
      "ipykernel_launcher.py: error: unrecognized arguments: -f /run/user/13002/jupyter/kernel-ab18f1d8-d56c-4af1-8697-5622126e7120.json\n"
     ]
    },
    {
     "ename": "SystemExit",
     "evalue": "2",
     "output_type": "error",
     "traceback": [
      "An exception has occurred, use %tb to see the full traceback.\n",
      "\u001b[0;31mSystemExit\u001b[0m\u001b[0;31m:\u001b[0m 2\n"
     ]
    },
    {
     "name": "stderr",
     "output_type": "stream",
     "text": [
      "/N/u/imtiazahmad/anaconda3/lib/python3.7/site-packages/IPython/core/interactiveshell.py:3304: UserWarning: To exit: use 'exit', 'quit', or Ctrl-D.\n",
      "  warn(\"To exit: use 'exit', 'quit', or Ctrl-D.\", stacklevel=1)\n"
     ]
    }
   ],
   "source": [
    "#! /usr/bin/env python\n",
    "\n",
    "import argparse\n",
    "import os\n",
    "import numpy as np\n",
    "import json\n",
    "from voc import parse_voc_annotation\n",
    "from yolo import create_yolov3_model\n",
    "from generator import BatchGenerator\n",
    "from utils.utils import normalize, evaluate\n",
    "from keras.callbacks import EarlyStopping, ModelCheckpoint\n",
    "from keras.optimizers import Adam\n",
    "from keras.models import load_model\n",
    "\n",
    "def _main_(args):\n",
    "    config_path = args.conf\n",
    "\n",
    "    with open(config_path) as config_buffer:    \n",
    "        config = json.loads(config_buffer.read())\n",
    "\n",
    "    ###############################\n",
    "    #   Create the validation generator\n",
    "    ###############################  \n",
    "    valid_ints, labels = parse_voc_annotation(\n",
    "        config['valid']['valid_annot_folder'], \n",
    "        config['valid']['valid_image_folder'], \n",
    "        config['valid']['cache_name'],\n",
    "        config['model']['labels']\n",
    "    )\n",
    "\n",
    "    labels = labels.keys() if len(config['model']['labels']) == 0 else config['model']['labels']\n",
    "    labels = sorted(labels)\n",
    "   \n",
    "    valid_generator = BatchGenerator(\n",
    "        instances           = valid_ints, \n",
    "        anchors             = config['model']['anchors'],   \n",
    "        labels              = labels,        \n",
    "        downsample          = 32, # ratio between network input's size and network output's size, 32 for YOLOv3\n",
    "        max_box_per_image   = 0,\n",
    "        batch_size          = config['train']['batch_size'],\n",
    "        min_net_size        = config['model']['min_input_size'],\n",
    "        max_net_size        = config['model']['max_input_size'],   \n",
    "        shuffle             = True, \n",
    "        jitter              = 0.0, \n",
    "        norm                = normalize\n",
    "    )\n",
    "\n",
    "    ###############################\n",
    "    #   Load the model and do evaluation\n",
    "    ###############################\n",
    "    os.environ['CUDA_VISIBLE_DEVICES'] = config['train']['gpus']\n",
    "\n",
    "    infer_model = load_model(config['train']['saved_weights_name'])\n",
    "\n",
    "    # compute mAP for all the classes\n",
    "    average_precisions = evaluate(infer_model, valid_generator)\n",
    "\n",
    "    # print the score\n",
    "    for label, average_precision in average_precisions.items():\n",
    "        print(labels[label] + ': {:.4f}'.format(average_precision))\n",
    "    print('mAP: {:.4f}'.format(sum(average_precisions.values()) / len(average_precisions)))           \n",
    "\n",
    "if __name__ == '__main__':\n",
    "    argparser = argparse.ArgumentParser(description='Evaluate YOLO_v3 model on any dataset')\n",
    "    argparser.add_argument('-c', '--conf', help='path to configuration file')    \n",
    "    \n",
    "    args = argparser.parse_args()\n",
    "    _main_(args)\n"
   ]
  },
  {
   "cell_type": "code",
   "execution_count": 21,
   "metadata": {},
   "outputs": [
    {
     "name": "stderr",
     "output_type": "stream",
     "text": [
      "UsageError: Line magic function `%tensorboard` not found.\n"
     ]
    }
   ],
   "source": [
    "import tensorflow as tf\n",
    "import datetime, os\n",
    "\n",
    "\n",
    "%tensorboard --logdir logs/"
   ]
  },
  {
   "cell_type": "code",
   "execution_count": 23,
   "metadata": {},
   "outputs": [
    {
     "name": "stdout",
     "output_type": "stream",
     "text": [
      "1.14.0\n"
     ]
    }
   ],
   "source": [
    "import tensorflow as tf\n",
    "print(tf.__version__)"
   ]
  },
  {
   "cell_type": "code",
   "execution_count": 24,
   "metadata": {},
   "outputs": [
    {
     "name": "stdout",
     "output_type": "stream",
     "text": [
      "Collecting jupyter-tensorboard\n",
      "  Downloading https://files.pythonhosted.org/packages/46/36/87935f2abaab692dfd5dc5ec335edd2bbed6ac614b35875852ee2173f9f3/jupyter_tensorboard-0.1.10.tar.gz\n",
      "Requirement already satisfied: notebook>=5.0 in /home/imtiazahmad/anaconda3/lib/python3.7/site-packages (from jupyter-tensorboard) (5.7.8)\n",
      "Requirement already satisfied: traitlets>=4.2.1 in /home/imtiazahmad/anaconda3/lib/python3.7/site-packages (from notebook>=5.0->jupyter-tensorboard) (4.3.2)\n",
      "Requirement already satisfied: pyzmq>=17 in /home/imtiazahmad/anaconda3/lib/python3.7/site-packages (from notebook>=5.0->jupyter-tensorboard) (18.0.0)\n",
      "Requirement already satisfied: jupyter-client>=5.2.0 in /home/imtiazahmad/anaconda3/lib/python3.7/site-packages (from notebook>=5.0->jupyter-tensorboard) (5.2.4)\n",
      "Requirement already satisfied: ipython-genutils in /home/imtiazahmad/anaconda3/lib/python3.7/site-packages (from notebook>=5.0->jupyter-tensorboard) (0.2.0)\n",
      "Requirement already satisfied: tornado<7,>=4.1 in /home/imtiazahmad/anaconda3/lib/python3.7/site-packages (from notebook>=5.0->jupyter-tensorboard) (6.0.2)\n",
      "Requirement already satisfied: jupyter-core>=4.4.0 in /home/imtiazahmad/anaconda3/lib/python3.7/site-packages (from notebook>=5.0->jupyter-tensorboard) (4.4.0)\n",
      "Requirement already satisfied: ipykernel in /home/imtiazahmad/anaconda3/lib/python3.7/site-packages (from notebook>=5.0->jupyter-tensorboard) (5.1.0)\n",
      "Requirement already satisfied: Send2Trash in /home/imtiazahmad/anaconda3/lib/python3.7/site-packages (from notebook>=5.0->jupyter-tensorboard) (1.5.0)\n",
      "Requirement already satisfied: terminado>=0.8.1 in /home/imtiazahmad/anaconda3/lib/python3.7/site-packages (from notebook>=5.0->jupyter-tensorboard) (0.8.1)\n",
      "Requirement already satisfied: nbformat in /home/imtiazahmad/anaconda3/lib/python3.7/site-packages (from notebook>=5.0->jupyter-tensorboard) (4.4.0)\n",
      "Requirement already satisfied: prometheus-client in /home/imtiazahmad/anaconda3/lib/python3.7/site-packages (from notebook>=5.0->jupyter-tensorboard) (0.6.0)\n",
      "Requirement already satisfied: jinja2 in /home/imtiazahmad/anaconda3/lib/python3.7/site-packages (from notebook>=5.0->jupyter-tensorboard) (2.10)\n",
      "Requirement already satisfied: nbconvert in /home/imtiazahmad/anaconda3/lib/python3.7/site-packages (from notebook>=5.0->jupyter-tensorboard) (5.4.1)\n",
      "Requirement already satisfied: decorator in /home/imtiazahmad/anaconda3/lib/python3.7/site-packages (from traitlets>=4.2.1->notebook>=5.0->jupyter-tensorboard) (4.4.0)\n",
      "Requirement already satisfied: six in /home/imtiazahmad/anaconda3/lib/python3.7/site-packages (from traitlets>=4.2.1->notebook>=5.0->jupyter-tensorboard) (1.12.0)\n",
      "Requirement already satisfied: python-dateutil>=2.1 in /home/imtiazahmad/anaconda3/lib/python3.7/site-packages (from jupyter-client>=5.2.0->notebook>=5.0->jupyter-tensorboard) (2.8.0)\n",
      "Requirement already satisfied: ipython>=5.0.0 in /home/imtiazahmad/anaconda3/lib/python3.7/site-packages (from ipykernel->notebook>=5.0->jupyter-tensorboard) (7.4.0)\n",
      "Requirement already satisfied: jsonschema!=2.5.0,>=2.4 in /home/imtiazahmad/anaconda3/lib/python3.7/site-packages (from nbformat->notebook>=5.0->jupyter-tensorboard) (3.0.1)\n",
      "Requirement already satisfied: MarkupSafe>=0.23 in /home/imtiazahmad/anaconda3/lib/python3.7/site-packages (from jinja2->notebook>=5.0->jupyter-tensorboard) (1.1.1)\n",
      "Requirement already satisfied: mistune>=0.8.1 in /home/imtiazahmad/anaconda3/lib/python3.7/site-packages (from nbconvert->notebook>=5.0->jupyter-tensorboard) (0.8.4)\n",
      "Requirement already satisfied: pygments in /home/imtiazahmad/anaconda3/lib/python3.7/site-packages (from nbconvert->notebook>=5.0->jupyter-tensorboard) (2.3.1)\n",
      "Requirement already satisfied: entrypoints>=0.2.2 in /home/imtiazahmad/anaconda3/lib/python3.7/site-packages (from nbconvert->notebook>=5.0->jupyter-tensorboard) (0.3)\n",
      "Requirement already satisfied: bleach in /home/imtiazahmad/anaconda3/lib/python3.7/site-packages (from nbconvert->notebook>=5.0->jupyter-tensorboard) (3.1.0)\n",
      "Requirement already satisfied: pandocfilters>=1.4.1 in /home/imtiazahmad/anaconda3/lib/python3.7/site-packages (from nbconvert->notebook>=5.0->jupyter-tensorboard) (1.4.2)\n",
      "Requirement already satisfied: testpath in /home/imtiazahmad/anaconda3/lib/python3.7/site-packages (from nbconvert->notebook>=5.0->jupyter-tensorboard) (0.4.2)\n",
      "Requirement already satisfied: defusedxml in /home/imtiazahmad/anaconda3/lib/python3.7/site-packages (from nbconvert->notebook>=5.0->jupyter-tensorboard) (0.5.0)\n",
      "Requirement already satisfied: jedi>=0.10 in /home/imtiazahmad/anaconda3/lib/python3.7/site-packages (from ipython>=5.0.0->ipykernel->notebook>=5.0->jupyter-tensorboard) (0.13.3)\n",
      "Requirement already satisfied: backcall in /home/imtiazahmad/anaconda3/lib/python3.7/site-packages (from ipython>=5.0.0->ipykernel->notebook>=5.0->jupyter-tensorboard) (0.1.0)\n",
      "Requirement already satisfied: pexpect; sys_platform != \"win32\" in /home/imtiazahmad/anaconda3/lib/python3.7/site-packages (from ipython>=5.0.0->ipykernel->notebook>=5.0->jupyter-tensorboard) (4.6.0)\n",
      "Requirement already satisfied: prompt-toolkit<2.1.0,>=2.0.0 in /home/imtiazahmad/anaconda3/lib/python3.7/site-packages (from ipython>=5.0.0->ipykernel->notebook>=5.0->jupyter-tensorboard) (2.0.9)\n",
      "Requirement already satisfied: setuptools>=18.5 in /home/imtiazahmad/anaconda3/lib/python3.7/site-packages (from ipython>=5.0.0->ipykernel->notebook>=5.0->jupyter-tensorboard) (40.8.0)\n",
      "Requirement already satisfied: pickleshare in /home/imtiazahmad/anaconda3/lib/python3.7/site-packages (from ipython>=5.0.0->ipykernel->notebook>=5.0->jupyter-tensorboard) (0.7.5)\n",
      "Requirement already satisfied: attrs>=17.4.0 in /home/imtiazahmad/anaconda3/lib/python3.7/site-packages (from jsonschema!=2.5.0,>=2.4->nbformat->notebook>=5.0->jupyter-tensorboard) (19.1.0)\n",
      "Requirement already satisfied: pyrsistent>=0.14.0 in /home/imtiazahmad/anaconda3/lib/python3.7/site-packages (from jsonschema!=2.5.0,>=2.4->nbformat->notebook>=5.0->jupyter-tensorboard) (0.14.11)\n",
      "Requirement already satisfied: webencodings in /home/imtiazahmad/anaconda3/lib/python3.7/site-packages (from bleach->nbconvert->notebook>=5.0->jupyter-tensorboard) (0.5.1)\n",
      "Requirement already satisfied: parso>=0.3.0 in /home/imtiazahmad/anaconda3/lib/python3.7/site-packages (from jedi>=0.10->ipython>=5.0.0->ipykernel->notebook>=5.0->jupyter-tensorboard) (0.3.4)\n",
      "Requirement already satisfied: ptyprocess>=0.5 in /home/imtiazahmad/anaconda3/lib/python3.7/site-packages (from pexpect; sys_platform != \"win32\"->ipython>=5.0.0->ipykernel->notebook>=5.0->jupyter-tensorboard) (0.6.0)\n",
      "Requirement already satisfied: wcwidth in /home/imtiazahmad/anaconda3/lib/python3.7/site-packages (from prompt-toolkit<2.1.0,>=2.0.0->ipython>=5.0.0->ipykernel->notebook>=5.0->jupyter-tensorboard) (0.1.7)\n",
      "Building wheels for collected packages: jupyter-tensorboard\n",
      "  Building wheel for jupyter-tensorboard (setup.py) ... \u001b[?25ldone\n",
      "\u001b[?25h  Stored in directory: /N/u/imtiazahmad/.cache/pip/wheels/12/51/ec/a9ef181e77d44427a00f0c52fd9f1758cad0fe910a34ca8288\n",
      "Successfully built jupyter-tensorboard\n",
      "Installing collected packages: jupyter-tensorboard\n",
      "Successfully installed jupyter-tensorboard-0.1.10\n",
      "Note: you may need to restart the kernel to use updated packages.\n"
     ]
    }
   ],
   "source": [
    "pip install jupyter-tensorboard"
   ]
  },
  {
   "cell_type": "code",
   "execution_count": 1,
   "metadata": {},
   "outputs": [
    {
     "data": {
      "text/html": [
       "\n",
       "        <iframe\n",
       "            width=\"100%\"\n",
       "            height=\"800\"\n",
       "            src=\"http://localhost:6008\"\n",
       "            frameborder=\"0\"\n",
       "            allowfullscreen\n",
       "        ></iframe>\n",
       "        "
      ],
      "text/plain": [
       "<IPython.lib.display.IFrame at 0x7faec45627b8>"
      ]
     },
     "metadata": {},
     "output_type": "display_data"
    }
   ],
   "source": [
    "# Load TENSORBOARD\n",
    "%load_ext tensorboard\n",
    "# Start TENSORBOARD\n",
    "%tensorboard --logdir logs"
   ]
  },
  {
   "cell_type": "code",
   "execution_count": null,
   "metadata": {},
   "outputs": [],
   "source": []
  }
 ],
 "metadata": {
  "kernelspec": {
   "display_name": "Python 3",
   "language": "python",
   "name": "python3"
  },
  "language_info": {
   "codemirror_mode": {
    "name": "ipython",
    "version": 3
   },
   "file_extension": ".py",
   "mimetype": "text/x-python",
   "name": "python",
   "nbconvert_exporter": "python",
   "pygments_lexer": "ipython3",
   "version": "3.7.1"
  }
 },
 "nbformat": 4,
 "nbformat_minor": 2
}
