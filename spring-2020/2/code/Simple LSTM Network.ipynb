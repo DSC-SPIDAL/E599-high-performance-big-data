{
 "cells": [
  {
   "cell_type": "code",
   "execution_count": 1,
   "metadata": {},
   "outputs": [],
   "source": [
    "import pandas as pd\n",
    "import numpy as np\n",
    "import os "
   ]
  },
  {
   "cell_type": "markdown",
   "metadata": {},
   "source": [
    "### Read data from data files"
   ]
  },
  {
   "cell_type": "code",
   "execution_count": 2,
   "metadata": {},
   "outputs": [],
   "source": [
    "def read_data(path=None, file=None):\n",
    "    \n",
    "    if path and not file:\n",
    "        files_list = os.listdir(path)\n",
    "        li = []    \n",
    "        \n",
    "        for file in files_list:\n",
    "            filepath = path + '/' + file\n",
    "            df = pd.read_csv(filepath, index_col=0)\n",
    "            li.append(df)\n",
    "        \n",
    "        dataframe = pd.concat(li, axis=0, ignore_index=True)\n",
    "    \n",
    "    elif file and not path:\n",
    "        dataframe = pd.read_csv(file, index_col=0)\n",
    "        \n",
    "    elif file and path:\n",
    "        filepath = path + '/' + file\n",
    "        dataframe = pd.read_csv(filepath, index_col=0)\n",
    "        \n",
    "    else:\n",
    "        dataframe = None\n",
    "        \n",
    "    return dataframe"
   ]
  },
  {
   "cell_type": "code",
   "execution_count": 3,
   "metadata": {},
   "outputs": [],
   "source": [
    "df_2013 = read_data(file='./data/Data2013.csv')\n",
    "df_2014 = read_data(file='./data/Data2014.csv')\n",
    "df_2015 = read_data(file='./data/Data2015.csv')\n",
    "df_2016 = read_data(file='./data/Data2016.csv')\n",
    "df_2017 = read_data(file='./data/Data2017.csv')\n",
    "df_2018 = read_data(file='./data/Data2018.csv')\n",
    "df_2019 = read_data(file='./data/Data2019.csv')"
   ]
  },
  {
   "cell_type": "code",
   "execution_count": 4,
   "metadata": {},
   "outputs": [
    {
     "data": {
      "text/html": [
       "<div>\n",
       "<style scoped>\n",
       "    .dataframe tbody tr th:only-of-type {\n",
       "        vertical-align: middle;\n",
       "    }\n",
       "\n",
       "    .dataframe tbody tr th {\n",
       "        vertical-align: top;\n",
       "    }\n",
       "\n",
       "    .dataframe thead th {\n",
       "        text-align: right;\n",
       "    }\n",
       "</style>\n",
       "<table border=\"1\" class=\"dataframe\">\n",
       "  <thead>\n",
       "    <tr style=\"text-align: right;\">\n",
       "      <th></th>\n",
       "      <th>0</th>\n",
       "      <th>1</th>\n",
       "      <th>2</th>\n",
       "      <th>3</th>\n",
       "      <th>4</th>\n",
       "      <th>5</th>\n",
       "      <th>6</th>\n",
       "      <th>7</th>\n",
       "      <th>8</th>\n",
       "      <th>9</th>\n",
       "      <th>...</th>\n",
       "      <th>56</th>\n",
       "      <th>57</th>\n",
       "      <th>58</th>\n",
       "      <th>59</th>\n",
       "      <th>60</th>\n",
       "      <th>61</th>\n",
       "      <th>62</th>\n",
       "      <th>63</th>\n",
       "      <th>64</th>\n",
       "      <th>65</th>\n",
       "    </tr>\n",
       "  </thead>\n",
       "  <tbody>\n",
       "    <tr>\n",
       "      <th>0</th>\n",
       "      <td>0.000000</td>\n",
       "      <td>0.0</td>\n",
       "      <td>0.000000</td>\n",
       "      <td>0.0</td>\n",
       "      <td>0.000000</td>\n",
       "      <td>0.0</td>\n",
       "      <td>0.000000</td>\n",
       "      <td>0.0</td>\n",
       "      <td>0.000000</td>\n",
       "      <td>0.0</td>\n",
       "      <td>...</td>\n",
       "      <td>0.000000</td>\n",
       "      <td>0.0</td>\n",
       "      <td>0.000000</td>\n",
       "      <td>0.0</td>\n",
       "      <td>0.000000</td>\n",
       "      <td>0.0</td>\n",
       "      <td>0.000000</td>\n",
       "      <td>0.0</td>\n",
       "      <td>0.000000</td>\n",
       "      <td>0.0</td>\n",
       "    </tr>\n",
       "    <tr>\n",
       "      <th>1</th>\n",
       "      <td>0.000000</td>\n",
       "      <td>1.0</td>\n",
       "      <td>0.000000</td>\n",
       "      <td>1.0</td>\n",
       "      <td>0.000000</td>\n",
       "      <td>1.0</td>\n",
       "      <td>1.006015</td>\n",
       "      <td>1.0</td>\n",
       "      <td>0.000000</td>\n",
       "      <td>1.0</td>\n",
       "      <td>...</td>\n",
       "      <td>0.000000</td>\n",
       "      <td>1.0</td>\n",
       "      <td>0.000000</td>\n",
       "      <td>1.0</td>\n",
       "      <td>0.000000</td>\n",
       "      <td>1.0</td>\n",
       "      <td>0.000000</td>\n",
       "      <td>1.0</td>\n",
       "      <td>0.000000</td>\n",
       "      <td>1.0</td>\n",
       "    </tr>\n",
       "    <tr>\n",
       "      <th>2</th>\n",
       "      <td>1.021548</td>\n",
       "      <td>2.0</td>\n",
       "      <td>0.000000</td>\n",
       "      <td>2.0</td>\n",
       "      <td>1.017281</td>\n",
       "      <td>2.0</td>\n",
       "      <td>1.029052</td>\n",
       "      <td>2.0</td>\n",
       "      <td>0.000000</td>\n",
       "      <td>2.0</td>\n",
       "      <td>...</td>\n",
       "      <td>0.000000</td>\n",
       "      <td>2.0</td>\n",
       "      <td>0.000000</td>\n",
       "      <td>2.0</td>\n",
       "      <td>0.000000</td>\n",
       "      <td>2.0</td>\n",
       "      <td>0.000000</td>\n",
       "      <td>2.0</td>\n",
       "      <td>1.018563</td>\n",
       "      <td>2.0</td>\n",
       "    </tr>\n",
       "    <tr>\n",
       "      <th>3</th>\n",
       "      <td>1.044093</td>\n",
       "      <td>3.0</td>\n",
       "      <td>1.010881</td>\n",
       "      <td>3.0</td>\n",
       "      <td>1.040279</td>\n",
       "      <td>3.0</td>\n",
       "      <td>1.052090</td>\n",
       "      <td>3.0</td>\n",
       "      <td>1.005662</td>\n",
       "      <td>3.0</td>\n",
       "      <td>...</td>\n",
       "      <td>0.000000</td>\n",
       "      <td>3.0</td>\n",
       "      <td>0.000000</td>\n",
       "      <td>3.0</td>\n",
       "      <td>1.011268</td>\n",
       "      <td>3.0</td>\n",
       "      <td>0.000000</td>\n",
       "      <td>3.0</td>\n",
       "      <td>1.041447</td>\n",
       "      <td>3.0</td>\n",
       "    </tr>\n",
       "    <tr>\n",
       "      <th>4</th>\n",
       "      <td>1.066638</td>\n",
       "      <td>4.0</td>\n",
       "      <td>1.033982</td>\n",
       "      <td>4.0</td>\n",
       "      <td>1.063278</td>\n",
       "      <td>4.0</td>\n",
       "      <td>1.075127</td>\n",
       "      <td>4.0</td>\n",
       "      <td>1.028592</td>\n",
       "      <td>4.0</td>\n",
       "      <td>...</td>\n",
       "      <td>1.018794</td>\n",
       "      <td>4.0</td>\n",
       "      <td>1.020992</td>\n",
       "      <td>4.0</td>\n",
       "      <td>1.034180</td>\n",
       "      <td>4.0</td>\n",
       "      <td>1.015575</td>\n",
       "      <td>4.0</td>\n",
       "      <td>1.064330</td>\n",
       "      <td>4.0</td>\n",
       "    </tr>\n",
       "  </tbody>\n",
       "</table>\n",
       "<p>5 rows × 66 columns</p>\n",
       "</div>"
      ],
      "text/plain": [
       "          0    1         2    3         4    5         6    7         8    9  \\\n",
       "0  0.000000  0.0  0.000000  0.0  0.000000  0.0  0.000000  0.0  0.000000  0.0   \n",
       "1  0.000000  1.0  0.000000  1.0  0.000000  1.0  1.006015  1.0  0.000000  1.0   \n",
       "2  1.021548  2.0  0.000000  2.0  1.017281  2.0  1.029052  2.0  0.000000  2.0   \n",
       "3  1.044093  3.0  1.010881  3.0  1.040279  3.0  1.052090  3.0  1.005662  3.0   \n",
       "4  1.066638  4.0  1.033982  4.0  1.063278  4.0  1.075127  4.0  1.028592  4.0   \n",
       "\n",
       "   ...        56   57        58   59        60   61        62   63        64  \\\n",
       "0  ...  0.000000  0.0  0.000000  0.0  0.000000  0.0  0.000000  0.0  0.000000   \n",
       "1  ...  0.000000  1.0  0.000000  1.0  0.000000  1.0  0.000000  1.0  0.000000   \n",
       "2  ...  0.000000  2.0  0.000000  2.0  0.000000  2.0  0.000000  2.0  1.018563   \n",
       "3  ...  0.000000  3.0  0.000000  3.0  1.011268  3.0  0.000000  3.0  1.041447   \n",
       "4  ...  1.018794  4.0  1.020992  4.0  1.034180  4.0  1.015575  4.0  1.064330   \n",
       "\n",
       "    65  \n",
       "0  0.0  \n",
       "1  1.0  \n",
       "2  2.0  \n",
       "3  3.0  \n",
       "4  4.0  \n",
       "\n",
       "[5 rows x 66 columns]"
      ]
     },
     "execution_count": 4,
     "metadata": {},
     "output_type": "execute_result"
    }
   ],
   "source": [
    "df_2013.head()"
   ]
  },
  {
   "cell_type": "code",
   "execution_count": 5,
   "metadata": {},
   "outputs": [
    {
     "data": {
      "text/html": [
       "<div>\n",
       "<style scoped>\n",
       "    .dataframe tbody tr th:only-of-type {\n",
       "        vertical-align: middle;\n",
       "    }\n",
       "\n",
       "    .dataframe tbody tr th {\n",
       "        vertical-align: top;\n",
       "    }\n",
       "\n",
       "    .dataframe thead th {\n",
       "        text-align: right;\n",
       "    }\n",
       "</style>\n",
       "<table border=\"1\" class=\"dataframe\">\n",
       "  <thead>\n",
       "    <tr style=\"text-align: right;\">\n",
       "      <th></th>\n",
       "      <th>0</th>\n",
       "      <th>1</th>\n",
       "      <th>2</th>\n",
       "      <th>3</th>\n",
       "      <th>4</th>\n",
       "      <th>5</th>\n",
       "      <th>6</th>\n",
       "      <th>7</th>\n",
       "      <th>8</th>\n",
       "      <th>9</th>\n",
       "      <th>...</th>\n",
       "      <th>56</th>\n",
       "      <th>57</th>\n",
       "      <th>58</th>\n",
       "      <th>59</th>\n",
       "      <th>60</th>\n",
       "      <th>61</th>\n",
       "      <th>62</th>\n",
       "      <th>63</th>\n",
       "      <th>64</th>\n",
       "      <th>65</th>\n",
       "    </tr>\n",
       "  </thead>\n",
       "  <tbody>\n",
       "    <tr>\n",
       "      <th>0</th>\n",
       "      <td>0.000000</td>\n",
       "      <td>0.0</td>\n",
       "      <td>0.000000</td>\n",
       "      <td>0.0</td>\n",
       "      <td>0.000000</td>\n",
       "      <td>0.0</td>\n",
       "      <td>0.000000</td>\n",
       "      <td>0.0</td>\n",
       "      <td>0.000000</td>\n",
       "      <td>0.0</td>\n",
       "      <td>...</td>\n",
       "      <td>0.0</td>\n",
       "      <td>0.0</td>\n",
       "      <td>0.0</td>\n",
       "      <td>0.0</td>\n",
       "      <td>0.0</td>\n",
       "      <td>0.0</td>\n",
       "      <td>0.0</td>\n",
       "      <td>0.0</td>\n",
       "      <td>0.0</td>\n",
       "      <td>0.0</td>\n",
       "    </tr>\n",
       "    <tr>\n",
       "      <th>1</th>\n",
       "      <td>1.023845</td>\n",
       "      <td>1.0</td>\n",
       "      <td>1.021091</td>\n",
       "      <td>1.0</td>\n",
       "      <td>1.018493</td>\n",
       "      <td>1.0</td>\n",
       "      <td>1.013808</td>\n",
       "      <td>1.0</td>\n",
       "      <td>1.015944</td>\n",
       "      <td>1.0</td>\n",
       "      <td>...</td>\n",
       "      <td>0.0</td>\n",
       "      <td>1.0</td>\n",
       "      <td>0.0</td>\n",
       "      <td>1.0</td>\n",
       "      <td>0.0</td>\n",
       "      <td>1.0</td>\n",
       "      <td>0.0</td>\n",
       "      <td>1.0</td>\n",
       "      <td>0.0</td>\n",
       "      <td>1.0</td>\n",
       "    </tr>\n",
       "    <tr>\n",
       "      <th>2</th>\n",
       "      <td>1.047690</td>\n",
       "      <td>2.0</td>\n",
       "      <td>1.044842</td>\n",
       "      <td>2.0</td>\n",
       "      <td>1.042346</td>\n",
       "      <td>2.0</td>\n",
       "      <td>1.037410</td>\n",
       "      <td>2.0</td>\n",
       "      <td>1.039227</td>\n",
       "      <td>2.0</td>\n",
       "      <td>...</td>\n",
       "      <td>0.0</td>\n",
       "      <td>2.0</td>\n",
       "      <td>0.0</td>\n",
       "      <td>2.0</td>\n",
       "      <td>0.0</td>\n",
       "      <td>2.0</td>\n",
       "      <td>0.0</td>\n",
       "      <td>2.0</td>\n",
       "      <td>0.0</td>\n",
       "      <td>2.0</td>\n",
       "    </tr>\n",
       "    <tr>\n",
       "      <th>3</th>\n",
       "      <td>1.071536</td>\n",
       "      <td>3.0</td>\n",
       "      <td>1.068593</td>\n",
       "      <td>3.0</td>\n",
       "      <td>1.066199</td>\n",
       "      <td>3.0</td>\n",
       "      <td>1.061013</td>\n",
       "      <td>3.0</td>\n",
       "      <td>1.062510</td>\n",
       "      <td>3.0</td>\n",
       "      <td>...</td>\n",
       "      <td>0.0</td>\n",
       "      <td>3.0</td>\n",
       "      <td>0.0</td>\n",
       "      <td>3.0</td>\n",
       "      <td>0.0</td>\n",
       "      <td>3.0</td>\n",
       "      <td>0.0</td>\n",
       "      <td>3.0</td>\n",
       "      <td>0.0</td>\n",
       "      <td>3.0</td>\n",
       "    </tr>\n",
       "    <tr>\n",
       "      <th>4</th>\n",
       "      <td>1.095381</td>\n",
       "      <td>4.0</td>\n",
       "      <td>1.092345</td>\n",
       "      <td>4.0</td>\n",
       "      <td>1.090051</td>\n",
       "      <td>4.0</td>\n",
       "      <td>1.084616</td>\n",
       "      <td>4.0</td>\n",
       "      <td>1.085792</td>\n",
       "      <td>4.0</td>\n",
       "      <td>...</td>\n",
       "      <td>0.0</td>\n",
       "      <td>4.0</td>\n",
       "      <td>0.0</td>\n",
       "      <td>4.0</td>\n",
       "      <td>0.0</td>\n",
       "      <td>4.0</td>\n",
       "      <td>0.0</td>\n",
       "      <td>4.0</td>\n",
       "      <td>0.0</td>\n",
       "      <td>4.0</td>\n",
       "    </tr>\n",
       "  </tbody>\n",
       "</table>\n",
       "<p>5 rows × 66 columns</p>\n",
       "</div>"
      ],
      "text/plain": [
       "          0    1         2    3         4    5         6    7         8    9  \\\n",
       "0  0.000000  0.0  0.000000  0.0  0.000000  0.0  0.000000  0.0  0.000000  0.0   \n",
       "1  1.023845  1.0  1.021091  1.0  1.018493  1.0  1.013808  1.0  1.015944  1.0   \n",
       "2  1.047690  2.0  1.044842  2.0  1.042346  2.0  1.037410  2.0  1.039227  2.0   \n",
       "3  1.071536  3.0  1.068593  3.0  1.066199  3.0  1.061013  3.0  1.062510  3.0   \n",
       "4  1.095381  4.0  1.092345  4.0  1.090051  4.0  1.084616  4.0  1.085792  4.0   \n",
       "\n",
       "   ...   56   57   58   59   60   61   62   63   64   65  \n",
       "0  ...  0.0  0.0  0.0  0.0  0.0  0.0  0.0  0.0  0.0  0.0  \n",
       "1  ...  0.0  1.0  0.0  1.0  0.0  1.0  0.0  1.0  0.0  1.0  \n",
       "2  ...  0.0  2.0  0.0  2.0  0.0  2.0  0.0  2.0  0.0  2.0  \n",
       "3  ...  0.0  3.0  0.0  3.0  0.0  3.0  0.0  3.0  0.0  3.0  \n",
       "4  ...  0.0  4.0  0.0  4.0  0.0  4.0  0.0  4.0  0.0  4.0  \n",
       "\n",
       "[5 rows x 66 columns]"
      ]
     },
     "execution_count": 5,
     "metadata": {},
     "output_type": "execute_result"
    }
   ],
   "source": [
    "df_2018.head()"
   ]
  },
  {
   "cell_type": "code",
   "execution_count": 6,
   "metadata": {},
   "outputs": [
    {
     "data": {
      "text/plain": [
       "10782    1976.0135\n",
       "dtype: float64"
      ]
     },
     "execution_count": 6,
     "metadata": {},
     "output_type": "execute_result"
    }
   ],
   "source": [
    "df_2018.iloc[[-1],:].max(axis=1)"
   ]
  },
  {
   "cell_type": "code",
   "execution_count": 7,
   "metadata": {},
   "outputs": [
    {
     "data": {
      "text/html": [
       "<div>\n",
       "<style scoped>\n",
       "    .dataframe tbody tr th:only-of-type {\n",
       "        vertical-align: middle;\n",
       "    }\n",
       "\n",
       "    .dataframe tbody tr th {\n",
       "        vertical-align: top;\n",
       "    }\n",
       "\n",
       "    .dataframe thead th {\n",
       "        text-align: right;\n",
       "    }\n",
       "</style>\n",
       "<table border=\"1\" class=\"dataframe\">\n",
       "  <thead>\n",
       "    <tr style=\"text-align: right;\">\n",
       "      <th></th>\n",
       "      <th>0</th>\n",
       "      <th>1</th>\n",
       "      <th>2</th>\n",
       "      <th>3</th>\n",
       "      <th>4</th>\n",
       "      <th>5</th>\n",
       "      <th>6</th>\n",
       "      <th>7</th>\n",
       "      <th>8</th>\n",
       "      <th>9</th>\n",
       "      <th>...</th>\n",
       "      <th>56</th>\n",
       "      <th>57</th>\n",
       "      <th>58</th>\n",
       "      <th>59</th>\n",
       "      <th>60</th>\n",
       "      <th>61</th>\n",
       "      <th>62</th>\n",
       "      <th>63</th>\n",
       "      <th>64</th>\n",
       "      <th>65</th>\n",
       "    </tr>\n",
       "  </thead>\n",
       "  <tbody>\n",
       "    <tr>\n",
       "      <th>10782</th>\n",
       "      <td>200.90918</td>\n",
       "      <td>1402.0027</td>\n",
       "      <td>200.81365</td>\n",
       "      <td>1317.9259</td>\n",
       "      <td>200.984613</td>\n",
       "      <td>1484.898</td>\n",
       "      <td>200.776592</td>\n",
       "      <td>1519.0526</td>\n",
       "      <td>0.0</td>\n",
       "      <td>0.0</td>\n",
       "      <td>...</td>\n",
       "      <td>0.0</td>\n",
       "      <td>0.0</td>\n",
       "      <td>200.71606</td>\n",
       "      <td>1387.2449</td>\n",
       "      <td>200.147612</td>\n",
       "      <td>143.6974</td>\n",
       "      <td>200.858939</td>\n",
       "      <td>1348.7667</td>\n",
       "      <td>199.588564</td>\n",
       "      <td>360.975</td>\n",
       "    </tr>\n",
       "  </tbody>\n",
       "</table>\n",
       "<p>1 rows × 66 columns</p>\n",
       "</div>"
      ],
      "text/plain": [
       "               0          1          2          3           4         5  \\\n",
       "10782  200.90918  1402.0027  200.81365  1317.9259  200.984613  1484.898   \n",
       "\n",
       "                6          7    8    9  ...   56   57         58         59  \\\n",
       "10782  200.776592  1519.0526  0.0  0.0  ...  0.0  0.0  200.71606  1387.2449   \n",
       "\n",
       "               60        61          62         63          64       65  \n",
       "10782  200.147612  143.6974  200.858939  1348.7667  199.588564  360.975  \n",
       "\n",
       "[1 rows x 66 columns]"
      ]
     },
     "execution_count": 7,
     "metadata": {},
     "output_type": "execute_result"
    }
   ],
   "source": [
    "df_2018.iloc[[-1],:]"
   ]
  },
  {
   "cell_type": "code",
   "execution_count": 8,
   "metadata": {},
   "outputs": [],
   "source": [
    "dist_columns = [ str(idx) for idx in df_2018.columns if int(idx) % 2 == 0 ]\n",
    "index_max_dist = df_2018[dist_columns].idxmax(1)"
   ]
  },
  {
   "cell_type": "code",
   "execution_count": 9,
   "metadata": {},
   "outputs": [
    {
     "data": {
      "text/plain": [
       "0        0\n",
       "1        0\n",
       "2        0\n",
       "3        0\n",
       "4        0\n",
       "        ..\n",
       "10778    4\n",
       "10779    4\n",
       "10780    4\n",
       "10781    4\n",
       "10782    4\n",
       "Length: 10783, dtype: object"
      ]
     },
     "execution_count": 9,
     "metadata": {},
     "output_type": "execute_result"
    }
   ],
   "source": [
    "index_max_dist"
   ]
  },
  {
   "cell_type": "code",
   "execution_count": 10,
   "metadata": {},
   "outputs": [
    {
     "data": {
      "text/plain": [
       "0     3553\n",
       "4     3465\n",
       "50     980\n",
       "18     729\n",
       "58     516\n",
       "24     489\n",
       "40     261\n",
       "8      177\n",
       "10     176\n",
       "6      130\n",
       "44      87\n",
       "26      66\n",
       "34      58\n",
       "2       55\n",
       "62      41\n",
       "dtype: int64"
      ]
     },
     "execution_count": 10,
     "metadata": {},
     "output_type": "execute_result"
    }
   ],
   "source": [
    "index_max_dist.value_counts()"
   ]
  },
  {
   "cell_type": "code",
   "execution_count": 11,
   "metadata": {},
   "outputs": [],
   "source": [
    "from sklearn.preprocessing import MinMaxScaler\n",
    "scaler = MinMaxScaler()"
   ]
  },
  {
   "cell_type": "markdown",
   "metadata": {},
   "source": [
    "### Data processing"
   ]
  },
  {
   "cell_type": "code",
   "execution_count": 155,
   "metadata": {},
   "outputs": [],
   "source": [
    "# Function for all 33 cars\n",
    "from scipy.stats import rankdata\n",
    "\n",
    "def create_data(dataframe, num_cars=10, rank_step=10, frame_step=1, skip_step=5, frame_size=25, normalization=True):\n",
    "    \n",
    "    # Start of the frame \n",
    "    start_row = 0 \n",
    "    \n",
    "    # End of the frame \n",
    "    end_row = start_row + skip_step * frame_size\n",
    "    \n",
    "    # Max row that can be accessed\n",
    "    limit = end_row + max(rank_step, frame_size)\n",
    "    \n",
    "    # Label row (rank row)\n",
    "    label_row = end_row + rank_step\n",
    "    \n",
    "    # Length of the dataframe \n",
    "    length_df = len(dataframe)    \n",
    "    \n",
    "    # List of distance columns\n",
    "    dist_columns = [ str(idx) for idx in dataframe.columns if int(idx) % 2 == 0 ]\n",
    "    # List of distance columns\n",
    "    pit_columns = [ str(idx) for idx in dataframe.columns if int(idx) % 2 != 0 ]\n",
    "    \n",
    "    # Get the index of max distance column\n",
    "    index_max_dist = dataframe[dist_columns].idxmax(1)\n",
    "    \n",
    "    # Lists to store data and labels\n",
    "    data = []\n",
    "    labels = []\n",
    "    \n",
    "    if normalization:\n",
    "        # Scale values for pitstop column\n",
    "        dataframe[pit_columns] = scaler.fit_transform(dataframe[pit_columns])\n",
    "    \n",
    "    while limit < length_df:\n",
    "        \n",
    "        # Rows to append as a frame\n",
    "        indexes = [ i for i in range(start_row, end_row, skip_step) ]\n",
    "        \n",
    "        # Transform dataframe to scale values\n",
    "        tmp_data = dataframe.iloc[indexes,:]\n",
    "        \n",
    "        if normalization:\n",
    "        # Get max and min value for last row of dataframe\n",
    "            max_value = dataframe[dist_columns].iloc[[indexes[-1]],:].max(axis=1)\n",
    "            min_value = dataframe[dist_columns][dataframe[dist_columns] > 0].iloc[[indexes[0]],:].min(axis=1)\n",
    "\n",
    "        \n",
    "            # Normalize by the max value\n",
    "            tmp_data[dist_columns] = (tmp_data[dist_columns] - float(min_value))/(float(max_value) - float(min_value))\n",
    "            tmp_data[dist_columns]  = tmp_data[dist_columns].replace([-np.Inf, np.Inf, np.NaN], -1)\n",
    "        \n",
    "                \n",
    "        # Append the rows to data list \n",
    "        data.append(tmp_data.values)\n",
    "        \n",
    "        # Label row with probability distribution of        \n",
    "        label_row_df = rankdata(dataframe.iloc[[label_row],:][dist_columns].values[0])\n",
    "        label_row_df = 34 - label_row_df \n",
    "        label_row_df[label_row_df>1] = 0\n",
    "        \n",
    "        labels.append(label_row_df)\n",
    "\n",
    "        start_row = start_row + frame_step\n",
    "        end_row = start_row + skip_step * frame_size\n",
    "        label_row = end_row + rank_step\n",
    "        limit = end_row + max(rank_step, frame_size)\n",
    "        \n",
    "    return np.array(data), np.array(labels)     "
   ]
  },
  {
   "cell_type": "code",
   "execution_count": 156,
   "metadata": {},
   "outputs": [
    {
     "name": "stderr",
     "output_type": "stream",
     "text": [
      "C:\\Users\\utkar\\Anaconda3\\lib\\site-packages\\pandas\\core\\frame.py:2963: SettingWithCopyWarning: \n",
      "A value is trying to be set on a copy of a slice from a DataFrame.\n",
      "Try using .loc[row_indexer,col_indexer] = value instead\n",
      "\n",
      "See the caveats in the documentation: https://pandas.pydata.org/pandas-docs/stable/user_guide/indexing.html#returning-a-view-versus-a-copy\n",
      "  self[k1] = value[k2]\n",
      "C:\\Users\\utkar\\Anaconda3\\lib\\site-packages\\pandas\\core\\frame.py:2963: SettingWithCopyWarning: \n",
      "A value is trying to be set on a copy of a slice from a DataFrame.\n",
      "Try using .loc[row_indexer,col_indexer] = value instead\n",
      "\n",
      "See the caveats in the documentation: https://pandas.pydata.org/pandas-docs/stable/user_guide/indexing.html#returning-a-view-versus-a-copy\n",
      "  self[k1] = value[k2]\n",
      "C:\\Users\\utkar\\Anaconda3\\lib\\site-packages\\pandas\\core\\frame.py:2963: SettingWithCopyWarning: \n",
      "A value is trying to be set on a copy of a slice from a DataFrame.\n",
      "Try using .loc[row_indexer,col_indexer] = value instead\n",
      "\n",
      "See the caveats in the documentation: https://pandas.pydata.org/pandas-docs/stable/user_guide/indexing.html#returning-a-view-versus-a-copy\n",
      "  self[k1] = value[k2]\n",
      "C:\\Users\\utkar\\Anaconda3\\lib\\site-packages\\pandas\\core\\frame.py:2963: SettingWithCopyWarning: \n",
      "A value is trying to be set on a copy of a slice from a DataFrame.\n",
      "Try using .loc[row_indexer,col_indexer] = value instead\n",
      "\n",
      "See the caveats in the documentation: https://pandas.pydata.org/pandas-docs/stable/user_guide/indexing.html#returning-a-view-versus-a-copy\n",
      "  self[k1] = value[k2]\n",
      "C:\\Users\\utkar\\Anaconda3\\lib\\site-packages\\pandas\\core\\frame.py:2963: SettingWithCopyWarning: \n",
      "A value is trying to be set on a copy of a slice from a DataFrame.\n",
      "Try using .loc[row_indexer,col_indexer] = value instead\n",
      "\n",
      "See the caveats in the documentation: https://pandas.pydata.org/pandas-docs/stable/user_guide/indexing.html#returning-a-view-versus-a-copy\n",
      "  self[k1] = value[k2]\n",
      "C:\\Users\\utkar\\Anaconda3\\lib\\site-packages\\pandas\\core\\frame.py:2963: SettingWithCopyWarning: \n",
      "A value is trying to be set on a copy of a slice from a DataFrame.\n",
      "Try using .loc[row_indexer,col_indexer] = value instead\n",
      "\n",
      "See the caveats in the documentation: https://pandas.pydata.org/pandas-docs/stable/user_guide/indexing.html#returning-a-view-versus-a-copy\n",
      "  self[k1] = value[k2]\n",
      "C:\\Users\\utkar\\Anaconda3\\lib\\site-packages\\pandas\\core\\frame.py:2963: SettingWithCopyWarning: \n",
      "A value is trying to be set on a copy of a slice from a DataFrame.\n",
      "Try using .loc[row_indexer,col_indexer] = value instead\n",
      "\n",
      "See the caveats in the documentation: https://pandas.pydata.org/pandas-docs/stable/user_guide/indexing.html#returning-a-view-versus-a-copy\n",
      "  self[k1] = value[k2]\n"
     ]
    }
   ],
   "source": [
    "# Create data for each year\n",
    "\n",
    "x_2013, y_2013 = create_data(df_2013, rank_step=5, frame_step=3, skip_step=1, frame_size=10)\n",
    "x_2014, y_2014 = create_data(df_2014, rank_step=5, frame_step=3, skip_step=1, frame_size=10)\n",
    "x_2015, y_2015 = create_data(df_2015, rank_step=5, frame_step=3, skip_step=1, frame_size=10)\n",
    "x_2016, y_2016 = create_data(df_2016, rank_step=5, frame_step=3, skip_step=1, frame_size=10)\n",
    "x_2017, y_2017 = create_data(df_2017, rank_step=5, frame_step=3, skip_step=1, frame_size=10)\n",
    "x_2018, y_2018 = create_data(df_2018, rank_step=5, frame_step=3, skip_step=1, frame_size=10)\n",
    "x_2019, y_2019 = create_data(df_2019, rank_step=5, frame_step=3, skip_step=1, frame_size=10)"
   ]
  },
  {
   "cell_type": "code",
   "execution_count": 157,
   "metadata": {},
   "outputs": [
    {
     "data": {
      "text/plain": [
       "(3195, 10, 66)"
      ]
     },
     "execution_count": 157,
     "metadata": {},
     "output_type": "execute_result"
    }
   ],
   "source": [
    "x_2013.shape"
   ]
  },
  {
   "cell_type": "code",
   "execution_count": 158,
   "metadata": {},
   "outputs": [
    {
     "data": {
      "text/plain": [
       "(3195, 33)"
      ]
     },
     "execution_count": 158,
     "metadata": {},
     "output_type": "execute_result"
    }
   ],
   "source": [
    "y_2013.shape"
   ]
  },
  {
   "cell_type": "markdown",
   "metadata": {},
   "source": [
    "### Define training data and labels"
   ]
  },
  {
   "cell_type": "code",
   "execution_count": 159,
   "metadata": {},
   "outputs": [],
   "source": [
    "X_train = np.vstack((x_2013,x_2014,x_2015,x_2016,x_2017))"
   ]
  },
  {
   "cell_type": "code",
   "execution_count": 160,
   "metadata": {},
   "outputs": [
    {
     "data": {
      "text/plain": [
       "(17780, 10, 66)"
      ]
     },
     "execution_count": 160,
     "metadata": {},
     "output_type": "execute_result"
    }
   ],
   "source": [
    "X_train.shape"
   ]
  },
  {
   "cell_type": "code",
   "execution_count": 161,
   "metadata": {},
   "outputs": [
    {
     "data": {
      "text/plain": [
       "array([ 9.99436234e-01,  9.15303851e-01,  9.91224675e-01,  9.08891705e-01,\n",
       "        9.98863739e-01,  9.18810413e-01,  9.96956510e-01,  8.76972177e-01,\n",
       "        9.95457621e-01,  8.31938877e-01,  9.87687984e-01,  6.06153029e-01,\n",
       "        9.89568712e-01,  6.07305793e-01,  9.85158940e-01,  5.01263344e-01,\n",
       "        9.92496340e-01,  9.01146113e-01,  9.95635088e-01,  5.72972077e-01,\n",
       "        1.00000000e+00,  9.17925944e-01,  9.18107069e-01,  7.14825811e-01,\n",
       "        9.92336698e-01,  9.11029681e-01,  9.99657828e-01,  9.17426873e-01,\n",
       "        9.97853220e-01,  9.14120277e-01,  9.96179785e-01,  9.11089666e-01,\n",
       "        9.99112105e-01,  9.12414275e-01, -2.50498941e+00,  0.00000000e+00,\n",
       "        9.80896624e-01,  5.61337005e-01,  9.98148315e-01,  9.16780121e-01,\n",
       "        9.92735163e-01,  9.06018717e-01, -2.50498941e+00,  0.00000000e+00,\n",
       "        9.94361766e-01,  9.01584918e-01, -2.50498941e+00,  0.00000000e+00,\n",
       "        9.86148328e-01,  8.23116454e-01,  9.90605756e-01,  8.57104568e-01,\n",
       "        9.46353681e-01,  2.62119959e-01,  9.90879789e-01,  8.99967593e-01,\n",
       "        6.18757877e-01,  4.89586319e-01,  9.86641780e-01,  5.48198887e-01,\n",
       "        9.94653741e-01,  9.10540948e-01,  6.45817370e-04,  9.03384803e-01,\n",
       "        9.96661656e-01,  8.87492534e-01])"
      ]
     },
     "execution_count": 161,
     "metadata": {},
     "output_type": "execute_result"
    }
   ],
   "source": [
    "X_train[1000][9]"
   ]
  },
  {
   "cell_type": "code",
   "execution_count": 162,
   "metadata": {},
   "outputs": [],
   "source": [
    "Y_train = np.vstack((y_2013,y_2014,y_2015,y_2016, y_2017))"
   ]
  },
  {
   "cell_type": "code",
   "execution_count": 163,
   "metadata": {},
   "outputs": [
    {
     "data": {
      "text/plain": [
       "array([0., 0., 0., 0., 0., 0., 0., 0., 0., 0., 1., 0., 0., 0., 0., 0., 0.,\n",
       "       0., 0., 0., 0., 0., 0., 0., 0., 0., 0., 0., 0., 0., 0., 0., 0.])"
      ]
     },
     "execution_count": 163,
     "metadata": {},
     "output_type": "execute_result"
    }
   ],
   "source": [
    "Y_train[1000]"
   ]
  },
  {
   "cell_type": "code",
   "execution_count": 164,
   "metadata": {},
   "outputs": [
    {
     "data": {
      "text/plain": [
       "(17780, 33)"
      ]
     },
     "execution_count": 164,
     "metadata": {},
     "output_type": "execute_result"
    }
   ],
   "source": [
    "Y_train.shape"
   ]
  },
  {
   "cell_type": "code",
   "execution_count": 165,
   "metadata": {},
   "outputs": [],
   "source": [
    "Y_train = Y_train.astype(np.float)"
   ]
  },
  {
   "cell_type": "markdown",
   "metadata": {},
   "source": [
    "### Define validation data and labels"
   ]
  },
  {
   "cell_type": "code",
   "execution_count": 166,
   "metadata": {},
   "outputs": [],
   "source": [
    "X_val = x_2018\n",
    "Y_val = y_2018.astype(np.float)"
   ]
  },
  {
   "cell_type": "code",
   "execution_count": 167,
   "metadata": {},
   "outputs": [
    {
     "data": {
      "text/plain": [
       "array([[1., 0., 0., ..., 0., 0., 0.],\n",
       "       [1., 0., 0., ..., 0., 0., 0.],\n",
       "       [1., 0., 0., ..., 0., 0., 0.],\n",
       "       ...,\n",
       "       [0., 0., 1., ..., 0., 0., 0.],\n",
       "       [0., 0., 1., ..., 0., 0., 0.],\n",
       "       [0., 0., 1., ..., 0., 0., 0.]])"
      ]
     },
     "execution_count": 167,
     "metadata": {},
     "output_type": "execute_result"
    }
   ],
   "source": [
    "Y_val"
   ]
  },
  {
   "cell_type": "code",
   "execution_count": 168,
   "metadata": {},
   "outputs": [],
   "source": [
    "frame_size = 10\n",
    "n_features = 66\n",
    "n_out = 33"
   ]
  },
  {
   "cell_type": "code",
   "execution_count": 169,
   "metadata": {},
   "outputs": [],
   "source": [
    "import tensorflow as tf\n",
    "\n",
    "BUFFER_SIZE=200\n",
    "BATCH_SIZE=16\n",
    "\n",
    "train_data_single = tf.data.Dataset.from_tensor_slices((X_train, Y_train))\n",
    "train_data_single = train_data_single.cache().shuffle(BUFFER_SIZE).batch(BATCH_SIZE).repeat()\n",
    "\n",
    "val_data_single = tf.data.Dataset.from_tensor_slices((X_val, Y_val))\n",
    "val_data_single = val_data_single.batch(BATCH_SIZE).repeat()"
   ]
  },
  {
   "cell_type": "markdown",
   "metadata": {},
   "source": [
    "### Model creation"
   ]
  },
  {
   "cell_type": "code",
   "execution_count": 192,
   "metadata": {},
   "outputs": [],
   "source": [
    "from random import randint\n",
    "from numpy import array\n",
    "from numpy import argmax\n",
    "from numpy import array_equal\n",
    "from tensorflow.python.keras import Sequential\n",
    "from tensorflow.python.keras.layers import LSTM\n",
    "from tensorflow.python.keras.layers import Dense, Flatten, Dropout\n",
    "from tensorflow.python.keras.layers import TimeDistributed\n",
    "from tensorflow.python.keras.layers import RepeatVector\n",
    "#from attention_decoder import AttentionDecoder\n",
    "\n",
    "'''\n",
    "# define model\n",
    "\n",
    "model = Sequential()\n",
    "model.add(LSTM(150, input_shape=(frame_size, n_features), return_sequences=True))\n",
    "model.add(AttentionDecoder(150, n_out))\n",
    "model.compile(loss='categorical_crossentropy', optimizer='adam', metrics=['accuracy'])\n",
    "'''\n",
    "\n",
    "model = tf.keras.models.Sequential()\n",
    "model.add(LSTM(128, input_shape=X_train.shape[-2:], return_sequences=True))\n",
    "model.add(LSTM(64, return_sequences=True))\n",
    "model.add(Flatten())\n",
    "model.add(Dense(33, activation='softmax'))\n",
    "\n",
    "opt = tf.keras.optimizers.Adam(learning_rate=0.0001, beta_1=0.9, beta_2=0.999, amsgrad=False)\n",
    "model.compile(optimizer='adam', loss='mse', metrics=['accuracy'])\n"
   ]
  },
  {
   "cell_type": "code",
   "execution_count": 193,
   "metadata": {},
   "outputs": [
    {
     "name": "stdout",
     "output_type": "stream",
     "text": [
      "Model: \"sequential_13\"\n",
      "_________________________________________________________________\n",
      "Layer (type)                 Output Shape              Param #   \n",
      "=================================================================\n",
      "lstm_29 (LSTM)               (None, 10, 128)           99840     \n",
      "_________________________________________________________________\n",
      "lstm_30 (LSTM)               (None, 10, 64)            49408     \n",
      "_________________________________________________________________\n",
      "flatten_10 (Flatten)         (None, 640)               0         \n",
      "_________________________________________________________________\n",
      "dense_20 (Dense)             (None, 33)                21153     \n",
      "=================================================================\n",
      "Total params: 170,401\n",
      "Trainable params: 170,401\n",
      "Non-trainable params: 0\n",
      "_________________________________________________________________\n"
     ]
    }
   ],
   "source": [
    "model.summary()"
   ]
  },
  {
   "cell_type": "code",
   "execution_count": 194,
   "metadata": {},
   "outputs": [
    {
     "name": "stdout",
     "output_type": "stream",
     "text": [
      "(16, 33)\n"
     ]
    }
   ],
   "source": [
    "for x, y in val_data_single.take(1):\n",
    "    print(model.predict(x).shape)"
   ]
  },
  {
   "cell_type": "markdown",
   "metadata": {},
   "source": [
    "### Train the model"
   ]
  },
  {
   "cell_type": "code",
   "execution_count": 195,
   "metadata": {},
   "outputs": [
    {
     "name": "stdout",
     "output_type": "stream",
     "text": [
      "Train for 1111 steps, validate for 3588 steps\n",
      "Epoch 1/10\n",
      "1111/1111 [==============================] - 81s 73ms/step - loss: 0.0296 - accuracy: 0.4376 - val_loss: 0.0459 - val_accuracy: 0.0000e+00\n",
      "Epoch 2/10\n",
      "1111/1111 [==============================] - 71s 64ms/step - loss: 0.0216 - accuracy: 0.5276 - val_loss: 0.0329 - val_accuracy: 0.1023\n",
      "Epoch 3/10\n",
      "1111/1111 [==============================] - 79s 71ms/step - loss: 0.0179 - accuracy: 0.5341 - val_loss: 0.0294 - val_accuracy: 0.0814\n",
      "Epoch 4/10\n",
      "1111/1111 [==============================] - 77s 70ms/step - loss: 0.0174 - accuracy: 0.5806 - val_loss: 0.0371 - val_accuracy: 5.5917e-04\n",
      "Epoch 5/10\n",
      "1111/1111 [==============================] - 77s 69ms/step - loss: 0.0181 - accuracy: 0.5927 - val_loss: 0.0408 - val_accuracy: 0.0075\n",
      "Epoch 6/10\n",
      "1111/1111 [==============================] - 73s 65ms/step - loss: 0.0165 - accuracy: 0.6256 - val_loss: 0.0398 - val_accuracy: 5.5917e-04\n",
      "Epoch 7/10\n",
      "1111/1111 [==============================] - 73s 66ms/step - loss: 0.0157 - accuracy: 0.6238 - val_loss: 0.0444 - val_accuracy: 0.0677\n",
      "Epoch 8/10\n",
      "1111/1111 [==============================] - 79s 71ms/step - loss: 0.0141 - accuracy: 0.6623 - val_loss: 0.0448 - val_accuracy: 0.0760\n",
      "Epoch 9/10\n",
      "1111/1111 [==============================] - 80s 72ms/step - loss: 0.0136 - accuracy: 0.6796 - val_loss: 0.0397 - val_accuracy: 0.0847\n",
      "Epoch 10/10\n",
      "1111/1111 [==============================] - 78s 70ms/step - loss: 0.0132 - accuracy: 0.6839 - val_loss: 0.0332 - val_accuracy: 0.3148\n"
     ]
    }
   ],
   "source": [
    "single_step_history = model.fit(train_data_single, epochs=10,\n",
    "                                            steps_per_epoch=X_train.shape[0]//BATCH_SIZE,\n",
    "                                            validation_data=val_data_single,\n",
    "                                            validation_steps=X_val.shape[0])"
   ]
  },
  {
   "cell_type": "code",
   "execution_count": null,
   "metadata": {},
   "outputs": [],
   "source": []
  }
 ],
 "metadata": {
  "kernelspec": {
   "display_name": "Python 3",
   "language": "python",
   "name": "python3"
  },
  "language_info": {
   "codemirror_mode": {
    "name": "ipython",
    "version": 3
   },
   "file_extension": ".py",
   "mimetype": "text/x-python",
   "name": "python",
   "nbconvert_exporter": "python",
   "pygments_lexer": "ipython3",
   "version": "3.7.5"
  }
 },
 "nbformat": 4,
 "nbformat_minor": 2
}
