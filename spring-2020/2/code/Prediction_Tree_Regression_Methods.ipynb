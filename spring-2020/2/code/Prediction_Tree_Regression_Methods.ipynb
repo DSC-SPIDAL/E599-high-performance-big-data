{
  "nbformat": 4,
  "nbformat_minor": 0,
  "metadata": {
    "colab": {
      "name": "hpc_project.ipynb",
      "provenance": []
    },
    "kernelspec": {
      "name": "python3",
      "display_name": "Python 3"
    }
  },
  "cells": [
    {
      "cell_type": "code",
      "metadata": {
        "id": "k0cTHS62vwDH",
        "colab_type": "code",
        "colab": {}
      },
      "source": [
        "import sys\n",
        "\n",
        "\n",
        "import pandas as pd #collection of functions for data processing and analysis \n",
        "import matplotlib #collection of functions for scientific  visualization\n",
        "\n",
        "from collections import Counter\n",
        "import numpy as np #package for scientific computing\n",
        "\n",
        "import matplotlib.pyplot as plt\n",
        "\n",
        "from numpy import random\n",
        "\n",
        "#Classification Model Algorithms\n",
        "from sklearn.ensemble import RandomForestClassifier\n",
        "from sklearn import svm, tree, linear_model, neighbors, naive_bayes, ensemble, discriminant_analysis, gaussian_process\n",
        "from xgboost import XGBClassifier\n",
        "from sklearn.model_selection import GridSearchCV\n",
        "from sklearn.linear_model import LogisticRegression\n",
        "from sklearn.ensemble import AdaBoostClassifier,GradientBoostingClassifier\n",
        "from sklearn.svm import SVC\n",
        "from sklearn.metrics import roc_auc_score,confusion_matrix,classification_report\n",
        "#Common Model Preprocessing\n",
        "from sklearn.preprocessing import OneHotEncoder, LabelEncoder\n",
        "from sklearn import feature_selection\n",
        "from sklearn import model_selection\n",
        "from sklearn.model_selection import train_test_split\n",
        "from sklearn import metrics\n",
        "\n",
        "#Visualization\n",
        "import matplotlib as mpl\n",
        "import matplotlib.pyplot as plt\n",
        "import matplotlib.pylab as pylab\n",
        "import seaborn as sns"
      ],
      "execution_count": 0,
      "outputs": []
    },
    {
      "cell_type": "code",
      "metadata": {
        "id": "XB-L7Ppmv5l3",
        "colab_type": "code",
        "colab": {}
      },
      "source": [
        "df = pd.read_csv('consolidated_data1.csv')"
      ],
      "execution_count": 0,
      "outputs": []
    },
    {
      "cell_type": "code",
      "metadata": {
        "id": "XJPXt0tauUHs",
        "colab_type": "code",
        "outputId": "50ce6550-6e16-455b-96d8-e437a6cf21b8",
        "colab": {
          "base_uri": "https://localhost:8080/",
          "height": 234
        }
      },
      "source": [
        "df.head()"
      ],
      "execution_count": 0,
      "outputs": [
        {
          "output_type": "execute_result",
          "data": {
            "text/html": [
              "<div>\n",
              "<style scoped>\n",
              "    .dataframe tbody tr th:only-of-type {\n",
              "        vertical-align: middle;\n",
              "    }\n",
              "\n",
              "    .dataframe tbody tr th {\n",
              "        vertical-align: top;\n",
              "    }\n",
              "\n",
              "    .dataframe thead th {\n",
              "        text-align: right;\n",
              "    }\n",
              "</style>\n",
              "<table border=\"1\" class=\"dataframe\">\n",
              "  <thead>\n",
              "    <tr style=\"text-align: right;\">\n",
              "      <th></th>\n",
              "      <th>Year</th>\n",
              "      <th>time stamp</th>\n",
              "      <th>car1_0</th>\n",
              "      <th>car1_1</th>\n",
              "      <th>car2_0</th>\n",
              "      <th>car2_1</th>\n",
              "      <th>car3_0</th>\n",
              "      <th>car3_1</th>\n",
              "      <th>car4_0</th>\n",
              "      <th>car4_1</th>\n",
              "      <th>car5_0</th>\n",
              "      <th>car5_1</th>\n",
              "      <th>car6_0</th>\n",
              "      <th>car6_1</th>\n",
              "      <th>car7_0</th>\n",
              "      <th>car7_1</th>\n",
              "      <th>car8_0</th>\n",
              "      <th>car8_1</th>\n",
              "      <th>car9_0</th>\n",
              "      <th>car9_1</th>\n",
              "      <th>car10_0</th>\n",
              "      <th>car10_1</th>\n",
              "      <th>car11_0</th>\n",
              "      <th>car11_1</th>\n",
              "      <th>car12_0</th>\n",
              "      <th>car12_1</th>\n",
              "      <th>car13_0</th>\n",
              "      <th>car13_1</th>\n",
              "      <th>car14_0</th>\n",
              "      <th>car14_1</th>\n",
              "      <th>car15_0</th>\n",
              "      <th>car15_1</th>\n",
              "      <th>car16_0</th>\n",
              "      <th>car16_1</th>\n",
              "      <th>car17_0</th>\n",
              "      <th>car17_1</th>\n",
              "      <th>car18_0</th>\n",
              "      <th>car18_1</th>\n",
              "      <th>car19_0</th>\n",
              "      <th>car19_1</th>\n",
              "      <th>car20_0</th>\n",
              "      <th>car20_1</th>\n",
              "      <th>car21_0</th>\n",
              "      <th>car21_1</th>\n",
              "      <th>car22_0</th>\n",
              "      <th>car22_1</th>\n",
              "      <th>car23_0</th>\n",
              "      <th>car23_1</th>\n",
              "      <th>car24_0</th>\n",
              "      <th>car24_1</th>\n",
              "      <th>car25_0</th>\n",
              "      <th>car25_1</th>\n",
              "      <th>car26_0</th>\n",
              "      <th>car26_1</th>\n",
              "      <th>car27_0</th>\n",
              "      <th>car27_1</th>\n",
              "      <th>car28_0</th>\n",
              "      <th>car28_1</th>\n",
              "      <th>car29_0</th>\n",
              "      <th>car29_1</th>\n",
              "      <th>car30_0</th>\n",
              "      <th>car30_1</th>\n",
              "      <th>car31_0</th>\n",
              "      <th>car31_1</th>\n",
              "      <th>car32_0</th>\n",
              "      <th>car32_1</th>\n",
              "      <th>car33_0</th>\n",
              "      <th>car33_1</th>\n",
              "      <th>output</th>\n",
              "    </tr>\n",
              "  </thead>\n",
              "  <tbody>\n",
              "    <tr>\n",
              "      <th>0</th>\n",
              "      <td>2013</td>\n",
              "      <td>0</td>\n",
              "      <td>0.000000</td>\n",
              "      <td>0.0</td>\n",
              "      <td>0.000000</td>\n",
              "      <td>0.0</td>\n",
              "      <td>0.000000</td>\n",
              "      <td>0.0</td>\n",
              "      <td>0.000000</td>\n",
              "      <td>0.0</td>\n",
              "      <td>0.000000</td>\n",
              "      <td>0.0</td>\n",
              "      <td>0.000000</td>\n",
              "      <td>0.0</td>\n",
              "      <td>0.000000</td>\n",
              "      <td>0.0</td>\n",
              "      <td>0.000000</td>\n",
              "      <td>0.0</td>\n",
              "      <td>0.000000</td>\n",
              "      <td>0.0</td>\n",
              "      <td>0.000000</td>\n",
              "      <td>0.0</td>\n",
              "      <td>0.000000</td>\n",
              "      <td>0.0</td>\n",
              "      <td>0.000000</td>\n",
              "      <td>0.0</td>\n",
              "      <td>0.000000</td>\n",
              "      <td>0.0</td>\n",
              "      <td>0.000000</td>\n",
              "      <td>0.0</td>\n",
              "      <td>0.000000</td>\n",
              "      <td>0.0</td>\n",
              "      <td>0.000000</td>\n",
              "      <td>0.0</td>\n",
              "      <td>0.000000</td>\n",
              "      <td>0.0</td>\n",
              "      <td>0.000000</td>\n",
              "      <td>0.0</td>\n",
              "      <td>0.000000</td>\n",
              "      <td>0.0</td>\n",
              "      <td>0.000000</td>\n",
              "      <td>0.0</td>\n",
              "      <td>0.000000</td>\n",
              "      <td>0.0</td>\n",
              "      <td>0.000000</td>\n",
              "      <td>0.0</td>\n",
              "      <td>0.000000</td>\n",
              "      <td>0.0</td>\n",
              "      <td>0.000000</td>\n",
              "      <td>0.0</td>\n",
              "      <td>0.000000</td>\n",
              "      <td>0.0</td>\n",
              "      <td>0.000000</td>\n",
              "      <td>0.0</td>\n",
              "      <td>0.000000</td>\n",
              "      <td>0.0</td>\n",
              "      <td>0.000000</td>\n",
              "      <td>0.0</td>\n",
              "      <td>0.000000</td>\n",
              "      <td>0.0</td>\n",
              "      <td>0.000000</td>\n",
              "      <td>0.0</td>\n",
              "      <td>0.000000</td>\n",
              "      <td>0.0</td>\n",
              "      <td>0.000000</td>\n",
              "      <td>0.0</td>\n",
              "      <td>0.000000</td>\n",
              "      <td>0.0</td>\n",
              "      <td>1</td>\n",
              "    </tr>\n",
              "    <tr>\n",
              "      <th>1</th>\n",
              "      <td>2013</td>\n",
              "      <td>1</td>\n",
              "      <td>0.000000</td>\n",
              "      <td>1.0</td>\n",
              "      <td>0.000000</td>\n",
              "      <td>1.0</td>\n",
              "      <td>0.000000</td>\n",
              "      <td>1.0</td>\n",
              "      <td>1.006015</td>\n",
              "      <td>1.0</td>\n",
              "      <td>0.000000</td>\n",
              "      <td>1.0</td>\n",
              "      <td>0.000000</td>\n",
              "      <td>1.0</td>\n",
              "      <td>0.000000</td>\n",
              "      <td>1.0</td>\n",
              "      <td>0.000000</td>\n",
              "      <td>1.0</td>\n",
              "      <td>0.000000</td>\n",
              "      <td>1.0</td>\n",
              "      <td>1.009589</td>\n",
              "      <td>1.0</td>\n",
              "      <td>1.023523</td>\n",
              "      <td>1.0</td>\n",
              "      <td>0.000000</td>\n",
              "      <td>1.0</td>\n",
              "      <td>0.000000</td>\n",
              "      <td>1.0</td>\n",
              "      <td>1.019271</td>\n",
              "      <td>1.0</td>\n",
              "      <td>1.021007</td>\n",
              "      <td>1.0</td>\n",
              "      <td>0.000000</td>\n",
              "      <td>1.0</td>\n",
              "      <td>1.003058</td>\n",
              "      <td>1.0</td>\n",
              "      <td>0.000000</td>\n",
              "      <td>1.0</td>\n",
              "      <td>0.000000</td>\n",
              "      <td>1.0</td>\n",
              "      <td>1.011887</td>\n",
              "      <td>1.0</td>\n",
              "      <td>0.000000</td>\n",
              "      <td>1.0</td>\n",
              "      <td>0.000000</td>\n",
              "      <td>1.0</td>\n",
              "      <td>0.000000</td>\n",
              "      <td>1.0</td>\n",
              "      <td>0.000000</td>\n",
              "      <td>1.0</td>\n",
              "      <td>0.000000</td>\n",
              "      <td>1.0</td>\n",
              "      <td>0.000000</td>\n",
              "      <td>1.0</td>\n",
              "      <td>0.000000</td>\n",
              "      <td>1.0</td>\n",
              "      <td>0.000000</td>\n",
              "      <td>1.0</td>\n",
              "      <td>0.000000</td>\n",
              "      <td>1.0</td>\n",
              "      <td>0.000000</td>\n",
              "      <td>1.0</td>\n",
              "      <td>0.000000</td>\n",
              "      <td>1.0</td>\n",
              "      <td>0.000000</td>\n",
              "      <td>1.0</td>\n",
              "      <td>0.000000</td>\n",
              "      <td>1.0</td>\n",
              "      <td>11</td>\n",
              "    </tr>\n",
              "    <tr>\n",
              "      <th>2</th>\n",
              "      <td>2013</td>\n",
              "      <td>2</td>\n",
              "      <td>1.021548</td>\n",
              "      <td>2.0</td>\n",
              "      <td>0.000000</td>\n",
              "      <td>2.0</td>\n",
              "      <td>1.017281</td>\n",
              "      <td>2.0</td>\n",
              "      <td>1.029052</td>\n",
              "      <td>2.0</td>\n",
              "      <td>0.000000</td>\n",
              "      <td>2.0</td>\n",
              "      <td>0.000000</td>\n",
              "      <td>2.0</td>\n",
              "      <td>0.000000</td>\n",
              "      <td>2.0</td>\n",
              "      <td>0.000000</td>\n",
              "      <td>2.0</td>\n",
              "      <td>1.008707</td>\n",
              "      <td>2.0</td>\n",
              "      <td>1.031607</td>\n",
              "      <td>2.0</td>\n",
              "      <td>1.047045</td>\n",
              "      <td>2.0</td>\n",
              "      <td>0.000000</td>\n",
              "      <td>2.0</td>\n",
              "      <td>1.008556</td>\n",
              "      <td>2.0</td>\n",
              "      <td>1.042455</td>\n",
              "      <td>2.0</td>\n",
              "      <td>1.044002</td>\n",
              "      <td>2.0</td>\n",
              "      <td>1.018054</td>\n",
              "      <td>2.0</td>\n",
              "      <td>1.026048</td>\n",
              "      <td>2.0</td>\n",
              "      <td>0.000000</td>\n",
              "      <td>2.0</td>\n",
              "      <td>0.000000</td>\n",
              "      <td>2.0</td>\n",
              "      <td>1.035059</td>\n",
              "      <td>2.0</td>\n",
              "      <td>0.000000</td>\n",
              "      <td>2.0</td>\n",
              "      <td>0.000000</td>\n",
              "      <td>2.0</td>\n",
              "      <td>0.000000</td>\n",
              "      <td>2.0</td>\n",
              "      <td>0.000000</td>\n",
              "      <td>2.0</td>\n",
              "      <td>1.006468</td>\n",
              "      <td>2.0</td>\n",
              "      <td>0.000000</td>\n",
              "      <td>2.0</td>\n",
              "      <td>0.000000</td>\n",
              "      <td>2.0</td>\n",
              "      <td>0.000000</td>\n",
              "      <td>2.0</td>\n",
              "      <td>0.000000</td>\n",
              "      <td>2.0</td>\n",
              "      <td>0.000000</td>\n",
              "      <td>2.0</td>\n",
              "      <td>0.000000</td>\n",
              "      <td>2.0</td>\n",
              "      <td>0.000000</td>\n",
              "      <td>2.0</td>\n",
              "      <td>1.018563</td>\n",
              "      <td>2.0</td>\n",
              "      <td>11</td>\n",
              "    </tr>\n",
              "    <tr>\n",
              "      <th>3</th>\n",
              "      <td>2013</td>\n",
              "      <td>3</td>\n",
              "      <td>1.044093</td>\n",
              "      <td>3.0</td>\n",
              "      <td>1.010881</td>\n",
              "      <td>3.0</td>\n",
              "      <td>1.040279</td>\n",
              "      <td>3.0</td>\n",
              "      <td>1.052090</td>\n",
              "      <td>3.0</td>\n",
              "      <td>1.005662</td>\n",
              "      <td>3.0</td>\n",
              "      <td>0.000000</td>\n",
              "      <td>3.0</td>\n",
              "      <td>1.004944</td>\n",
              "      <td>3.0</td>\n",
              "      <td>0.000000</td>\n",
              "      <td>3.0</td>\n",
              "      <td>1.031517</td>\n",
              "      <td>3.0</td>\n",
              "      <td>1.053625</td>\n",
              "      <td>3.0</td>\n",
              "      <td>1.070568</td>\n",
              "      <td>3.0</td>\n",
              "      <td>0.000000</td>\n",
              "      <td>3.0</td>\n",
              "      <td>1.031048</td>\n",
              "      <td>3.0</td>\n",
              "      <td>1.065640</td>\n",
              "      <td>3.0</td>\n",
              "      <td>1.066998</td>\n",
              "      <td>3.0</td>\n",
              "      <td>1.040686</td>\n",
              "      <td>3.0</td>\n",
              "      <td>1.049039</td>\n",
              "      <td>3.0</td>\n",
              "      <td>1.020186</td>\n",
              "      <td>3.0</td>\n",
              "      <td>0.000000</td>\n",
              "      <td>3.0</td>\n",
              "      <td>1.058231</td>\n",
              "      <td>3.0</td>\n",
              "      <td>0.000000</td>\n",
              "      <td>3.0</td>\n",
              "      <td>0.000000</td>\n",
              "      <td>3.0</td>\n",
              "      <td>1.001834</td>\n",
              "      <td>3.0</td>\n",
              "      <td>0.000000</td>\n",
              "      <td>3.0</td>\n",
              "      <td>1.028432</td>\n",
              "      <td>3.0</td>\n",
              "      <td>1.009128</td>\n",
              "      <td>3.0</td>\n",
              "      <td>1.002001</td>\n",
              "      <td>3.0</td>\n",
              "      <td>1.004125</td>\n",
              "      <td>3.0</td>\n",
              "      <td>0.000000</td>\n",
              "      <td>3.0</td>\n",
              "      <td>0.000000</td>\n",
              "      <td>3.0</td>\n",
              "      <td>1.011268</td>\n",
              "      <td>3.0</td>\n",
              "      <td>0.000000</td>\n",
              "      <td>3.0</td>\n",
              "      <td>1.041447</td>\n",
              "      <td>3.0</td>\n",
              "      <td>11</td>\n",
              "    </tr>\n",
              "    <tr>\n",
              "      <th>4</th>\n",
              "      <td>2013</td>\n",
              "      <td>4</td>\n",
              "      <td>1.066638</td>\n",
              "      <td>4.0</td>\n",
              "      <td>1.033982</td>\n",
              "      <td>4.0</td>\n",
              "      <td>1.063278</td>\n",
              "      <td>4.0</td>\n",
              "      <td>1.075127</td>\n",
              "      <td>4.0</td>\n",
              "      <td>1.028592</td>\n",
              "      <td>4.0</td>\n",
              "      <td>1.019825</td>\n",
              "      <td>4.0</td>\n",
              "      <td>1.027075</td>\n",
              "      <td>4.0</td>\n",
              "      <td>1.015341</td>\n",
              "      <td>4.0</td>\n",
              "      <td>1.054326</td>\n",
              "      <td>4.0</td>\n",
              "      <td>1.075643</td>\n",
              "      <td>4.0</td>\n",
              "      <td>1.094090</td>\n",
              "      <td>4.0</td>\n",
              "      <td>1.022134</td>\n",
              "      <td>4.0</td>\n",
              "      <td>1.053539</td>\n",
              "      <td>4.0</td>\n",
              "      <td>1.088824</td>\n",
              "      <td>4.0</td>\n",
              "      <td>1.089993</td>\n",
              "      <td>4.0</td>\n",
              "      <td>1.063319</td>\n",
              "      <td>4.0</td>\n",
              "      <td>1.072029</td>\n",
              "      <td>4.0</td>\n",
              "      <td>1.042615</td>\n",
              "      <td>4.0</td>\n",
              "      <td>1.008469</td>\n",
              "      <td>4.0</td>\n",
              "      <td>1.081403</td>\n",
              "      <td>4.0</td>\n",
              "      <td>1.019621</td>\n",
              "      <td>4.0</td>\n",
              "      <td>1.021006</td>\n",
              "      <td>4.0</td>\n",
              "      <td>1.024537</td>\n",
              "      <td>4.0</td>\n",
              "      <td>1.011083</td>\n",
              "      <td>4.0</td>\n",
              "      <td>1.050396</td>\n",
              "      <td>4.0</td>\n",
              "      <td>1.031305</td>\n",
              "      <td>4.0</td>\n",
              "      <td>1.024331</td>\n",
              "      <td>4.0</td>\n",
              "      <td>1.026954</td>\n",
              "      <td>4.0</td>\n",
              "      <td>1.018794</td>\n",
              "      <td>4.0</td>\n",
              "      <td>1.020992</td>\n",
              "      <td>4.0</td>\n",
              "      <td>1.034180</td>\n",
              "      <td>4.0</td>\n",
              "      <td>1.015575</td>\n",
              "      <td>4.0</td>\n",
              "      <td>1.064330</td>\n",
              "      <td>4.0</td>\n",
              "      <td>11</td>\n",
              "    </tr>\n",
              "  </tbody>\n",
              "</table>\n",
              "</div>"
            ],
            "text/plain": [
              "   Year  time stamp    car1_0  car1_1  ...  car32_1   car33_0  car33_1  output\n",
              "0  2013           0  0.000000     0.0  ...      0.0  0.000000      0.0       1\n",
              "1  2013           1  0.000000     1.0  ...      1.0  0.000000      1.0      11\n",
              "2  2013           2  1.021548     2.0  ...      2.0  1.018563      2.0      11\n",
              "3  2013           3  1.044093     3.0  ...      3.0  1.041447      3.0      11\n",
              "4  2013           4  1.066638     4.0  ...      4.0  1.064330      4.0      11\n",
              "\n",
              "[5 rows x 69 columns]"
            ]
          },
          "metadata": {
            "tags": []
          },
          "execution_count": 38
        }
      ]
    },
    {
      "cell_type": "code",
      "metadata": {
        "id": "PGFqMO7qyi7L",
        "colab_type": "code",
        "outputId": "115128af-099f-4f6b-9496-981ded3c4f14",
        "colab": {
          "base_uri": "https://localhost:8080/",
          "height": 34
        }
      },
      "source": [
        "df.shape"
      ],
      "execution_count": 0,
      "outputs": [
        {
          "output_type": "execute_result",
          "data": {
            "text/plain": [
              "(75538, 69)"
            ]
          },
          "metadata": {
            "tags": []
          },
          "execution_count": 39
        }
      ]
    },
    {
      "cell_type": "code",
      "metadata": {
        "id": "ImHZ_iOIyrOq",
        "colab_type": "code",
        "outputId": "ee76fefb-9002-4388-917b-5d87a8475b55",
        "colab": {
          "base_uri": "https://localhost:8080/",
          "height": 221
        }
      },
      "source": [
        "df.columns=['Year', 'time_stamp', 'car1_0', 'car1_1', 'car2_0', 'car2_1', 'car3_0',\n",
        "       'car3_1', 'car4_0', 'car4_1', 'car5_0', 'car5_1', 'car6_0', 'car6_1',\n",
        "       'car7_0', 'car7_1', 'car8_0', 'car8_1', 'car9_0', 'car9_1', 'car10_0',\n",
        "       'car10_1', 'car11_0', 'car11_1', 'car12_0', 'car12_1', 'car13_0',\n",
        "       'car13_1', 'car14_0', 'car14_1', 'car15_0', 'car15_1', 'car16_0',\n",
        "       'car16_1', 'car17_0', 'car17_1', 'car18_0', 'car18_1', 'car19_0',\n",
        "       'car19_1', 'car20_0', 'car20_1', 'car21_0', 'car21_1', 'car22_0',\n",
        "       'car22_1', 'car23_0', 'car23_1', 'car24_0', 'car24_1', 'car25_0',\n",
        "       'car25_1', 'car26_0', 'car26_1', 'car27_0', 'car27_1', 'car28_0',\n",
        "       'car28_1', 'car29_0', 'car29_1', 'car30_0', 'car30_1', 'car31_0',\n",
        "       'car31_1', 'car32_0', 'car32_1', 'car33_0', 'car33_1', 'output']\n",
        "df.columns"
      ],
      "execution_count": 0,
      "outputs": [
        {
          "output_type": "execute_result",
          "data": {
            "text/plain": [
              "Index(['Year', 'time_stamp', 'car1_0', 'car1_1', 'car2_0', 'car2_1', 'car3_0',\n",
              "       'car3_1', 'car4_0', 'car4_1', 'car5_0', 'car5_1', 'car6_0', 'car6_1',\n",
              "       'car7_0', 'car7_1', 'car8_0', 'car8_1', 'car9_0', 'car9_1', 'car10_0',\n",
              "       'car10_1', 'car11_0', 'car11_1', 'car12_0', 'car12_1', 'car13_0',\n",
              "       'car13_1', 'car14_0', 'car14_1', 'car15_0', 'car15_1', 'car16_0',\n",
              "       'car16_1', 'car17_0', 'car17_1', 'car18_0', 'car18_1', 'car19_0',\n",
              "       'car19_1', 'car20_0', 'car20_1', 'car21_0', 'car21_1', 'car22_0',\n",
              "       'car22_1', 'car23_0', 'car23_1', 'car24_0', 'car24_1', 'car25_0',\n",
              "       'car25_1', 'car26_0', 'car26_1', 'car27_0', 'car27_1', 'car28_0',\n",
              "       'car28_1', 'car29_0', 'car29_1', 'car30_0', 'car30_1', 'car31_0',\n",
              "       'car31_1', 'car32_0', 'car32_1', 'car33_0', 'car33_1', 'output'],\n",
              "      dtype='object')"
            ]
          },
          "metadata": {
            "tags": []
          },
          "execution_count": 40
        }
      ]
    },
    {
      "cell_type": "code",
      "metadata": {
        "id": "7pqeuESezZX-",
        "colab_type": "code",
        "outputId": "465fc8a5-69f7-438f-9cf0-f55006ad5617",
        "colab": {
          "base_uri": "https://localhost:8080/",
          "height": 34
        }
      },
      "source": [
        "df['time_stamp'].max()*2/3"
      ],
      "execution_count": 0,
      "outputs": [
        {
          "output_type": "execute_result",
          "data": {
            "text/plain": [
              "7722.0"
            ]
          },
          "metadata": {
            "tags": []
          },
          "execution_count": 41
        }
      ]
    },
    {
      "cell_type": "code",
      "metadata": {
        "id": "_FvDvayCzrJn",
        "colab_type": "code",
        "colab": {}
      },
      "source": [
        "\n",
        "\n",
        "lag_considered=list(range(10,201,10))\n",
        "col_for_lag=['car1_0','car2_0','car3_0','car4_0','car5_0','car6_0','car7_0','car8_0','car9_0','car10_0','car11_0','car12_0','car13_0','car14_0','car15_0','car16_0','car17_0','car18_0','car19_0','car20_0','car21_0','car22_0','car23_0','car24_0','car25_0','car26_0','car27_0','car28_0','car29_0','car30_0','car31_0','car32_0','car33_0',]\n",
        "for j in lag_considered:\n",
        "  for i in range(len(col_for_lag)):\n",
        "    new_col='car'+str(i+1)+'_'+str(j)\n",
        "    df[new_col]=df.groupby(['Year'])[col_for_lag[i]].shift(j,axis=0)\n",
        "\n"
      ],
      "execution_count": 0,
      "outputs": []
    },
    {
      "cell_type": "code",
      "metadata": {
        "id": "e1UPkO2Z9wFe",
        "colab_type": "code",
        "colab": {}
      },
      "source": [
        "df=df.dropna()"
      ],
      "execution_count": 0,
      "outputs": []
    },
    {
      "cell_type": "code",
      "metadata": {
        "id": "N-U4oZLr74WD",
        "colab_type": "code",
        "outputId": "61eedc14-4a39-44db-ea94-312b11e5ff76",
        "colab": {
          "base_uri": "https://localhost:8080/",
          "height": 34
        }
      },
      "source": [
        "df.shape"
      ],
      "execution_count": 0,
      "outputs": [
        {
          "output_type": "execute_result",
          "data": {
            "text/plain": [
              "(74138, 729)"
            ]
          },
          "metadata": {
            "tags": []
          },
          "execution_count": 44
        }
      ]
    },
    {
      "cell_type": "code",
      "metadata": {
        "id": "PsBeaPfi-icJ",
        "colab_type": "code",
        "outputId": "cec85656-1186-4279-e53d-47f95ca0d20e",
        "colab": {
          "base_uri": "https://localhost:8080/",
          "height": 529
        }
      },
      "source": [
        "df['output'].value_counts()"
      ],
      "execution_count": 0,
      "outputs": [
        {
          "output_type": "execute_result",
          "data": {
            "text/plain": [
              "33    10092\n",
              "10     9513\n",
              "3      7506\n",
              "1      7348\n",
              "17     6316\n",
              "15     5607\n",
              "11     3721\n",
              "14     2460\n",
              "18     2433\n",
              "5      2147\n",
              "19     2120\n",
              "7      2104\n",
              "4      2011\n",
              "9      1987\n",
              "16     1251\n",
              "26     1214\n",
              "24     1050\n",
              "20      813\n",
              "32      752\n",
              "13      594\n",
              "2       536\n",
              "30      516\n",
              "6       445\n",
              "31      422\n",
              "25      367\n",
              "8       337\n",
              "21      261\n",
              "23      134\n",
              "27       81\n",
              "Name: output, dtype: int64"
            ]
          },
          "metadata": {
            "tags": []
          },
          "execution_count": 45
        }
      ]
    },
    {
      "cell_type": "code",
      "metadata": {
        "id": "6r4EFFSnziuo",
        "colab_type": "code",
        "outputId": "77f99f33-ea06-49b1-9f2f-fb1323b9cd2c",
        "colab": {
          "base_uri": "https://localhost:8080/",
          "height": 119
        }
      },
      "source": [
        "list(X_test.columns)"
      ],
      "execution_count": 0,
      "outputs": [
        {
          "output_type": "execute_result",
          "data": {
            "text/plain": [
              "Index(['Year', 'car1_0', 'car1_1', 'car2_0', 'car2_1', 'car3_0', 'car3_1',\n",
              "       'car4_0', 'car4_1', 'car5_0',\n",
              "       ...\n",
              "       'car24_200', 'car25_200', 'car26_200', 'car27_200', 'car28_200',\n",
              "       'car29_200', 'car30_200', 'car31_200', 'car32_200', 'car33_200'],\n",
              "      dtype='object', length=727)"
            ]
          },
          "metadata": {
            "tags": []
          },
          "execution_count": 50
        }
      ]
    },
    {
      "cell_type": "code",
      "metadata": {
        "id": "E8Yyh8FM_0ZN",
        "colab_type": "code",
        "colab": {}
      },
      "source": [
        "train=df[df['time_stamp']<=7437]\n",
        "test=df[df['time_stamp']>7437]\n",
        "\n",
        "X_train = train.drop(['output','time_stamp'], axis=1)\n",
        "y_train = train['output']\n",
        "X_test = test.drop(['output','time_stamp'], axis=1)\n",
        "y_test = test['output']"
      ],
      "execution_count": 0,
      "outputs": []
    },
    {
      "cell_type": "code",
      "metadata": {
        "id": "Jfj1Hc4TzzjH",
        "colab_type": "code",
        "colab": {}
      },
      "source": [
        "from sklearn import preprocessing\n",
        "x = X_train.values\n",
        "min_max_scaler = preprocessing.MinMaxScaler()\n",
        "x_scaled = min_max_scaler.fit_transform(x)\n",
        "df_temp = pd.DataFrame(x_scaled, index = X_train.index)\n",
        "X_train= df_temp"
      ],
      "execution_count": 0,
      "outputs": []
    },
    {
      "cell_type": "code",
      "metadata": {
        "id": "OEeR9iit1BLB",
        "colab_type": "code",
        "colab": {}
      },
      "source": [
        "\n",
        "x = X_test.values\n",
        "min_max_scaler = preprocessing.MinMaxScaler()\n",
        "x_scaled = min_max_scaler.fit_transform(x)\n",
        "df_temp = pd.DataFrame(x_scaled, index = X_test.index)\n",
        "X_test= df_temp"
      ],
      "execution_count": 0,
      "outputs": []
    },
    {
      "cell_type": "code",
      "metadata": {
        "id": "UOzGA3a2Bbkm",
        "colab_type": "code",
        "outputId": "997f6ace-5b68-484f-b3af-10604abd630f",
        "colab": {
          "base_uri": "https://localhost:8080/",
          "height": 51
        }
      },
      "source": [
        "rfc=RandomForestClassifier(random_state=42)\n",
        "param_grid = { \n",
        "    'n_estimators': [50],\n",
        "    'max_features': ['auto'],\n",
        "    'max_depth' : [10],\n",
        "    'criterion' :['entropy']\n",
        "}\n",
        "\n",
        "CV_rfc = GridSearchCV(estimator=rfc, param_grid=param_grid, cv= 5)\n",
        "CV_rfc.fit(X_train, y_train)\n",
        "print(\"tuned hpyerparameters :(best parameters) \",CV_rfc.best_params_)\n",
        "print(\"accuracy :\",CV_rfc.best_score_)"
      ],
      "execution_count": 0,
      "outputs": [
        {
          "output_type": "stream",
          "text": [
            "tuned hpyerparameters :(best parameters)  {'criterion': 'entropy', 'max_depth': 10, 'max_features': 'auto', 'n_estimators': 50}\n",
            "accuracy : 0.41614354248700874\n"
          ],
          "name": "stdout"
        }
      ]
    },
    {
      "cell_type": "code",
      "metadata": {
        "id": "neXNgXIp7aiw",
        "colab_type": "code",
        "outputId": "78986ca3-e311-4279-b776-b10ff1c77b67",
        "colab": {
          "base_uri": "https://localhost:8080/",
          "height": 51
        }
      },
      "source": [
        "rfc=RandomForestClassifier(random_state=42)\n",
        "param_grid = { \n",
        "    'n_estimators': [100],\n",
        "    'max_features': ['auto'],\n",
        "    'max_depth' : [10],\n",
        "    'criterion' :['entropy']\n",
        "}\n",
        "\n",
        "CV_rfc = GridSearchCV(estimator=rfc, param_grid=param_grid, cv= 5)\n",
        "CV_rfc.fit(X_train, y_train)\n",
        "print(\"tuned hpyerparameters :(best parameters) \",CV_rfc.best_params_)\n",
        "print(\"accuracy :\",CV_rfc.best_score_)"
      ],
      "execution_count": 0,
      "outputs": [
        {
          "output_type": "stream",
          "text": [
            "tuned hpyerparameters :(best parameters)  {'criterion': 'entropy', 'max_depth': 10, 'max_features': 'auto', 'n_estimators': 100}\n",
            "accuracy : 0.41719321779611296\n"
          ],
          "name": "stdout"
        }
      ]
    },
    {
      "cell_type": "code",
      "metadata": {
        "id": "wG0Ow9kB-eI0",
        "colab_type": "code",
        "colab": {
          "base_uri": "https://localhost:8080/",
          "height": 34
        },
        "outputId": "55ca672c-a0d1-4c80-a9b5-ba7a1981de17"
      },
      "source": [
        "param_grid = {'learning_rate':[0.05,0.01], 'n_estimators':[100,50],'max_depth':[4,8]}\n",
        "gbm=GradientBoostingClassifier(min_samples_split=2, min_samples_leaf=1, subsample=1,max_features='sqrt', random_state=10)\n",
        "CV_gbm=GridSearchCV(estimator=gbm, param_grid=param_grid, cv= 5)\n",
        "CV_gbm.fit(X_train,y_train)\n",
        "print(\"tuned hpyerparameters :(best parameters) \",CV_gbm.best_params_)\n",
        "print(\"accuracy :\",CV_gbm.best_score_)"
      ],
      "execution_count": 3,
      "outputs": [
        {
          "output_type": "stream",
          "text": [
            "accuracy : 0.432785945793285\n"
          ],
          "name": "stdout"
        }
      ]
    }
  ]
}