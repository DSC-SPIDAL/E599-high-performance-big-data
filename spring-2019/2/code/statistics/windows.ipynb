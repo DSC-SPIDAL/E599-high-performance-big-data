{
 "cells": [
  {
   "cell_type": "code",
   "execution_count": 120,
   "metadata": {},
   "outputs": [],
   "source": [
    "import numpy as np"
   ]
  },
  {
   "cell_type": "code",
   "execution_count": 121,
   "metadata": {},
   "outputs": [],
   "source": [
    "cars = ['1', '3', '4', '6', '7', '12', '14', '15', '17', '18', \n",
    "        '19', '20', '21', '22', '23', '24', '25', '26', '27', \n",
    "        '28', '29', '59', '60', '64', '66', '88', '98']\n",
    "detectors = ['numenta', 'random', 'bayes', 'expose']\n",
    "det_names = ['Numenta HTM', 'Random Cut Forest', 'Bayesian Changepoint', 'EXPoSE']\n",
    "thresholds = ['0.36', '0.997', '0.39', '0.992']"
   ]
  },
  {
   "cell_type": "code",
   "execution_count": 122,
   "metadata": {},
   "outputs": [],
   "source": [
    "tol = 5000\n",
    "\n",
    "all_accs = []\n",
    "all_negs = []\n",
    "for car in cars:\n",
    "    labels = np.loadtxt('labels/indy2018-' + car + '-labels.txt')\n",
    "    events = np.array(list(set(labels.flatten())))\n",
    "    \n",
    "    accs = []\n",
    "    negs = []\n",
    "    for i in range(len(detectors)):\n",
    "        total = np.loadtxt('results/' + detectors[i] + \n",
    "                           '/anomaly_' + thresholds[i] + \n",
    "                           '_indy2018-' + car + '-vspeed.csv')\n",
    "        maskt = total[:, 2] == 1\n",
    "        anomaly = total[maskt]\n",
    "        speeds = anomaly[:, 0]\n",
    "        mask1 = speeds >= labels[0, 0] - tol\n",
    "        mask2 = speeds <= labels[-1, 1] + tol\n",
    "        masks = mask1 & mask2\n",
    "        middle = speeds[masks]\n",
    "        \n",
    "        k = 0\n",
    "        matches = [0] * labels.shape[0]\n",
    "        for j in range(middle.shape[0]):\n",
    "            if middle[j] < labels[k, 0] - tol:\n",
    "                continue\n",
    "            elif middle[j] >= labels[k, 0] - tol and \\\n",
    "                    middle[j] <= labels[k, 1] + tol:\n",
    "                matches[k] += 1\n",
    "            elif middle[j] > labels[k, 1] + tol:\n",
    "                k += 1\n",
    "                j -= 1\n",
    "            else:\n",
    "                print('in else')\n",
    "            if k == labels.shape[0]:\n",
    "                break\n",
    "        \n",
    "        match = sum([1 for cnt in matches if cnt > 0])\n",
    "        miss = middle.shape[0] - sum(matches)\n",
    "        accuracy = match / labels.shape[0]\n",
    "        negative = miss / middle.shape[0]\n",
    "        \n",
    "        accs.append(accuracy)\n",
    "        negs.append(negative)\n",
    "        \n",
    "    all_accs.append(accs)\n",
    "    all_negs.append(negs)"
   ]
  },
  {
   "cell_type": "code",
   "execution_count": 123,
   "metadata": {},
   "outputs": [
    {
     "data": {
      "text/plain": [
       "(27, 4)"
      ]
     },
     "execution_count": 123,
     "metadata": {},
     "output_type": "execute_result"
    }
   ],
   "source": [
    "len(all_accs), len(all_accs[0])"
   ]
  },
  {
   "cell_type": "code",
   "execution_count": 124,
   "metadata": {},
   "outputs": [
    {
     "name": "stdout",
     "output_type": "stream",
     "text": [
      "recall rate: \n",
      "car, Numenta HTM, Random Cut Forest, Bayesian Changepoint, EXPoSE\n",
      "1  ,  81.25%,  50.00%,  93.75%,  81.25%\n",
      "3  ,  80.00%,  60.00%, 100.00%,  90.00%\n",
      "4  ,  58.33%,  58.33%,  75.00%,  66.67%\n",
      "6  ,  81.82%,  63.64%,  90.91%,  90.91%\n",
      "7  ,  80.00%,  40.00%,  80.00%,  73.33%\n",
      "12 ,  84.62%,  61.54%,  76.92%,  76.92%\n",
      "14 ,  73.33%,  66.67%,  66.67%,  60.00%\n",
      "15 ,  77.78%,  55.56%,  88.89%,  66.67%\n",
      "17 ,  70.00%,  50.00%,  80.00%,  70.00%\n",
      "18 ,  66.67%,  55.56%,  77.78%,  88.89%\n",
      "19 ,  78.57%,  64.29%, 100.00%,  57.14%\n",
      "20 ,  69.23%,  53.85%, 100.00%,  61.54%\n",
      "21 ,  66.67%,  46.67%,  80.00%,  73.33%\n",
      "22 ,  83.33%,  58.33%,  91.67%,  91.67%\n",
      "23 ,  71.43%,  64.29%,  85.71%,  92.86%\n",
      "24 ,  50.00%,  41.67%,  83.33%,  50.00%\n",
      "25 ,  83.33%,  25.00%,  83.33%,  91.67%\n",
      "26 ,  64.71%,  64.71%,  88.24%,  70.59%\n",
      "27 ,  60.00%,  60.00%,  80.00%,  80.00%\n",
      "28 ,  80.00%,  40.00%,  80.00%,  90.00%\n",
      "29 ,  60.00%,  60.00%,  90.00%,  90.00%\n",
      "59 ,  66.67%,  55.56%, 100.00%,  88.89%\n",
      "60 ,  60.00%,  90.00%, 100.00%,  80.00%\n",
      "64 ,  80.00%,  50.00%,  80.00%,  80.00%\n",
      "66 ,  70.00%,  30.00%,  80.00%,  60.00%\n",
      "88 ,  72.73%,  45.45%,  81.82%,  81.82%\n",
      "98 ,  68.75%,  43.75%,  75.00%,  75.00%\n"
     ]
    }
   ],
   "source": [
    "print('recall rate: ')\n",
    "print('car, {:s}, {:s}, {:s}, {:s}'.format(\\\n",
    "        det_names[0], det_names[1], det_names[2], det_names[3]))\n",
    "for i in range(len(all_accs)):\n",
    "    print('{:3s}, {:6.2f}%, {:6.2f}%, {:6.2f}%, {:6.2f}%'\\\n",
    "          .format(cars[i], all_accs[i][0] * 100, all_accs[i][1] * 100, \\\n",
    "                  all_accs[i][2] * 100, all_accs[i][3] * 100))"
   ]
  },
  {
   "cell_type": "code",
   "execution_count": 125,
   "metadata": {},
   "outputs": [
    {
     "name": "stdout",
     "output_type": "stream",
     "text": [
      "false positive: \n",
      "car, Numenta HTM, Random Cut Forest, Bayesian Changepoint, EXPoSE\n",
      "1  ,  62.87%,  67.06%,  28.95%,  55.19%\n",
      "3  ,  48.98%,  69.67%,  36.36%,  33.93%\n",
      "4  ,  55.71%,  85.00%,  64.86%,  53.19%\n",
      "6  ,  75.13%,  89.55%,  71.48%,  66.51%\n",
      "7  ,  43.88%,  77.39%,  44.57%,  60.00%\n",
      "12 ,  53.62%,  64.97%,  43.18%,  72.96%\n",
      "14 ,  46.43%,  67.91%,  44.91%,  71.35%\n",
      "15 ,  80.89%,  90.67%,  66.91%,  89.08%\n",
      "17 ,  55.91%,  76.38%,  61.58%,  74.81%\n",
      "18 ,  62.60%,  84.55%,  50.68%,  54.46%\n",
      "19 ,  42.02%,  61.43%,  37.14%,  64.34%\n",
      "20 ,  67.36%,  66.99%,  40.11%,  51.75%\n",
      "21 ,  46.99%,  64.92%,  44.12%,  52.73%\n",
      "22 ,  50.91%,  78.30%,  53.85%,  55.07%\n",
      "23 ,  64.19%,  88.08%,  61.24%,  58.95%\n",
      "24 ,  72.66%,  72.65%,  47.75%,  70.49%\n",
      "25 ,  42.65%,  91.57%,  69.88%,  66.67%\n",
      "26 ,  44.26%,  66.67%,  36.30%,  60.98%\n",
      "27 ,  85.09%,  82.93%,  68.69%,  67.88%\n",
      "28 ,  62.42%,  79.78%,  56.33%,  70.70%\n",
      "29 ,  60.18%,  69.67%,  44.21%,  48.53%\n",
      "59 ,  51.92%,  87.50%,  66.90%,  65.17%\n",
      "60 ,  48.55%,  72.17%,  45.16%,  64.25%\n",
      "64 ,  53.16%,  87.33%,  65.70%,  75.33%\n",
      "66 ,  66.88%,  92.12%,  70.12%,  73.80%\n",
      "88 ,  59.60%,  77.10%,  59.73%,  58.79%\n",
      "98 ,  62.88%,  74.16%,  40.43%,  57.65%\n"
     ]
    }
   ],
   "source": [
    "print('false positive: ')\n",
    "print('car, {:s}, {:s}, {:s}, {:s}'.format(\\\n",
    "        det_names[0], det_names[1], det_names[2], det_names[3]))\n",
    "for i in range(len(all_accs)):\n",
    "    print('{:3s}, {:6.2f}%, {:6.2f}%, {:6.2f}%, {:6.2f}%'\\\n",
    "          .format(cars[i], all_negs[i][0] * 100, all_negs[i][1] * 100, \\\n",
    "                  all_negs[i][2] * 100, all_negs[i][3] * 100))"
   ]
  },
  {
   "cell_type": "code",
   "execution_count": null,
   "metadata": {},
   "outputs": [],
   "source": []
  },
  {
   "cell_type": "markdown",
   "metadata": {},
   "source": [
    "#### New labels for car 1 & car 13"
   ]
  },
  {
   "cell_type": "code",
   "execution_count": 428,
   "metadata": {},
   "outputs": [
    {
     "data": {
      "text/plain": [
       "(array([[60194700., 60209500.],\n",
       "        [60219600., 60230700.],\n",
       "        [60232100., 60273700.]]), (18, 2))"
      ]
     },
     "execution_count": 428,
     "metadata": {},
     "output_type": "execute_result"
    }
   ],
   "source": [
    "new_labels = np.loadtxt('labels/indy2018-13-labels-new.txt')\n",
    "new_labels[:3], new_labels.shape"
   ]
  },
  {
   "cell_type": "code",
   "execution_count": 513,
   "metadata": {},
   "outputs": [
    {
     "data": {
      "text/plain": [
       "'results/expose/anomaly_0.992_indy2018-13-vspeed.csv'"
      ]
     },
     "execution_count": 513,
     "metadata": {},
     "output_type": "execute_result"
    }
   ],
   "source": [
    "d_i = 3\n",
    "detect = detectors[d_i]\n",
    "thresh = thresholds[d_i]\n",
    "csvfil = 'results/' + detect + '/anomaly_' + thresh + '_indy2018-13-vspeed.csv'\n",
    "csvfil"
   ]
  },
  {
   "cell_type": "code",
   "execution_count": 514,
   "metadata": {},
   "outputs": [
    {
     "data": {
      "text/plain": [
       "(array([[5.8980558e+07, 1.5169000e+02, 0.0000000e+00],\n",
       "        [5.8980651e+07, 1.5290000e+02, 0.0000000e+00],\n",
       "        [5.8980735e+07, 1.5378000e+02, 0.0000000e+00]]), (35441, 3))"
      ]
     },
     "execution_count": 514,
     "metadata": {},
     "output_type": "execute_result"
    }
   ],
   "source": [
    "alldat = np.loadtxt(csvfil)\n",
    "alldat[:3], alldat.shape"
   ]
  },
  {
   "cell_type": "code",
   "execution_count": 515,
   "metadata": {},
   "outputs": [
    {
     "data": {
      "text/plain": [
       "(array([[5.8982074e+07, 1.6456000e+02, 1.0000000e+00],\n",
       "        [5.8982167e+07, 1.6530000e+02, 1.0000000e+00],\n",
       "        [5.8982260e+07, 1.6638000e+02, 1.0000000e+00]]), (61, 3))"
      ]
     },
     "execution_count": 515,
     "metadata": {},
     "output_type": "execute_result"
    }
   ],
   "source": [
    "mask_s = alldat[:, 2] == 1\n",
    "anomal = alldat[mask_s]\n",
    "anomal[:3], anomal.shape"
   ]
  },
  {
   "cell_type": "code",
   "execution_count": 516,
   "metadata": {},
   "outputs": [
    {
     "data": {
      "text/plain": [
       "(array([58982074., 58982167., 58982260.]), (61,))"
      ]
     },
     "execution_count": 516,
     "metadata": {},
     "output_type": "execute_result"
    }
   ],
   "source": [
    "speeds = anomal[:, 0]\n",
    "speeds[:3], speeds.shape"
   ]
  },
  {
   "cell_type": "code",
   "execution_count": 529,
   "metadata": {},
   "outputs": [
    {
     "data": {
      "text/plain": [
       "(array([60195644., 60197495., 60197681.]), (55,))"
      ]
     },
     "execution_count": 529,
     "metadata": {},
     "output_type": "execute_result"
    }
   ],
   "source": [
    "tol = 5000\n",
    "mask_1 = speeds >= new_labels[0, 0] - tol\n",
    "mask_2 = speeds <= new_labels[-1, 1] + tol\n",
    "mask_a = mask_1 & mask_2\n",
    "middle = speeds[mask_a]\n",
    "middle[:3], middle.shape"
   ]
  },
  {
   "cell_type": "code",
   "execution_count": 530,
   "metadata": {},
   "outputs": [
    {
     "name": "stdout",
     "output_type": "stream",
     "text": [
      "results/expose/anomaly_0.992_indy2018-13-vspeed.csv\n",
      "recall rate: 33.33%, rate of false positive: 30.91%\n"
     ]
    }
   ],
   "source": [
    "k = 0\n",
    "matches = [0] * new_labels.shape[0]\n",
    "for j in range(middle.shape[0]):\n",
    "    if middle[j] < new_labels[k, 0] - tol:\n",
    "        continue\n",
    "    elif middle[j] >= new_labels[k, 0] - tol and \\\n",
    "            middle[j] <= new_labels[k, 1] + tol:\n",
    "        matches[k] += 1\n",
    "    elif middle[j] > new_labels[k, 1] + tol:\n",
    "        k += 1\n",
    "        j -= 1\n",
    "    else:\n",
    "        print('in else')\n",
    "    if k == new_labels.shape[0]:\n",
    "        break\n",
    "\n",
    "matchtot = np.sum([1 for cnt in matches if cnt > 0])\n",
    "missnumb = middle.shape[0] - np.sum(matches)\n",
    "recallrate = matchtot / new_labels.shape[0] * 100\n",
    "falsepositive = missnumb / middle.shape[0] * 100\n",
    "\n",
    "print(csvfil)\n",
    "print('recall rate: {:5.2f}%, rate of false positive: {:5.2f}%'\\\n",
    "      .format(recallrate, falsepositive))"
   ]
  },
  {
   "cell_type": "code",
   "execution_count": null,
   "metadata": {},
   "outputs": [],
   "source": []
  },
  {
   "cell_type": "code",
   "execution_count": null,
   "metadata": {},
   "outputs": [],
   "source": []
  }
 ],
 "metadata": {
  "kernelspec": {
   "display_name": "Python 3",
   "language": "python",
   "name": "python3"
  },
  "language_info": {
   "codemirror_mode": {
    "name": "ipython",
    "version": 3
   },
   "file_extension": ".py",
   "mimetype": "text/x-python",
   "name": "python",
   "nbconvert_exporter": "python",
   "pygments_lexer": "ipython3",
   "version": "3.6.8"
  }
 },
 "nbformat": 4,
 "nbformat_minor": 2
}
