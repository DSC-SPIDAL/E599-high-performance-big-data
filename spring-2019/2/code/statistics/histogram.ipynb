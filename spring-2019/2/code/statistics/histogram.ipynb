{
 "cells": [
  {
   "cell_type": "code",
   "execution_count": 124,
   "metadata": {},
   "outputs": [],
   "source": [
    "import numpy as np\n",
    "import matplotlib.pyplot as plt"
   ]
  },
  {
   "cell_type": "code",
   "execution_count": 125,
   "metadata": {},
   "outputs": [],
   "source": [
    "cars = ['1', '3', '4', '6', '7', '12', '14', '15', '17', '18', \n",
    "        '19', '20', '21', '22', '23', '24', '25', '26', '27', \n",
    "        '28', '29', '59', '60', '64', '66', '88', '98']\n",
    "detectors = ['numenta', 'random', 'bayes', 'expose']\n",
    "detectors2 = ['numenta', 'random', 'bayesChangePt', 'expose']\n",
    "thresholds = ['0.36', '0.997', '0.39', '0.992']"
   ]
  },
  {
   "cell_type": "code",
   "execution_count": 248,
   "metadata": {},
   "outputs": [],
   "source": [
    "t_car = cars[0]"
   ]
  },
  {
   "cell_type": "markdown",
   "metadata": {},
   "source": [
    "#### Numenta HTM"
   ]
  },
  {
   "cell_type": "code",
   "execution_count": 249,
   "metadata": {},
   "outputs": [
    {
     "data": {
      "text/plain": [
       "'results/numenta/numenta_indy2018-1-vspeed.csv'"
      ]
     },
     "execution_count": 249,
     "metadata": {},
     "output_type": "execute_result"
    }
   ],
   "source": [
    "t_i = 0\n",
    "t_fname_n = 'results/' + detectors[t_i] + '/' + detectors2[t_i] + \\\n",
    "            '_indy2018-' + t_car + '-vspeed.csv'\n",
    "t_fname_n"
   ]
  },
  {
   "cell_type": "code",
   "execution_count": 250,
   "metadata": {},
   "outputs": [
    {
     "data": {
      "text/plain": [
       "array([[           nan, 1.56670000e+02, 3.01029997e-02, 1.00000000e+00,\n",
       "        0.00000000e+00],\n",
       "       [           nan, 1.58510000e+02, 3.01029997e-02, 1.00000000e+00,\n",
       "        0.00000000e+00],\n",
       "       [           nan, 1.57100000e+02, 3.01029997e-02, 1.00000000e+00,\n",
       "        0.00000000e+00]])"
      ]
     },
     "execution_count": 250,
     "metadata": {},
     "output_type": "execute_result"
    }
   ],
   "source": [
    "t_result_n = np.genfromtxt(t_fname_n, delimiter=',', skip_header=1)\n",
    "t_result_n[:3]"
   ]
  },
  {
   "cell_type": "code",
   "execution_count": 251,
   "metadata": {},
   "outputs": [],
   "source": [
    "t_scores_n = t_result_n[:, 2]"
   ]
  },
  {
   "cell_type": "code",
   "execution_count": 308,
   "metadata": {},
   "outputs": [
    {
     "data": {
      "text/plain": [
       "<matplotlib.lines.Line2D at 0x7fb4156a9710>"
      ]
     },
     "execution_count": 308,
     "metadata": {},
     "output_type": "execute_result"
    },
    {
     "data": {
      "image/png": "[encoded data removed]",
      "text/plain": [
       "<Figure size 432x288 with 1 Axes>"
      ]
     },
     "metadata": {
      "needs_background": "light"
     },
     "output_type": "display_data"
    }
   ],
   "source": [
    "n_bins_n = 70\n",
    "plt.hist(t_scores_n, n_bins_n)\n",
    "plt.title('Histogram of Anomaly Score of Car 1 by Numenta HTM')\n",
    "plt.xlabel('Anomaly Score')\n",
    "plt.ylabel('# of Anomaly')\n",
    "plt.axvline(x=0.36)"
   ]
  },
  {
   "cell_type": "markdown",
   "metadata": {},
   "source": [
    "#### Random Cut Forest"
   ]
  },
  {
   "cell_type": "code",
   "execution_count": 253,
   "metadata": {},
   "outputs": [
    {
     "data": {
      "text/plain": [
       "'results/random/random_indy2018-1-vspeed.csv'"
      ]
     },
     "execution_count": 253,
     "metadata": {},
     "output_type": "execute_result"
    }
   ],
   "source": [
    "t_i = 1\n",
    "t_fname_r = 'results/' + detectors[t_i] + '/' + detectors2[t_i] + \\\n",
    "            '_indy2018-' + t_car + '-vspeed.csv'\n",
    "t_fname_r"
   ]
  },
  {
   "cell_type": "code",
   "execution_count": 254,
   "metadata": {},
   "outputs": [
    {
     "data": {
      "text/plain": [
       "array([[           nan, 1.56670000e+02, 6.39426798e-01, 0.00000000e+00],\n",
       "       [           nan, 1.58510000e+02, 2.50107552e-02, 0.00000000e+00],\n",
       "       [           nan, 1.57100000e+02, 2.75029318e-01, 0.00000000e+00]])"
      ]
     },
     "execution_count": 254,
     "metadata": {},
     "output_type": "execute_result"
    }
   ],
   "source": [
    "t_result_r = np.genfromtxt(t_fname_r, delimiter=',', skip_header=1)\n",
    "t_result_r[:3]"
   ]
  },
  {
   "cell_type": "code",
   "execution_count": 255,
   "metadata": {},
   "outputs": [],
   "source": [
    "t_scores_r = t_result_r[:, 2]"
   ]
  },
  {
   "cell_type": "code",
   "execution_count": 309,
   "metadata": {},
   "outputs": [
    {
     "data": {
      "text/plain": [
       "<matplotlib.lines.Line2D at 0x7fb414fa24a8>"
      ]
     },
     "execution_count": 309,
     "metadata": {},
     "output_type": "execute_result"
    },
    {
     "data": {
      "image/png": "[encoded data removed]",
      "text/plain": [
       "<Figure size 432x288 with 1 Axes>"
      ]
     },
     "metadata": {
      "needs_background": "light"
     },
     "output_type": "display_data"
    }
   ],
   "source": [
    "n_bins_r = 100\n",
    "plt.hist(t_scores_r, n_bins_r)\n",
    "plt.title('Histogram of Anomaly Score of Car 1 by Random Cut Forest')\n",
    "plt.xlabel('Anomaly Score')\n",
    "plt.ylabel('# of Anomaly')\n",
    "plt.axvline(x=0.997)"
   ]
  },
  {
   "cell_type": "markdown",
   "metadata": {},
   "source": [
    "#### Bayesian Changepoint"
   ]
  },
  {
   "cell_type": "code",
   "execution_count": 257,
   "metadata": {},
   "outputs": [
    {
     "data": {
      "text/plain": [
       "'results/bayes/bayesChangePt_indy2018-1-vspeed.csv'"
      ]
     },
     "execution_count": 257,
     "metadata": {},
     "output_type": "execute_result"
    }
   ],
   "source": [
    "t_i = 2\n",
    "t_fname_b = 'results/' + detectors[t_i] + '/' + detectors2[t_i] + \\\n",
    "            '_indy2018-' + t_car + '-vspeed.csv'\n",
    "t_fname_b"
   ]
  },
  {
   "cell_type": "code",
   "execution_count": 258,
   "metadata": {},
   "outputs": [
    {
     "data": {
      "text/plain": [
       "array([[   nan, 156.67,   0.  ,   0.  ],\n",
       "       [   nan, 158.51,   0.  ,   0.  ],\n",
       "       [   nan, 157.1 ,   0.  ,   0.  ]])"
      ]
     },
     "execution_count": 258,
     "metadata": {},
     "output_type": "execute_result"
    }
   ],
   "source": [
    "t_result_b = np.genfromtxt(t_fname_b, delimiter=',', skip_header=1)\n",
    "t_result_b[:3]"
   ]
  },
  {
   "cell_type": "code",
   "execution_count": 259,
   "metadata": {},
   "outputs": [],
   "source": [
    "t_scores_b = t_result_b[:, 2]"
   ]
  },
  {
   "cell_type": "code",
   "execution_count": 310,
   "metadata": {},
   "outputs": [
    {
     "data": {
      "text/plain": [
       "<matplotlib.lines.Line2D at 0x7fb414e03080>"
      ]
     },
     "execution_count": 310,
     "metadata": {},
     "output_type": "execute_result"
    },
    {
     "data": {
      "image/png": "[encoded data removed]",
      "text/plain": [
       "<Figure size 432x288 with 1 Axes>"
      ]
     },
     "metadata": {
      "needs_background": "light"
     },
     "output_type": "display_data"
    }
   ],
   "source": [
    "n_bins_b = 70\n",
    "plt.hist(t_scores_b, n_bins_b)\n",
    "plt.title('Histogram of Anomaly Score of Car 1 by Bayesian Changepoint')\n",
    "plt.xlabel('Anomaly Score')\n",
    "plt.ylabel('# of Anomaly')\n",
    "plt.axvline(x=0.39)"
   ]
  },
  {
   "cell_type": "markdown",
   "metadata": {},
   "source": [
    "#### EXPoSE"
   ]
  },
  {
   "cell_type": "code",
   "execution_count": 261,
   "metadata": {},
   "outputs": [
    {
     "data": {
      "text/plain": [
       "'results/expose/expose_indy2018-1-vspeed.csv'"
      ]
     },
     "execution_count": 261,
     "metadata": {},
     "output_type": "execute_result"
    }
   ],
   "source": [
    "t_i = 3\n",
    "t_fname_e = 'results/' + detectors[t_i] + '/' + detectors2[t_i] + \\\n",
    "            '_indy2018-' + t_car + '-vspeed.csv'\n",
    "t_fname_e"
   ]
  },
  {
   "cell_type": "code",
   "execution_count": 262,
   "metadata": {},
   "outputs": [
    {
     "data": {
      "text/plain": [
       "array([[            nan,  1.56670000e+02, -5.32982332e-03,\n",
       "         0.00000000e+00],\n",
       "       [            nan,  1.58510000e+02,  8.23693758e-01,\n",
       "         0.00000000e+00],\n",
       "       [            nan,  1.57100000e+02,  8.83796004e-02,\n",
       "         0.00000000e+00]])"
      ]
     },
     "execution_count": 262,
     "metadata": {},
     "output_type": "execute_result"
    }
   ],
   "source": [
    "t_result_e = np.genfromtxt(t_fname_e, delimiter=',', skip_header=1)\n",
    "t_result_e[:3]"
   ]
  },
  {
   "cell_type": "code",
   "execution_count": 263,
   "metadata": {},
   "outputs": [],
   "source": [
    "t_scores_e = t_result_e[:, 2]"
   ]
  },
  {
   "cell_type": "code",
   "execution_count": 311,
   "metadata": {},
   "outputs": [
    {
     "data": {
      "text/plain": [
       "<matplotlib.lines.Line2D at 0x7fb414cf8588>"
      ]
     },
     "execution_count": 311,
     "metadata": {},
     "output_type": "execute_result"
    },
    {
     "data": {
      "image/png": "[encoded data removed]",
      "text/plain": [
       "<Figure size 432x288 with 1 Axes>"
      ]
     },
     "metadata": {
      "needs_background": "light"
     },
     "output_type": "display_data"
    }
   ],
   "source": [
    "n_bins_e = 100\n",
    "plt.hist(t_scores_e, n_bins_e)\n",
    "plt.title('Histogram of Anomaly Score of Car 1 by EXPoSE')\n",
    "plt.xlabel('Anomaly Score')\n",
    "plt.ylabel('# of Anomaly')\n",
    "plt.axvline(x=0.992)"
   ]
  },
  {
   "cell_type": "code",
   "execution_count": null,
   "metadata": {},
   "outputs": [],
   "source": []
  }
 ],
 "metadata": {
  "kernelspec": {
   "display_name": "Python 3",
   "language": "python",
   "name": "python3"
  },
  "language_info": {
   "codemirror_mode": {
    "name": "ipython",
    "version": 3
   },
   "file_extension": ".py",
   "mimetype": "text/x-python",
   "name": "python",
   "nbconvert_exporter": "python",
   "pygments_lexer": "ipython3",
   "version": "3.6.8"
  }
 },
 "nbformat": 4,
 "nbformat_minor": 2
}
