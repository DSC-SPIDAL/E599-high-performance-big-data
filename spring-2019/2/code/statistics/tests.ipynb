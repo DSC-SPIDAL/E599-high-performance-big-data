{
 "cells": [
  {
   "cell_type": "code",
   "execution_count": 254,
   "metadata": {},
   "outputs": [],
   "source": [
    "import numpy as np"
   ]
  },
  {
   "cell_type": "code",
   "execution_count": 255,
   "metadata": {},
   "outputs": [],
   "source": [
    "cars = ['1', '3', '4', '6', '7', '12', '14', '15', '17', '18', \n",
    "        '19', '20', '21', '22', '23', '24', '25', '26', '27', \n",
    "        '28', '29', '59', '60', '64', '66', '88', '98']\n",
    "detectors = ['numenta', 'random', 'bayes', 'expose']\n",
    "thresholds = ['0.36', '0.997', '0.39', '0.992']"
   ]
  },
  {
   "cell_type": "code",
   "execution_count": 127,
   "metadata": {},
   "outputs": [
    {
     "name": "stdout",
     "output_type": "stream",
     "text": [
      "['numenta', 'random', 'bayes', 'expose']\n",
      "car 1 [5, 0, 15, 8] 31\n",
      "car 3 [1, 1, 9, 2] 19\n",
      "car 4 [2, 1, 8, 2] 23\n",
      "car 6 [1, 3, 13, 1] 21\n",
      "car 7 [4, 0, 17, 2] 29\n",
      "car 12 [1, 1, 11, 3] 25\n",
      "car 14 [5, 1, 10, 1] 29\n",
      "car 15 [2, 1, 12, 0] 18\n",
      "car 17 [1, 0, 13, 3] 19\n",
      "car 18 [4, 1, 9, 2] 17\n",
      "car 19 [2, 0, 14, 3] 27\n",
      "car 20 [7, 0, 12, 4] 25\n",
      "car 21 [2, 0, 13, 3] 29\n",
      "car 22 [4, 1, 12, 4] 23\n",
      "car 23 [2, 0, 17, 2] 27\n",
      "car 24 [1, 1, 10, 2] 23\n",
      "car 25 [6, 0, 15, 4] 23\n",
      "car 26 [3, 0, 21, 2] 33\n",
      "car 27 [2, 3, 12, 3] 19\n",
      "car 28 [3, 0, 12, 0] 19\n",
      "car 29 [3, 0, 8, 2] 19\n",
      "car 59 [4, 0, 12, 0] 17\n",
      "car 60 [2, 2, 10, 4] 19\n",
      "car 64 [2, 1, 12, 2] 19\n",
      "car 66 [4, 2, 10, 5] 19\n",
      "car 88 [1, 2, 9, 1] 21\n",
      "car 98 [4, 1, 17, 3] 31\n"
     ]
    }
   ],
   "source": [
    "print(detectors)\n",
    "for car in cars:\n",
    "    labels = np.loadtxt('labels/indy2018-' + car + '-labels.txt')\n",
    "    events = np.array(list(set(labels.flatten())))\n",
    "    \n",
    "    counts = []\n",
    "    accurs = []\n",
    "    for i in range(len(detectors)):\n",
    "        result = np.loadtxt('results/' + detectors[i] + \n",
    "                            '/anomaly_' + thresholds[i] + \n",
    "                            '_indy2018-' + car + '-vspeed.csv')\n",
    "        mask = result[:, 2] == 1\n",
    "        anomaly = result[mask]\n",
    "        speeds = anomaly[:, 0]\n",
    "        \n",
    "        match = np.sum(abs(speeds[None, :] - events[:, None]) < 1000, axis=1)\n",
    "        count = np.sum(match >= 1)\n",
    "        accur = count / events.shape[0]\n",
    "        counts.append(count)\n",
    "        accurs.append(accur)\n",
    "    \n",
    "    print('car ' + car, counts, events.shape[0])\n",
    "    "
   ]
  },
  {
   "cell_type": "code",
   "execution_count": null,
   "metadata": {},
   "outputs": [],
   "source": []
  },
  {
   "cell_type": "markdown",
   "metadata": {},
   "source": [
    "#### test 1"
   ]
  },
  {
   "cell_type": "code",
   "execution_count": 256,
   "metadata": {},
   "outputs": [
    {
     "data": {
      "text/plain": [
       "(67372, 3)"
      ]
     },
     "execution_count": 256,
     "metadata": {},
     "output_type": "execute_result"
    }
   ],
   "source": [
    "text = np.loadtxt('results/numenta/anomaly_0.36_indy2018-1-vspeed.csv')\n",
    "text.shape"
   ]
  },
  {
   "cell_type": "code",
   "execution_count": 257,
   "metadata": {},
   "outputs": [
    {
     "data": {
      "text/plain": [
       "(67372,)"
      ]
     },
     "execution_count": 257,
     "metadata": {},
     "output_type": "execute_result"
    }
   ],
   "source": [
    "mask = text[:, 2] == 1 \n",
    "mask.shape"
   ]
  },
  {
   "cell_type": "code",
   "execution_count": 258,
   "metadata": {},
   "outputs": [
    {
     "data": {
      "text/plain": [
       "(202, 3)"
      ]
     },
     "execution_count": 258,
     "metadata": {},
     "output_type": "execute_result"
    }
   ],
   "source": [
    "anomaly = text[mask]\n",
    "anomaly.shape"
   ]
  },
  {
   "cell_type": "code",
   "execution_count": 259,
   "metadata": {},
   "outputs": [
    {
     "data": {
      "text/plain": [
       "(202,)"
      ]
     },
     "execution_count": 259,
     "metadata": {},
     "output_type": "execute_result"
    }
   ],
   "source": [
    "speeds = anomaly[:, 0]\n",
    "speeds.shape"
   ]
  },
  {
   "cell_type": "code",
   "execution_count": 260,
   "metadata": {},
   "outputs": [
    {
     "data": {
      "text/plain": [
       "(16, 2)"
      ]
     },
     "execution_count": 260,
     "metadata": {},
     "output_type": "execute_result"
    }
   ],
   "source": [
    "labels = np.loadtxt('labels/indy2018-1-labels.txt')\n",
    "labels.shape"
   ]
  },
  {
   "cell_type": "code",
   "execution_count": 261,
   "metadata": {},
   "outputs": [
    {
     "data": {
      "text/plain": [
       "(31,)"
      ]
     },
     "execution_count": 261,
     "metadata": {},
     "output_type": "execute_result"
    }
   ],
   "source": [
    "events = np.array(list(set(labels.flatten())))\n",
    "events.shape"
   ]
  },
  {
   "cell_type": "code",
   "execution_count": 262,
   "metadata": {},
   "outputs": [
    {
     "data": {
      "text/plain": [
       "(31,)"
      ]
     },
     "execution_count": 262,
     "metadata": {},
     "output_type": "execute_result"
    }
   ],
   "source": [
    "match = np.sum(abs(speeds[None, :] - events[:, None]) < 2000, axis=1)\n",
    "match.shape"
   ]
  },
  {
   "cell_type": "code",
   "execution_count": 263,
   "metadata": {},
   "outputs": [
    {
     "data": {
      "text/plain": [
       "9"
      ]
     },
     "execution_count": 263,
     "metadata": {},
     "output_type": "execute_result"
    }
   ],
   "source": [
    "count = np.sum(match >= 1)\n",
    "count"
   ]
  },
  {
   "cell_type": "code",
   "execution_count": 264,
   "metadata": {},
   "outputs": [
    {
     "data": {
      "text/plain": [
       "0.2903225806451613"
      ]
     },
     "execution_count": 264,
     "metadata": {},
     "output_type": "execute_result"
    }
   ],
   "source": [
    "accur = count / events.shape[0]\n",
    "accur"
   ]
  },
  {
   "cell_type": "code",
   "execution_count": null,
   "metadata": {},
   "outputs": [],
   "source": []
  },
  {
   "cell_type": "markdown",
   "metadata": {},
   "source": [
    "#### Test 2"
   ]
  },
  {
   "cell_type": "code",
   "execution_count": 113,
   "metadata": {},
   "outputs": [
    {
     "name": "stdout",
     "output_type": "stream",
     "text": [
      "31\n",
      "19\n",
      "23\n",
      "21\n",
      "29\n",
      "25\n",
      "29\n",
      "18\n",
      "19\n",
      "17\n",
      "27\n",
      "25\n",
      "29\n",
      "23\n",
      "27\n",
      "23\n",
      "23\n",
      "33\n",
      "19\n",
      "19\n",
      "19\n",
      "17\n",
      "19\n",
      "19\n",
      "19\n",
      "21\n",
      "31\n"
     ]
    }
   ],
   "source": [
    "for car in cars:\n",
    "    labels_test = np.loadtxt('labels/indy2018-' + car + '-labels.txt')\n",
    "    print(len(set(labels_test.flatten())))"
   ]
  },
  {
   "cell_type": "code",
   "execution_count": null,
   "metadata": {},
   "outputs": [],
   "source": []
  },
  {
   "cell_type": "markdown",
   "metadata": {},
   "source": [
    "#### Test 3"
   ]
  },
  {
   "cell_type": "code",
   "execution_count": 265,
   "metadata": {},
   "outputs": [],
   "source": [
    "text = np.loadtxt('results/numenta/anomaly_0.36_indy2018-1-vspeed.csv')"
   ]
  },
  {
   "cell_type": "code",
   "execution_count": 266,
   "metadata": {},
   "outputs": [
    {
     "data": {
      "text/plain": [
       "array([[5.8980567e+07, 1.5667000e+02, 0.0000000e+00],\n",
       "       [5.8980660e+07, 1.5851000e+02, 0.0000000e+00],\n",
       "       [5.8980754e+07, 1.5710000e+02, 0.0000000e+00]])"
      ]
     },
     "execution_count": 266,
     "metadata": {},
     "output_type": "execute_result"
    }
   ],
   "source": [
    "text[:3]"
   ]
  },
  {
   "cell_type": "code",
   "execution_count": 267,
   "metadata": {},
   "outputs": [],
   "source": [
    "mask = text[:, 2] == 1 "
   ]
  },
  {
   "cell_type": "code",
   "execution_count": 268,
   "metadata": {},
   "outputs": [],
   "source": [
    "anomaly = text[mask]"
   ]
  },
  {
   "cell_type": "code",
   "execution_count": 269,
   "metadata": {},
   "outputs": [],
   "source": [
    "speeds = anomaly[:, 0]"
   ]
  },
  {
   "cell_type": "code",
   "execution_count": 270,
   "metadata": {},
   "outputs": [
    {
     "data": {
      "text/plain": [
       "array([58980837., 58981092., 58981259., 58981623., 58981809., 58982334.,\n",
       "       58982427., 58982511., 58982688., 58982781., 58983576., 58984017.,\n",
       "       58984650., 58985362., 58985539., 58986250., 60234323., 60234509.,\n",
       "       60234602., 60234690., 60235295., 60235388., 60310748., 60311087.,\n",
       "       60311534., 60316423., 60338286., 60338547., 60339342., 60353288.,\n",
       "       60353568., 60355466., 60356178., 60365338., 60365524., 60367208.,\n",
       "       60367301., 60367488., 60990802., 60996233., 60996326., 61259442.,\n",
       "       61269507., 61271209., 61271581., 61271670., 61748720., 61748813.,\n",
       "       61752021., 61752208., 61752394., 61753105., 61753198., 61755924.,\n",
       "       61756273., 61756738., 61756831., 61757170., 61757254., 61757347.,\n",
       "       61757440., 61769887., 61770132., 61770225., 61770411., 61770598.,\n",
       "       61879165., 61879249., 61879426., 61879519., 61880854., 61886891.,\n",
       "       61887053., 61887137., 61887230., 61888370., 61890239., 61890612.,\n",
       "       61892742., 61895146., 61895239., 62584547., 62584639., 62586639.,\n",
       "       62586732., 62800927., 62801172., 62804321., 62812051., 62813661.,\n",
       "       64150406., 64150499., 64150593., 64150863., 64293399., 64296259.,\n",
       "       64296352., 64315921., 64316362., 64322437., 64322530., 65719397.,\n",
       "       65719583., 65719677., 65764420., 65764514., 65771386., 65771572.,\n",
       "       65774163., 65776061., 65776154., 65776341., 65776527., 65776611.,\n",
       "       65776704., 65776797., 65776890., 65777052., 65876194., 65876464.,\n",
       "       65941889., 65942237., 65971839., 65972000., 65972187., 65978054.,\n",
       "       65978240., 65978333., 65978612., 66033906., 66034068., 66034347.,\n",
       "       66034533., 66470223., 66470317., 66470410., 66490521., 66490609.,\n",
       "       66507609., 66507875., 66508037., 67169144., 67169605., 67169777.,\n",
       "       67169870., 67170032., 67185405., 67220014., 67851320., 67851870.,\n",
       "       68257086., 68257179., 68267217., 68267394., 68277330., 68277414.,\n",
       "       68278302., 68279181., 68279367., 68280889., 68284098., 68284191.,\n",
       "       68284377., 68286769., 69005002., 69005096., 69005468., 69005561.,\n",
       "       69010049., 69010328., 69010515., 69010794., 69011235., 69011422.,\n",
       "       69011795., 69013133., 69460162., 69460348., 69460441., 69460628.,\n",
       "       69460897., 69462236., 69462329., 69782126., 69782312., 69843908.,\n",
       "       69846424., 69846517., 69851713., 69866592., 69866681., 69866769.,\n",
       "       69867014., 69871014., 69871108., 69871750., 69873145., 69873238.,\n",
       "       69873331., 69873424., 69878657., 69878750.])"
      ]
     },
     "execution_count": 270,
     "metadata": {},
     "output_type": "execute_result"
    }
   ],
   "source": [
    "speeds"
   ]
  },
  {
   "cell_type": "code",
   "execution_count": 271,
   "metadata": {},
   "outputs": [],
   "source": [
    "labels = np.loadtxt('labels/indy2018-1-labels.txt')"
   ]
  },
  {
   "cell_type": "code",
   "execution_count": 272,
   "metadata": {},
   "outputs": [
    {
     "data": {
      "text/plain": [
       "array([[60233000., 60293000.],\n",
       "       [60340000., 60345000.],\n",
       "       [60992000., 61261000.],\n",
       "       [61261000., 61266000.],\n",
       "       [61316000., 61745000.],\n",
       "       [61886000., 62355000.],\n",
       "       [62587000., 62640000.],\n",
       "       [62803000., 62810000.],\n",
       "       [64296000., 64301000.],\n",
       "       [65748000., 65755000.],\n",
       "       [65872000., 65983000.],\n",
       "       [66509000., 66513000.],\n",
       "       [66566000., 67126000.],\n",
       "       [67255000., 67849000.],\n",
       "       [68260000., 68265000.],\n",
       "       [69018000., 69467000.]])"
      ]
     },
     "execution_count": 272,
     "metadata": {},
     "output_type": "execute_result"
    }
   ],
   "source": [
    "labels"
   ]
  },
  {
   "cell_type": "code",
   "execution_count": 273,
   "metadata": {},
   "outputs": [],
   "source": [
    "tol = 0"
   ]
  },
  {
   "cell_type": "code",
   "execution_count": 274,
   "metadata": {},
   "outputs": [
    {
     "data": {
      "text/plain": [
       "(167,)"
      ]
     },
     "execution_count": 274,
     "metadata": {},
     "output_type": "execute_result"
    }
   ],
   "source": [
    "mask1 = speeds >= labels[0, 0] - tol\n",
    "mask2 = speeds <= labels[-1, 1] + tol\n",
    "maskS = mask1 & mask2\n",
    "middle = speeds[maskS]\n",
    "middle.shape"
   ]
  },
  {
   "cell_type": "code",
   "execution_count": 275,
   "metadata": {},
   "outputs": [
    {
     "data": {
      "text/plain": [
       "array([60234323., 60234509., 60234602., 60234690., 60235295., 60235388.,\n",
       "       60310748., 60311087., 60311534., 60316423., 60338286., 60338547.,\n",
       "       60339342., 60353288., 60353568., 60355466., 60356178., 60365338.,\n",
       "       60365524., 60367208., 60367301., 60367488., 60990802., 60996233.,\n",
       "       60996326., 61259442., 61269507., 61271209., 61271581., 61271670.,\n",
       "       61748720., 61748813., 61752021., 61752208., 61752394., 61753105.,\n",
       "       61753198., 61755924., 61756273., 61756738., 61756831., 61757170.,\n",
       "       61757254., 61757347., 61757440., 61769887., 61770132., 61770225.,\n",
       "       61770411., 61770598., 61879165., 61879249., 61879426., 61879519.,\n",
       "       61880854., 61886891., 61887053., 61887137., 61887230., 61888370.,\n",
       "       61890239., 61890612., 61892742., 61895146., 61895239., 62584547.,\n",
       "       62584639., 62586639., 62586732., 62800927., 62801172., 62804321.,\n",
       "       62812051., 62813661., 64150406., 64150499., 64150593., 64150863.,\n",
       "       64293399., 64296259., 64296352., 64315921., 64316362., 64322437.,\n",
       "       64322530., 65719397., 65719583., 65719677., 65764420., 65764514.,\n",
       "       65771386., 65771572., 65774163., 65776061., 65776154., 65776341.,\n",
       "       65776527., 65776611., 65776704., 65776797., 65776890., 65777052.,\n",
       "       65876194., 65876464., 65941889., 65942237., 65971839., 65972000.,\n",
       "       65972187., 65978054., 65978240., 65978333., 65978612., 66033906.,\n",
       "       66034068., 66034347., 66034533., 66470223., 66470317., 66470410.,\n",
       "       66490521., 66490609., 66507609., 66507875., 66508037., 67169144.,\n",
       "       67169605., 67169777., 67169870., 67170032., 67185405., 67220014.,\n",
       "       67851320., 67851870., 68257086., 68257179., 68267217., 68267394.,\n",
       "       68277330., 68277414., 68278302., 68279181., 68279367., 68280889.,\n",
       "       68284098., 68284191., 68284377., 68286769., 69005002., 69005096.,\n",
       "       69005468., 69005561., 69010049., 69010328., 69010515., 69010794.,\n",
       "       69011235., 69011422., 69011795., 69013133., 69460162., 69460348.,\n",
       "       69460441., 69460628., 69460897., 69462236., 69462329.])"
      ]
     },
     "execution_count": 275,
     "metadata": {},
     "output_type": "execute_result"
    }
   ],
   "source": [
    "middle"
   ]
  },
  {
   "cell_type": "code",
   "execution_count": 233,
   "metadata": {},
   "outputs": [
    {
     "data": {
      "text/plain": [
       "[6, 3, 4, 0, 2, 10, 3, 4, 3, 0, 11, 3, 0, 2, 3, 7]"
      ]
     },
     "execution_count": 233,
     "metadata": {},
     "output_type": "execute_result"
    }
   ],
   "source": [
    "j = 0\n",
    "counts = [0] * labels.shape[0]\n",
    "for i in range(middle.shape[0]):\n",
    "    if middle[i] < labels[j, 0] - tol:\n",
    "        continue\n",
    "    elif middle[i] >= labels[j, 0] - tol and \\\n",
    "              middle[i] <= labels[j, 1] + tol:\n",
    "        counts[j] += 1\n",
    "    elif middle[i] > labels[j, 1] + tol:\n",
    "        j += 1\n",
    "        i -= 1\n",
    "    else:\n",
    "        print('in else')\n",
    "    if j == labels.shape[0]:\n",
    "        # print('end of labels')\n",
    "        break\n",
    "        \n",
    "counts"
   ]
  },
  {
   "cell_type": "code",
   "execution_count": 237,
   "metadata": {},
   "outputs": [
    {
     "data": {
      "text/plain": [
       "(106, 167)"
      ]
     },
     "execution_count": 237,
     "metadata": {},
     "output_type": "execute_result"
    }
   ],
   "source": [
    "miss = middle.shape[0] - sum(counts)\n",
    "miss, middle.shape[0]"
   ]
  },
  {
   "cell_type": "code",
   "execution_count": 238,
   "metadata": {},
   "outputs": [
    {
     "data": {
      "text/plain": [
       "(13, 16)"
      ]
     },
     "execution_count": 238,
     "metadata": {},
     "output_type": "execute_result"
    }
   ],
   "source": [
    "match = sum([1 for cnt in counts if cnt > 0])\n",
    "match, labels.shape[0]"
   ]
  },
  {
   "cell_type": "code",
   "execution_count": 230,
   "metadata": {},
   "outputs": [
    {
     "data": {
      "text/plain": [
       "0.8125"
      ]
     },
     "execution_count": 230,
     "metadata": {},
     "output_type": "execute_result"
    }
   ],
   "source": [
    "accur = match / labels.shape[0]\n",
    "accur"
   ]
  },
  {
   "cell_type": "code",
   "execution_count": 240,
   "metadata": {},
   "outputs": [
    {
     "data": {
      "text/plain": [
       "0.6347305389221557"
      ]
     },
     "execution_count": 240,
     "metadata": {},
     "output_type": "execute_result"
    }
   ],
   "source": [
    "fp = miss / middle.shape[0]\n",
    "fp"
   ]
  },
  {
   "cell_type": "code",
   "execution_count": null,
   "metadata": {},
   "outputs": [],
   "source": []
  },
  {
   "cell_type": "markdown",
   "metadata": {},
   "source": [
    "#### New method"
   ]
  },
  {
   "cell_type": "code",
   "execution_count": 247,
   "metadata": {},
   "outputs": [
    {
     "name": "stdout",
     "output_type": "stream",
     "text": [
      "car 1 [5, 0, 15, 8] 31\n"
     ]
    }
   ],
   "source": [
    "car = '1'\n",
    "#for car in cars:\n",
    "labels = np.loadtxt('labels/indy2018-' + car + '-labels.txt')\n",
    "events = np.array(list(set(labels.flatten())))\n",
    "\n",
    "counts = []\n",
    "accurs = []\n",
    "for i in range(len(detectors)):\n",
    "    result = np.loadtxt('results/' + detectors[i] + \n",
    "                        '/anomaly_' + thresholds[i] + \n",
    "                        '_indy2018-' + car + '-vspeed.csv')\n",
    "    mask = result[:, 2] == 1\n",
    "    anomaly = result[mask]\n",
    "    speeds = anomaly[:, 0]\n",
    "\n",
    "    match = np.sum(abs(speeds[None, :] - events[:, None]) < 1000, axis=1)\n",
    "    count = np.sum(match >= 1)\n",
    "    accur = count / events.shape[0]\n",
    "    counts.append(count)\n",
    "    accurs.append(accur)\n",
    "\n",
    "print('car ' + car, counts, events.shape[0])"
   ]
  },
  {
   "cell_type": "code",
   "execution_count": null,
   "metadata": {},
   "outputs": [],
   "source": []
  }
 ],
 "metadata": {
  "kernelspec": {
   "display_name": "Python 3",
   "language": "python",
   "name": "python3"
  },
  "language_info": {
   "codemirror_mode": {
    "name": "ipython",
    "version": 3
   },
   "file_extension": ".py",
   "mimetype": "text/x-python",
   "name": "python",
   "nbconvert_exporter": "python",
   "pygments_lexer": "ipython3",
   "version": "3.6.8"
  }
 },
 "nbformat": 4,
 "nbformat_minor": 2
}
