{
 "cells": [
  {
   "cell_type": "code",
   "execution_count": 173,
   "metadata": {},
   "outputs": [],
   "source": [
    "import numpy as np"
   ]
  },
  {
   "cell_type": "code",
   "execution_count": 174,
   "metadata": {},
   "outputs": [],
   "source": [
    "cars = ['1', '3', '4', '6', '7', '12', '14', '15', '17', '18', \n",
    "        '19', '20', '21', '22', '23', '24', '25', '26', '27', \n",
    "        '28', '29', '59', '60', '64', '66', '88', '98']\n",
    "detectors = ['numenta', 'random', 'bayes', 'expose']\n",
    "thresholds = ['0.36', '0.997', '0.39', '0.992']"
   ]
  },
  {
   "cell_type": "code",
   "execution_count": 239,
   "metadata": {},
   "outputs": [],
   "source": [
    "t_i = 0\n",
    "t_car = cars[0]\n",
    "t_tol = 10000"
   ]
  },
  {
   "cell_type": "code",
   "execution_count": 240,
   "metadata": {},
   "outputs": [],
   "source": [
    "t_labels = np.loadtxt('labels/indy2018-' + t_car + '-labels.txt')"
   ]
  },
  {
   "cell_type": "code",
   "execution_count": 241,
   "metadata": {},
   "outputs": [
    {
     "data": {
      "text/plain": [
       "31"
      ]
     },
     "execution_count": 241,
     "metadata": {},
     "output_type": "execute_result"
    }
   ],
   "source": [
    "t_events = np.array(list(set(t_labels.flatten())))\n",
    "t_events.shape[0]"
   ]
  },
  {
   "cell_type": "code",
   "execution_count": 242,
   "metadata": {},
   "outputs": [],
   "source": [
    "t_result = np.loadtxt('results/' + detectors[t_i] + \\\n",
    "                      '/anomaly_' + thresholds[t_i] + \\\n",
    "                      '_indy2018-' + t_car + '-vspeed.csv')"
   ]
  },
  {
   "cell_type": "code",
   "execution_count": 243,
   "metadata": {},
   "outputs": [],
   "source": [
    "t_mask_n = t_result[:, 2] == 1\n",
    "t_anomal = t_result[t_mask_n]\n",
    "t_speeds = t_anomal[:, 0]"
   ]
  },
  {
   "cell_type": "code",
   "execution_count": 244,
   "metadata": {},
   "outputs": [],
   "source": [
    "t_mask_1 = t_speeds >= t_labels[0, 0]\n",
    "t_mask_2 = t_speeds <= t_labels[-1, 1]\n",
    "t_mask_a = t_mask_1 & t_mask_2"
   ]
  },
  {
   "cell_type": "code",
   "execution_count": 245,
   "metadata": {},
   "outputs": [
    {
     "data": {
      "text/plain": [
       "167"
      ]
     },
     "execution_count": 245,
     "metadata": {},
     "output_type": "execute_result"
    }
   ],
   "source": [
    "t_middle = t_speeds[t_mask_a]\n",
    "t_middle.shape[0]"
   ]
  },
  {
   "cell_type": "code",
   "execution_count": 246,
   "metadata": {},
   "outputs": [
    {
     "data": {
      "text/plain": [
       "array([1, 0, 1, 0, 1, 1, 1, 1, 0, 0, 1, 1, 1, 1, 1, 1, 1, 0, 1, 1, 1, 1,\n",
       "       1, 1, 0, 1, 1, 1, 0, 0, 1])"
      ]
     },
     "execution_count": 246,
     "metadata": {},
     "output_type": "execute_result"
    }
   ],
   "source": [
    "t_matchs = np.sum(abs(t_middle[None, :] - \\\n",
    "                      t_events[:, None]) < t_tol, axis=1)\n",
    "# t_falpos = np.sum(t_matchs)\n",
    "t_matchs[t_matchs >= 1] = 1\n",
    "t_matchs"
   ]
  },
  {
   "cell_type": "code",
   "execution_count": 247,
   "metadata": {},
   "outputs": [
    {
     "data": {
      "text/plain": [
       "array([1, 1, 1, 1, 1, 1, 0, 0, 0, 0, 2, 2, 2, 1, 1, 0, 0, 0, 0, 0, 0, 0,\n",
       "       1, 1, 1, 2, 2, 1, 1, 1, 1, 1, 1, 1, 1, 1, 1, 0, 0, 0, 0, 0, 0, 0,\n",
       "       0, 0, 0, 0, 0, 0, 1, 1, 1, 1, 1, 1, 1, 1, 1, 1, 1, 1, 1, 1, 1, 1,\n",
       "       1, 1, 1, 2, 2, 2, 2, 1, 0, 0, 0, 0, 2, 2, 2, 0, 0, 0, 0, 0, 0, 0,\n",
       "       1, 1, 0, 0, 0, 0, 0, 0, 0, 0, 0, 0, 0, 0, 1, 1, 0, 0, 0, 0, 0, 1,\n",
       "       1, 1, 1, 0, 0, 0, 0, 0, 0, 0, 0, 0, 2, 2, 2, 0, 0, 0, 0, 0, 0, 0,\n",
       "       1, 1, 2, 2, 2, 2, 0, 0, 0, 0, 0, 0, 0, 0, 0, 0, 0, 0, 0, 0, 1, 1,\n",
       "       1, 1, 1, 1, 1, 1, 1, 1, 1, 1, 1, 1, 1])"
      ]
     },
     "execution_count": 247,
     "metadata": {},
     "output_type": "execute_result"
    }
   ],
   "source": [
    "t_match2 = np.sum(abs(t_middle[None, :] - \\\n",
    "                      t_events[:, None]) < t_tol, axis=0)\n",
    "t_match2"
   ]
  },
  {
   "cell_type": "code",
   "execution_count": 248,
   "metadata": {},
   "outputs": [
    {
     "data": {
      "text/plain": [
       "104"
      ]
     },
     "execution_count": 248,
     "metadata": {},
     "output_type": "execute_result"
    }
   ],
   "source": [
    "np.sum(t_match2)"
   ]
  },
  {
   "cell_type": "code",
   "execution_count": null,
   "metadata": {},
   "outputs": [],
   "source": []
  },
  {
   "cell_type": "markdown",
   "metadata": {},
   "source": [
    "#### combine"
   ]
  },
  {
   "cell_type": "code",
   "execution_count": 260,
   "metadata": {},
   "outputs": [
    {
     "name": "stdout",
     "output_type": "stream",
     "text": [
      "car, numenta, random , bayes  , expose \n",
      "1  ,  65.87%,  99.41%,  77.78%,  60.11%\n",
      "3  ,  79.17%,  99.18%,  83.85%,  69.52%\n",
      "4  ,  76.43%,  97.73%,  89.58%,  64.54%\n",
      "6  ,  86.10%,  97.27%,  86.30%,  73.68%\n",
      "7  ,  73.98%,  97.49%,  76.10%,  77.92%\n",
      "12 ,  61.59%,  98.48%,  81.14%,  81.12%\n",
      "14 ,  74.49%,  97.21%,  87.38%,  85.80%\n",
      "15 ,  84.71%,  98.67%,  85.50%,  94.96%\n",
      "17 ,  76.86%,  96.46%,  84.50%,  77.04%\n",
      "18 ,  77.24%,  97.56%,  77.40%,  59.41%\n",
      "19 ,  68.07%,  95.96%,  79.18%,  63.78%\n",
      "20 ,  68.75%,  98.56%,  76.14%,  54.55%\n",
      "21 ,  72.56%,  97.38%,  76.35%,  62.42%\n",
      "22 ,  70.91%,  98.58%,  83.08%,  71.24%\n",
      "23 ,  70.95%,  95.85%,  79.46%,  67.37%\n",
      "24 ,  76.26%,  98.29%,  83.71%,  73.77%\n",
      "25 ,  49.24%,  99.44%,  83.13%,  74.07%\n",
      "26 ,  77.05%,  98.45%,  78.89%,  83.74%\n",
      "27 ,  88.50%,  95.12%,  85.51%,  75.91%\n",
      "28 ,  87.12%,  98.31%,  87.22%,  80.00%\n",
      "29 ,  88.50%,  96.72%,  88.42%,  78.68%\n",
      "59 ,  78.85%,  99.00%,  85.86%,  84.08%\n",
      "60 ,  83.82%,  95.61%,  86.23%,  79.27%\n",
      "64 ,  80.25%,  98.64%,  85.95%,  79.33%\n",
      "66 ,  76.28%,  98.52%,  86.31%,  82.89%\n",
      "88 ,  78.79%,  96.95%,  89.55%,  82.91%\n",
      "98 ,  79.39%,  98.31%,  81.55%,  69.88%\n"
     ]
    }
   ],
   "source": [
    "t_tol_1 = 1000\n",
    "t_tol_2 = 6000\n",
    "\n",
    "print('car, {:7s}, {:7s}, {:7s}, {:7s}'.format(\\\n",
    "                    detectors[0], detectors[1], detectors[2], detectors[3]))\n",
    "for t_car in cars:\n",
    "    t_labels = np.loadtxt('labels/indy2018-' + t_car + '-labels.txt')\n",
    "    t_events = np.array(list(set(t_labels.flatten())))\n",
    "\n",
    "    accurs = []\n",
    "    falpos = []\n",
    "    for t_i in range(len(detectors)):\n",
    "        t_result = np.loadtxt('results/' + detectors[t_i] + \\\n",
    "                              '/anomaly_' + thresholds[t_i] + \\\n",
    "                              '_indy2018-' + t_car + '-vspeed.csv')\n",
    "        t_mask_n = t_result[:, 2] == 1\n",
    "        t_anomal = t_result[t_mask_n]\n",
    "        t_speeds = t_anomal[:, 0]\n",
    "        \n",
    "        t_mask_1 = t_speeds >= t_labels[0, 0] - t_tol_1\n",
    "        t_mask_2 = t_speeds <= t_labels[-1, 1] + t_tol_1\n",
    "        t_mask_a = t_mask_1 & t_mask_2\n",
    "        t_middle = t_speeds[t_mask_a]\n",
    "        \n",
    "        t_matchs = np.sum(abs(t_middle[None, :] - \\\n",
    "                              t_events[:, None]) < t_tol_1, axis=1)\n",
    "        t_matchs[t_matchs >= 1] = 1\n",
    "        t_accura = np.sum(t_matchs) / t_matchs.shape[0] * 100\n",
    "        accurs.append(t_accura)\n",
    "\n",
    "        t_match2 = np.sum(np.abs(t_middle[None, :] - \\\n",
    "                              t_events[:, None]) < t_tol_2, axis=0)\n",
    "        t_match2[t_match2 >= 1] = 1\n",
    "        t_falpos = np.sum(t_match2)\n",
    "        t_fp_rat = (t_middle.shape[0] - t_falpos) / t_middle.shape[0] * 100\n",
    "        falpos.append(t_fp_rat)\n",
    "    \n",
    "    # print('{:3s}, {:6.2f}%, {:6.2f}%, {:6.2f}%, {:6.2f}%'.format(\\\n",
    "    #             t_car, accurs[0], accurs[1], accurs[2], accurs[3]))\n",
    "    print('{:3s}, {:6.2f}%, {:6.2f}%, {:6.2f}%, {:6.2f}%'.format(\\\n",
    "                t_car, falpos[0], falpos[1], falpos[2], falpos[3]))\n",
    "    "
   ]
  },
  {
   "cell_type": "code",
   "execution_count": null,
   "metadata": {},
   "outputs": [],
   "source": []
  },
  {
   "cell_type": "code",
   "execution_count": null,
   "metadata": {},
   "outputs": [],
   "source": []
  }
 ],
 "metadata": {
  "kernelspec": {
   "display_name": "Python 3",
   "language": "python",
   "name": "python3"
  },
  "language_info": {
   "codemirror_mode": {
    "name": "ipython",
    "version": 3
   },
   "file_extension": ".py",
   "mimetype": "text/x-python",
   "name": "python",
   "nbconvert_exporter": "python",
   "pygments_lexer": "ipython3",
   "version": "3.6.8"
  }
 },
 "nbformat": 4,
 "nbformat_minor": 2
}
