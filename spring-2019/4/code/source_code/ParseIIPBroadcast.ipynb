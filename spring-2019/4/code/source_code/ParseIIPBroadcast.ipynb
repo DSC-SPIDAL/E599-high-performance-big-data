{
 "cells": [
  {
   "cell_type": "code",
   "execution_count": 51,
   "metadata": {},
   "outputs": [],
   "source": [
    "import re\n",
    "import pandas as pd"
   ]
  },
  {
   "cell_type": "markdown",
   "metadata": {},
   "source": [
    "### Function to parse IPBroadcast logs"
   ]
  },
  {
   "cell_type": "code",
   "execution_count": 73,
   "metadata": {},
   "outputs": [],
   "source": [
    "def metric_csv(car_num,metric):\n",
    "    sink = pd.read_csv('D:/HPC/IndyCarProject/Results/1_car/sink-'+car_num+'.csv',header = None)\n",
    "    sink.rename(columns = {0:\"carnum\",1:\"counter\",2:\"metric\",3:\"latency\",4:\"currtime_bolt_ts\",5:\"currtime\",6:\"bolt_ts\",7:\"ts\",8:\"boltts_ts\",9:\"System_nanoTime\",10:\"score\"}, inplace = True)\n",
    "    sink = sink[sink['ts'] != 0]\n",
    "    f = open(\"D:\\\\HPC\\\\IndyCarProject\\\\Amit Data\\\\csv_4car-20190415T175612Z-001\\\\csv_4car\\\\IPBroadcaster_Input_2018-05-27_0.log\",'rt')\n",
    "    TOD_list = list()\n",
    "    speed_list = list()\n",
    "    engine_list = list()\n",
    "    throttle_list = list()\n",
    "    for i,line in enumerate(f):\n",
    "        line = line.split('¦')\n",
    "        if line[0] == '$P' and line[1] == car_num and re.match(\"\\\\d+:\\\\d+:\\\\d+.\\\\d+\",line[2]):\n",
    "            TOD_list.append(line[2])\n",
    "            speed_list.append(line[4])\n",
    "            engine_list.append(line[5])\n",
    "            throttle_list.append(line[8])\n",
    "    car_log = pd.DataFrame({'TOD':TOD_list,'vehicleSpeed':speed_list,'engineSpeed':engine_list,'throttle':throttle_list})\n",
    "    car_log = car_log[['TOD',metric]]\n",
    "    car_log = car_log.reset_index()\n",
    "    car_log.rename(columns = {'index':\"counter\"},inplace=True)\n",
    "    result_log = sink[sink['metric'] == metric].merge(car_log[['TOD',metric,'counter']], how = 'left', on = 'counter')\n",
    "    filename = \"D:/HPC/IndyCarProject/Results/1_car/car_\"+car_num+\"_\"+metric+\".csv\"\n",
    "    print(filename)\n",
    "    result_log.to_csv(filename)"
   ]
  },
  {
   "cell_type": "code",
   "execution_count": 54,
   "metadata": {},
   "outputs": [
    {
     "name": "stdout",
     "output_type": "stream",
     "text": [
      "D:/HPC/IndyCarProject/Results/8_car/car_13_throttle.csv\n",
      "D:/HPC/IndyCarProject/Results/8_car/car_19_throttle.csv\n",
      "D:/HPC/IndyCarProject/Results/8_car/car_20_throttle.csv\n",
      "D:/HPC/IndyCarProject/Results/8_car/car_21_throttle.csv\n",
      "D:/HPC/IndyCarProject/Results/8_car/car_24_throttle.csv\n",
      "D:/HPC/IndyCarProject/Results/8_car/car_26_throttle.csv\n",
      "D:/HPC/IndyCarProject/Results/8_car/car_33_throttle.csv\n",
      "D:/HPC/IndyCarProject/Results/8_car/car_98_throttle.csv\n"
     ]
    }
   ],
   "source": [
    "throttle_df = list()    \n",
    "for car in ['13','19','20','21','24','26','33','98']:\n",
    "    metric_csv(car,'throttle')\n",
    "#car_df = pd.concat(throttle_df,axis = 0,ignore_index = False)\n",
    "#car_df.to_csv('Throttle.csv')"
   ]
  },
  {
   "cell_type": "markdown",
   "metadata": {},
   "source": [
    "### 8 Car Analysis###"
   ]
  },
  {
   "cell_type": "code",
   "execution_count": 70,
   "metadata": {},
   "outputs": [
    {
     "name": "stdout",
     "output_type": "stream",
     "text": [
      "D:/HPC/IndyCarProject/Results/8_car/car_13_throttle.csv\n",
      "D:/HPC/IndyCarProject/Results/8_car/car_19_throttle.csv\n",
      "D:/HPC/IndyCarProject/Results/8_car/car_20_throttle.csv\n",
      "D:/HPC/IndyCarProject/Results/8_car/car_21_throttle.csv\n",
      "D:/HPC/IndyCarProject/Results/8_car/car_24_throttle.csv\n",
      "D:/HPC/IndyCarProject/Results/8_car/car_26_throttle.csv\n",
      "D:/HPC/IndyCarProject/Results/8_car/car_33_throttle.csv\n",
      "D:/HPC/IndyCarProject/Results/8_car/car_98_throttle.csv\n"
     ]
    }
   ],
   "source": [
    "for car in ['13','19','20','21','24','26','33','98']:\n",
    "    metric_csv(car,'throttle')\n",
    "car_13 = pd.read_csv('D:/HPC/IndyCarProject/Results/8_car/car_13_throttle.csv')\n",
    "car_19 = pd.read_csv('D:/HPC/IndyCarProject/Results/8_car/car_19_throttle.csv')\n",
    "car_20 = pd.read_csv('D:/HPC/IndyCarProject/Results/8_car/car_20_throttle.csv')\n",
    "car_21 = pd.read_csv('D:/HPC/IndyCarProject/Results/8_car/car_21_throttle.csv')\n",
    "car_24 = pd.read_csv('D:/HPC/IndyCarProject/Results/8_car/car_24_throttle.csv')\n",
    "car_26 = pd.read_csv('D:/HPC/IndyCarProject/Results/8_car/car_26_throttle.csv')\n",
    "car_33 = pd.read_csv('D:/HPC/IndyCarProject/Results/8_car/car_33_throttle.csv')\n",
    "car_98 = pd.read_csv('D:/HPC/IndyCarProject/Results/8_car/car_98_throttle.csv')\n",
    "car = pd.concat([car_13,car_19,car_20,car_21,car_24,car_26,car_33,car_98],axis = 0,ignore_index = True)\n",
    "car.to_csv('D:/HPC/IndyCarProject/Results/8_car/throttle.csv')"
   ]
  },
  {
   "cell_type": "code",
   "execution_count": 71,
   "metadata": {},
   "outputs": [
    {
     "name": "stdout",
     "output_type": "stream",
     "text": [
      "D:/HPC/IndyCarProject/Results/8_car/car_13_engineSpeed.csv\n",
      "D:/HPC/IndyCarProject/Results/8_car/car_19_engineSpeed.csv\n",
      "D:/HPC/IndyCarProject/Results/8_car/car_20_engineSpeed.csv\n",
      "D:/HPC/IndyCarProject/Results/8_car/car_21_engineSpeed.csv\n",
      "D:/HPC/IndyCarProject/Results/8_car/car_24_engineSpeed.csv\n",
      "D:/HPC/IndyCarProject/Results/8_car/car_26_engineSpeed.csv\n",
      "D:/HPC/IndyCarProject/Results/8_car/car_33_engineSpeed.csv\n",
      "D:/HPC/IndyCarProject/Results/8_car/car_98_engineSpeed.csv\n"
     ]
    }
   ],
   "source": [
    "for car in ['13','19','20','21','24','26','33','98']:\n",
    "    metric_csv(car,'engineSpeed')\n",
    "car_13 = pd.read_csv('D:/HPC/IndyCarProject/Results/8_car/car_13_engineSpeed.csv')\n",
    "car_19 = pd.read_csv('D:/HPC/IndyCarProject/Results/8_car/car_19_engineSpeed.csv')\n",
    "car_20 = pd.read_csv('D:/HPC/IndyCarProject/Results/8_car/car_20_engineSpeed.csv')\n",
    "car_21 = pd.read_csv('D:/HPC/IndyCarProject/Results/8_car/car_21_engineSpeed.csv')\n",
    "car_24 = pd.read_csv('D:/HPC/IndyCarProject/Results/8_car/car_24_engineSpeed.csv')\n",
    "car_26 = pd.read_csv('D:/HPC/IndyCarProject/Results/8_car/car_26_engineSpeed.csv')\n",
    "car_33 = pd.read_csv('D:/HPC/IndyCarProject/Results/8_car/car_33_engineSpeed.csv')\n",
    "car_98 = pd.read_csv('D:/HPC/IndyCarProject/Results/8_car/car_98_engineSpeed.csv')\n",
    "car = pd.concat([car_13,car_19,car_20,car_21,car_24,car_26,car_33,car_98],axis = 0,ignore_index = True)\n",
    "car.to_csv('D:/HPC/IndyCarProject/Results/8_car/engineSpeed.csv')"
   ]
  },
  {
   "cell_type": "code",
   "execution_count": 72,
   "metadata": {},
   "outputs": [
    {
     "name": "stdout",
     "output_type": "stream",
     "text": [
      "D:/HPC/IndyCarProject/Results/8_car/car_13_vehicleSpeed.csv\n",
      "D:/HPC/IndyCarProject/Results/8_car/car_19_vehicleSpeed.csv\n",
      "D:/HPC/IndyCarProject/Results/8_car/car_20_vehicleSpeed.csv\n",
      "D:/HPC/IndyCarProject/Results/8_car/car_21_vehicleSpeed.csv\n",
      "D:/HPC/IndyCarProject/Results/8_car/car_24_vehicleSpeed.csv\n",
      "D:/HPC/IndyCarProject/Results/8_car/car_26_vehicleSpeed.csv\n",
      "D:/HPC/IndyCarProject/Results/8_car/car_33_vehicleSpeed.csv\n",
      "D:/HPC/IndyCarProject/Results/8_car/car_98_vehicleSpeed.csv\n"
     ]
    }
   ],
   "source": [
    "for car in ['13','19','20','21','24','26','33','98']:\n",
    "    metric_csv(car,'vehicleSpeed')\n",
    "car_13 = pd.read_csv('D:/HPC/IndyCarProject/Results/8_car/car_13_vehicleSpeed.csv')\n",
    "car_19 = pd.read_csv('D:/HPC/IndyCarProject/Results/8_car/car_19_vehicleSpeed.csv')\n",
    "car_20 = pd.read_csv('D:/HPC/IndyCarProject/Results/8_car/car_20_vehicleSpeed.csv')\n",
    "car_21 = pd.read_csv('D:/HPC/IndyCarProject/Results/8_car/car_21_vehicleSpeed.csv')\n",
    "car_24 = pd.read_csv('D:/HPC/IndyCarProject/Results/8_car/car_24_vehicleSpeed.csv')\n",
    "car_26 = pd.read_csv('D:/HPC/IndyCarProject/Results/8_car/car_26_vehicleSpeed.csv')\n",
    "car_33 = pd.read_csv('D:/HPC/IndyCarProject/Results/8_car/car_33_vehicleSpeed.csv')\n",
    "car_98 = pd.read_csv('D:/HPC/IndyCarProject/Results/8_car/car_98_vehicleSpeed.csv')\n",
    "car = pd.concat([car_13,car_19,car_20,car_21,car_24,car_26,car_33,car_98],axis = 0,ignore_index = True)\n",
    "car.to_csv('D:/HPC/IndyCarProject/Results/8_car/vehicleSpeed.csv')"
   ]
  },
  {
   "cell_type": "markdown",
   "metadata": {},
   "source": [
    "### 4 Car Analysis"
   ]
  },
  {
   "cell_type": "code",
   "execution_count": 61,
   "metadata": {},
   "outputs": [
    {
     "name": "stdout",
     "output_type": "stream",
     "text": [
      "D:/HPC/IndyCarProject/Results/4_car/car_13_throttle.csv\n",
      "D:/HPC/IndyCarProject/Results/4_car/car_19_throttle.csv\n",
      "D:/HPC/IndyCarProject/Results/4_car/car_20_throttle.csv\n",
      "D:/HPC/IndyCarProject/Results/4_car/car_21_throttle.csv\n"
     ]
    }
   ],
   "source": [
    "for car in ['13','19','20','21']:\n",
    "    metric_csv(car,'throttle')\n",
    "car_13 = pd.read_csv('D:/HPC/IndyCarProject/Results/4_car/car_13_throttle.csv')\n",
    "car_19 = pd.read_csv('D:/HPC/IndyCarProject/Results/4_car/car_19_throttle.csv')\n",
    "car_20 = pd.read_csv('D:/HPC/IndyCarProject/Results/4_car/car_20_throttle.csv')\n",
    "car_21 = pd.read_csv('D:/HPC/IndyCarProject/Results/4_car/car_21_throttle.csv')\n",
    "#car_24 = pd.read_csv('D:/HPC/IndyCarProject/Results/4_car/car_24_throttle.csv')\n",
    "#car_26 = pd.read_csv('D:/HPC/IndyCarProject/Results/4_car/car_26_throttle.csv')\n",
    "#car_33 = pd.read_csv('D:/HPC/IndyCarProject/Results/4_car/car_33_throttle.csv')\n",
    "#car_98 = pd.read_csv('D:/HPC/IndyCarProject/Results/4_car/car_98_throttle.csv')\n",
    "car = pd.concat([car_13,car_19,car_20,car_21],axis = 0,ignore_index = True)\n",
    "car.to_csv('D:/HPC/IndyCarProject/Results/4_car/throttle.csv')"
   ]
  },
  {
   "cell_type": "code",
   "execution_count": 62,
   "metadata": {},
   "outputs": [
    {
     "name": "stdout",
     "output_type": "stream",
     "text": [
      "D:/HPC/IndyCarProject/Results/4_car/car_13_engineSpeed.csv\n",
      "D:/HPC/IndyCarProject/Results/4_car/car_19_engineSpeed.csv\n",
      "D:/HPC/IndyCarProject/Results/4_car/car_20_engineSpeed.csv\n",
      "D:/HPC/IndyCarProject/Results/4_car/car_21_engineSpeed.csv\n"
     ]
    }
   ],
   "source": [
    "for car in ['13','19','20','21']:\n",
    "    metric_csv(car,'engineSpeed')\n",
    "car_13 = pd.read_csv('D:/HPC/IndyCarProject/Results/4_car/car_13_engineSpeed.csv')\n",
    "car_19 = pd.read_csv('D:/HPC/IndyCarProject/Results/4_car/car_19_engineSpeed.csv')\n",
    "car_20 = pd.read_csv('D:/HPC/IndyCarProject/Results/4_car/car_20_engineSpeed.csv')\n",
    "car_21 = pd.read_csv('D:/HPC/IndyCarProject/Results/4_car/car_21_engineSpeed.csv')\n",
    "#car_24 = pd.read_csv('D:/HPC/IndyCarProject/Results/8_car/car_24_engineSpeed.csv')\n",
    "#car_26 = pd.read_csv('D:/HPC/IndyCarProject/Results/8_car/car_26_engineSpeed.csv')\n",
    "#car_33 = pd.read_csv('D:/HPC/IndyCarProject/Results/8_car/car_33_engineSpeed.csv')\n",
    "#car_98 = pd.read_csv('D:/HPC/IndyCarProject/Results/8_car/car_98_engineSpeed.csv')\n",
    "car = pd.concat([car_13,car_19,car_20,car_21],axis = 0,ignore_index = True)\n",
    "car.to_csv('D:/HPC/IndyCarProject/Results/4_car/engineSpeed.csv')"
   ]
  },
  {
   "cell_type": "code",
   "execution_count": 63,
   "metadata": {},
   "outputs": [
    {
     "name": "stdout",
     "output_type": "stream",
     "text": [
      "D:/HPC/IndyCarProject/Results/4_car/car_13_vehicleSpeed.csv\n",
      "D:/HPC/IndyCarProject/Results/4_car/car_19_vehicleSpeed.csv\n",
      "D:/HPC/IndyCarProject/Results/4_car/car_20_vehicleSpeed.csv\n",
      "D:/HPC/IndyCarProject/Results/4_car/car_21_vehicleSpeed.csv\n"
     ]
    }
   ],
   "source": [
    "for car in ['13','19','20','21']:\n",
    "    metric_csv(car,'vehicleSpeed')\n",
    "car_13 = pd.read_csv('D:/HPC/IndyCarProject/Results/8_car/car_13_vehicleSpeed.csv')\n",
    "car_19 = pd.read_csv('D:/HPC/IndyCarProject/Results/8_car/car_19_vehicleSpeed.csv')\n",
    "car_20 = pd.read_csv('D:/HPC/IndyCarProject/Results/8_car/car_20_vehicleSpeed.csv')\n",
    "car_21 = pd.read_csv('D:/HPC/IndyCarProject/Results/8_car/car_21_vehicleSpeed.csv')\n",
    "#car_24 = pd.read_csv('D:/HPC/IndyCarProject/Results/8_car/car_24_vehicleSpeed.csv')\n",
    "#car_26 = pd.read_csv('D:/HPC/IndyCarProject/Results/8_car/car_26_vehicleSpeed.csv')\n",
    "#car_33 = pd.read_csv('D:/HPC/IndyCarProject/Results/8_car/car_33_vehicleSpeed.csv')\n",
    "#car_98 = pd.read_csv('D:/HPC/IndyCarProject/Results/8_car/car_98_vehicleSpeed.csv')\n",
    "car = pd.concat([car_13,car_19,car_20,car_21],axis = 0,ignore_index = True)\n",
    "car.to_csv('D:/HPC/IndyCarProject/Results/4_car/vehicleSpeed.csv')"
   ]
  },
  {
   "cell_type": "markdown",
   "metadata": {},
   "source": [
    "### 2 Car Analysis ###"
   ]
  },
  {
   "cell_type": "code",
   "execution_count": 66,
   "metadata": {},
   "outputs": [
    {
     "name": "stdout",
     "output_type": "stream",
     "text": [
      "D:/HPC/IndyCarProject/Results/2_car/car_13_throttle.csv\n",
      "D:/HPC/IndyCarProject/Results/2_car/car_20_throttle.csv\n"
     ]
    }
   ],
   "source": [
    "for car in ['13','20']:\n",
    "    metric_csv(car,'throttle')\n",
    "car_13 = pd.read_csv('D:/HPC/IndyCarProject/Results/2_car/car_13_throttle.csv')\n",
    "car_20 = pd.read_csv('D:/HPC/IndyCarProject/Results/2_car/car_20_throttle.csv')\n",
    "#car_20 = pd.read_csv('D:/HPC/IndyCarProject/Results/4_car/car_20_throttle.csv')\n",
    "#car_21 = pd.read_csv('D:/HPC/IndyCarProject/Results/4_car/car_21_throttle.csv')\n",
    "#car_24 = pd.read_csv('D:/HPC/IndyCarProject/Results/4_car/car_24_throttle.csv')\n",
    "#car_26 = pd.read_csv('D:/HPC/IndyCarProject/Results/4_car/car_26_throttle.csv')\n",
    "#car_33 = pd.read_csv('D:/HPC/IndyCarProject/Results/4_car/car_33_throttle.csv')\n",
    "#car_98 = pd.read_csv('D:/HPC/IndyCarProject/Results/4_car/car_98_throttle.csv')\n",
    "car = pd.concat([car_13,car_20],axis = 0,ignore_index = True)\n",
    "car.to_csv('D:/HPC/IndyCarProject/Results/2_car/throttle.csv')"
   ]
  },
  {
   "cell_type": "code",
   "execution_count": 67,
   "metadata": {},
   "outputs": [
    {
     "name": "stdout",
     "output_type": "stream",
     "text": [
      "D:/HPC/IndyCarProject/Results/2_car/car_13_engineSpeed.csv\n",
      "D:/HPC/IndyCarProject/Results/2_car/car_20_engineSpeed.csv\n"
     ]
    }
   ],
   "source": [
    "for car in ['13','20']:\n",
    "    metric_csv(car,'engineSpeed')\n",
    "car_13 = pd.read_csv('D:/HPC/IndyCarProject/Results/2_car/car_13_engineSpeed.csv')\n",
    "car_20 = pd.read_csv('D:/HPC/IndyCarProject/Results/2_car/car_20_engineSpeed.csv')\n",
    "#car_20 = pd.read_csv('D:/HPC/IndyCarProject/Results/4_car/car_20_engineSpeed.csv')\n",
    "#car_21 = pd.read_csv('D:/HPC/IndyCarProject/Results/4_car/car_21_engineSpeed.csv')\n",
    "#car_24 = pd.read_csv('D:/HPC/IndyCarProject/Results/8_car/car_24_engineSpeed.csv')\n",
    "#car_26 = pd.read_csv('D:/HPC/IndyCarProject/Results/8_car/car_26_engineSpeed.csv')\n",
    "#car_33 = pd.read_csv('D:/HPC/IndyCarProject/Results/8_car/car_33_engineSpeed.csv')\n",
    "#car_98 = pd.read_csv('D:/HPC/IndyCarProject/Results/8_car/car_98_engineSpeed.csv')\n",
    "car = pd.concat([car_13,car_20],axis = 0,ignore_index = True)\n",
    "car.to_csv('D:/HPC/IndyCarProject/Results/2_car/engineSpeed.csv')"
   ]
  },
  {
   "cell_type": "code",
   "execution_count": 68,
   "metadata": {},
   "outputs": [
    {
     "name": "stdout",
     "output_type": "stream",
     "text": [
      "D:/HPC/IndyCarProject/Results/2_car/car_13_vehicleSpeed.csv\n",
      "D:/HPC/IndyCarProject/Results/2_car/car_20_vehicleSpeed.csv\n"
     ]
    }
   ],
   "source": [
    "for car in ['13','20']:\n",
    "    metric_csv(car,'vehicleSpeed')\n",
    "car_13 = pd.read_csv('D:/HPC/IndyCarProject/Results/2_car/car_13_vehicleSpeed.csv')\n",
    "car_20 = pd.read_csv('D:/HPC/IndyCarProject/Results/2_car/car_20_vehicleSpeed.csv')\n",
    "#car_20 = pd.read_csv('D:/HPC/IndyCarProject/Results/4_car/car_20_engineSpeed.csv')\n",
    "#car_21 = pd.read_csv('D:/HPC/IndyCarProject/Results/4_car/car_21_engineSpeed.csv')\n",
    "#car_24 = pd.read_csv('D:/HPC/IndyCarProject/Results/8_car/car_24_engineSpeed.csv')\n",
    "#car_26 = pd.read_csv('D:/HPC/IndyCarProject/Results/8_car/car_26_engineSpeed.csv')\n",
    "#car_33 = pd.read_csv('D:/HPC/IndyCarProject/Results/8_car/car_33_engineSpeed.csv')\n",
    "#car_98 = pd.read_csv('D:/HPC/IndyCarProject/Results/8_car/car_98_engineSpeed.csv')\n",
    "car = pd.concat([car_13,car_20],axis = 0,ignore_index = True)\n",
    "car.to_csv('D:/HPC/IndyCarProject/Results/2_car/vehicleSpeed.csv')"
   ]
  },
  {
   "cell_type": "markdown",
   "metadata": {},
   "source": [
    "### 1 Car Analysis ###"
   ]
  },
  {
   "cell_type": "code",
   "execution_count": null,
   "metadata": {},
   "outputs": [],
   "source": [
    "for car in ['20']:\n",
    "    metric_csv(car,'throttle')\n",
    "#car_13 = pd.read_csv('D:/HPC/IndyCarProject/Results/2_car/car_13_throttle.csv')\n",
    "car_20 = pd.read_csv('D:/HPC/IndyCarProject/Results/1_car/car_20_throttle.csv')\n",
    "#car_20 = pd.read_csv('D:/HPC/IndyCarProject/Results/4_car/car_20_throttle.csv')\n",
    "#car_21 = pd.read_csv('D:/HPC/IndyCarProject/Results/4_car/car_21_throttle.csv')\n",
    "#car_24 = pd.read_csv('D:/HPC/IndyCarProject/Results/4_car/car_24_throttle.csv')\n",
    "#car_26 = pd.read_csv('D:/HPC/IndyCarProject/Results/4_car/car_26_throttle.csv')\n",
    "#car_33 = pd.read_csv('D:/HPC/IndyCarProject/Results/4_car/car_33_throttle.csv')\n",
    "#car_98 = pd.read_csv('D:/HPC/IndyCarProject/Results/4_car/car_98_throttle.csv')\n",
    "car = pd.concat([car_20],axis = 0,ignore_index = True)\n",
    "car.to_csv('D:/HPC/IndyCarProject/Results/1_car/throttle.csv')"
   ]
  },
  {
   "cell_type": "code",
   "execution_count": null,
   "metadata": {},
   "outputs": [],
   "source": [
    "for car in ['20']:\n",
    "    metric_csv(car,'engineSpeed')\n",
    "#car_13 = pd.read_csv('D:/HPC/IndyCarProject/Results/2_car/car_13_engineSpeed.csv')\n",
    "car_20 = pd.read_csv('D:/HPC/IndyCarProject/Results/1_car/car_20_engineSpeed.csv')\n",
    "#car_20 = pd.read_csv('D:/HPC/IndyCarProject/Results/4_car/car_20_engineSpeed.csv')\n",
    "#car_21 = pd.read_csv('D:/HPC/IndyCarProject/Results/4_car/car_21_engineSpeed.csv')\n",
    "#car_24 = pd.read_csv('D:/HPC/IndyCarProject/Results/8_car/car_24_engineSpeed.csv')\n",
    "#car_26 = pd.read_csv('D:/HPC/IndyCarProject/Results/8_car/car_26_engineSpeed.csv')\n",
    "#car_33 = pd.read_csv('D:/HPC/IndyCarProject/Results/8_car/car_33_engineSpeed.csv')\n",
    "#car_98 = pd.read_csv('D:/HPC/IndyCarProject/Results/8_car/car_98_engineSpeed.csv')\n",
    "car = pd.concat([car_20],axis = 0,ignore_index = True)\n",
    "car.to_csv('D:/HPC/IndyCarProject/Results/1_car/engineSpeed.csv')"
   ]
  },
  {
   "cell_type": "code",
   "execution_count": null,
   "metadata": {},
   "outputs": [],
   "source": [
    "for car in ['20']:\n",
    "    metric_csv(car,'vehicleSpeed')\n",
    "#car_13 = pd.read_csv('D:/HPC/IndyCarProject/Results/2_car/car_13_vehicleSpeed.csv')\n",
    "car_20 = pd.read_csv('D:/HPC/IndyCarProject/Results/1_car/car_20_vehicleSpeed.csv')\n",
    "#car_20 = pd.read_csv('D:/HPC/IndyCarProject/Results/4_car/car_20_engineSpeed.csv')\n",
    "#car_21 = pd.read_csv('D:/HPC/IndyCarProject/Results/4_car/car_21_engineSpeed.csv')\n",
    "#car_24 = pd.read_csv('D:/HPC/IndyCarProject/Results/8_car/car_24_engineSpeed.csv')\n",
    "#car_26 = pd.read_csv('D:/HPC/IndyCarProject/Results/8_car/car_26_engineSpeed.csv')\n",
    "#car_33 = pd.read_csv('D:/HPC/IndyCarProject/Results/8_car/car_33_engineSpeed.csv')\n",
    "#car_98 = pd.read_csv('D:/HPC/IndyCarProject/Results/8_car/car_98_engineSpeed.csv')\n",
    "car = pd.concat([car_20],axis = 0,ignore_index = True)\n",
    "car.to_csv('D:/HPC/IndyCarProject/Results/1_car/vehicleSpeed.csv')"
   ]
  }
 ],
 "metadata": {
  "kernelspec": {
   "display_name": "Python 3",
   "language": "python",
   "name": "python3"
  },
  "language_info": {
   "codemirror_mode": {
    "name": "ipython",
    "version": 3
   },
   "file_extension": ".py",
   "mimetype": "text/x-python",
   "name": "python",
   "nbconvert_exporter": "python",
   "pygments_lexer": "ipython3",
   "version": "3.5.5"
  }
 },
 "nbformat": 4,
 "nbformat_minor": 2
}
